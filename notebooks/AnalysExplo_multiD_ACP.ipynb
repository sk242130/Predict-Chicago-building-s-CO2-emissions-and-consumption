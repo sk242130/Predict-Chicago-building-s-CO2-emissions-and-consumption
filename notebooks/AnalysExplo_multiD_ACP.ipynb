{
 "cells": [
  {
   "cell_type": "code",
   "execution_count": 1,
   "id": "809e6282",
   "metadata": {},
   "outputs": [],
   "source": [
    "import pandas as pd\n",
    "import numpy as np\n",
    "\n",
    "from sklearn.decomposition import PCA\n",
    "from sklearn.preprocessing import StandardScaler\n",
    "\n",
    "import matplotlib.pyplot as plt\n",
    "from matplotlib.collections import LineCollection\n",
    "\n",
    "import seaborn as sns"
   ]
  },
  {
   "cell_type": "code",
   "execution_count": 2,
   "id": "242aa5da",
   "metadata": {},
   "outputs": [],
   "source": [
    "def correlation_graph(pca, \n",
    "                      x_y, \n",
    "                      features) : \n",
    "    \"\"\"Affiche le graphe des correlations\n",
    "\n",
    "    Positional arguments : \n",
    "    -----------------------------------\n",
    "    pca : sklearn.decomposition.PCA : notre objet PCA qui a été fit\n",
    "    x_y : list ou tuple : le couple x,y des plans à afficher, exemple [0,1] pour F1, F2\n",
    "    features : list ou tuple : la liste des features (ie des dimensions) à représenter\n",
    "    \"\"\"\n",
    "\n",
    "    # Extrait x et y \n",
    "    x,y=x_y\n",
    "\n",
    "    # Taille de l'image (en inches)\n",
    "    fig, ax = plt.subplots(figsize=(10, 9))\n",
    "\n",
    "    # Pour chaque composante : \n",
    "    for i in range(0, pca.components_.shape[1]):\n",
    "\n",
    "        # Les flèches\n",
    "        ax.arrow(0,0, \n",
    "                pca.components_[x, i],  \n",
    "                pca.components_[y, i],  \n",
    "                head_width=0.07,\n",
    "                head_length=0.07, \n",
    "                width=0.02, )\n",
    "\n",
    "        # Les labels\n",
    "        plt.text(pca.components_[x, i] + 0.05,\n",
    "                pca.components_[y, i] + 0.05,\n",
    "                features[i])\n",
    "        \n",
    "    # Affichage des lignes horizontales et verticales\n",
    "    plt.plot([-1, 1], [0, 0], color='grey', ls='--')\n",
    "    plt.plot([0, 0], [-1, 1], color='grey', ls='--')\n",
    "\n",
    "    # Nom des axes, avec le pourcentage d'inertie expliqué\n",
    "    plt.xlabel('F{} ({}%)'.format(x+1, round(100*pca.explained_variance_ratio_[x],1)))\n",
    "    plt.ylabel('F{} ({}%)'.format(y+1, round(100*pca.explained_variance_ratio_[y],1)))\n",
    "\n",
    "    # J'ai copié collé le code sans le lire\n",
    "    plt.title(\"Cercle des corrélations (F{} et F{})\".format(x+1, y+1))\n",
    "\n",
    "    # Le cercle \n",
    "    an = np.linspace(0, 2 * np.pi, 100)\n",
    "    plt.plot(np.cos(an), np.sin(an))  # Add a unit circle for scale\n",
    "\n",
    "    # Axes et display\n",
    "    plt.axis('equal')\n",
    "    plt.show(block=False)"
   ]
  },
  {
   "cell_type": "markdown",
   "id": "efac349e",
   "metadata": {},
   "source": [
    "## 8. ACP & clustering\n",
    "----- Data cleaning and preparation"
   ]
  },
  {
   "cell_type": "code",
   "execution_count": 3,
   "id": "b101c985",
   "metadata": {},
   "outputs": [],
   "source": [
    "### 8.1. Imports\n",
    "_subdata_nutrigrades_notNaN=pd.read_csv(\"/Users/souha_kassab/OC_project2/static/csv/20230107_cleandata_for_nutriscore.csv\", low_memory=False)"
   ]
  },
  {
   "cell_type": "code",
   "execution_count": 4,
   "id": "66b1c5bb",
   "metadata": {},
   "outputs": [
    {
     "name": "stdout",
     "output_type": "stream",
     "text": [
      "Data shape is (111213, 13)\n"
     ]
    },
    {
     "data": {
      "text/plain": [
       "<bound method DataFrame.info of         Unnamed: 0  additives_n  energy_100g  saturated_fat_100g  sugars_100g  \\\n",
       "0                3          2.0       1833.0                4.69        15.62   \n",
       "1                4          1.0       2230.0                5.00         3.33   \n",
       "2                9          1.0       2092.0                6.67        30.00   \n",
       "3               11          2.0       2372.0                3.33         6.67   \n",
       "4               12          3.0       1954.0                2.22        33.33   \n",
       "...            ...          ...          ...                 ...          ...   \n",
       "111208      221194          0.0        444.0                0.00         0.00   \n",
       "111209      221197          1.0       2111.0                3.80         5.30   \n",
       "111210      221198          1.0        660.0                0.50        16.70   \n",
       "111211      221200          5.0       1031.0                1.28         0.10   \n",
       "111212      221202          1.0       1393.0                2.78        30.56   \n",
       "\n",
       "        fiber_100g  proteins_100g  salt_100g  sodium_100g  \\\n",
       "0             9.40         14.060    0.13970     0.055000   \n",
       "1             6.70         16.670    1.60782     0.633000   \n",
       "2             6.70         13.330    0.46482     0.183000   \n",
       "3            10.00          6.670    1.27000     0.500000   \n",
       "4             4.40          8.890    0.19812     0.078000   \n",
       "...            ...            ...        ...          ...   \n",
       "111208        0.00         25.000    0.76200     0.300000   \n",
       "111209        0.50          1.700    1.75006     0.689000   \n",
       "111210        0.60          0.300    0.54102     0.213000   \n",
       "111211        1.47          0.004    0.00100     0.000394   \n",
       "111212        8.30          5.560    0.95250     0.375000   \n",
       "\n",
       "        nutrition_score_fr_100g nutrition_grade_fr  \\\n",
       "0                           7.0                  c   \n",
       "1                          12.0                  d   \n",
       "2                          15.0                  d   \n",
       "3                          11.0                  d   \n",
       "4                           9.0                  c   \n",
       "...                         ...                ...   \n",
       "111208                     -1.0                  a   \n",
       "111209                     17.0                  d   \n",
       "111210                      6.0                  c   \n",
       "111211                      2.0                  b   \n",
       "111212                     11.0                  d   \n",
       "\n",
       "                                  additives_tags  \\\n",
       "0                               en:e123,en:e307a   \n",
       "1                                        en:e100   \n",
       "2                                        en:e322   \n",
       "3                             en:e339iii,en:e330   \n",
       "4                        en:e170,en:e322,en:e410   \n",
       "...                                          ...   \n",
       "111208                                       NaN   \n",
       "111209                                   en:e415   \n",
       "111210                                   en:e415   \n",
       "111211  en:e420,en:e955,en:e950,en:e470b,en:e330   \n",
       "111212                                   en:e322   \n",
       "\n",
       "                                  product_name  \n",
       "0                               Organic Muesli  \n",
       "1                                Zen Party Mix  \n",
       "2        Antioxidant Mix - Berries & Chocolate  \n",
       "3       Fire Roasted Hatch Green Chile Almonds  \n",
       "4                    Peanut Butter Power Chews  \n",
       "...                                        ...  \n",
       "111208             tuna chunks in spring water  \n",
       "111209                    Blue Cheese Dressing  \n",
       "111210       Santa Cruz Chilli & Lime Dressing  \n",
       "111211          Fisherman's Friend Miel-Citron  \n",
       "111212                           Organic Z Bar  \n",
       "\n",
       "[111213 rows x 13 columns]>"
      ]
     },
     "execution_count": 4,
     "metadata": {},
     "output_type": "execute_result"
    }
   ],
   "source": [
    "### 8.2. Data preparation\n",
    "print( 'Data shape is', _subdata_nutrigrades_notNaN.shape) \n",
    "subdata_nutrigrades_notNaN.info"
   ]
  },
  {
   "cell_type": "code",
   "execution_count": 5,
   "id": "d2837d89",
   "metadata": {},
   "outputs": [
    {
     "data": {
      "text/plain": [
       "Unnamed: 0                    0\n",
       "additives_n                 549\n",
       "energy_100g                   4\n",
       "saturated_fat_100g            4\n",
       "sugars_100g                   4\n",
       "fiber_100g                  435\n",
       "proteins_100g                 4\n",
       "salt_100g                     4\n",
       "sodium_100g                   4\n",
       "nutrition_score_fr_100g       0\n",
       "nutrition_grade_fr            0\n",
       "additives_tags             1037\n",
       "product_name                  0\n",
       "dtype: int64"
      ]
     },
     "execution_count": 5,
     "metadata": {},
     "output_type": "execute_result"
    }
   ],
   "source": [
    "# Missing and Duplicated values\n",
    "subdata_nutrigrades_notNaN.isna().sum()\n",
    "#_subdata_nutrigrades_notNaN.duplicated().sum()"
   ]
  },
  {
   "cell_type": "code",
   "execution_count": 6,
   "id": "ef877199",
   "metadata": {},
   "outputs": [
    {
     "ename": "NameError",
     "evalue": "name 'subdata_nutrigrades_notNaN' is not defined",
     "output_type": "error",
     "traceback": [
      "\u001b[0;31m---------------------------------------------------------------------------\u001b[0m",
      "\u001b[0;31mNameError\u001b[0m                                 Traceback (most recent call last)",
      "Cell \u001b[0;32mIn[6], line 1\u001b[0m\n\u001b[0;32m----> 1\u001b[0m \u001b[43msubdata_nutrigrades_notNaN\u001b[49m\u001b[38;5;241m.\u001b[39mcolumns\n\u001b[1;32m      2\u001b[0m subdata_nutrigrades_notNaN\u001b[38;5;241m.\u001b[39mrename(columns \u001b[38;5;241m=\u001b[39m {\u001b[38;5;124m'\u001b[39m\u001b[38;5;124mUnnamed: 0\u001b[39m\u001b[38;5;124m'\u001b[39m:\u001b[38;5;124m'\u001b[39m\u001b[38;5;124mOriginal_Index\u001b[39m\u001b[38;5;124m'\u001b[39m}, inplace \u001b[38;5;241m=\u001b[39m \u001b[38;5;28;01mTrue\u001b[39;00m)\n",
      "\u001b[0;31mNameError\u001b[0m: name 'subdata_nutrigrades_notNaN' is not defined"
     ]
    }
   ],
   "source": [
    "subdata_nutrigrades_notNaN.columns\n",
    "subdata_nutrigrades_notNaN.rename(columns = {'Unnamed: 0':'Original_Index'}, inplace = True)"
   ]
  },
  {
   "cell_type": "code",
   "execution_count": null,
   "id": "24a0b0d6",
   "metadata": {},
   "outputs": [],
   "source": [
    "# Data description\n",
    "print(\"data's unique values\", _subdata_nutrigrades_notNaN.nunique())\n",
    "subdata_nutrigrades_notNaN.describe(include='all')"
   ]
  },
  {
   "cell_type": "code",
   "execution_count": null,
   "id": "22c04d17",
   "metadata": {},
   "outputs": [],
   "source": [
    "# select some columns to work on20230102_cleandata_for_nutriscore\n",
    "_subdata_nutrigrades_notNaN.dropna(inplace=True)"
   ]
  },
  {
   "cell_type": "code",
   "execution_count": null,
   "id": "2be25a43",
   "metadata": {},
   "outputs": [],
   "source": [
    "# Gerer les outliers!!!"
   ]
  },
  {
   "cell_type": "markdown",
   "id": "b7f59027",
   "metadata": {},
   "source": [
    "### 8.4. Data separation \n",
    "Nous allons ensuite séparer nos données. D'un coté X la matrice des données et nos colonnes (features) dans une variable features :  : "
   ]
  },
  {
   "cell_type": "code",
   "execution_count": null,
   "id": "bebd1457",
   "metadata": {},
   "outputs": [],
   "source": [
    "X = _subdata_nutrigrades_notNaN.values\n",
    "X[:5]\n",
    "print(X.shape)"
   ]
  },
  {
   "cell_type": "code",
   "execution_count": null,
   "id": "bed5c169",
   "metadata": {},
   "outputs": [],
   "source": [
    "components = _subdata_nutrigrades_notNaN.columns\n",
    "components"
   ]
  },
  {
   "cell_type": "markdown",
   "id": "d89b75ad",
   "metadata": {},
   "source": [
    "### 8.5. PCA"
   ]
  },
  {
   "cell_type": "code",
   "execution_count": null,
   "id": "5193df84",
   "metadata": {},
   "outputs": [],
   "source": [
    "#### Scaler instanciation\n",
    "scaler = StandardScaler()"
   ]
  },
  {
   "cell_type": "code",
   "execution_count": null,
   "id": "680fbb26",
   "metadata": {},
   "outputs": [],
   "source": []
  },
  {
   "cell_type": "code",
   "execution_count": null,
   "id": "0e67a6a6",
   "metadata": {},
   "outputs": [],
   "source": [
    "X[0, 1:7]"
   ]
  },
  {
   "cell_type": "code",
   "execution_count": null,
   "id": "4b2a0e38",
   "metadata": {},
   "outputs": [],
   "source": [
    "#### Scale & Transform\n",
    "X_scaled = scaler.fit_transform(X[:, 1:7])\n",
    "idx = [\"mean\", \"std\"]\n",
    "pd.DataFrame(X_scaled).describe().round(2).loc[idx, :]"
   ]
  },
  {
   "cell_type": "code",
   "execution_count": null,
   "id": "a52bda19",
   "metadata": {},
   "outputs": [],
   "source": [
    "n_components = 6\n",
    "pca = PCA(n_components=n_components)"
   ]
  },
  {
   "cell_type": "code",
   "execution_count": null,
   "id": "a1a6c8df",
   "metadata": {},
   "outputs": [],
   "source": [
    "pca.fit(X_scaled)"
   ]
  },
  {
   "cell_type": "code",
   "execution_count": null,
   "id": "8f989dae",
   "metadata": {},
   "outputs": [],
   "source": [
    "pca.explained_variance_ratio_"
   ]
  },
  {
   "cell_type": "code",
   "execution_count": null,
   "id": "069c8b05",
   "metadata": {},
   "outputs": [],
   "source": [
    "scree = (pca.explained_variance_ratio_*100).round(2)\n",
    "scree"
   ]
  },
  {
   "cell_type": "code",
   "execution_count": null,
   "id": "c94b5c4b",
   "metadata": {},
   "outputs": [],
   "source": [
    "scree_cum = scree.cumsum().round()\n",
    "scree_cum"
   ]
  },
  {
   "cell_type": "code",
   "execution_count": null,
   "id": "503578f6",
   "metadata": {},
   "outputs": [],
   "source": [
    "x_list = range(1, n_components+1)\n",
    "list(x_list)"
   ]
  },
  {
   "cell_type": "code",
   "execution_count": null,
   "id": "60a74c48",
   "metadata": {},
   "outputs": [],
   "source": [
    "plt.bar(x_list, scree)\n",
    "plt.plot(x_list, scree_cum,c=\"red\",marker='o')\n",
    "plt.xlabel(\"rang de l'axe d'inertie\")\n",
    "plt.ylabel(\"pourcentage d'inertie\")\n",
    "plt.title(\"Eboulis des valeurs propres\")\n",
    "plt.show(block=False)"
   ]
  },
  {
   "cell_type": "markdown",
   "id": "70e7b598",
   "metadata": {},
   "source": [
    "#### Doing PCA using only nutritive components "
   ]
  },
  {
   "cell_type": "code",
   "execution_count": null,
   "id": "b344c487",
   "metadata": {},
   "outputs": [],
   "source": [
    "XX = X[:, 2:7]"
   ]
  },
  {
   "cell_type": "code",
   "execution_count": null,
   "id": "129f5cc0",
   "metadata": {},
   "outputs": [],
   "source": [
    "#### Scale & Transform\n",
    "X_scaled = scaler.fit_transform(XX)\n",
    "idx = [\"mean\", \"std\"]\n",
    "pd.DataFrame(X_scaled).describe().round(2).loc[idx, :]"
   ]
  },
  {
   "cell_type": "code",
   "execution_count": null,
   "id": "9fdfd9eb",
   "metadata": {},
   "outputs": [],
   "source": [
    "# taking first 6 components\n",
    "n_components = 5\n",
    "pca = PCA(n_components)"
   ]
  },
  {
   "cell_type": "code",
   "execution_count": null,
   "id": "a6878d04",
   "metadata": {},
   "outputs": [],
   "source": [
    "pca?"
   ]
  },
  {
   "cell_type": "code",
   "execution_count": null,
   "id": "c6e7cce0",
   "metadata": {},
   "outputs": [],
   "source": [
    "pca.fit(X_scaled)"
   ]
  },
  {
   "cell_type": "code",
   "execution_count": null,
   "id": "e9256239",
   "metadata": {},
   "outputs": [],
   "source": [
    "pca.explained_variance_ratio_"
   ]
  },
  {
   "cell_type": "code",
   "execution_count": null,
   "id": "38105484",
   "metadata": {},
   "outputs": [],
   "source": [
    "scree = (pca.explained_variance_ratio_*100).round(2)\n",
    "scree"
   ]
  },
  {
   "cell_type": "code",
   "execution_count": null,
   "id": "3127b5a4",
   "metadata": {},
   "outputs": [],
   "source": [
    "scree_cum = scree.cumsum().round()\n",
    "scree_cum"
   ]
  },
  {
   "cell_type": "code",
   "execution_count": null,
   "id": "bfd1790e",
   "metadata": {},
   "outputs": [],
   "source": [
    "x_list = range(1, n_components+1)\n",
    "list(x_list)"
   ]
  },
  {
   "cell_type": "code",
   "execution_count": null,
   "id": "a09718f2",
   "metadata": {},
   "outputs": [],
   "source": [
    "plt.bar(x_list, scree)\n",
    "plt.plot(x_list, scree_cum,c=\"red\",marker='o')\n",
    "plt.xlabel(\"rang de l'axe d'inertie\")\n",
    "plt.ylabel(\"pourcentage d'inertie\")\n",
    "plt.title(\"Eboulis des valeurs propres\")\n",
    "plt.show(block=False)"
   ]
  },
  {
   "cell_type": "code",
   "execution_count": null,
   "id": "3ff3d9bf",
   "metadata": {},
   "outputs": [],
   "source": [
    "x_y = (0,1)"
   ]
  },
  {
   "cell_type": "code",
   "execution_count": null,
   "id": "7e18335f",
   "metadata": {},
   "outputs": [],
   "source": [
    "# correlation of F1 and F2\n",
    "correlation_graph(pca, x_y, components[2:8])"
   ]
  },
  {
   "cell_type": "markdown",
   "id": "7353cf49",
   "metadata": {},
   "source": [
    "On peut deja voir que les trois composantes des points negatives sont fortement correlees a F1, F1 peut etre vu comme l'ensemble des elements defavorables du score nutrtionnel\n",
    "tandis que F2 est l'ensemble des elements favorables du score nutritionnel auquel sont fortement correlees les proteines et les fibres.\n",
    "On s'abstient pour ce cerle d'interpreter les petites fleches!(sels)"
   ]
  },
  {
   "cell_type": "code",
   "execution_count": null,
   "id": "4fb1cbf5",
   "metadata": {},
   "outputs": [],
   "source": [
    "# correlation of F3 and F4\n",
    "correlation_graph(pca, (2,3), components)"
   ]
  },
  {
   "cell_type": "code",
   "execution_count": null,
   "id": "eebccaff",
   "metadata": {},
   "outputs": [],
   "source": [
    "### Components"
   ]
  },
  {
   "cell_type": "code",
   "execution_count": null,
   "id": "69a36ae8",
   "metadata": {},
   "outputs": [],
   "source": [
    "### 8.6 Projection\n",
    "X_proj = pca.transform(X_scaled)\n",
    "X_proj[:5]"
   ]
  },
  {
   "cell_type": "markdown",
   "id": "0d092a10",
   "metadata": {},
   "source": [
    "___________________________________________________________________________________________"
   ]
  },
  {
   "cell_type": "code",
   "execution_count": null,
   "id": "8d5d364b",
   "metadata": {},
   "outputs": [],
   "source": [
    "from urllib import request\n",
    "import pandas as pd\n",
    "import matplotlib.pyplot as plt\n",
    "import seaborn as sns\n",
    "sns.set()"
   ]
  },
  {
   "cell_type": "code",
   "execution_count": null,
   "id": "56e3e54a",
   "metadata": {},
   "outputs": [],
   "source": [
    "# Function to compute median value per variable for the 5 grades of Nutriscore (a,b,c,d,e)\n",
    "def save_centralTendencies(_nutriscore_df):\n",
    "    # Calcul medianne par categorie de nutriscore et type de composant \n",
    "    dico_mediane = {_nutriscore_df.columns[var_composant]: _nutriscore_df.iloc[:, var_composant].median()\n",
    "                     for var_composant in range(1, 12)}\n",
    "    return dico_mediane"
   ]
  },
  {
   "cell_type": "code",
   "execution_count": null,
   "id": "3f54b906",
   "metadata": {},
   "outputs": [],
   "source": [
    "_subdata_nutrigrades_notNaN.isna().mean()"
   ]
  },
  {
   "cell_type": "code",
   "execution_count": null,
   "id": "5cb65213",
   "metadata": {},
   "outputs": [],
   "source": [
    "_subdata_nutrigrades_notNaN.describe()"
   ]
  },
  {
   "cell_type": "code",
   "execution_count": null,
   "id": "c042a182",
   "metadata": {},
   "outputs": [],
   "source": [
    "# Projecting a variable on a table\n",
    "effectifs = _subdata_nutrigrades_notNaN[\"sugars_100g\"].value_counts()\n",
    "modalites = effectifs.index # l'index de effectifs contient les modalités\n",
    "\n",
    "tab = pd.DataFrame(modalites, columns = [\"sugar_quantity\"]) # création du tableau à partir des modalités\n",
    "tab[\"n\"] = effectifs.values\n",
    "tab[\"f\"] = tab[\"n\"] / len(_subdata_nutrigrades_notNaN) # len(data) renvoie la taille de l'échantillon\n",
    "\n",
    "display(tab)"
   ]
  },
  {
   "cell_type": "code",
   "execution_count": null,
   "id": "6146a319",
   "metadata": {},
   "outputs": [],
   "source": [
    "tab[tab['sugar_quantity']>100]['n'].sum()"
   ]
  },
  {
   "cell_type": "code",
   "execution_count": null,
   "id": "d87579f1",
   "metadata": {},
   "outputs": [],
   "source": [
    "_subdata_nutrigrades_notNaN[_subdata_nutrigrades_notNaN.sugars_100g > 0]"
   ]
  },
  {
   "cell_type": "code",
   "execution_count": null,
   "id": "d8fc67d4",
   "metadata": {},
   "outputs": [],
   "source": [
    "# Diagramme de dispersion\n",
    "_subdata_nutrigrades_notNaN = _subdata_nutrigrades_notNaN[_subdata_nutrigrades_notNaN.sugars_100g > 0]\n",
    "plt.plot(_subdata_nutrigrades_notNaN[\"nutrition_score_fr_100g\"],_subdata_nutrigrades_notNaN[\"sugars_100g\"],'o')\n",
    "plt.xlabel(\"Nutriscore (fr)\")\n",
    "plt.ylabel(\"Sugar quantity\")\n",
    "plt.ylim(0, 100)\n",
    "plt.show()\n"
   ]
  },
  {
   "cell_type": "markdown",
   "id": "cf0b3c28",
   "metadata": {},
   "source": [
    "We can notice the low amount of sugar in product with good nutrigrade (nutriscore =-15 >> -5, where sugar quatity is <20g. we see a concentration of sugar values >80g between nutriscore +10 >> 30, whilst it diminishes for nutriscores >30g. The reason for this can be the initial data collection (type of products collected contains more \"average\" nutriscore products initially) or a possible correlation between bad nutriscore and another component than sugar. We can actually distinguish two tendencies, one of an increasing linearity between sugar quantity and nutriscore, up until a \"inflexion point\" around nutriscore = 15 where the tendency is rather to a decreasing linear relation"
   ]
  },
  {
   "cell_type": "code",
   "execution_count": null,
   "id": "73eef367",
   "metadata": {},
   "outputs": [],
   "source": [
    "import numpy as np"
   ]
  },
  {
   "cell_type": "code",
   "execution_count": null,
   "id": "6e5936e7",
   "metadata": {},
   "outputs": [],
   "source": [
    "taille_classe = 5\n",
    "groupes = [] # va recevoir les données agrégées à afficher\n",
    "#for nutriVal in _subdata_nutrigrades_notNaN['nutrition_score_fr_100g'].unique():\n",
    "    \n",
    "# on calcule des tranches allant de -15 au nutriscore maximum \n",
    "tranches = np.arange(-15, 40, taille_classe)\n",
    "\n",
    "tranches += int(taille_classe/2) # on décale les tranches d'une demi taille de classe\n",
    "indices = np.digitize(_subdata_nutrigrades_notNaN[\"nutrition_score_fr_100g\"], tranches) # associe chaque solde à son numéro de classe  "
   ]
  },
  {
   "cell_type": "code",
   "execution_count": null,
   "id": "10e5b655",
   "metadata": {},
   "outputs": [],
   "source": [
    " # sélection des individus de la tranche ind\n",
    "del nutriscore"
   ]
  },
  {
   "cell_type": "code",
   "execution_count": null,
   "id": "a7416005",
   "metadata": {},
   "outputs": [],
   "source": [
    "#for nutriVal in _subdata_nutrigrades_notNaN['nutrition_score_fr_100g'].unique():\n",
    "for ind, tr in enumerate(tranches): \n",
    "    print (ind, tr)\n",
    "    sugar_qtity = _subdata_nutrigrades_notNaN.loc[indices==ind,\"sugars_100g\"]\n",
    "    if len(sugar_qtity) > 0:\n",
    "        g = {\n",
    "            'valeurs':sugar_qtity,\n",
    "            'centre_classe': tr-(taille_classe/2),\n",
    "            'taille': len(sugar_qtity),\n",
    "            'quartiles': [np.percentile(sugar_qtity,p) for p in [25,50,75]]\n",
    "        }\n",
    "        groupes.append(g)"
   ]
  },
  {
   "cell_type": "code",
   "execution_count": null,
   "id": "3f241f9a",
   "metadata": {},
   "outputs": [],
   "source": [
    "plt.figure(figsize=(10,7))\n",
    "        \n",
    "# affichage des boxplots\n",
    "\n",
    "plt.boxplot([g[\"valeurs\"] for g in groupes],\n",
    "            positions= [g[\"centre_classe\"] for g in groupes], # abscisses des boxplots\n",
    "            showfliers= False, # on ne prend pas en compte les outliers\n",
    "            widths= taille_classe*0.7) # largeur graphique des boxplots\n",
    "\n",
    "# affichage des effectifs de chaque classe\n",
    "for g in groupes:\n",
    "    plt.text(g[\"centre_classe\"],+90,\"(n={})\".format(g[\"taille\"]),horizontalalignment='center',verticalalignment='top')     \n",
    "plt.show()"
   ]
  },
  {
   "cell_type": "markdown",
   "id": "e3290c43",
   "metadata": {},
   "source": [
    "en affichant les effectifs, il parait en effet que les produits de nutriscore plus eleve (lower nutrigrade) sont plus presents dans notre echantillon que le reste.--> besoin de normaliser?"
   ]
  },
  {
   "cell_type": "code",
   "execution_count": null,
   "id": "cfba768a",
   "metadata": {},
   "outputs": [],
   "source": [
    "import scipy.stats as st"
   ]
  },
  {
   "cell_type": "code",
   "execution_count": null,
   "id": "2faf0180",
   "metadata": {},
   "outputs": [],
   "source": [
    "print(st.pearsonr(_subdata_nutrigrades_notNaN['nutrition_score_fr_100g'],_subdata_nutrigrades_notNaN['sugars_100g'])[0])\n",
    "print(np.cov(_subdata_nutrigrades_notNaN['nutrition_score_fr_100g'],_subdata_nutrigrades_notNaN['sugars_100g'],ddof=0)[1,0])"
   ]
  },
  {
   "cell_type": "markdown",
   "id": "e9c9e5c6",
   "metadata": {},
   "source": [
    "Le coefficient de Pearson revele une bonne correlation entre la qutite de sucre et le nutriscore. Une relation lineaire d'ensemble semble se degager"
   ]
  },
  {
   "cell_type": "code",
   "execution_count": null,
   "id": "5c39e385",
   "metadata": {},
   "outputs": [],
   "source": [
    "print('Skewness of the nutriscore values: ',_subdata_nutrigrades_notNaN['nutrition_score_fr_100g'].skew())\n",
    "print('Skewness of sugar quantity values: ', _subdata_nutrigrades_notNaN['sugars_100g'].skew())"
   ]
  },
  {
   "cell_type": "code",
   "execution_count": null,
   "id": "f04521b1",
   "metadata": {},
   "outputs": [],
   "source": [
    "_subdata_nutrigrades_notNaN['nutrition_score_fr_100g']"
   ]
  },
  {
   "cell_type": "markdown",
   "id": "bf2e21fa",
   "metadata": {},
   "source": [
    "### Regression lineaire"
   ]
  },
  {
   "cell_type": "code",
   "execution_count": null,
   "id": "0d0de32d",
   "metadata": {},
   "outputs": [],
   "source": [
    "from sklearn import datasets, linear_model\n",
    "from sklearn.linear_model import LinearRegression\n",
    "from sklearn.metrics import mean_squared_error, r2_score\n",
    "from sklearn.model_selection import train_test_split"
   ]
  },
  {
   "cell_type": "code",
   "execution_count": null,
   "id": "2e2ee35c",
   "metadata": {},
   "outputs": [],
   "source": [
    "setSize = int(len(_subdata_nutrigrades_notNaN['sugars_100g'])/2)"
   ]
  },
  {
   "cell_type": "code",
   "execution_count": null,
   "id": "821a657a",
   "metadata": {},
   "outputs": [],
   "source": [
    "sugar_qtity_train = _subdata_nutrigrades_notNaN.loc[:setSize, ['sugars_100g']]\n",
    "#sugar_qtity_train = np.array(sugar_qtity_train).reshape(-1, 1)\n",
    "sugar_qtity_test = _subdata_nutrigrades_notNaN.loc[setSize:, ['sugars_100g']]\n",
    "\n",
    "# Split the targets into training/testing sets\n",
    "nutriscore_train = _subdata_nutrigrades_notNaN.loc[:setSize,['nutrition_score_fr_100g']]\n",
    "nutriscore_test = _subdata_nutrigrades_notNaN.loc[setSize:, ['nutrition_score_fr_100g']]\n",
    "\n",
    "# Create linear regression object\n",
    "regr = LinearRegression()"
   ]
  },
  {
   "cell_type": "code",
   "execution_count": null,
   "id": "62c9e20b",
   "metadata": {},
   "outputs": [],
   "source": [
    "np.newaxis?"
   ]
  },
  {
   "cell_type": "code",
   "execution_count": null,
   "id": "e7ec40aa",
   "metadata": {},
   "outputs": [],
   "source": [
    "# Train the model using the training sets\n",
    "regr.fit(sugar_qtity_train, nutriscore_train)\n",
    "\n",
    "# Make predictions using the testing set\n",
    "nutriscore_pred = regr.predict(sugar_qtity_test)"
   ]
  },
  {
   "cell_type": "code",
   "execution_count": null,
   "id": "84df59e9",
   "metadata": {},
   "outputs": [],
   "source": [
    "# Plot outputs\n",
    "plt.scatter(sugar_qtity_train, nutriscore_train, color=\"black\", linewidth = 1)\n",
    "plt.plot(sugar_qtity_test, nutriscore_pred, color=\"blue\", linewidth=3)\n",
    "plt.xlim (0, 100)\n",
    "plt.ylim(-15, 40)\n",
    "plt.show()"
   ]
  },
  {
   "cell_type": "code",
   "execution_count": null,
   "id": "b8a5059d",
   "metadata": {},
   "outputs": [],
   "source": [
    "plt.scatter"
   ]
  },
  {
   "cell_type": "code",
   "execution_count": null,
   "id": "e42c23b8",
   "metadata": {},
   "outputs": [],
   "source": [
    "# Train the model using the training sets\n",
    "regr.fit(sugar_qtity_train, nutriscore_train)\n",
    "\n",
    "# Make predictions using the testing set\n",
    "nutriscore_pred = regr.predict(sugar_qtity_test)\n",
    "\n",
    "# The coefficients\n",
    "print(\"Coefficients: \\n\", regr.coef_)\n",
    "# The mean squared error\n",
    "#print(\"Mean squared error: %.2f\" % reg.get_params (nutriscore_test, nutriscore_pred))\n",
    "# The coefficient of determination: 1 is perfect prediction\n",
    "#print(\"Coefficient of determination: %.2f\" % (nutriscore_test, nutriscore_pred))"
   ]
  },
  {
   "cell_type": "markdown",
   "id": "04486926",
   "metadata": {},
   "source": [
    "Need to drop the outlier and try again"
   ]
  },
  {
   "cell_type": "code",
   "execution_count": null,
   "id": "d503ccf6",
   "metadata": {},
   "outputs": [],
   "source": [
    "x_train, x_test, y_train, y_test = train_test_split(_subdata_nutrigrades_notNaN.loc[:, ['sugars_100g']], _subdata_nutrigrades_notNaN.loc[:, ['nutrition_score_fr_100g']] )"
   ]
  },
  {
   "cell_type": "code",
   "execution_count": null,
   "id": "d5e28640",
   "metadata": {},
   "outputs": [],
   "source": [
    "Lr = LinearRegression()\n",
    "Lr.fit(x_train.values.reshape(-1, 1), y_train.values)"
   ]
  },
  {
   "cell_type": "code",
   "execution_count": null,
   "id": "00a9b289",
   "metadata": {},
   "outputs": [],
   "source": [
    "plt.scatter(x_train, y_train, label = 'Training data', color = 'red', alpha=.7)\n",
    "plt.scatter (x_test, y_test, label ='Testing data', color ='g', alpha=.7)\n",
    "plt.legend()\n",
    "plt.title('Test Train Split')\n",
    "plt.show()"
   ]
  },
  {
   "cell_type": "code",
   "execution_count": null,
   "id": "70214019",
   "metadata": {},
   "outputs": [],
   "source": [
    "prediction = Lr.predict(x_test.values.reshape(-1, 1))\n",
    "plt.plot(x_test, prediction, label ='Linear Regression', color ='b')\n",
    "plt.scatter(x_test, y_test, label ='Test data', color ='g', alpha=.7)\n",
    "plt.legend()\n",
    "plt.show()"
   ]
  },
  {
   "cell_type": "code",
   "execution_count": null,
   "id": "5f8d4144",
   "metadata": {},
   "outputs": [],
   "source": [
    "Lr.score(x_test.values.reshape(-1, 1), y_test.values)"
   ]
  },
  {
   "cell_type": "code",
   "execution_count": null,
   "id": "50ef7ee0",
   "metadata": {},
   "outputs": [],
   "source": [
    "Lr.get_params(deep=True)"
   ]
  },
  {
   "cell_type": "markdown",
   "id": "d9a7bcf1",
   "metadata": {},
   "source": [
    "We try to drop the outliers to see how and if score changes: slight increase in r2 from 0.27 to 0.28"
   ]
  },
  {
   "cell_type": "code",
   "execution_count": null,
   "id": "edd9049e",
   "metadata": {},
   "outputs": [],
   "source": [
    "#Sugar outlier \n",
    "iOutlier_sugar =_subdata_nutrigrades_notNaN[_subdata_nutrigrades_notNaN.sugars_100g>150]\n",
    "iOutlier_sugar\n",
    "_subdata_nutrigrades_notNaN.drop(iOutlier_sugar.index, axis=0, inplace=True)"
   ]
  },
  {
   "cell_type": "markdown",
   "id": "182df557",
   "metadata": {},
   "source": [
    "#for iNeg in range(NegativeVal_sugar).unique():\n",
    "i=0\n",
    "NegativeVal_sugar =_subdata_openfood_quantitativeVal[_subdata_openfood_quantitativeVal.sugars_100g<0]\n",
    "\n",
    "for iNeg in NegativeVal_sugar['nutrigrade_ABCDE'].unique():\n",
    "    #i +=1\n",
    "    NegativeVal_sugar.loc[NegativeVal_sugar['nutrigrade_ABCDE']==iNeg,\n",
    "                      'sugars_100g'] =  grandDicodesMedianes[iNeg]['sugars_100g'] \n",
    "for index, value in zip(list(NegativeVal_sugar['sugars_100g'].index), list(NegativeVal_sugar['sugars_100g'].values)):\n",
    "    _subdata_openfood_quantitativeVal.loc[index,'sugars_100g'] = value"
   ]
  },
  {
   "cell_type": "code",
   "execution_count": null,
   "id": "1b3d7638",
   "metadata": {},
   "outputs": [],
   "source": []
  },
  {
   "cell_type": "code",
   "execution_count": null,
   "id": "2e431c16",
   "metadata": {},
   "outputs": [],
   "source": [
    "x_train, x_test, y_train, y_test = train_test_split(_subdata_nutrigrades_notNaN.loc[:, ['sugars_100g']], _subdata_nutrigrades_notNaN.loc[:, ['nutrition_score_fr_100g']] )\n"
   ]
  },
  {
   "cell_type": "code",
   "execution_count": null,
   "id": "3e59665c",
   "metadata": {},
   "outputs": [],
   "source": []
  },
  {
   "cell_type": "code",
   "execution_count": null,
   "id": "e1f20f93",
   "metadata": {},
   "outputs": [],
   "source": [
    "# Diagramme en secteurs\n",
    "_subdata_openfood_quantitativeVal[\"nutrigrade_ABCDE\"].value_counts(normalize=True).plot(kind='pie')\n",
    "#Cette ligne assure que le pie chart est un cercle plutôt qu'une éllipse\n",
    "plt.axis('equal') \n",
    "plt.show() # Affiche le graphique\n",
    "\n",
    "#plt.plot(_subdata_with_nutriscore_notNaN[\"nutrition_score_fr_100g\"])\n",
    "# Diagramme en tuyaux d'orgues\n",
    "#_subdata_openfood_quantitativeVal[\"nutrigrade_ABCDE\"].value_counts(normalize=True).plot(kind='bar')\n",
    "#plt.show()"
   ]
  },
  {
   "cell_type": "code",
   "execution_count": null,
   "id": "7493c8c6",
   "metadata": {},
   "outputs": [],
   "source": [
    "liste_composantes_191Nan = [data_openfood.sodium_100g, data_openfood.salt_100g, data_openfood.sugars_100g, data_openfood]"
   ]
  },
  {
   "cell_type": "code",
   "execution_count": null,
   "id": "6171b0ee",
   "metadata": {},
   "outputs": [],
   "source": [
    "effectifs = data_openfood['nom_produit'].value_counts()\n",
    "modalities = effectifs.index"
   ]
  },
  {
   "cell_type": "markdown",
   "id": "7e1ca806",
   "metadata": {},
   "source": [
    "#### On estime ainsi que le calcul du nutriscore est valide"
   ]
  },
  {
   "cell_type": "code",
   "execution_count": null,
   "id": "11bd5a11",
   "metadata": {},
   "outputs": [],
   "source": [
    "count_nutrigrade = _subdata_openfood_quantitativeVal['nutrigrade_ABCDE'].value_counts()\n",
    "ax = sns.barplot(x=count_additives.index, y = count_nutrigrade.values)\n",
    "ax.bar_label(ax.containers[0])"
   ]
  },
  {
   "cell_type": "code",
   "execution_count": null,
   "id": "7c74e400",
   "metadata": {},
   "outputs": [],
   "source": [
    "plt.figure(figsize=(10,10))\n",
    "\n",
    "count_additives = (_subdata_openfood_quantitativeVal['additives_n'].value_counts())\n",
    "ax = sns.barplot(x=count_additives.index, y = count_additives.values)\n",
    "#ax.bar_label(ax.contanuiners[0])"
   ]
  },
  {
   "cell_type": "code",
   "execution_count": null,
   "id": "39f5842f",
   "metadata": {},
   "outputs": [],
   "source": [
    "plt.figure(figsize=(10,5))\n",
    "additives_qtity = _subdata_openfood_quantitativeVal['additives_n'].value_counts().index\n",
    "#additives_qtity\n",
    "sns.countplot(y='additives_n', order =additives_qtity , data=_subdata_openfood_quantitativeVal)"
   ]
  },
  {
   "cell_type": "markdown",
   "id": "d37fdcdc",
   "metadata": {},
   "source": [
    " After first filtering and sub-slicing, can't drop duplicated values anymore!!!"
   ]
  },
  {
   "cell_type": "code",
   "execution_count": null,
   "id": "cd5b8749",
   "metadata": {},
   "outputs": [],
   "source": [
    "_subdata_openfood_quantitativeVal[\"nutrition_score_fr_100g\"].hist(density=True)\n",
    "plt.show()"
   ]
  },
  {
   "cell_type": "code",
   "execution_count": null,
   "id": "d8b23933",
   "metadata": {},
   "outputs": [],
   "source": [
    "i_categories= data_openfood.categories.value_counts"
   ]
  },
  {
   "cell_type": "code",
   "execution_count": null,
   "id": "a58fa6a4",
   "metadata": {},
   "outputs": [],
   "source": [
    "del splitted_categories"
   ]
  },
  {
   "cell_type": "code",
   "execution_count": null,
   "id": "2551752a",
   "metadata": {},
   "outputs": [],
   "source": [
    "type(categories)"
   ]
  },
  {
   "cell_type": "code",
   "execution_count": null,
   "id": "52df33e6",
   "metadata": {},
   "outputs": [],
   "source": [
    "L = ['A', 'B', 'A,B']\n",
    "L2 = []\n",
    "for i in L:\n",
    "    L2.extend(i.split(','))\n",
    "L2"
   ]
  },
  {
   "cell_type": "code",
   "execution_count": null,
   "id": "57d75b0e",
   "metadata": {},
   "outputs": [],
   "source": [
    "ListOfCategories = list(i_categories.index)\n",
    "splitted_ListOfCategories = []\n",
    "for categ in ListOfCategories:\n",
    "    splitted_ListOfCategories.extend(categ.split(','))\n",
    "#sorted(splitted_ListOfCategories)\n",
    "sorted_ListOfCategories =sorted([ind.strip() for ind in splitted_ListOfCategories]) \n",
    "splitted_ListOfCategories = sorted(list(set(sorted_ListOfCategories)))\n",
    "del categ\n",
    "print (len(splitted_ListOfCategories))"
   ]
  },
  {
   "cell_type": "code",
   "execution_count": null,
   "id": "29fa6694",
   "metadata": {},
   "outputs": [],
   "source": [
    "splitted_ListOfCategories =sorted([ind.strip() for ind in splitted_ListOfCategories]) "
   ]
  },
  {
   "cell_type": "code",
   "execution_count": null,
   "id": "d8abe27e",
   "metadata": {},
   "outputs": [],
   "source": [
    "len(sorted(list(set(sorted_ListOfCategories))))"
   ]
  },
  {
   "cell_type": "code",
   "execution_count": null,
   "id": "b43f25bb",
   "metadata": {},
   "outputs": [],
   "source": [
    "count_nutrigrade = _subdata_openfood_quantitativeVal['nutrigrade_ABCDE'].value_counts()\n",
    "ax = sns.barplot(x=count_additives.index, y = count_nutrigrade.values)\n",
    "ax.bar_label(ax.containers[0])"
   ]
  },
  {
   "cell_type": "code",
   "execution_count": null,
   "id": "a0e1b1e7",
   "metadata": {},
   "outputs": [],
   "source": [
    "with sns.axes_style('white'):\n",
    "    sns.jointplot(data=_subdata_openfood_quantitativeVal, x= _subdata_openfood_quantitativeVal['nutrigrade_ABCDE'].values_count(), y= _subdata_openfood_quantitativeVal['additives_n'], kind='reg')"
   ]
  },
  {
   "cell_type": "code",
   "execution_count": null,
   "id": "e520a707",
   "metadata": {},
   "outputs": [],
   "source": [
    "_subdata_openfood_quantitativeVal.pivot_table('product_name', index='nutrigrade_ABCDE', columns = 'additives_n', aggfunc='sum')"
   ]
  },
  {
   "cell_type": "code",
   "execution_count": null,
   "id": "c0b7c22b",
   "metadata": {},
   "outputs": [],
   "source": [
    "sns.pairplot?"
   ]
  },
  {
   "cell_type": "code",
   "execution_count": null,
   "id": "ae575195",
   "metadata": {},
   "outputs": [],
   "source": [
    "list(reversed(range(1,11)))"
   ]
  },
  {
   "cell_type": "code",
   "execution_count": null,
   "id": "d59fb186",
   "metadata": {},
   "outputs": [],
   "source": [
    "my_list = [2, 'apple', 3.5]\n",
    "my_list"
   ]
  },
  {
   "cell_type": "code",
   "execution_count": null,
   "id": "80c74ded",
   "metadata": {},
   "outputs": [],
   "source": [
    "my_list[1] = 'orange'\n",
    "my_list"
   ]
  },
  {
   "cell_type": "code",
   "execution_count": null,
   "id": "5320e07f",
   "metadata": {},
   "outputs": [],
   "source": [
    "y = \"stuff;thing;junk\"\n",
    "z=y.split(';')\n",
    "len(z)"
   ]
  },
  {
   "cell_type": "code",
   "execution_count": null,
   "id": "846575ec",
   "metadata": {},
   "outputs": [],
   "source": [
    "a=np.array([1,2,3])\n",
    "a"
   ]
  },
  {
   "cell_type": "code",
   "execution_count": null,
   "id": "1b9b5b5c",
   "metadata": {},
   "outputs": [],
   "source": [
    "b = np.array([4,5,6])\n",
    "c=a*b\n",
    "c"
   ]
  },
  {
   "cell_type": "code",
   "execution_count": null,
   "id": "e399ff02",
   "metadata": {},
   "outputs": [],
   "source": [
    "d=np.dot(a,b)\n",
    "d"
   ]
  },
  {
   "cell_type": "markdown",
   "id": "31d15450",
   "metadata": {},
   "source": [
    "Regression lineaire"
   ]
  },
  {
   "cell_type": "code",
   "execution_count": null,
   "id": "0ec14cf8",
   "metadata": {},
   "outputs": [],
   "source": [
    "# Pour selectionner des donnees aleatoires dans notre base de donnees en vue de creer le training set\n",
    "data_size= len(df_nutrisc_sucre)\n",
    "sample = np.random.randint(data_size, size=int(data_size*0.1) )\n",
    "sampledData_for_train = df_nutrisc_sucre.iloc[sample]"
   ]
  },
  {
   "cell_type": "code",
   "execution_count": null,
   "id": "eb41094f",
   "metadata": {},
   "outputs": [],
   "source": [
    "sampledData_for_train['sugars_100g']\n",
    "X = np.matrix([np.ones(sampledData_for_train['sugars_100g'].shape[0]), sampledData_for_train['sugars_100g']]).T\n",
    "y = np.matrix(sampledData_for_train.nutrition_score_fr_100g).T\n",
    "y[:10]"
   ]
  },
  {
   "cell_type": "code",
   "execution_count": null,
   "id": "48331463",
   "metadata": {},
   "outputs": [],
   "source": [
    "# On effectue le calcul exact du paramètre theta\n",
    "theta = np.linalg.inv(X.T.dot(X)).dot(X.T).dot(y)\n",
    "\n",
    "print(theta)"
   ]
  },
  {
   "cell_type": "code",
   "execution_count": null,
   "id": "01a6ff55",
   "metadata": {},
   "outputs": [],
   "source": [
    "plt.xlabel('Sugar quantity')\n",
    "plt.ylabel(' Nutriscore')\n",
    "\n",
    "plt.plot( df_nutrisc_sucre['sugars_100g'], df_nutrisc_sucre['nutrition_score_fr_100g'],\n",
    "         'ro', markersize=4)\n",
    "\n",
    "# On affiche la droite entre 0 et 250 (en surface)\n",
    "plt.plot([0,100], [theta.item(0), theta.item(0) + 20 * theta.item(1)], linestyle='--', c='#000000')\n",
    "\n",
    "plt.show()"
   ]
  },
  {
   "cell_type": "code",
   "execution_count": null,
   "id": "d0f5d21b",
   "metadata": {},
   "outputs": [],
   "source": []
  },
  {
   "cell_type": "code",
   "execution_count": null,
   "id": "011bffd7",
   "metadata": {},
   "outputs": [],
   "source": [
    "from sklearn import linear_model\n",
    "x_train, x_test, y_train, y_test = train_test_split(df_nutriscore_components['sugars_100g'], df_nutriscore_components['nutrition_score_fr_100g'], train_size=0.8)        \n",
    "regr = linear_model.LinearRegression()\n",
    "regr.fit(x_train.values.reshape(-1, 1), y_train.values)\n",
    "regr.predict(x_test.values.reshape(-1, 1))\n",
    "regr.get_params(deep=True)"
   ]
  },
  {
   "cell_type": "code",
   "execution_count": null,
   "id": "81385d97",
   "metadata": {},
   "outputs": [],
   "source": [
    "regr.intercept_"
   ]
  },
  {
   "cell_type": "code",
   "execution_count": null,
   "id": "dd2da12e",
   "metadata": {},
   "outputs": [],
   "source": [
    "FirstReg_score = regr.score(x_test.values.reshape(-1, 1), y_test.values)\n",
    "FirstReg_score"
   ]
  },
  {
   "cell_type": "code",
   "execution_count": null,
   "id": "f2f9e02d",
   "metadata": {},
   "outputs": [],
   "source": []
  }
 ],
 "metadata": {
  "kernelspec": {
   "display_name": "OC_Project2",
   "language": "python",
   "name": "oc_project2"
  },
  "language_info": {
   "codemirror_mode": {
    "name": "ipython",
    "version": 3
   },
   "file_extension": ".py",
   "mimetype": "text/x-python",
   "name": "python",
   "nbconvert_exporter": "python",
   "pygments_lexer": "ipython3",
   "version": "3.10.8"
  },
  "toc": {
   "base_numbering": 1,
   "nav_menu": {},
   "number_sections": true,
   "sideBar": true,
   "skip_h1_title": false,
   "title_cell": "Table of Contents",
   "title_sidebar": "Contents",
   "toc_cell": false,
   "toc_position": {},
   "toc_section_display": true,
   "toc_window_display": false
  }
 },
 "nbformat": 4,
 "nbformat_minor": 5
}
