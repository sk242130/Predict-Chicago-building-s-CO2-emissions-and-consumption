{
 "cells": [
  {
   "cell_type": "markdown",
   "id": "afb20eb3",
   "metadata": {},
   "source": [
    "# Starters\n",
    "## Import Packages"
   ]
  },
  {
   "cell_type": "code",
   "execution_count": 2,
   "id": "7ac7add7",
   "metadata": {},
   "outputs": [],
   "source": [
    "from urllib import request\n",
    "import pandas as pd\n",
    "import matplotlib.pyplot as plt\n",
    "import seaborn as sns\n",
    "sns.set()\n",
    "import numpy as np"
   ]
  },
  {
   "cell_type": "code",
   "execution_count": 3,
   "id": "371e33d8",
   "metadata": {},
   "outputs": [],
   "source": [
    "sns.set_style('darkgrid')"
   ]
  },
  {
   "cell_type": "markdown",
   "id": "6f1e1230",
   "metadata": {},
   "source": [
    "## Helpers functions"
   ]
  },
  {
   "cell_type": "code",
   "execution_count": 4,
   "id": "a80e37ce",
   "metadata": {},
   "outputs": [],
   "source": [
    "# Function to quickly describe data\n",
    "def data_desc(my_imported_data):\n",
    "    print(my_imported_data.dropna(how = 'all').shape) #pour voir si certaines lignes comportent des valeurs NaN partout (Non)\n",
    "    print(my_imported_data.shape)\n",
    "    return(my_imported_data.dtypes)\n",
    "\n",
    "# Function to return in a dictionary ratio of nan values per variable sorted in descending order\n",
    "def display_nan_Values(my_imported_data):\n",
    "    nan_dict = {my_imported_data.columns[var]: my_imported_data.iloc[:,var].isna().mean()\n",
    "                     for var in range(my_imported_data.shape[1])}\n",
    "    sorted_dict_by_nanvalues = sorted(nan_dict.items(), key=lambda x:x[1], reverse=True)\n",
    "    sorted_dict = dict(sorted_dict_by_nanvalues)\n",
    "    return sorted_dict\n",
    "\n",
    "# Function for replacing UPPERCASE with lowercase in variables names using title()\n",
    "def columns_title_format(my_imported_data): \n",
    "    data_columns = list(my_imported_data.columns)\n",
    "    data_columns = [col.title() for col in data_columns]\n",
    "    print(data_columns)\n",
    "    my_imported_data.columns = data_columns\n",
    "    my_imported_data.head()\n",
    "    return my_imported_data\n",
    "\n",
    "# Function To project a variable onto a dataframe\n",
    "def present_variable_in_tab(my_dataset, variable_col, variable_new_name):\n",
    "    effectifs = my_dataset[variable_col].value_counts()\n",
    "    modalites = effectifs.index # l'index des effectifs contient les modalités\n",
    "\n",
    "    tab = pd.DataFrame(modalites, columns = [variable_new_name]) # création du tableau à partir des modalités\n",
    "    tab[\"n\"] = effectifs.values\n",
    "    tab[\"f\"] = tab[\"n\"] / len(my_dataset) # len(data) renvoie la taille de l'échantillon\n",
    "    tab = tab.sort_values(by=[variable_new_name]) #n would be of use if many values had a on the first column of nutrigrade\n",
    "    #tab.index = [1, 2, 3 ,4 ,5]\n",
    "    return(tab)\n"
   ]
  },
  {
   "cell_type": "code",
   "execution_count": 5,
   "id": "c7ba1034",
   "metadata": {},
   "outputs": [],
   "source": [
    "# Function to estimate percentage of null values for each variable in the dataset\n",
    "def compute_nan_P(dataset):\n",
    "    data_isna_P = (dataset.isna().sum()) * 100/len(dataset)\n",
    "    cols = [x for x in range (dataset.shape[1])]\n",
    "    count =0\n",
    "    for ii in data_isna_P.index:\n",
    "        count +=1\n",
    "        if (data_isna_P[ii] > 55):\n",
    "            #countna = +1\n",
    "            cols.remove(count-1)\n",
    "            print (ii)\n",
    "        else:\n",
    "            continue\n",
    "    return (data_isna_P, cols)"
   ]
  },
  {
   "cell_type": "code",
   "execution_count": 6,
   "id": "d4d94af6",
   "metadata": {},
   "outputs": [],
   "source": [
    "# Function to compute linear regression\n",
    "def iterate_regression(X, y):\n",
    "    Lr = LinearRegression()\n",
    "\n",
    "    # step1(): train_test_split\n",
    "    x_train, x_test, y_train, y_test = train_test_split(X, y, train_size=0.8)        \n",
    "    plt.scatter(x_train, y_train, label = 'Training data', color = 'red', alpha=.7)\n",
    "    plt.scatter (x_test, y_test, label ='Testing data', color ='g', alpha=.7)\n",
    "    plt.legend()\n",
    "    plt.title('Test Train Split')\n",
    "    plt.show()\n",
    "    # step2(): fit\n",
    "    Lr.fit(x_train.values.reshape(-1, 1), y_train.values)\n",
    "    # step3(): predict\n",
    "    prediction = Lr.predict(x_test.values.reshape(-1, 1))\n",
    "    plt.plot(x_test, prediction, label ='Linear Regression', color ='b')\n",
    "    plt.scatter(x_test, y_test, label ='Test data', color ='g', alpha=.7)\n",
    "    plt.legend()\n",
    "    plt.show()\n",
    "    # step 4: Compute score \n",
    "    FirstReg_score = Lr.score(x_test.values.reshape(-1, 1), y_test.values)\n",
    "    Lr.get_params(deep=True)"
   ]
  },
  {
   "cell_type": "code",
   "execution_count": 7,
   "id": "e7c67578",
   "metadata": {},
   "outputs": [],
   "source": [
    "def correlation_graph(pca, \n",
    "                      x_y, \n",
    "                      features) : \n",
    "    \"\"\"Affiche le graphe des correlations\n",
    "\n",
    "    Positional arguments : \n",
    "    -----------------------------------\n",
    "    pca : sklearn.decomposition.PCA : notre objet PCA qui a été fit\n",
    "    x_y : list ou tuple : le couple x,y des plans à afficher, exemple [0,1] pour F1, F2\n",
    "    features : list ou tuple : la liste des features (ie des dimensions) à représenter\n",
    "    \"\"\"\n",
    "\n",
    "    # Extrait x et y \n",
    "    x,y=x_y\n",
    "\n",
    "    # Taille de l'image (en inches)\n",
    "    fig, ax = plt.subplots(figsize=(10, 9))\n",
    "\n",
    "    # Pour chaque composante : \n",
    "    for i in range(0, pca.components_.shape[1]):\n",
    "\n",
    "        # Les flèches\n",
    "        ax.arrow(0,0, \n",
    "                pca.components_[x, i],  \n",
    "                pca.components_[y, i],  \n",
    "                head_width=0.07,\n",
    "                head_length=0.07, \n",
    "                width=0.02, )\n",
    "\n",
    "        # Les labels\n",
    "        plt.text(pca.components_[x, i] + 0.05,\n",
    "                pca.components_[y, i] + 0.05,\n",
    "                features[i])\n",
    "        \n",
    "    # Affichage des lignes horizontales et verticales\n",
    "    plt.plot([-1, 1], [0, 0], color='grey', ls='--')\n",
    "    plt.plot([0, 0], [-1, 1], color='grey', ls='--')\n",
    "\n",
    "    # Nom des axes, avec le pourcentage d'inertie expliqué\n",
    "    plt.xlabel('F{} ({}%)'.format(x+1, round(100*pca.explained_variance_ratio_[x],1)))\n",
    "    plt.ylabel('F{} ({}%)'.format(y+1, round(100*pca.explained_variance_ratio_[y],1)))\n",
    "\n",
    "    # Le cercle \n",
    "    an = np.linspace(0, 2 * np.pi, 100)\n",
    "    plt.plot(np.cos(an), np.sin(an))  # Add a unit circle for scale\n",
    "\n",
    "    # Axes et display\n",
    "    plt.axis('equal')\n",
    "    plt.show(block=False)\n"
   ]
  },
  {
   "cell_type": "code",
   "execution_count": 8,
   "id": "400454af",
   "metadata": {},
   "outputs": [],
   "source": [
    "# Function to display fcatorial planes\n",
    "def display_factorial_planes(   X_projected, \n",
    "                                x_y, \n",
    "                                pca=None, \n",
    "                                labels = None,\n",
    "                                clusters=None, \n",
    "                                alpha=1,\n",
    "                                figsize=[10,8], \n",
    "                                marker=\".\" ):\n",
    "    \"\"\"\n",
    "    Affiche la projection des individus\n",
    "\n",
    "    Positional arguments : \n",
    "    -------------------------------------\n",
    "    X_projected : np.array, pd.DataFrame, list of list : la matrice des points projetés\n",
    "    x_y : list ou tuple : le couple x,y des plans à afficher, exemple [0,1] pour F1, F2\n",
    "\n",
    "    Optional arguments : \n",
    "    -------------------------------------\n",
    "    pca : sklearn.decomposition.PCA : un objet PCA qui a été fit, cela nous permettra d'afficher la variance de chaque composante, default = None\n",
    "    labels : list ou tuple : les labels des individus à projeter, default = None\n",
    "    clusters : list ou tuple : la liste des clusters auquel appartient chaque individu, default = None\n",
    "    alpha : float in [0,1] : paramètre de transparence, 0=100% transparent, 1=0% transparent, default = 1\n",
    "    figsize : list ou tuple : couple width, height qui définit la taille de la figure en inches, default = [10,8] \n",
    "    marker : str : le type de marker utilisé pour représenter les individus, points croix etc etc, default = \".\"\n",
    "    \"\"\"\n",
    "\n",
    "    # Transforme X_projected en np.array\n",
    "    X_ = np.array(X_projected)\n",
    "\n",
    "    # On définit la forme de la figure si elle n'a pas été donnée\n",
    "    if not figsize: \n",
    "        figsize = (7,6)\n",
    "\n",
    "    # On gère les labels\n",
    "    if  labels is None : \n",
    "        labels = []\n",
    "    try : \n",
    "        len(labels)\n",
    "    except Exception as e : \n",
    "        raise e\n",
    "\n",
    "    # On vérifie la variable axis \n",
    "    if not len(x_y) ==2 : \n",
    "        raise AttributeError(\"2 axes sont demandées\")   \n",
    "    if max(x_y )>= X_.shape[1] : \n",
    "        raise AttributeError(\"la variable axis n'est pas bonne\")   \n",
    "\n",
    "    # on définit x et y \n",
    "    x, y = x_y\n",
    "\n",
    "    # Initialisation de la figure       \n",
    "    fig, ax = plt.subplots(1, 1, figsize=figsize)\n",
    "\n",
    "    # On vérifie s'il y a des clusters ou non\n",
    "    c = None if clusters is None else clusters\n",
    " \n",
    "    sns.scatterplot(data=None, x=X_[:, x], y=X_[:, y], hue=c)\n",
    "\n",
    "    # Si la variable pca a été fournie, on peut calculer le % de variance de chaque axe \n",
    "    if pca : \n",
    "        v1 = str(round(100*pca.explained_variance_ratio_[x]))  + \" %\"\n",
    "        v2 = str(round(100*pca.explained_variance_ratio_[y]))  + \" %\"\n",
    "    else : \n",
    "        v1=v2= ''\n",
    "\n",
    "    # Nom des axes, avec le pourcentage d'inertie expliqué\n",
    "    ax.set_xlabel(f'F{x+1} {v1}')\n",
    "    ax.set_ylabel(f'F{y+1} {v2}')\n",
    "\n",
    "    # Valeur x max et y max\n",
    "    x_max = np.abs(X_[:, x]).max() *1.1\n",
    "    y_max = np.abs(X_[:, y]).max() *1.1\n",
    "\n",
    "    # On borne x et y \n",
    "    ax.set_xlim(left=-x_max, right=x_max)\n",
    "    ax.set_ylim(bottom= -y_max, top=y_max)\n",
    "\n",
    "    # Affichage des lignes horizontales et verticales\n",
    "    plt.plot([-x_max, x_max], [0, 0], color='grey', alpha=0.8)\n",
    "    plt.plot([0,0], [-y_max, y_max], color='grey', alpha=0.8)\n",
    "\n",
    "    # Affichage des labels des points\n",
    "    if len(labels) : \n",
    "        # j'ai copié collé la fonction sans la lire\n",
    "        for i,(_x,_y) in enumerate(X_[:,[x,y]]):\n",
    "            plt.text(_x, _y+0.05, labels[i], fontsize='14', ha='center',va='center') \n",
    "\n",
    "    # Titre et display\n",
    "    plt.title(f\"Projection des individus (sur F{x+1} et F{y+1})\")\n",
    "    plt.show()"
   ]
  },
  {
   "cell_type": "markdown",
   "id": "62bb7b26",
   "metadata": {},
   "source": [
    "# Exploratory Analysis"
   ]
  },
  {
   "cell_type": "markdown",
   "id": "1ac576cb",
   "metadata": {},
   "source": [
    "## Import Data"
   ]
  },
  {
   "cell_type": "raw",
   "id": "6672cb25",
   "metadata": {},
   "source": [
    "explored_dataset.to_csv('/Users/souha_kassab/OC_project3/static/csv/explored_dataset_mu;tifmaily_31123.csv')"
   ]
  },
  {
   "cell_type": "code",
   "execution_count": 9,
   "id": "feefdb02",
   "metadata": {},
   "outputs": [],
   "source": [
    "explored_dataset = pd.read_csv('/Users/souha_kassab/OC_project3/static/csv/explored_dataset_multifmaily_322023.csv', \n",
    "                               index_col=[0])"
   ]
  },
  {
   "cell_type": "code",
   "execution_count": 10,
   "id": "a8a5077a",
   "metadata": {
    "scrolled": true
   },
   "outputs": [
    {
     "data": {
      "text/html": [
       "<div>\n",
       "<style scoped>\n",
       "    .dataframe tbody tr th:only-of-type {\n",
       "        vertical-align: middle;\n",
       "    }\n",
       "\n",
       "    .dataframe tbody tr th {\n",
       "        vertical-align: top;\n",
       "    }\n",
       "\n",
       "    .dataframe thead th {\n",
       "        text-align: right;\n",
       "    }\n",
       "</style>\n",
       "<table border=\"1\" class=\"dataframe\">\n",
       "  <thead>\n",
       "    <tr style=\"text-align: right;\">\n",
       "      <th></th>\n",
       "      <th>Numberofbuildings</th>\n",
       "      <th>Numberoffloors</th>\n",
       "      <th>Propertygfatotal</th>\n",
       "      <th>Propertygfaparking</th>\n",
       "      <th>Propertygfabuilding(S)</th>\n",
       "      <th>Largestpropertyusetypegfa</th>\n",
       "      <th>Secondlargestpropertyusetypegfa</th>\n",
       "      <th>Energystarscore</th>\n",
       "      <th>Siteeui(Kbtu/Sf)</th>\n",
       "      <th>Siteeuiwn(Kbtu/Sf)</th>\n",
       "      <th>...</th>\n",
       "      <th>Siteenergyusewn(Kbtu)</th>\n",
       "      <th>Steamuse(Kbtu)</th>\n",
       "      <th>Electricity(Kwh)</th>\n",
       "      <th>Electricity(Kbtu)</th>\n",
       "      <th>Naturalgas(Therms)</th>\n",
       "      <th>Naturalgas(Kbtu)</th>\n",
       "      <th>Totalghgemissions</th>\n",
       "      <th>Ghgemissionsintensity</th>\n",
       "      <th>Non_residential</th>\n",
       "      <th>residential</th>\n",
       "    </tr>\n",
       "  </thead>\n",
       "  <tbody>\n",
       "    <tr>\n",
       "      <th>0</th>\n",
       "      <td>1.0</td>\n",
       "      <td>12</td>\n",
       "      <td>88434</td>\n",
       "      <td>0</td>\n",
       "      <td>88434</td>\n",
       "      <td>88434.0</td>\n",
       "      <td>NaN</td>\n",
       "      <td>60.0</td>\n",
       "      <td>81.699997</td>\n",
       "      <td>84.300003</td>\n",
       "      <td>...</td>\n",
       "      <td>7456910.0</td>\n",
       "      <td>2003882.00</td>\n",
       "      <td>1.156514e+06</td>\n",
       "      <td>3946027.0</td>\n",
       "      <td>12764.52930</td>\n",
       "      <td>1276453.0</td>\n",
       "      <td>249.98</td>\n",
       "      <td>2.83</td>\n",
       "      <td>1</td>\n",
       "      <td>0</td>\n",
       "    </tr>\n",
       "    <tr>\n",
       "      <th>1</th>\n",
       "      <td>1.0</td>\n",
       "      <td>11</td>\n",
       "      <td>103566</td>\n",
       "      <td>15064</td>\n",
       "      <td>88502</td>\n",
       "      <td>83880.0</td>\n",
       "      <td>15064.0</td>\n",
       "      <td>61.0</td>\n",
       "      <td>94.800003</td>\n",
       "      <td>97.900002</td>\n",
       "      <td>...</td>\n",
       "      <td>8664479.0</td>\n",
       "      <td>0.00</td>\n",
       "      <td>9.504252e+05</td>\n",
       "      <td>3242851.0</td>\n",
       "      <td>51450.81641</td>\n",
       "      <td>5145082.0</td>\n",
       "      <td>295.86</td>\n",
       "      <td>2.86</td>\n",
       "      <td>1</td>\n",
       "      <td>0</td>\n",
       "    </tr>\n",
       "    <tr>\n",
       "      <th>2</th>\n",
       "      <td>1.0</td>\n",
       "      <td>41</td>\n",
       "      <td>956110</td>\n",
       "      <td>196718</td>\n",
       "      <td>759392</td>\n",
       "      <td>756493.0</td>\n",
       "      <td>NaN</td>\n",
       "      <td>43.0</td>\n",
       "      <td>96.000000</td>\n",
       "      <td>97.699997</td>\n",
       "      <td>...</td>\n",
       "      <td>73937112.0</td>\n",
       "      <td>21566554.00</td>\n",
       "      <td>1.451544e+07</td>\n",
       "      <td>49526664.0</td>\n",
       "      <td>14938.00000</td>\n",
       "      <td>1493800.0</td>\n",
       "      <td>2089.28</td>\n",
       "      <td>2.19</td>\n",
       "      <td>1</td>\n",
       "      <td>0</td>\n",
       "    </tr>\n",
       "    <tr>\n",
       "      <th>3</th>\n",
       "      <td>1.0</td>\n",
       "      <td>10</td>\n",
       "      <td>61320</td>\n",
       "      <td>0</td>\n",
       "      <td>61320</td>\n",
       "      <td>61320.0</td>\n",
       "      <td>NaN</td>\n",
       "      <td>56.0</td>\n",
       "      <td>110.800003</td>\n",
       "      <td>113.300003</td>\n",
       "      <td>...</td>\n",
       "      <td>6946800.5</td>\n",
       "      <td>2214446.25</td>\n",
       "      <td>8.115253e+05</td>\n",
       "      <td>2768924.0</td>\n",
       "      <td>18112.13086</td>\n",
       "      <td>1811213.0</td>\n",
       "      <td>286.43</td>\n",
       "      <td>4.67</td>\n",
       "      <td>1</td>\n",
       "      <td>0</td>\n",
       "    </tr>\n",
       "    <tr>\n",
       "      <th>4</th>\n",
       "      <td>1.0</td>\n",
       "      <td>18</td>\n",
       "      <td>175580</td>\n",
       "      <td>62000</td>\n",
       "      <td>113580</td>\n",
       "      <td>123445.0</td>\n",
       "      <td>68009.0</td>\n",
       "      <td>75.0</td>\n",
       "      <td>114.800003</td>\n",
       "      <td>118.699997</td>\n",
       "      <td>...</td>\n",
       "      <td>14656503.0</td>\n",
       "      <td>0.00</td>\n",
       "      <td>1.573449e+06</td>\n",
       "      <td>5368607.0</td>\n",
       "      <td>88039.98438</td>\n",
       "      <td>8803998.0</td>\n",
       "      <td>505.01</td>\n",
       "      <td>2.88</td>\n",
       "      <td>1</td>\n",
       "      <td>0</td>\n",
       "    </tr>\n",
       "  </tbody>\n",
       "</table>\n",
       "<p>5 rows × 23 columns</p>\n",
       "</div>"
      ],
      "text/plain": [
       "   Numberofbuildings  Numberoffloors  Propertygfatotal  Propertygfaparking  \\\n",
       "0                1.0              12             88434                   0   \n",
       "1                1.0              11            103566               15064   \n",
       "2                1.0              41            956110              196718   \n",
       "3                1.0              10             61320                   0   \n",
       "4                1.0              18            175580               62000   \n",
       "\n",
       "   Propertygfabuilding(S)  Largestpropertyusetypegfa  \\\n",
       "0                   88434                    88434.0   \n",
       "1                   88502                    83880.0   \n",
       "2                  759392                   756493.0   \n",
       "3                   61320                    61320.0   \n",
       "4                  113580                   123445.0   \n",
       "\n",
       "   Secondlargestpropertyusetypegfa  Energystarscore  Siteeui(Kbtu/Sf)  \\\n",
       "0                              NaN             60.0         81.699997   \n",
       "1                          15064.0             61.0         94.800003   \n",
       "2                              NaN             43.0         96.000000   \n",
       "3                              NaN             56.0        110.800003   \n",
       "4                          68009.0             75.0        114.800003   \n",
       "\n",
       "   Siteeuiwn(Kbtu/Sf)  ...  Siteenergyusewn(Kbtu)  Steamuse(Kbtu)  \\\n",
       "0           84.300003  ...              7456910.0      2003882.00   \n",
       "1           97.900002  ...              8664479.0            0.00   \n",
       "2           97.699997  ...             73937112.0     21566554.00   \n",
       "3          113.300003  ...              6946800.5      2214446.25   \n",
       "4          118.699997  ...             14656503.0            0.00   \n",
       "\n",
       "   Electricity(Kwh)  Electricity(Kbtu)  Naturalgas(Therms)  Naturalgas(Kbtu)  \\\n",
       "0      1.156514e+06          3946027.0         12764.52930         1276453.0   \n",
       "1      9.504252e+05          3242851.0         51450.81641         5145082.0   \n",
       "2      1.451544e+07         49526664.0         14938.00000         1493800.0   \n",
       "3      8.115253e+05          2768924.0         18112.13086         1811213.0   \n",
       "4      1.573449e+06          5368607.0         88039.98438         8803998.0   \n",
       "\n",
       "   Totalghgemissions  Ghgemissionsintensity  Non_residential  residential  \n",
       "0             249.98                   2.83                1            0  \n",
       "1             295.86                   2.86                1            0  \n",
       "2            2089.28                   2.19                1            0  \n",
       "3             286.43                   4.67                1            0  \n",
       "4             505.01                   2.88                1            0  \n",
       "\n",
       "[5 rows x 23 columns]"
      ]
     },
     "execution_count": 10,
     "metadata": {},
     "output_type": "execute_result"
    }
   ],
   "source": [
    "explored_dataset.head()"
   ]
  },
  {
   "cell_type": "code",
   "execution_count": 12,
   "id": "92a82477",
   "metadata": {},
   "outputs": [
    {
     "data": {
      "text/plain": [
       "(3356, 23)"
      ]
     },
     "execution_count": 12,
     "metadata": {},
     "output_type": "execute_result"
    }
   ],
   "source": [
    "explored_dataset.shape"
   ]
  },
  {
   "cell_type": "markdown",
   "id": "4aa77b6a",
   "metadata": {},
   "source": [
    "# PCA"
   ]
  },
  {
   "cell_type": "code",
   "execution_count": 13,
   "id": "5817bc86",
   "metadata": {},
   "outputs": [],
   "source": [
    "from sklearn.decomposition import PCA\n",
    "from sklearn.preprocessing import StandardScaler"
   ]
  },
  {
   "cell_type": "markdown",
   "id": "9fd71375",
   "metadata": {},
   "source": [
    "## Data split"
   ]
  },
  {
   "cell_type": "code",
   "execution_count": 14,
   "id": "95fb7072",
   "metadata": {},
   "outputs": [],
   "source": [
    "cols = ['Numberofbuildings', 'Numberoffloors', 'Propertygfatotal', 'Siteenergyuse(Kbtu)', 'Siteenergyusewn(Kbtu)', 'Steamuse(Kbtu)',\n",
    "       'Electricity(Kwh)', 'Electricity(Kbtu)', 'Naturalgas(Therms)',\n",
    "       'Naturalgas(Kbtu)', 'Non_residential']\n",
    "#cols = ['Siteenergyuse(Kbtu)', 'Siteenergyusewn(Kbtu)', 'Steamuse(Kbtu)',\n",
    " #      'Electricity(Kwh)', 'Electricity(Kbtu)', 'Naturalgas(Therms)',\n",
    "  #     'Naturalgas(Kbtu)', 'Non_residential']\n",
    "#linear_model_dataset = explored_dataset[cols]\n",
    "#explored_dataset"
   ]
  },
  {
   "cell_type": "code",
   "execution_count": 15,
   "id": "2baf7183",
   "metadata": {},
   "outputs": [
    {
     "data": {
      "text/plain": [
       "array([[1.00000000e+00, 1.20000000e+01, 8.84340000e+04, 7.22636250e+06,\n",
       "        7.45691000e+06, 2.00388200e+06, 1.15651425e+06, 3.94602700e+06,\n",
       "        1.27645293e+04, 1.27645300e+06, 1.00000000e+00],\n",
       "       [1.00000000e+00, 1.10000000e+01, 1.03566000e+05, 8.38793300e+06,\n",
       "        8.66447900e+06, 0.00000000e+00, 9.50425188e+05, 3.24285100e+06,\n",
       "        5.14508164e+04, 5.14508200e+06, 1.00000000e+00],\n",
       "       [1.00000000e+00, 4.10000000e+01, 9.56110000e+05, 7.25870240e+07,\n",
       "        7.39371120e+07, 2.15665540e+07, 1.45154350e+07, 4.95266640e+07,\n",
       "        1.49380000e+04, 1.49380000e+06, 1.00000000e+00],\n",
       "       [1.00000000e+00, 1.00000000e+01, 6.13200000e+04, 6.79458400e+06,\n",
       "        6.94680050e+06, 2.21444625e+06, 8.11525312e+05, 2.76892400e+06,\n",
       "        1.81121309e+04, 1.81121300e+06, 1.00000000e+00],\n",
       "       [1.00000000e+00, 1.80000000e+01, 1.75580000e+05, 1.41726060e+07,\n",
       "        1.46565030e+07, 0.00000000e+00, 1.57344862e+06, 5.36860700e+06,\n",
       "        8.80399844e+04, 8.80399800e+06, 1.00000000e+00]])"
      ]
     },
     "execution_count": 15,
     "metadata": {},
     "output_type": "execute_result"
    }
   ],
   "source": [
    "## Data split\n",
    "X = explored_dataset.loc[:, cols].values\n",
    "#first_7dataset.iloc[:, -3]\n",
    "X[:5]"
   ]
  },
  {
   "cell_type": "code",
   "execution_count": 16,
   "id": "2e44d090",
   "metadata": {},
   "outputs": [
    {
     "data": {
      "text/plain": [
       "(3356, 11)"
      ]
     },
     "execution_count": 16,
     "metadata": {},
     "output_type": "execute_result"
    }
   ],
   "source": [
    "X.shape"
   ]
  },
  {
   "cell_type": "code",
   "execution_count": 17,
   "id": "7788eec4",
   "metadata": {},
   "outputs": [
    {
     "data": {
      "text/plain": [
       "['Numberofbuildings',\n",
       " 'Numberoffloors',\n",
       " 'Propertygfatotal',\n",
       " 'Siteenergyuse(Kbtu)',\n",
       " 'Siteenergyusewn(Kbtu)',\n",
       " 'Steamuse(Kbtu)',\n",
       " 'Electricity(Kwh)',\n",
       " 'Electricity(Kbtu)',\n",
       " 'Naturalgas(Therms)',\n",
       " 'Naturalgas(Kbtu)',\n",
       " 'Non_residential']"
      ]
     },
     "execution_count": 17,
     "metadata": {},
     "output_type": "execute_result"
    }
   ],
   "source": [
    "#columns in features variable\n",
    "features = cols[:]\n",
    "features"
   ]
  },
  {
   "cell_type": "markdown",
   "id": "39e4f3d5",
   "metadata": {},
   "source": [
    "## Scaling"
   ]
  },
  {
   "cell_type": "code",
   "execution_count": 18,
   "id": "1d6ee91b",
   "metadata": {},
   "outputs": [],
   "source": [
    "# Instantiate scaler\n",
    "scaler = StandardScaler()"
   ]
  },
  {
   "cell_type": "code",
   "execution_count": 19,
   "id": "5cf5080d",
   "metadata": {},
   "outputs": [
    {
     "data": {
      "text/html": [
       "<div>\n",
       "<style scoped>\n",
       "    .dataframe tbody tr th:only-of-type {\n",
       "        vertical-align: middle;\n",
       "    }\n",
       "\n",
       "    .dataframe tbody tr th {\n",
       "        vertical-align: top;\n",
       "    }\n",
       "\n",
       "    .dataframe thead th {\n",
       "        text-align: right;\n",
       "    }\n",
       "</style>\n",
       "<table border=\"1\" class=\"dataframe\">\n",
       "  <thead>\n",
       "    <tr style=\"text-align: right;\">\n",
       "      <th></th>\n",
       "      <th>0</th>\n",
       "      <th>1</th>\n",
       "      <th>2</th>\n",
       "      <th>3</th>\n",
       "      <th>4</th>\n",
       "      <th>5</th>\n",
       "      <th>6</th>\n",
       "      <th>7</th>\n",
       "      <th>8</th>\n",
       "      <th>9</th>\n",
       "      <th>10</th>\n",
       "    </tr>\n",
       "  </thead>\n",
       "  <tbody>\n",
       "    <tr>\n",
       "      <th>mean</th>\n",
       "      <td>0.0</td>\n",
       "      <td>0.0</td>\n",
       "      <td>0.0</td>\n",
       "      <td>0.0</td>\n",
       "      <td>-0.0</td>\n",
       "      <td>-0.0</td>\n",
       "      <td>0.0</td>\n",
       "      <td>-0.0</td>\n",
       "      <td>0.0</td>\n",
       "      <td>-0.0</td>\n",
       "      <td>0.0</td>\n",
       "    </tr>\n",
       "    <tr>\n",
       "      <th>std</th>\n",
       "      <td>1.0</td>\n",
       "      <td>1.0</td>\n",
       "      <td>1.0</td>\n",
       "      <td>1.0</td>\n",
       "      <td>1.0</td>\n",
       "      <td>1.0</td>\n",
       "      <td>1.0</td>\n",
       "      <td>1.0</td>\n",
       "      <td>1.0</td>\n",
       "      <td>1.0</td>\n",
       "      <td>1.0</td>\n",
       "    </tr>\n",
       "  </tbody>\n",
       "</table>\n",
       "</div>"
      ],
      "text/plain": [
       "       0    1    2    3    4    5    6    7    8    9    10\n",
       "mean  0.0  0.0  0.0  0.0 -0.0 -0.0  0.0 -0.0  0.0 -0.0  0.0\n",
       "std   1.0  1.0  1.0  1.0  1.0  1.0  1.0  1.0  1.0  1.0  1.0"
      ]
     },
     "execution_count": 19,
     "metadata": {},
     "output_type": "execute_result"
    }
   ],
   "source": [
    "X_scaled = scaler.fit_transform(X)\n",
    "idx = [\"mean\", \"std\"]\n",
    "#reduction et centrage\n",
    "pd.DataFrame(X_scaled).describe().round(2).loc[idx, :]"
   ]
  },
  {
   "cell_type": "code",
   "execution_count": 18,
   "id": "97c2b1e8",
   "metadata": {},
   "outputs": [
    {
     "data": {
      "text/plain": [
       "(array([], dtype=int64), array([], dtype=int64))"
      ]
     },
     "execution_count": 18,
     "metadata": {},
     "output_type": "execute_result"
    }
   ],
   "source": [
    "np.where(np.isnan(X_scaled))"
   ]
  },
  {
   "cell_type": "markdown",
   "id": "7ce28627",
   "metadata": {},
   "source": [
    "## ACP instanciation"
   ]
  },
  {
   "cell_type": "code",
   "execution_count": 20,
   "id": "23c03a22",
   "metadata": {},
   "outputs": [],
   "source": [
    "#99% of variance\n",
    "from sklearn.decomposition import PCA\n",
    "pca = PCA(n_components = 0.99)\n",
    "pca.fit(X_scaled)\n",
    "reduced = pca.transform(X_scaled)"
   ]
  },
  {
   "cell_type": "markdown",
   "id": "8cf85e09",
   "metadata": {},
   "source": [
    "## Variance"
   ]
  },
  {
   "cell_type": "code",
   "execution_count": 21,
   "id": "586bf785",
   "metadata": {},
   "outputs": [
    {
     "name": "stdout",
     "output_type": "stream",
     "text": [
      "[50.12 19.59 10.38  8.5   7.16  2.35  1.37]\n",
      "[50. 70. 80. 89. 96. 98. 99.]\n"
     ]
    },
    {
     "data": {
      "text/plain": [
       "[1, 2, 3, 4, 5, 6, 7]"
      ]
     },
     "execution_count": 21,
     "metadata": {},
     "output_type": "execute_result"
    }
   ],
   "source": [
    "pca.explained_variance_ratio_\n",
    "scree = (pca.explained_variance_ratio_*100).round(2)\n",
    "print(scree)\n",
    "scree_cum = scree.cumsum().round()\n",
    "print(scree_cum)\n",
    "\n",
    "x_list = range(1, len(scree)+1)\n",
    "list(x_list)"
   ]
  },
  {
   "cell_type": "code",
   "execution_count": 22,
   "id": "cc55e79e",
   "metadata": {},
   "outputs": [
    {
     "data": {
      "image/png": "[encoded data removed]",
      "text/plain": [
       "<Figure size 640x480 with 1 Axes>"
      ]
     },
     "metadata": {},
     "output_type": "display_data"
    }
   ],
   "source": [
    "##plot\n",
    "plt.bar(x_list, scree)\n",
    "plt.plot(x_list, scree_cum,c=\"red\",marker='o')\n",
    "plt.xlabel(\"rang de l'axe d'inertie\")\n",
    "plt.ylabel(\"pourcentage d'inertie\")\n",
    "plt.title(\"Eboulis des valeurs propres\")\n",
    "plt.show(block=False)"
   ]
  },
  {
   "cell_type": "markdown",
   "id": "b35e2fd3",
   "metadata": {},
   "source": [
    "## Components"
   ]
  },
  {
   "cell_type": "code",
   "execution_count": 23,
   "id": "23d94f16",
   "metadata": {},
   "outputs": [
    {
     "data": {
      "text/plain": [
       "array([[ 0.28572456,  0.12435415,  0.35653782,  0.42177172,  0.31939237,\n",
       "         0.25375507,  0.40335051,  0.40335051,  0.22466285,  0.22466285,\n",
       "         0.07178949],\n",
       "       [-0.33265941, -0.01335905, -0.22751719, -0.01424808,  0.3470533 ,\n",
       "        -0.19444591, -0.16418129, -0.16418129,  0.55740506,  0.55740506,\n",
       "         0.06020936],\n",
       "       [-0.21272024,  0.78193488,  0.1362551 , -0.05646587,  0.09054473,\n",
       "        -0.06825228, -0.0175108 , -0.01751081, -0.04246684, -0.04246684,\n",
       "        -0.5518127 ],\n",
       "       [ 0.33937795, -0.41047171, -0.05820606,  0.07270225, -0.18307187,\n",
       "        -0.10722608,  0.01196248,  0.01196248,  0.16922709,  0.16922709,\n",
       "        -0.77787368],\n",
       "       [-0.2683289 , -0.1745228 , -0.26459764,  0.02921782,  0.32249572,\n",
       "         0.79566157, -0.07402037, -0.07402037, -0.10642837, -0.10642837,\n",
       "        -0.23660715],\n",
       "       [-0.4881569 , -0.28991772, -0.10209309,  0.08658769,  0.30553899,\n",
       "        -0.42312642,  0.36609442,  0.36609442, -0.2222197 , -0.2222197 ,\n",
       "        -0.14327121],\n",
       "       [ 0.39243429,  0.28803128, -0.82909636,  0.0797403 ,  0.08333156,\n",
       "        -0.08125604,  0.15373774,  0.15373774, -0.04597804, -0.04597804,\n",
       "         0.06502906]])"
      ]
     },
     "execution_count": 23,
     "metadata": {},
     "output_type": "execute_result"
    }
   ],
   "source": [
    "pcs = pca.components_\n",
    "pcs"
   ]
  },
  {
   "cell_type": "code",
   "execution_count": 24,
   "id": "f7424de5",
   "metadata": {},
   "outputs": [
    {
     "data": {
      "text/html": [
       "<div>\n",
       "<style scoped>\n",
       "    .dataframe tbody tr th:only-of-type {\n",
       "        vertical-align: middle;\n",
       "    }\n",
       "\n",
       "    .dataframe tbody tr th {\n",
       "        vertical-align: top;\n",
       "    }\n",
       "\n",
       "    .dataframe thead th {\n",
       "        text-align: right;\n",
       "    }\n",
       "</style>\n",
       "<table border=\"1\" class=\"dataframe\">\n",
       "  <thead>\n",
       "    <tr style=\"text-align: right;\">\n",
       "      <th></th>\n",
       "      <th>Numberofbuildings</th>\n",
       "      <th>Numberoffloors</th>\n",
       "      <th>Propertygfatotal</th>\n",
       "      <th>Siteenergyuse(Kbtu)</th>\n",
       "      <th>Siteenergyusewn(Kbtu)</th>\n",
       "      <th>Steamuse(Kbtu)</th>\n",
       "      <th>Electricity(Kwh)</th>\n",
       "      <th>Electricity(Kbtu)</th>\n",
       "      <th>Naturalgas(Therms)</th>\n",
       "      <th>Naturalgas(Kbtu)</th>\n",
       "      <th>Non_residential</th>\n",
       "    </tr>\n",
       "  </thead>\n",
       "  <tbody>\n",
       "    <tr>\n",
       "      <th>F1</th>\n",
       "      <td>0.29</td>\n",
       "      <td>0.12</td>\n",
       "      <td>0.36</td>\n",
       "      <td>0.42</td>\n",
       "      <td>0.32</td>\n",
       "      <td>0.25</td>\n",
       "      <td>0.40</td>\n",
       "      <td>0.40</td>\n",
       "      <td>0.22</td>\n",
       "      <td>0.22</td>\n",
       "      <td>0.07</td>\n",
       "    </tr>\n",
       "    <tr>\n",
       "      <th>F2</th>\n",
       "      <td>-0.33</td>\n",
       "      <td>-0.01</td>\n",
       "      <td>-0.23</td>\n",
       "      <td>-0.01</td>\n",
       "      <td>0.35</td>\n",
       "      <td>-0.19</td>\n",
       "      <td>-0.16</td>\n",
       "      <td>-0.16</td>\n",
       "      <td>0.56</td>\n",
       "      <td>0.56</td>\n",
       "      <td>0.06</td>\n",
       "    </tr>\n",
       "    <tr>\n",
       "      <th>F3</th>\n",
       "      <td>-0.21</td>\n",
       "      <td>0.78</td>\n",
       "      <td>0.14</td>\n",
       "      <td>-0.06</td>\n",
       "      <td>0.09</td>\n",
       "      <td>-0.07</td>\n",
       "      <td>-0.02</td>\n",
       "      <td>-0.02</td>\n",
       "      <td>-0.04</td>\n",
       "      <td>-0.04</td>\n",
       "      <td>-0.55</td>\n",
       "    </tr>\n",
       "    <tr>\n",
       "      <th>F4</th>\n",
       "      <td>0.34</td>\n",
       "      <td>-0.41</td>\n",
       "      <td>-0.06</td>\n",
       "      <td>0.07</td>\n",
       "      <td>-0.18</td>\n",
       "      <td>-0.11</td>\n",
       "      <td>0.01</td>\n",
       "      <td>0.01</td>\n",
       "      <td>0.17</td>\n",
       "      <td>0.17</td>\n",
       "      <td>-0.78</td>\n",
       "    </tr>\n",
       "    <tr>\n",
       "      <th>F5</th>\n",
       "      <td>-0.27</td>\n",
       "      <td>-0.17</td>\n",
       "      <td>-0.26</td>\n",
       "      <td>0.03</td>\n",
       "      <td>0.32</td>\n",
       "      <td>0.80</td>\n",
       "      <td>-0.07</td>\n",
       "      <td>-0.07</td>\n",
       "      <td>-0.11</td>\n",
       "      <td>-0.11</td>\n",
       "      <td>-0.24</td>\n",
       "    </tr>\n",
       "    <tr>\n",
       "      <th>F6</th>\n",
       "      <td>-0.49</td>\n",
       "      <td>-0.29</td>\n",
       "      <td>-0.10</td>\n",
       "      <td>0.09</td>\n",
       "      <td>0.31</td>\n",
       "      <td>-0.42</td>\n",
       "      <td>0.37</td>\n",
       "      <td>0.37</td>\n",
       "      <td>-0.22</td>\n",
       "      <td>-0.22</td>\n",
       "      <td>-0.14</td>\n",
       "    </tr>\n",
       "    <tr>\n",
       "      <th>F7</th>\n",
       "      <td>0.39</td>\n",
       "      <td>0.29</td>\n",
       "      <td>-0.83</td>\n",
       "      <td>0.08</td>\n",
       "      <td>0.08</td>\n",
       "      <td>-0.08</td>\n",
       "      <td>0.15</td>\n",
       "      <td>0.15</td>\n",
       "      <td>-0.05</td>\n",
       "      <td>-0.05</td>\n",
       "      <td>0.07</td>\n",
       "    </tr>\n",
       "  </tbody>\n",
       "</table>\n",
       "</div>"
      ],
      "text/plain": [
       "    Numberofbuildings  Numberoffloors  Propertygfatotal  Siteenergyuse(Kbtu)  \\\n",
       "F1               0.29            0.12              0.36                 0.42   \n",
       "F2              -0.33           -0.01             -0.23                -0.01   \n",
       "F3              -0.21            0.78              0.14                -0.06   \n",
       "F4               0.34           -0.41             -0.06                 0.07   \n",
       "F5              -0.27           -0.17             -0.26                 0.03   \n",
       "F6              -0.49           -0.29             -0.10                 0.09   \n",
       "F7               0.39            0.29             -0.83                 0.08   \n",
       "\n",
       "    Siteenergyusewn(Kbtu)  Steamuse(Kbtu)  Electricity(Kwh)  \\\n",
       "F1                   0.32            0.25              0.40   \n",
       "F2                   0.35           -0.19             -0.16   \n",
       "F3                   0.09           -0.07             -0.02   \n",
       "F4                  -0.18           -0.11              0.01   \n",
       "F5                   0.32            0.80             -0.07   \n",
       "F6                   0.31           -0.42              0.37   \n",
       "F7                   0.08           -0.08              0.15   \n",
       "\n",
       "    Electricity(Kbtu)  Naturalgas(Therms)  Naturalgas(Kbtu)  Non_residential  \n",
       "F1               0.40                0.22              0.22             0.07  \n",
       "F2              -0.16                0.56              0.56             0.06  \n",
       "F3              -0.02               -0.04             -0.04            -0.55  \n",
       "F4               0.01                0.17              0.17            -0.78  \n",
       "F5              -0.07               -0.11             -0.11            -0.24  \n",
       "F6               0.37               -0.22             -0.22            -0.14  \n",
       "F7               0.15               -0.05             -0.05             0.07  "
      ]
     },
     "execution_count": 24,
     "metadata": {},
     "output_type": "execute_result"
    }
   ],
   "source": [
    "##Pandas version\n",
    "pcs = pd.DataFrame(pcs)\n",
    "#pcs\n",
    "##Features labels on cols\n",
    "pcs.columns = features[:]\n",
    "pcs.index = [f\"F{i}\" for i in x_list]\n",
    "pcs.round(2)"
   ]
  },
  {
   "cell_type": "markdown",
   "id": "39828311",
   "metadata": {},
   "source": []
  },
  {
   "cell_type": "markdown",
   "id": "0b5198ad",
   "metadata": {},
   "source": [
    "## Correlation graph"
   ]
  },
  {
   "cell_type": "code",
   "execution_count": 25,
   "id": "5f35edb6",
   "metadata": {},
   "outputs": [
    {
     "data": {
      "image/png": "[encoded data removed]",
      "text/plain": [
       "<Figure size 1000x900 with 1 Axes>"
      ]
     },
     "metadata": {},
     "output_type": "display_data"
    }
   ],
   "source": [
    "##Define graph axis\n",
    "x_y = (0,1)\n",
    "correlation_graph(pca, x_y, features)"
   ]
  },
  {
   "cell_type": "code",
   "execution_count": 26,
   "id": "d06dee4c",
   "metadata": {},
   "outputs": [
    {
     "data": {
      "image/png": "[encoded data removed]",
      "text/plain": [
       "<Figure size 1000x900 with 1 Axes>"
      ]
     },
     "metadata": {},
     "output_type": "display_data"
    }
   ],
   "source": [
    "##Exploring F2 and F3\n",
    "correlation_graph(pca, (1,2), features)"
   ]
  },
  {
   "cell_type": "code",
   "execution_count": 27,
   "id": "f39085b0",
   "metadata": {},
   "outputs": [
    {
     "data": {
      "image/png": "[encoded data removed]",
      "text/plain": [
       "<Figure size 1000x900 with 1 Axes>"
      ]
     },
     "metadata": {},
     "output_type": "display_data"
    }
   ],
   "source": [
    "##Exploring F2 and F3\n",
    "correlation_graph(pca, (2,3), features)"
   ]
  },
  {
   "cell_type": "markdown",
   "id": "4c6713c8",
   "metadata": {},
   "source": [
    "Consommation et emission strongly correlated entre elles\n",
    "Elec et gaz liquide anti-correlated\n",
    "Vapeur (energies fossiles et emisison aussi)"
   ]
  },
  {
   "cell_type": "markdown",
   "id": "5b8a165c",
   "metadata": {},
   "source": [
    "## Projection"
   ]
  },
  {
   "cell_type": "code",
   "execution_count": 24,
   "id": "297a47fc",
   "metadata": {},
   "outputs": [
    {
     "data": {
      "image/png": "[encoded data removed]",
      "text/plain": [
       "<Figure size 1000x800 with 1 Axes>"
      ]
     },
     "metadata": {},
     "output_type": "display_data"
    }
   ],
   "source": [
    "X_proj = pca.transform(X_scaled)\n",
    "X_proj[:5]\n",
    "x_y = [0,1]\n",
    "display_factorial_planes(X_proj, x_y, clusters=explored_dataset['Numberoffloors'])"
   ]
  },
  {
   "cell_type": "code",
   "execution_count": 28,
   "id": "bc07bc09",
   "metadata": {},
   "outputs": [
    {
     "data": {
      "text/plain": [
       "array([12, 11, 41, 10, 18,  2,  8, 15,  6, 25,  9, 33, 28,  5, 19,  7,  3,\n",
       "        4, 24, 20, 34,  1,  0, 16, 23, 17, 36, 22, 47, 29, 14, 49, 37, 42,\n",
       "       63, 13, 21, 55, 46, 30, 56, 26, 76, 27, 31, 99, 38, 39, 32, 40])"
      ]
     },
     "execution_count": 28,
     "metadata": {},
     "output_type": "execute_result"
    }
   ],
   "source": [
    "names = explored_dataset['Numberoffloors'].unique()\n",
    "names"
   ]
  },
  {
   "cell_type": "raw",
   "id": "089baf78",
   "metadata": {},
   "source": [
    "##Elaborate\n",
    "x_y = [0,1]\n",
    "display_factorial_planes(X_proj, x_y, pca, figsize=(20,16), clusters=explored_dataset['Numberoffloors'], marker=\"o\")"
   ]
  },
  {
   "cell_type": "code",
   "execution_count": null,
   "id": "8108b4f3",
   "metadata": {},
   "outputs": [],
   "source": [
    "x_y = 1,2\n",
    "display_factorial_planes(X_proj, x_y, clusters = explored_dataset['Numberoffloors'],marker=\"o\")"
   ]
  },
  {
   "cell_type": "markdown",
   "id": "b59de6e9",
   "metadata": {},
   "source": [
    "Notre prédiction se basera sur les données structurelles des bâtiments (taille et usage des bâtiments, date de construction, situation géographique, ...)\n",
    "Variables concernees: 'OSEBuildingID', 'Address',  'Neighborhood',  'BuildingType', 'YearBuilt', 'LargestPropertyUseType' ; \n",
    "NaturalGas(kBtu): 'SteamUse(kBtu)', 'Electricity(kBtu)', 'NaturalGas(kBtu)', 'TotalGHGEmissions', 'GHGEmissionsIntensity'\n",
    "Miscellaneous: 'ComplianceStatus', 'DataYear': Whether a property has met energy benchmarking requirements for the current reporting year."
   ]
  },
  {
   "cell_type": "markdown",
   "id": "677cc2f5",
   "metadata": {},
   "source": [
    "# Regression example using sklearn & statsmodels"
   ]
  },
  {
   "cell_type": "raw",
   "id": "ce98a574",
   "metadata": {},
   "source": [
    "# Import needed packages\n",
    "import scipy.stats as st\n",
    "from sklearn import datasets, linear_model\n",
    "from sklearn.linear_model import LinearRegression\n",
    "from sklearn.metrics import mean_absolute_error, mean_squared_error, r2_score\n",
    "from sklearn import model_selection\n",
    "from sklearn import preprocessing\n",
    "from sklearn.preprocessing import StandardScaler\n",
    "#----------------------------------------------------#\n",
    "##from sklearn.model_selection import train_test_split\n",
    "# Delete former computed variables\n",
    "del Atrain, btrain, Atest, btest, A, b\n",
    "# define predicators (features) and target\n",
    "reg_cols = ['Steamuse(Kbtu)', 'Siteenergyuse(Kbtu)', 'Naturalgas(Kbtu)', 'Totalghgemissions']\n",
    "reg_cols = ['Siteenergyuse(Kbtu)', 'Siteenergyusewn(Kbtu)', 'Steamuse(Kbtu)', \n",
    "            'Electricity(Kbtu)', 'Naturalgas(Kbtu)', 'Totalghgemissions']\n",
    "# Define dataset based on choice of features \n",
    "##reduced_linear_model_dataset = explored_dataset[reg_cols]\n",
    "H = explored_dataset[reg_cols]\n",
    "# Split into train and test\n",
    "b = H.iloc[:, -1] # Total emissions\n",
    "#b = np.log(abs(b))\n",
    "A = H.iloc[:, :-1] #all other variables\n",
    "#A = np.pad(A, [(0,0), (0,1)], mode='constant', constant_values =1), A is padded later using OLS\n",
    "# Permute\n",
    "p = np.random.permutation(len(H))\n",
    "A = A.iloc[p, :]\n",
    "b = b.iloc[p]\n",
    "# Separate data\n",
    "n = int(len(H)*4/5)\n",
    "btrain = b.iloc[:n]\n",
    "Atrain = A.iloc[:n]\n",
    "btest = b.iloc[n:]\n",
    "Atest = A.iloc[n:]\n",
    "# Data normalization\n",
    "std_scale = preprocessing.StandardScaler().fit(Atrain)\n",
    "A_train_std = std_scale.transform(Atrain)\n",
    "A_test_std = std_scale.transform(Atest)\n",
    "A_train_std.mean(axis=0)\n",
    "# Multiple Linear Regression using statsmodels\n",
    "import statsmodels.api as sm\n",
    "from statsmodels.formula.api import ols\n",
    "## -------------------------------------------------------  ##\n",
    "# Fit multiple linear regression model\n",
    "Atrain=sm.add_constant(Atrain)        #Atrain padding to add constant value in the model\n",
    "OLS_model= sm.OLS(btrain,Atrain).fit() \n",
    "#OLS_model = sm.OLS(btrain, Atrain_std).fit()\n",
    "# View model summary\n",
    "print(OLS_model.summary())\n",
    "## -------------------------------------------------------  ##\n",
    "# Predict\n",
    "train_predictions = OLS_model.predict(Atrain)\n",
    "print(\"    MAE\", mean_absolute_error(btrain,train_predictions))\n",
    "print(\"    RMSE\", np.sqrt(mean_squared_error(btrain, train_predictions)))\n",
    "print(\"    R2\", r2_score(btrain, train_predictions))\n",
    "## -------------------------------------------------------  ##\n",
    "# Test: Evaluate the models against test data using MAE, RMSE and R2\n",
    "Atest=sm.add_constant(Atest)        #to add constant value in the model\n",
    "test_predictions = OLS_model.predict(Atest)\n",
    "print(\"    MAE\", mean_absolute_error(btest,test_predictions))\n",
    "print(\"    RMSE\", np.sqrt(mean_squared_error(btest, test_predictions)))\n",
    "print(\"    R2\", r2_score(btest, test_predictions))\n",
    "## -------------------------------------------------------  ##\n",
    "#create residual vs. predictor plot for 'assists'\n",
    "fig = plt.figure(figsize=(12,8))\n",
    "fig = sm.graphics.plot_regress_exog(OLS_model, 'Electricity(Kbtu)', fig=fig) \n",
    "# Residual error\n",
    "residual_values = OLS_model.resid \n",
    "sorted_residual_values = residual_values.sort_index()\n",
    "#create residual vs. predictor plot for 'rebounds'\n",
    "fig = plt.figure(figsize=(12,8))\n",
    "#fig = sm.graphics.plot_regress_exog(OLS_model, Atrain, fig=fig)\n",
    "plt.plot(test_predictions-btest, '.')\n",
    "plt.show()\n",
    "## ---------"
   ]
  },
  {
   "cell_type": "code",
   "execution_count": 30,
   "id": "35213b77",
   "metadata": {},
   "outputs": [],
   "source": [
    "import scipy.stats as st\n",
    "from sklearn import datasets, linear_model\n",
    "from sklearn.linear_model import LinearRegression\n",
    "from sklearn.metrics import mean_absolute_error, mean_squared_error, r2_score\n",
    "from sklearn.model_selection import train_test_split"
   ]
  },
  {
   "cell_type": "code",
   "execution_count": 31,
   "id": "bf1118c8",
   "metadata": {},
   "outputs": [],
   "source": [
    "#reg_cols = ['Siteenergyuse(Kbtu)', 'Siteenergyusewn(Kbtu)', 'Steamuse(Kbtu)', \n",
    " #           'Electricity(Kbtu)', 'Naturalgas(Kbtu)', 'Totalghgemissions']\n",
    "#reg_cols = ['Electricity(Kbtu)','Naturalgas(Kbtu)', 'Non_residential', 'Steamuse(Kbtu)','Totalghgemissions']\n",
    "reg_cols = ['Naturalgas(Kbtu)','Numberoffloors', 'Non_residential', \n",
    "            'Numberofbuildings', 'Totalghgemissions']"
   ]
  },
  {
   "cell_type": "code",
   "execution_count": 32,
   "id": "6c85820b",
   "metadata": {},
   "outputs": [
    {
     "data": {
      "text/html": [
       "<div>\n",
       "<style scoped>\n",
       "    .dataframe tbody tr th:only-of-type {\n",
       "        vertical-align: middle;\n",
       "    }\n",
       "\n",
       "    .dataframe tbody tr th {\n",
       "        vertical-align: top;\n",
       "    }\n",
       "\n",
       "    .dataframe thead th {\n",
       "        text-align: right;\n",
       "    }\n",
       "</style>\n",
       "<table border=\"1\" class=\"dataframe\">\n",
       "  <thead>\n",
       "    <tr style=\"text-align: right;\">\n",
       "      <th></th>\n",
       "      <th>Naturalgas(Kbtu)</th>\n",
       "      <th>Numberoffloors</th>\n",
       "      <th>Non_residential</th>\n",
       "      <th>Numberofbuildings</th>\n",
       "      <th>Totalghgemissions</th>\n",
       "    </tr>\n",
       "  </thead>\n",
       "  <tbody>\n",
       "    <tr>\n",
       "      <th>0</th>\n",
       "      <td>1276453.0</td>\n",
       "      <td>12</td>\n",
       "      <td>1</td>\n",
       "      <td>1.0</td>\n",
       "      <td>249.98</td>\n",
       "    </tr>\n",
       "    <tr>\n",
       "      <th>1</th>\n",
       "      <td>5145082.0</td>\n",
       "      <td>11</td>\n",
       "      <td>1</td>\n",
       "      <td>1.0</td>\n",
       "      <td>295.86</td>\n",
       "    </tr>\n",
       "    <tr>\n",
       "      <th>2</th>\n",
       "      <td>1493800.0</td>\n",
       "      <td>41</td>\n",
       "      <td>1</td>\n",
       "      <td>1.0</td>\n",
       "      <td>2089.28</td>\n",
       "    </tr>\n",
       "    <tr>\n",
       "      <th>3</th>\n",
       "      <td>1811213.0</td>\n",
       "      <td>10</td>\n",
       "      <td>1</td>\n",
       "      <td>1.0</td>\n",
       "      <td>286.43</td>\n",
       "    </tr>\n",
       "    <tr>\n",
       "      <th>4</th>\n",
       "      <td>8803998.0</td>\n",
       "      <td>18</td>\n",
       "      <td>1</td>\n",
       "      <td>1.0</td>\n",
       "      <td>505.01</td>\n",
       "    </tr>\n",
       "  </tbody>\n",
       "</table>\n",
       "</div>"
      ],
      "text/plain": [
       "   Naturalgas(Kbtu)  Numberoffloors  Non_residential  Numberofbuildings  \\\n",
       "0         1276453.0              12                1                1.0   \n",
       "1         5145082.0              11                1                1.0   \n",
       "2         1493800.0              41                1                1.0   \n",
       "3         1811213.0              10                1                1.0   \n",
       "4         8803998.0              18                1                1.0   \n",
       "\n",
       "   Totalghgemissions  \n",
       "0             249.98  \n",
       "1             295.86  \n",
       "2            2089.28  \n",
       "3             286.43  \n",
       "4             505.01  "
      ]
     },
     "execution_count": 32,
     "metadata": {},
     "output_type": "execute_result"
    }
   ],
   "source": [
    "H = explored_dataset[reg_cols]\n",
    "H.head()"
   ]
  },
  {
   "cell_type": "code",
   "execution_count": 33,
   "id": "18692744",
   "metadata": {},
   "outputs": [
    {
     "data": {
      "text/html": [
       "<div>\n",
       "<style scoped>\n",
       "    .dataframe tbody tr th:only-of-type {\n",
       "        vertical-align: middle;\n",
       "    }\n",
       "\n",
       "    .dataframe tbody tr th {\n",
       "        vertical-align: top;\n",
       "    }\n",
       "\n",
       "    .dataframe thead th {\n",
       "        text-align: right;\n",
       "    }\n",
       "</style>\n",
       "<table border=\"1\" class=\"dataframe\">\n",
       "  <thead>\n",
       "    <tr style=\"text-align: right;\">\n",
       "      <th></th>\n",
       "      <th>Naturalgas(Kbtu)</th>\n",
       "      <th>Numberoffloors</th>\n",
       "      <th>Non_residential</th>\n",
       "      <th>Numberofbuildings</th>\n",
       "      <th>Totalghgemissions</th>\n",
       "    </tr>\n",
       "  </thead>\n",
       "  <tbody>\n",
       "  </tbody>\n",
       "</table>\n",
       "</div>"
      ],
      "text/plain": [
       "Empty DataFrame\n",
       "Columns: [Naturalgas(Kbtu), Numberoffloors, Non_residential, Numberofbuildings, Totalghgemissions]\n",
       "Index: []"
      ]
     },
     "execution_count": 33,
     "metadata": {},
     "output_type": "execute_result"
    }
   ],
   "source": [
    "H[H['Totalghgemissions']<=0]"
   ]
  },
  {
   "cell_type": "markdown",
   "id": "73f10c0c",
   "metadata": {},
   "source": [
    "## Separate input features and target feature"
   ]
  },
  {
   "cell_type": "code",
   "execution_count": 34,
   "id": "f6984ff8",
   "metadata": {},
   "outputs": [],
   "source": [
    "#H = linear_model_dataset\n",
    "b = H.iloc[:, -1] # Total emissions\n",
    "b = np.log(abs(b))\n",
    "A = H.iloc[:, :-1] #all other variables"
   ]
  },
  {
   "cell_type": "markdown",
   "id": "f71f29b7",
   "metadata": {},
   "source": [
    "## Rescale the data"
   ]
  },
  {
   "cell_type": "code",
   "execution_count": 35,
   "id": "e1b32f29",
   "metadata": {},
   "outputs": [],
   "source": [
    "from sklearn import model_selection\n",
    "from sklearn import preprocessing\n",
    "from sklearn.preprocessing import StandardScaler\n",
    "from sklearn.preprocessing import MinMaxScaler"
   ]
  },
  {
   "cell_type": "code",
   "execution_count": 36,
   "id": "eeee2ef9",
   "metadata": {},
   "outputs": [],
   "source": [
    "scaler = MinMaxScaler(feature_range=(0,1))\n",
    "rescaledX = scaler.fit_transform(A)\n",
    "\n",
    "# Convert X back to a Pandas DataFrame, for convenience\n",
    "A = pd.DataFrame(rescaledX, index=A.index, columns=A.columns)"
   ]
  },
  {
   "cell_type": "raw",
   "id": "70eb311d",
   "metadata": {},
   "source": [
    "## Data normalization\n",
    "std_scale = preprocessing.StandardScaler().fit()\n",
    "A = std_scale.transform(A)\n",
    "A_train_std.mean(axis=0)"
   ]
  },
  {
   "cell_type": "raw",
   "id": "172f886f",
   "metadata": {},
   "source": [
    "#H = linear_model_dataset\n",
    "b = H.iloc[:, -1] # Total emissions\n",
    "b = np.log(abs(b))\n",
    "A = H.iloc[:, :-1] #all other variables\n",
    "#A = np.pad(A, [(0,0), (0,1)], mode='constant', constant_values =1)\n",
    "# Permute\n",
    "p = np.random.permutation(len(H))\n",
    "A = A.iloc[p, :]\n",
    "b = b.iloc[p]\n",
    "# Separate data\n",
    "n = int(len(H)*4/5)\n",
    "btrain = b.iloc[:n]\n",
    "Atrain = A.iloc[:n]\n",
    "btest = b.iloc[n:]\n",
    "Atest = A.iloc[n:]"
   ]
  },
  {
   "cell_type": "markdown",
   "id": "feff5de8",
   "metadata": {},
   "source": [
    "## Model Fit"
   ]
  },
  {
   "cell_type": "markdown",
   "id": "2c724942",
   "metadata": {},
   "source": [
    "### Multiple Linear Regression of Totalghgemissions (raw value)"
   ]
  },
  {
   "cell_type": "code",
   "execution_count": 37,
   "id": "6a6181f2",
   "metadata": {},
   "outputs": [],
   "source": [
    "# Permute\n",
    "p = np.random.permutation(len(H))\n",
    "A = A.iloc[p, :]\n",
    "b = b.iloc[p]\n",
    "# Separate data\n",
    "n = int(len(H)*4/5)\n",
    "btrain = b.iloc[:n]\n",
    "Atrain = A.iloc[:n]\n",
    "btest = b.iloc[n:]\n",
    "Atest = A.iloc[n:]"
   ]
  },
  {
   "cell_type": "code",
   "execution_count": 38,
   "id": "18efc4b9",
   "metadata": {},
   "outputs": [],
   "source": [
    "# import needed packages\n",
    "import statsmodels.api as sm\n",
    "from statsmodels.formula.api import ols\n",
    "## --------------------------------------------- ##"
   ]
  },
  {
   "cell_type": "code",
   "execution_count": 39,
   "id": "47373ede",
   "metadata": {},
   "outputs": [
    {
     "name": "stdout",
     "output_type": "stream",
     "text": [
      "                            OLS Regression Results                            \n",
      "==============================================================================\n",
      "Dep. Variable:      Totalghgemissions   R-squared:                       0.338\n",
      "Model:                            OLS   Adj. R-squared:                  0.337\n",
      "Method:                 Least Squares   F-statistic:                     342.1\n",
      "Date:                Sun, 12 Feb 2023   Prob (F-statistic):          4.02e-238\n",
      "Time:                        19:55:17   Log-Likelihood:                -4350.5\n",
      "No. Observations:                2684   AIC:                             8711.\n",
      "Df Residuals:                    2679   BIC:                             8741.\n",
      "Df Model:                           4                                         \n",
      "Covariance Type:            nonrobust                                         \n",
      "=====================================================================================\n",
      "                        coef    std err          t      P>|t|      [0.025      0.975]\n",
      "-------------------------------------------------------------------------------------\n",
      "const                 2.4904      0.042     59.078      0.000       2.408       2.573\n",
      "Naturalgas(Kbtu)     38.5165      1.612     23.893      0.000      35.356      41.677\n",
      "Numberoffloors        7.3876      0.428     17.268      0.000       6.549       8.226\n",
      "Non_residential       0.8425      0.048     17.563      0.000       0.748       0.937\n",
      "Numberofbuildings     6.2160      1.127      5.513      0.000       4.005       8.427\n",
      "==============================================================================\n",
      "Omnibus:                      701.681   Durbin-Watson:                   2.018\n",
      "Prob(Omnibus):                  0.000   Jarque-Bera (JB):             5942.870\n",
      "Skew:                          -0.994   Prob(JB):                         0.00\n",
      "Kurtosis:                      10.013   Cond. No.                         78.6\n",
      "==============================================================================\n",
      "\n",
      "Notes:\n",
      "[1] Standard Errors assume that the covariance matrix of the errors is correctly specified.\n"
     ]
    }
   ],
   "source": [
    "#fit multiple linear regression model\n",
    "Atrain=sm.add_constant(Atrain)        #to add constant value in the model\n",
    "OLS_model= sm.OLS(btrain, Atrain).fit() \n",
    "#OLS_model = sm.OLS(btrain, Atrain).fit()\n",
    "#view model summary\n",
    "print(OLS_model.summary())\n",
    "## --------------------------------------------- ##"
   ]
  },
  {
   "cell_type": "code",
   "execution_count": 40,
   "id": "91983dd9",
   "metadata": {},
   "outputs": [
    {
     "name": "stdout",
     "output_type": "stream",
     "text": [
      "    MAE 0.97342353183295\n",
      "    RMSE 1.223815892591982\n",
      "    R2 0.33810412649553934\n"
     ]
    }
   ],
   "source": [
    "from sklearn.metrics import mean_absolute_error, mean_squared_error, r2_score\n",
    "\n",
    "train_predictions = OLS_model.predict(Atrain)\n",
    "print(\"    MAE\", mean_absolute_error(btrain, train_predictions))\n",
    "print(\"    RMSE\", np.sqrt(mean_squared_error(btrain, train_predictions)))\n",
    "print(\"    R2\", r2_score(btrain, train_predictions))\n",
    "## --------------------------------------------- ##"
   ]
  },
  {
   "cell_type": "code",
   "execution_count": 45,
   "id": "77a71c01",
   "metadata": {},
   "outputs": [
    {
     "name": "stdout",
     "output_type": "stream",
     "text": [
      "    MAE 0.9825112919249512\n",
      "    RMSE 1.6773055481628696\n",
      "    R2 -0.2180834900227313\n"
     ]
    }
   ],
   "source": [
    "# Evaluation of the models against test data using MAE, RMSE and R2\n",
    "Atest=sm.add_constant(Atest)        #to add constant value in the model\n",
    "test_predictions = OLS_model.predict(Atest)\n",
    "print(\"    MAE\", mean_absolute_error(btest, test_predictions))\n",
    "print(\"    RMSE\", np.sqrt(mean_squared_error(btest, test_predictions)))\n",
    "print(\"    R2\", r2_score(btest, test_predictions))"
   ]
  },
  {
   "cell_type": "markdown",
   "id": "54ddd0f6",
   "metadata": {},
   "source": [
    "_________________ Model overfit!____________________________"
   ]
  },
  {
   "cell_type": "code",
   "execution_count": 41,
   "id": "b0d24784",
   "metadata": {},
   "outputs": [
    {
     "data": {
      "image/png": "[encoded data removed]",
      "text/plain": [
       "<Figure size 800x600 with 1 Axes>"
      ]
     },
     "metadata": {},
     "output_type": "display_data"
    }
   ],
   "source": [
    "residual_values = OLS_model.resid \n",
    "sorted_residual_values = residual_values.sort_index()\n",
    "#create residual vs. predictor plot for 'rebounds'\n",
    "fig = plt.figure(figsize=(8,6))\n",
    "#fig = sm.graphics.plot_regress_exog(OLS_model, Atrain, fig=fig)\n",
    "plt.plot(sorted_residual_values, 'b.', label = 'OLS_model.resid')\n",
    "#plt.plot(train_predictions-btrain, 'r.', label = 'manual_computational')\n",
    "\n",
    "plt.legend(title ='Residual error computation')\n",
    "plt.title('Train set error')\n",
    "#plt.xlim(2000, 3500)\n",
    "plt.show()\n",
    "## --------------------------------------------- ##\n",
    "#sorted_residual_values"
   ]
  },
  {
   "cell_type": "code",
   "execution_count": 42,
   "id": "e5602d78",
   "metadata": {},
   "outputs": [
    {
     "data": {
      "text/plain": [
       "<AxesSubplot: >"
      ]
     },
     "execution_count": 42,
     "metadata": {},
     "output_type": "execute_result"
    },
    {
     "data": {
      "image/png": "[encoded data removed]",
      "text/plain": [
       "<Figure size 640x480 with 1 Axes>"
      ]
     },
     "metadata": {},
     "output_type": "display_data"
    }
   ],
   "source": [
    "sorted_residual_values.hist(bins = 30)"
   ]
  },
  {
   "cell_type": "code",
   "execution_count": 43,
   "id": "68c3f5a4",
   "metadata": {},
   "outputs": [
    {
     "data": {
      "text/html": [
       "<div>\n",
       "<style scoped>\n",
       "    .dataframe tbody tr th:only-of-type {\n",
       "        vertical-align: middle;\n",
       "    }\n",
       "\n",
       "    .dataframe tbody tr th {\n",
       "        vertical-align: top;\n",
       "    }\n",
       "\n",
       "    .dataframe thead th {\n",
       "        text-align: right;\n",
       "    }\n",
       "</style>\n",
       "<table border=\"1\" class=\"dataframe\">\n",
       "  <thead>\n",
       "    <tr style=\"text-align: right;\">\n",
       "      <th></th>\n",
       "      <th>const</th>\n",
       "      <th>Naturalgas(Kbtu)</th>\n",
       "      <th>Numberoffloors</th>\n",
       "      <th>Non_residential</th>\n",
       "      <th>Numberofbuildings</th>\n",
       "    </tr>\n",
       "  </thead>\n",
       "  <tbody>\n",
       "    <tr>\n",
       "      <th>2332</th>\n",
       "      <td>1.0</td>\n",
       "      <td>0.000000e+00</td>\n",
       "      <td>0.010101</td>\n",
       "      <td>1.0</td>\n",
       "      <td>0.009009</td>\n",
       "    </tr>\n",
       "    <tr>\n",
       "      <th>1458</th>\n",
       "      <td>1.0</td>\n",
       "      <td>0.000000e+00</td>\n",
       "      <td>0.010101</td>\n",
       "      <td>1.0</td>\n",
       "      <td>0.009009</td>\n",
       "    </tr>\n",
       "    <tr>\n",
       "      <th>2476</th>\n",
       "      <td>1.0</td>\n",
       "      <td>0.000000e+00</td>\n",
       "      <td>0.040404</td>\n",
       "      <td>0.0</td>\n",
       "      <td>0.009009</td>\n",
       "    </tr>\n",
       "    <tr>\n",
       "      <th>124</th>\n",
       "      <td>1.0</td>\n",
       "      <td>4.638706e-01</td>\n",
       "      <td>0.101010</td>\n",
       "      <td>1.0</td>\n",
       "      <td>0.054054</td>\n",
       "    </tr>\n",
       "    <tr>\n",
       "      <th>1658</th>\n",
       "      <td>1.0</td>\n",
       "      <td>0.000000e+00</td>\n",
       "      <td>0.020202</td>\n",
       "      <td>1.0</td>\n",
       "      <td>0.018018</td>\n",
       "    </tr>\n",
       "    <tr>\n",
       "      <th>2129</th>\n",
       "      <td>1.0</td>\n",
       "      <td>0.000000e+00</td>\n",
       "      <td>0.020202</td>\n",
       "      <td>1.0</td>\n",
       "      <td>0.009009</td>\n",
       "    </tr>\n",
       "    <tr>\n",
       "      <th>3009</th>\n",
       "      <td>1.0</td>\n",
       "      <td>2.305066e-05</td>\n",
       "      <td>0.020202</td>\n",
       "      <td>1.0</td>\n",
       "      <td>0.009009</td>\n",
       "    </tr>\n",
       "    <tr>\n",
       "      <th>1568</th>\n",
       "      <td>1.0</td>\n",
       "      <td>0.000000e+00</td>\n",
       "      <td>0.010101</td>\n",
       "      <td>1.0</td>\n",
       "      <td>0.009009</td>\n",
       "    </tr>\n",
       "    <tr>\n",
       "      <th>2205</th>\n",
       "      <td>1.0</td>\n",
       "      <td>0.000000e+00</td>\n",
       "      <td>0.010101</td>\n",
       "      <td>1.0</td>\n",
       "      <td>0.009009</td>\n",
       "    </tr>\n",
       "    <tr>\n",
       "      <th>2801</th>\n",
       "      <td>1.0</td>\n",
       "      <td>0.000000e+00</td>\n",
       "      <td>0.020202</td>\n",
       "      <td>1.0</td>\n",
       "      <td>0.009009</td>\n",
       "    </tr>\n",
       "    <tr>\n",
       "      <th>2145</th>\n",
       "      <td>1.0</td>\n",
       "      <td>0.000000e+00</td>\n",
       "      <td>0.020202</td>\n",
       "      <td>1.0</td>\n",
       "      <td>0.009009</td>\n",
       "    </tr>\n",
       "    <tr>\n",
       "      <th>3152</th>\n",
       "      <td>1.0</td>\n",
       "      <td>0.000000e+00</td>\n",
       "      <td>0.020202</td>\n",
       "      <td>1.0</td>\n",
       "      <td>0.009009</td>\n",
       "    </tr>\n",
       "    <tr>\n",
       "      <th>2916</th>\n",
       "      <td>1.0</td>\n",
       "      <td>0.000000e+00</td>\n",
       "      <td>0.010101</td>\n",
       "      <td>1.0</td>\n",
       "      <td>0.009009</td>\n",
       "    </tr>\n",
       "    <tr>\n",
       "      <th>559</th>\n",
       "      <td>1.0</td>\n",
       "      <td>1.707153e-02</td>\n",
       "      <td>0.767677</td>\n",
       "      <td>1.0</td>\n",
       "      <td>0.009009</td>\n",
       "    </tr>\n",
       "    <tr>\n",
       "      <th>1317</th>\n",
       "      <td>1.0</td>\n",
       "      <td>0.000000e+00</td>\n",
       "      <td>0.020202</td>\n",
       "      <td>1.0</td>\n",
       "      <td>0.000000</td>\n",
       "    </tr>\n",
       "    <tr>\n",
       "      <th>683</th>\n",
       "      <td>1.0</td>\n",
       "      <td>0.000000e+00</td>\n",
       "      <td>0.010101</td>\n",
       "      <td>1.0</td>\n",
       "      <td>0.009009</td>\n",
       "    </tr>\n",
       "    <tr>\n",
       "      <th>1000</th>\n",
       "      <td>1.0</td>\n",
       "      <td>0.000000e+00</td>\n",
       "      <td>0.010101</td>\n",
       "      <td>1.0</td>\n",
       "      <td>0.009009</td>\n",
       "    </tr>\n",
       "    <tr>\n",
       "      <th>1590</th>\n",
       "      <td>1.0</td>\n",
       "      <td>0.000000e+00</td>\n",
       "      <td>0.040404</td>\n",
       "      <td>1.0</td>\n",
       "      <td>0.009009</td>\n",
       "    </tr>\n",
       "    <tr>\n",
       "      <th>1641</th>\n",
       "      <td>1.0</td>\n",
       "      <td>0.000000e+00</td>\n",
       "      <td>0.010101</td>\n",
       "      <td>1.0</td>\n",
       "      <td>0.009009</td>\n",
       "    </tr>\n",
       "    <tr>\n",
       "      <th>1994</th>\n",
       "      <td>1.0</td>\n",
       "      <td>0.000000e+00</td>\n",
       "      <td>0.010101</td>\n",
       "      <td>1.0</td>\n",
       "      <td>0.009009</td>\n",
       "    </tr>\n",
       "    <tr>\n",
       "      <th>2199</th>\n",
       "      <td>1.0</td>\n",
       "      <td>7.384805e-07</td>\n",
       "      <td>0.010101</td>\n",
       "      <td>1.0</td>\n",
       "      <td>0.009009</td>\n",
       "    </tr>\n",
       "    <tr>\n",
       "      <th>3341</th>\n",
       "      <td>1.0</td>\n",
       "      <td>0.000000e+00</td>\n",
       "      <td>0.070707</td>\n",
       "      <td>0.0</td>\n",
       "      <td>0.009009</td>\n",
       "    </tr>\n",
       "    <tr>\n",
       "      <th>2189</th>\n",
       "      <td>1.0</td>\n",
       "      <td>0.000000e+00</td>\n",
       "      <td>0.030303</td>\n",
       "      <td>1.0</td>\n",
       "      <td>0.009009</td>\n",
       "    </tr>\n",
       "    <tr>\n",
       "      <th>684</th>\n",
       "      <td>1.0</td>\n",
       "      <td>0.000000e+00</td>\n",
       "      <td>0.010101</td>\n",
       "      <td>1.0</td>\n",
       "      <td>0.009009</td>\n",
       "    </tr>\n",
       "    <tr>\n",
       "      <th>1093</th>\n",
       "      <td>1.0</td>\n",
       "      <td>0.000000e+00</td>\n",
       "      <td>0.020202</td>\n",
       "      <td>1.0</td>\n",
       "      <td>0.009009</td>\n",
       "    </tr>\n",
       "    <tr>\n",
       "      <th>1497</th>\n",
       "      <td>1.0</td>\n",
       "      <td>0.000000e+00</td>\n",
       "      <td>0.020202</td>\n",
       "      <td>1.0</td>\n",
       "      <td>0.009009</td>\n",
       "    </tr>\n",
       "    <tr>\n",
       "      <th>2246</th>\n",
       "      <td>1.0</td>\n",
       "      <td>4.024383e-05</td>\n",
       "      <td>0.010101</td>\n",
       "      <td>1.0</td>\n",
       "      <td>0.009009</td>\n",
       "    </tr>\n",
       "    <tr>\n",
       "      <th>1727</th>\n",
       "      <td>1.0</td>\n",
       "      <td>0.000000e+00</td>\n",
       "      <td>0.020202</td>\n",
       "      <td>1.0</td>\n",
       "      <td>0.009009</td>\n",
       "    </tr>\n",
       "    <tr>\n",
       "      <th>1698</th>\n",
       "      <td>1.0</td>\n",
       "      <td>0.000000e+00</td>\n",
       "      <td>0.020202</td>\n",
       "      <td>1.0</td>\n",
       "      <td>0.009009</td>\n",
       "    </tr>\n",
       "    <tr>\n",
       "      <th>1341</th>\n",
       "      <td>1.0</td>\n",
       "      <td>0.000000e+00</td>\n",
       "      <td>0.040404</td>\n",
       "      <td>0.0</td>\n",
       "      <td>0.009009</td>\n",
       "    </tr>\n",
       "    <tr>\n",
       "      <th>2636</th>\n",
       "      <td>1.0</td>\n",
       "      <td>0.000000e+00</td>\n",
       "      <td>0.010101</td>\n",
       "      <td>1.0</td>\n",
       "      <td>0.009009</td>\n",
       "    </tr>\n",
       "    <tr>\n",
       "      <th>1049</th>\n",
       "      <td>1.0</td>\n",
       "      <td>0.000000e+00</td>\n",
       "      <td>0.010101</td>\n",
       "      <td>1.0</td>\n",
       "      <td>0.009009</td>\n",
       "    </tr>\n",
       "    <tr>\n",
       "      <th>974</th>\n",
       "      <td>1.0</td>\n",
       "      <td>0.000000e+00</td>\n",
       "      <td>0.050505</td>\n",
       "      <td>1.0</td>\n",
       "      <td>0.009009</td>\n",
       "    </tr>\n",
       "    <tr>\n",
       "      <th>1690</th>\n",
       "      <td>1.0</td>\n",
       "      <td>1.835171e-01</td>\n",
       "      <td>0.030303</td>\n",
       "      <td>1.0</td>\n",
       "      <td>0.009009</td>\n",
       "    </tr>\n",
       "    <tr>\n",
       "      <th>1611</th>\n",
       "      <td>1.0</td>\n",
       "      <td>0.000000e+00</td>\n",
       "      <td>0.010101</td>\n",
       "      <td>1.0</td>\n",
       "      <td>0.009009</td>\n",
       "    </tr>\n",
       "    <tr>\n",
       "      <th>1041</th>\n",
       "      <td>1.0</td>\n",
       "      <td>0.000000e+00</td>\n",
       "      <td>0.010101</td>\n",
       "      <td>1.0</td>\n",
       "      <td>0.009009</td>\n",
       "    </tr>\n",
       "    <tr>\n",
       "      <th>1359</th>\n",
       "      <td>1.0</td>\n",
       "      <td>0.000000e+00</td>\n",
       "      <td>1.000000</td>\n",
       "      <td>1.0</td>\n",
       "      <td>0.009009</td>\n",
       "    </tr>\n",
       "    <tr>\n",
       "      <th>2912</th>\n",
       "      <td>1.0</td>\n",
       "      <td>0.000000e+00</td>\n",
       "      <td>0.030303</td>\n",
       "      <td>1.0</td>\n",
       "      <td>0.009009</td>\n",
       "    </tr>\n",
       "    <tr>\n",
       "      <th>340</th>\n",
       "      <td>1.0</td>\n",
       "      <td>2.240497e-01</td>\n",
       "      <td>0.050505</td>\n",
       "      <td>1.0</td>\n",
       "      <td>0.009009</td>\n",
       "    </tr>\n",
       "    <tr>\n",
       "      <th>2182</th>\n",
       "      <td>1.0</td>\n",
       "      <td>0.000000e+00</td>\n",
       "      <td>0.010101</td>\n",
       "      <td>1.0</td>\n",
       "      <td>0.009009</td>\n",
       "    </tr>\n",
       "    <tr>\n",
       "      <th>1888</th>\n",
       "      <td>1.0</td>\n",
       "      <td>0.000000e+00</td>\n",
       "      <td>0.030303</td>\n",
       "      <td>0.0</td>\n",
       "      <td>0.009009</td>\n",
       "    </tr>\n",
       "    <tr>\n",
       "      <th>1263</th>\n",
       "      <td>1.0</td>\n",
       "      <td>0.000000e+00</td>\n",
       "      <td>0.010101</td>\n",
       "      <td>1.0</td>\n",
       "      <td>0.009009</td>\n",
       "    </tr>\n",
       "    <tr>\n",
       "      <th>2926</th>\n",
       "      <td>1.0</td>\n",
       "      <td>0.000000e+00</td>\n",
       "      <td>0.010101</td>\n",
       "      <td>1.0</td>\n",
       "      <td>0.009009</td>\n",
       "    </tr>\n",
       "    <tr>\n",
       "      <th>1027</th>\n",
       "      <td>1.0</td>\n",
       "      <td>0.000000e+00</td>\n",
       "      <td>0.020202</td>\n",
       "      <td>1.0</td>\n",
       "      <td>0.009009</td>\n",
       "    </tr>\n",
       "    <tr>\n",
       "      <th>1734</th>\n",
       "      <td>1.0</td>\n",
       "      <td>2.755539e-05</td>\n",
       "      <td>0.010101</td>\n",
       "      <td>1.0</td>\n",
       "      <td>0.009009</td>\n",
       "    </tr>\n",
       "    <tr>\n",
       "      <th>1229</th>\n",
       "      <td>1.0</td>\n",
       "      <td>0.000000e+00</td>\n",
       "      <td>0.030303</td>\n",
       "      <td>1.0</td>\n",
       "      <td>0.009009</td>\n",
       "    </tr>\n",
       "    <tr>\n",
       "      <th>2105</th>\n",
       "      <td>1.0</td>\n",
       "      <td>0.000000e+00</td>\n",
       "      <td>0.010101</td>\n",
       "      <td>1.0</td>\n",
       "      <td>0.009009</td>\n",
       "    </tr>\n",
       "    <tr>\n",
       "      <th>1672</th>\n",
       "      <td>1.0</td>\n",
       "      <td>1.883012e-01</td>\n",
       "      <td>0.010101</td>\n",
       "      <td>1.0</td>\n",
       "      <td>0.072072</td>\n",
       "    </tr>\n",
       "    <tr>\n",
       "      <th>595</th>\n",
       "      <td>1.0</td>\n",
       "      <td>0.000000e+00</td>\n",
       "      <td>0.010101</td>\n",
       "      <td>1.0</td>\n",
       "      <td>0.009009</td>\n",
       "    </tr>\n",
       "    <tr>\n",
       "      <th>1132</th>\n",
       "      <td>1.0</td>\n",
       "      <td>0.000000e+00</td>\n",
       "      <td>0.010101</td>\n",
       "      <td>1.0</td>\n",
       "      <td>0.009009</td>\n",
       "    </tr>\n",
       "    <tr>\n",
       "      <th>384</th>\n",
       "      <td>1.0</td>\n",
       "      <td>0.000000e+00</td>\n",
       "      <td>0.020202</td>\n",
       "      <td>1.0</td>\n",
       "      <td>0.009009</td>\n",
       "    </tr>\n",
       "    <tr>\n",
       "      <th>1762</th>\n",
       "      <td>1.0</td>\n",
       "      <td>0.000000e+00</td>\n",
       "      <td>0.030303</td>\n",
       "      <td>1.0</td>\n",
       "      <td>0.009009</td>\n",
       "    </tr>\n",
       "    <tr>\n",
       "      <th>167</th>\n",
       "      <td>1.0</td>\n",
       "      <td>2.842079e-01</td>\n",
       "      <td>0.050505</td>\n",
       "      <td>1.0</td>\n",
       "      <td>0.054054</td>\n",
       "    </tr>\n",
       "    <tr>\n",
       "      <th>1577</th>\n",
       "      <td>1.0</td>\n",
       "      <td>0.000000e+00</td>\n",
       "      <td>0.030303</td>\n",
       "      <td>1.0</td>\n",
       "      <td>0.009009</td>\n",
       "    </tr>\n",
       "    <tr>\n",
       "      <th>2447</th>\n",
       "      <td>1.0</td>\n",
       "      <td>0.000000e+00</td>\n",
       "      <td>0.020202</td>\n",
       "      <td>1.0</td>\n",
       "      <td>0.009009</td>\n",
       "    </tr>\n",
       "  </tbody>\n",
       "</table>\n",
       "</div>"
      ],
      "text/plain": [
       "      const  Naturalgas(Kbtu)  Numberoffloors  Non_residential  \\\n",
       "2332    1.0      0.000000e+00        0.010101              1.0   \n",
       "1458    1.0      0.000000e+00        0.010101              1.0   \n",
       "2476    1.0      0.000000e+00        0.040404              0.0   \n",
       "124     1.0      4.638706e-01        0.101010              1.0   \n",
       "1658    1.0      0.000000e+00        0.020202              1.0   \n",
       "2129    1.0      0.000000e+00        0.020202              1.0   \n",
       "3009    1.0      2.305066e-05        0.020202              1.0   \n",
       "1568    1.0      0.000000e+00        0.010101              1.0   \n",
       "2205    1.0      0.000000e+00        0.010101              1.0   \n",
       "2801    1.0      0.000000e+00        0.020202              1.0   \n",
       "2145    1.0      0.000000e+00        0.020202              1.0   \n",
       "3152    1.0      0.000000e+00        0.020202              1.0   \n",
       "2916    1.0      0.000000e+00        0.010101              1.0   \n",
       "559     1.0      1.707153e-02        0.767677              1.0   \n",
       "1317    1.0      0.000000e+00        0.020202              1.0   \n",
       "683     1.0      0.000000e+00        0.010101              1.0   \n",
       "1000    1.0      0.000000e+00        0.010101              1.0   \n",
       "1590    1.0      0.000000e+00        0.040404              1.0   \n",
       "1641    1.0      0.000000e+00        0.010101              1.0   \n",
       "1994    1.0      0.000000e+00        0.010101              1.0   \n",
       "2199    1.0      7.384805e-07        0.010101              1.0   \n",
       "3341    1.0      0.000000e+00        0.070707              0.0   \n",
       "2189    1.0      0.000000e+00        0.030303              1.0   \n",
       "684     1.0      0.000000e+00        0.010101              1.0   \n",
       "1093    1.0      0.000000e+00        0.020202              1.0   \n",
       "1497    1.0      0.000000e+00        0.020202              1.0   \n",
       "2246    1.0      4.024383e-05        0.010101              1.0   \n",
       "1727    1.0      0.000000e+00        0.020202              1.0   \n",
       "1698    1.0      0.000000e+00        0.020202              1.0   \n",
       "1341    1.0      0.000000e+00        0.040404              0.0   \n",
       "2636    1.0      0.000000e+00        0.010101              1.0   \n",
       "1049    1.0      0.000000e+00        0.010101              1.0   \n",
       "974     1.0      0.000000e+00        0.050505              1.0   \n",
       "1690    1.0      1.835171e-01        0.030303              1.0   \n",
       "1611    1.0      0.000000e+00        0.010101              1.0   \n",
       "1041    1.0      0.000000e+00        0.010101              1.0   \n",
       "1359    1.0      0.000000e+00        1.000000              1.0   \n",
       "2912    1.0      0.000000e+00        0.030303              1.0   \n",
       "340     1.0      2.240497e-01        0.050505              1.0   \n",
       "2182    1.0      0.000000e+00        0.010101              1.0   \n",
       "1888    1.0      0.000000e+00        0.030303              0.0   \n",
       "1263    1.0      0.000000e+00        0.010101              1.0   \n",
       "2926    1.0      0.000000e+00        0.010101              1.0   \n",
       "1027    1.0      0.000000e+00        0.020202              1.0   \n",
       "1734    1.0      2.755539e-05        0.010101              1.0   \n",
       "1229    1.0      0.000000e+00        0.030303              1.0   \n",
       "2105    1.0      0.000000e+00        0.010101              1.0   \n",
       "1672    1.0      1.883012e-01        0.010101              1.0   \n",
       "595     1.0      0.000000e+00        0.010101              1.0   \n",
       "1132    1.0      0.000000e+00        0.010101              1.0   \n",
       "384     1.0      0.000000e+00        0.020202              1.0   \n",
       "1762    1.0      0.000000e+00        0.030303              1.0   \n",
       "167     1.0      2.842079e-01        0.050505              1.0   \n",
       "1577    1.0      0.000000e+00        0.030303              1.0   \n",
       "2447    1.0      0.000000e+00        0.020202              1.0   \n",
       "\n",
       "      Numberofbuildings  \n",
       "2332           0.009009  \n",
       "1458           0.009009  \n",
       "2476           0.009009  \n",
       "124            0.054054  \n",
       "1658           0.018018  \n",
       "2129           0.009009  \n",
       "3009           0.009009  \n",
       "1568           0.009009  \n",
       "2205           0.009009  \n",
       "2801           0.009009  \n",
       "2145           0.009009  \n",
       "3152           0.009009  \n",
       "2916           0.009009  \n",
       "559            0.009009  \n",
       "1317           0.000000  \n",
       "683            0.009009  \n",
       "1000           0.009009  \n",
       "1590           0.009009  \n",
       "1641           0.009009  \n",
       "1994           0.009009  \n",
       "2199           0.009009  \n",
       "3341           0.009009  \n",
       "2189           0.009009  \n",
       "684            0.009009  \n",
       "1093           0.009009  \n",
       "1497           0.009009  \n",
       "2246           0.009009  \n",
       "1727           0.009009  \n",
       "1698           0.009009  \n",
       "1341           0.009009  \n",
       "2636           0.009009  \n",
       "1049           0.009009  \n",
       "974            0.009009  \n",
       "1690           0.009009  \n",
       "1611           0.009009  \n",
       "1041           0.009009  \n",
       "1359           0.009009  \n",
       "2912           0.009009  \n",
       "340            0.009009  \n",
       "2182           0.009009  \n",
       "1888           0.009009  \n",
       "1263           0.009009  \n",
       "2926           0.009009  \n",
       "1027           0.009009  \n",
       "1734           0.009009  \n",
       "1229           0.009009  \n",
       "2105           0.009009  \n",
       "1672           0.072072  \n",
       "595            0.009009  \n",
       "1132           0.009009  \n",
       "384            0.009009  \n",
       "1762           0.009009  \n",
       "167            0.054054  \n",
       "1577           0.009009  \n",
       "2447           0.009009  "
      ]
     },
     "execution_count": 43,
     "metadata": {},
     "output_type": "execute_result"
    }
   ],
   "source": [
    "Atrain.loc[sorted_residual_values<-2.5]"
   ]
  },
  {
   "cell_type": "code",
   "execution_count": 44,
   "id": "5e27c013",
   "metadata": {},
   "outputs": [
    {
     "data": {
      "text/html": [
       "<div>\n",
       "<style scoped>\n",
       "    .dataframe tbody tr th:only-of-type {\n",
       "        vertical-align: middle;\n",
       "    }\n",
       "\n",
       "    .dataframe tbody tr th {\n",
       "        vertical-align: top;\n",
       "    }\n",
       "\n",
       "    .dataframe thead th {\n",
       "        text-align: right;\n",
       "    }\n",
       "</style>\n",
       "<table border=\"1\" class=\"dataframe\">\n",
       "  <thead>\n",
       "    <tr style=\"text-align: right;\">\n",
       "      <th></th>\n",
       "      <th>Naturalgas(Kbtu)</th>\n",
       "      <th>Numberoffloors</th>\n",
       "      <th>Non_residential</th>\n",
       "      <th>Numberofbuildings</th>\n",
       "      <th>Totalghgemissions</th>\n",
       "    </tr>\n",
       "  </thead>\n",
       "  <tbody>\n",
       "    <tr>\n",
       "      <th>2347</th>\n",
       "      <td>0.000000e+00</td>\n",
       "      <td>5</td>\n",
       "      <td>0</td>\n",
       "      <td>1.0</td>\n",
       "      <td>7.10</td>\n",
       "    </tr>\n",
       "    <tr>\n",
       "      <th>1469</th>\n",
       "      <td>2.294563e+06</td>\n",
       "      <td>1</td>\n",
       "      <td>1</td>\n",
       "      <td>1.0</td>\n",
       "      <td>135.81</td>\n",
       "    </tr>\n",
       "    <tr>\n",
       "      <th>2493</th>\n",
       "      <td>1.033040e+06</td>\n",
       "      <td>3</td>\n",
       "      <td>0</td>\n",
       "      <td>1.0</td>\n",
       "      <td>56.96</td>\n",
       "    </tr>\n",
       "    <tr>\n",
       "      <th>125</th>\n",
       "      <td>1.331883e+06</td>\n",
       "      <td>3</td>\n",
       "      <td>1</td>\n",
       "      <td>1.0</td>\n",
       "      <td>83.70</td>\n",
       "    </tr>\n",
       "    <tr>\n",
       "      <th>1670</th>\n",
       "      <td>3.475801e+06</td>\n",
       "      <td>1</td>\n",
       "      <td>1</td>\n",
       "      <td>5.0</td>\n",
       "      <td>184.60</td>\n",
       "    </tr>\n",
       "    <tr>\n",
       "      <th>2143</th>\n",
       "      <td>1.974870e+05</td>\n",
       "      <td>2</td>\n",
       "      <td>1</td>\n",
       "      <td>1.0</td>\n",
       "      <td>12.17</td>\n",
       "    </tr>\n",
       "    <tr>\n",
       "      <th>3027</th>\n",
       "      <td>1.981018e+06</td>\n",
       "      <td>7</td>\n",
       "      <td>0</td>\n",
       "      <td>1.0</td>\n",
       "      <td>118.45</td>\n",
       "    </tr>\n",
       "    <tr>\n",
       "      <th>1580</th>\n",
       "      <td>1.561976e+06</td>\n",
       "      <td>4</td>\n",
       "      <td>0</td>\n",
       "      <td>1.0</td>\n",
       "      <td>102.30</td>\n",
       "    </tr>\n",
       "    <tr>\n",
       "      <th>2219</th>\n",
       "      <td>0.000000e+00</td>\n",
       "      <td>6</td>\n",
       "      <td>0</td>\n",
       "      <td>1.0</td>\n",
       "      <td>6.64</td>\n",
       "    </tr>\n",
       "    <tr>\n",
       "      <th>2819</th>\n",
       "      <td>1.157150e+05</td>\n",
       "      <td>4</td>\n",
       "      <td>0</td>\n",
       "      <td>1.0</td>\n",
       "      <td>8.93</td>\n",
       "    </tr>\n",
       "    <tr>\n",
       "      <th>2159</th>\n",
       "      <td>1.017846e+06</td>\n",
       "      <td>1</td>\n",
       "      <td>1</td>\n",
       "      <td>1.0</td>\n",
       "      <td>61.60</td>\n",
       "    </tr>\n",
       "    <tr>\n",
       "      <th>3170</th>\n",
       "      <td>0.000000e+00</td>\n",
       "      <td>6</td>\n",
       "      <td>0</td>\n",
       "      <td>1.0</td>\n",
       "      <td>4.64</td>\n",
       "    </tr>\n",
       "    <tr>\n",
       "      <th>2934</th>\n",
       "      <td>0.000000e+00</td>\n",
       "      <td>4</td>\n",
       "      <td>0</td>\n",
       "      <td>1.0</td>\n",
       "      <td>3.72</td>\n",
       "    </tr>\n",
       "    <tr>\n",
       "      <th>564</th>\n",
       "      <td>0.000000e+00</td>\n",
       "      <td>0</td>\n",
       "      <td>1</td>\n",
       "      <td>1.0</td>\n",
       "      <td>324.25</td>\n",
       "    </tr>\n",
       "    <tr>\n",
       "      <th>1327</th>\n",
       "      <td>3.510238e+06</td>\n",
       "      <td>6</td>\n",
       "      <td>0</td>\n",
       "      <td>1.0</td>\n",
       "      <td>193.47</td>\n",
       "    </tr>\n",
       "    <tr>\n",
       "      <th>689</th>\n",
       "      <td>3.982100e+05</td>\n",
       "      <td>2</td>\n",
       "      <td>1</td>\n",
       "      <td>1.0</td>\n",
       "      <td>21.93</td>\n",
       "    </tr>\n",
       "    <tr>\n",
       "      <th>1009</th>\n",
       "      <td>0.000000e+00</td>\n",
       "      <td>5</td>\n",
       "      <td>0</td>\n",
       "      <td>1.0</td>\n",
       "      <td>15.68</td>\n",
       "    </tr>\n",
       "    <tr>\n",
       "      <th>1602</th>\n",
       "      <td>0.000000e+00</td>\n",
       "      <td>3</td>\n",
       "      <td>0</td>\n",
       "      <td>1.0</td>\n",
       "      <td>14.83</td>\n",
       "    </tr>\n",
       "    <tr>\n",
       "      <th>1653</th>\n",
       "      <td>6.577320e+05</td>\n",
       "      <td>2</td>\n",
       "      <td>1</td>\n",
       "      <td>1.0</td>\n",
       "      <td>44.28</td>\n",
       "    </tr>\n",
       "    <tr>\n",
       "      <th>2008</th>\n",
       "      <td>1.035448e+06</td>\n",
       "      <td>1</td>\n",
       "      <td>1</td>\n",
       "      <td>1.0</td>\n",
       "      <td>59.00</td>\n",
       "    </tr>\n",
       "    <tr>\n",
       "      <th>2213</th>\n",
       "      <td>0.000000e+00</td>\n",
       "      <td>6</td>\n",
       "      <td>0</td>\n",
       "      <td>1.0</td>\n",
       "      <td>4.74</td>\n",
       "    </tr>\n",
       "    <tr>\n",
       "      <th>3361</th>\n",
       "      <td>5.037650e+05</td>\n",
       "      <td>1</td>\n",
       "      <td>1</td>\n",
       "      <td>1.0</td>\n",
       "      <td>29.18</td>\n",
       "    </tr>\n",
       "    <tr>\n",
       "      <th>2203</th>\n",
       "      <td>0.000000e+00</td>\n",
       "      <td>4</td>\n",
       "      <td>0</td>\n",
       "      <td>1.0</td>\n",
       "      <td>4.49</td>\n",
       "    </tr>\n",
       "    <tr>\n",
       "      <th>690</th>\n",
       "      <td>6.575700e+05</td>\n",
       "      <td>6</td>\n",
       "      <td>0</td>\n",
       "      <td>1.0</td>\n",
       "      <td>62.46</td>\n",
       "    </tr>\n",
       "    <tr>\n",
       "      <th>1102</th>\n",
       "      <td>0.000000e+00</td>\n",
       "      <td>3</td>\n",
       "      <td>0</td>\n",
       "      <td>1.0</td>\n",
       "      <td>8.97</td>\n",
       "    </tr>\n",
       "    <tr>\n",
       "      <th>1508</th>\n",
       "      <td>3.626753e+06</td>\n",
       "      <td>2</td>\n",
       "      <td>1</td>\n",
       "      <td>1.0</td>\n",
       "      <td>215.56</td>\n",
       "    </tr>\n",
       "    <tr>\n",
       "      <th>2260</th>\n",
       "      <td>2.823160e+05</td>\n",
       "      <td>3</td>\n",
       "      <td>0</td>\n",
       "      <td>0.0</td>\n",
       "      <td>17.11</td>\n",
       "    </tr>\n",
       "    <tr>\n",
       "      <th>1739</th>\n",
       "      <td>1.576304e+06</td>\n",
       "      <td>4</td>\n",
       "      <td>0</td>\n",
       "      <td>1.0</td>\n",
       "      <td>85.78</td>\n",
       "    </tr>\n",
       "    <tr>\n",
       "      <th>1710</th>\n",
       "      <td>4.989300e+04</td>\n",
       "      <td>3</td>\n",
       "      <td>0</td>\n",
       "      <td>1.0</td>\n",
       "      <td>7.09</td>\n",
       "    </tr>\n",
       "    <tr>\n",
       "      <th>1351</th>\n",
       "      <td>5.638380e+05</td>\n",
       "      <td>3</td>\n",
       "      <td>1</td>\n",
       "      <td>1.0</td>\n",
       "      <td>35.96</td>\n",
       "    </tr>\n",
       "    <tr>\n",
       "      <th>2653</th>\n",
       "      <td>1.744466e+06</td>\n",
       "      <td>3</td>\n",
       "      <td>0</td>\n",
       "      <td>1.0</td>\n",
       "      <td>94.22</td>\n",
       "    </tr>\n",
       "    <tr>\n",
       "      <th>1058</th>\n",
       "      <td>9.792620e+05</td>\n",
       "      <td>2</td>\n",
       "      <td>1</td>\n",
       "      <td>1.0</td>\n",
       "      <td>67.52</td>\n",
       "    </tr>\n",
       "    <tr>\n",
       "      <th>983</th>\n",
       "      <td>1.618486e+06</td>\n",
       "      <td>3</td>\n",
       "      <td>1</td>\n",
       "      <td>1.0</td>\n",
       "      <td>89.29</td>\n",
       "    </tr>\n",
       "    <tr>\n",
       "      <th>1702</th>\n",
       "      <td>0.000000e+00</td>\n",
       "      <td>3</td>\n",
       "      <td>0</td>\n",
       "      <td>1.0</td>\n",
       "      <td>3.50</td>\n",
       "    </tr>\n",
       "    <tr>\n",
       "      <th>1623</th>\n",
       "      <td>5.982250e+05</td>\n",
       "      <td>2</td>\n",
       "      <td>1</td>\n",
       "      <td>1.0</td>\n",
       "      <td>42.87</td>\n",
       "    </tr>\n",
       "    <tr>\n",
       "      <th>1050</th>\n",
       "      <td>4.920340e+05</td>\n",
       "      <td>4</td>\n",
       "      <td>0</td>\n",
       "      <td>0.0</td>\n",
       "      <td>50.31</td>\n",
       "    </tr>\n",
       "    <tr>\n",
       "      <th>1370</th>\n",
       "      <td>1.360696e+06</td>\n",
       "      <td>3</td>\n",
       "      <td>0</td>\n",
       "      <td>1.0</td>\n",
       "      <td>77.16</td>\n",
       "    </tr>\n",
       "    <tr>\n",
       "      <th>2930</th>\n",
       "      <td>1.276078e+06</td>\n",
       "      <td>3</td>\n",
       "      <td>1</td>\n",
       "      <td>1.0</td>\n",
       "      <td>77.84</td>\n",
       "    </tr>\n",
       "    <tr>\n",
       "      <th>343</th>\n",
       "      <td>3.720090e+05</td>\n",
       "      <td>6</td>\n",
       "      <td>1</td>\n",
       "      <td>1.0</td>\n",
       "      <td>69.59</td>\n",
       "    </tr>\n",
       "    <tr>\n",
       "      <th>2196</th>\n",
       "      <td>2.265603e+06</td>\n",
       "      <td>4</td>\n",
       "      <td>1</td>\n",
       "      <td>1.0</td>\n",
       "      <td>131.69</td>\n",
       "    </tr>\n",
       "    <tr>\n",
       "      <th>1902</th>\n",
       "      <td>0.000000e+00</td>\n",
       "      <td>2</td>\n",
       "      <td>0</td>\n",
       "      <td>1.0</td>\n",
       "      <td>4.98</td>\n",
       "    </tr>\n",
       "    <tr>\n",
       "      <th>1272</th>\n",
       "      <td>4.681170e+05</td>\n",
       "      <td>1</td>\n",
       "      <td>1</td>\n",
       "      <td>1.0</td>\n",
       "      <td>73.48</td>\n",
       "    </tr>\n",
       "    <tr>\n",
       "      <th>2944</th>\n",
       "      <td>1.193854e+06</td>\n",
       "      <td>1</td>\n",
       "      <td>1</td>\n",
       "      <td>1.0</td>\n",
       "      <td>68.89</td>\n",
       "    </tr>\n",
       "    <tr>\n",
       "      <th>1036</th>\n",
       "      <td>1.712082e+06</td>\n",
       "      <td>5</td>\n",
       "      <td>0</td>\n",
       "      <td>1.0</td>\n",
       "      <td>93.83</td>\n",
       "    </tr>\n",
       "    <tr>\n",
       "      <th>1746</th>\n",
       "      <td>0.000000e+00</td>\n",
       "      <td>7</td>\n",
       "      <td>1</td>\n",
       "      <td>1.0</td>\n",
       "      <td>9.79</td>\n",
       "    </tr>\n",
       "    <tr>\n",
       "      <th>1238</th>\n",
       "      <td>1.701021e+06</td>\n",
       "      <td>5</td>\n",
       "      <td>0</td>\n",
       "      <td>1.0</td>\n",
       "      <td>94.02</td>\n",
       "    </tr>\n",
       "    <tr>\n",
       "      <th>2119</th>\n",
       "      <td>5.749330e+05</td>\n",
       "      <td>1</td>\n",
       "      <td>1</td>\n",
       "      <td>1.0</td>\n",
       "      <td>41.77</td>\n",
       "    </tr>\n",
       "    <tr>\n",
       "      <th>1684</th>\n",
       "      <td>6.192850e+05</td>\n",
       "      <td>5</td>\n",
       "      <td>0</td>\n",
       "      <td>2.0</td>\n",
       "      <td>44.60</td>\n",
       "    </tr>\n",
       "    <tr>\n",
       "      <th>601</th>\n",
       "      <td>6.851320e+05</td>\n",
       "      <td>3</td>\n",
       "      <td>1</td>\n",
       "      <td>1.0</td>\n",
       "      <td>166.13</td>\n",
       "    </tr>\n",
       "    <tr>\n",
       "      <th>1141</th>\n",
       "      <td>1.472402e+06</td>\n",
       "      <td>6</td>\n",
       "      <td>0</td>\n",
       "      <td>1.0</td>\n",
       "      <td>82.93</td>\n",
       "    </tr>\n",
       "    <tr>\n",
       "      <th>387</th>\n",
       "      <td>0.000000e+00</td>\n",
       "      <td>22</td>\n",
       "      <td>1</td>\n",
       "      <td>1.0</td>\n",
       "      <td>59.21</td>\n",
       "    </tr>\n",
       "    <tr>\n",
       "      <th>1775</th>\n",
       "      <td>5.448982e+06</td>\n",
       "      <td>25</td>\n",
       "      <td>0</td>\n",
       "      <td>1.0</td>\n",
       "      <td>351.53</td>\n",
       "    </tr>\n",
       "    <tr>\n",
       "      <th>169</th>\n",
       "      <td>1.258000e+05</td>\n",
       "      <td>3</td>\n",
       "      <td>1</td>\n",
       "      <td>1.0</td>\n",
       "      <td>9.63</td>\n",
       "    </tr>\n",
       "    <tr>\n",
       "      <th>1589</th>\n",
       "      <td>0.000000e+00</td>\n",
       "      <td>5</td>\n",
       "      <td>0</td>\n",
       "      <td>1.0</td>\n",
       "      <td>5.46</td>\n",
       "    </tr>\n",
       "    <tr>\n",
       "      <th>2462</th>\n",
       "      <td>3.980980e+05</td>\n",
       "      <td>4</td>\n",
       "      <td>0</td>\n",
       "      <td>1.0</td>\n",
       "      <td>25.44</td>\n",
       "    </tr>\n",
       "  </tbody>\n",
       "</table>\n",
       "</div>"
      ],
      "text/plain": [
       "      Naturalgas(Kbtu)  Numberoffloors  Non_residential  Numberofbuildings  \\\n",
       "2347      0.000000e+00               5                0                1.0   \n",
       "1469      2.294563e+06               1                1                1.0   \n",
       "2493      1.033040e+06               3                0                1.0   \n",
       "125       1.331883e+06               3                1                1.0   \n",
       "1670      3.475801e+06               1                1                5.0   \n",
       "2143      1.974870e+05               2                1                1.0   \n",
       "3027      1.981018e+06               7                0                1.0   \n",
       "1580      1.561976e+06               4                0                1.0   \n",
       "2219      0.000000e+00               6                0                1.0   \n",
       "2819      1.157150e+05               4                0                1.0   \n",
       "2159      1.017846e+06               1                1                1.0   \n",
       "3170      0.000000e+00               6                0                1.0   \n",
       "2934      0.000000e+00               4                0                1.0   \n",
       "564       0.000000e+00               0                1                1.0   \n",
       "1327      3.510238e+06               6                0                1.0   \n",
       "689       3.982100e+05               2                1                1.0   \n",
       "1009      0.000000e+00               5                0                1.0   \n",
       "1602      0.000000e+00               3                0                1.0   \n",
       "1653      6.577320e+05               2                1                1.0   \n",
       "2008      1.035448e+06               1                1                1.0   \n",
       "2213      0.000000e+00               6                0                1.0   \n",
       "3361      5.037650e+05               1                1                1.0   \n",
       "2203      0.000000e+00               4                0                1.0   \n",
       "690       6.575700e+05               6                0                1.0   \n",
       "1102      0.000000e+00               3                0                1.0   \n",
       "1508      3.626753e+06               2                1                1.0   \n",
       "2260      2.823160e+05               3                0                0.0   \n",
       "1739      1.576304e+06               4                0                1.0   \n",
       "1710      4.989300e+04               3                0                1.0   \n",
       "1351      5.638380e+05               3                1                1.0   \n",
       "2653      1.744466e+06               3                0                1.0   \n",
       "1058      9.792620e+05               2                1                1.0   \n",
       "983       1.618486e+06               3                1                1.0   \n",
       "1702      0.000000e+00               3                0                1.0   \n",
       "1623      5.982250e+05               2                1                1.0   \n",
       "1050      4.920340e+05               4                0                0.0   \n",
       "1370      1.360696e+06               3                0                1.0   \n",
       "2930      1.276078e+06               3                1                1.0   \n",
       "343       3.720090e+05               6                1                1.0   \n",
       "2196      2.265603e+06               4                1                1.0   \n",
       "1902      0.000000e+00               2                0                1.0   \n",
       "1272      4.681170e+05               1                1                1.0   \n",
       "2944      1.193854e+06               1                1                1.0   \n",
       "1036      1.712082e+06               5                0                1.0   \n",
       "1746      0.000000e+00               7                1                1.0   \n",
       "1238      1.701021e+06               5                0                1.0   \n",
       "2119      5.749330e+05               1                1                1.0   \n",
       "1684      6.192850e+05               5                0                2.0   \n",
       "601       6.851320e+05               3                1                1.0   \n",
       "1141      1.472402e+06               6                0                1.0   \n",
       "387       0.000000e+00              22                1                1.0   \n",
       "1775      5.448982e+06              25                0                1.0   \n",
       "169       1.258000e+05               3                1                1.0   \n",
       "1589      0.000000e+00               5                0                1.0   \n",
       "2462      3.980980e+05               4                0                1.0   \n",
       "\n",
       "      Totalghgemissions  \n",
       "2347               7.10  \n",
       "1469             135.81  \n",
       "2493              56.96  \n",
       "125               83.70  \n",
       "1670             184.60  \n",
       "2143              12.17  \n",
       "3027             118.45  \n",
       "1580             102.30  \n",
       "2219               6.64  \n",
       "2819               8.93  \n",
       "2159              61.60  \n",
       "3170               4.64  \n",
       "2934               3.72  \n",
       "564              324.25  \n",
       "1327             193.47  \n",
       "689               21.93  \n",
       "1009              15.68  \n",
       "1602              14.83  \n",
       "1653              44.28  \n",
       "2008              59.00  \n",
       "2213               4.74  \n",
       "3361              29.18  \n",
       "2203               4.49  \n",
       "690               62.46  \n",
       "1102               8.97  \n",
       "1508             215.56  \n",
       "2260              17.11  \n",
       "1739              85.78  \n",
       "1710               7.09  \n",
       "1351              35.96  \n",
       "2653              94.22  \n",
       "1058              67.52  \n",
       "983               89.29  \n",
       "1702               3.50  \n",
       "1623              42.87  \n",
       "1050              50.31  \n",
       "1370              77.16  \n",
       "2930              77.84  \n",
       "343               69.59  \n",
       "2196             131.69  \n",
       "1902               4.98  \n",
       "1272              73.48  \n",
       "2944              68.89  \n",
       "1036              93.83  \n",
       "1746               9.79  \n",
       "1238              94.02  \n",
       "2119              41.77  \n",
       "1684              44.60  \n",
       "601              166.13  \n",
       "1141              82.93  \n",
       "387               59.21  \n",
       "1775             351.53  \n",
       "169                9.63  \n",
       "1589               5.46  \n",
       "2462              25.44  "
      ]
     },
     "execution_count": 44,
     "metadata": {},
     "output_type": "execute_result"
    }
   ],
   "source": [
    "H.iloc[Atrain.loc[sorted_residual_values<-2.5].index]"
   ]
  },
  {
   "cell_type": "code",
   "execution_count": null,
   "id": "5491379a",
   "metadata": {},
   "outputs": [],
   "source": [
    "first_df = pd.read_csv('')"
   ]
  },
  {
   "cell_type": "code",
   "execution_count": null,
   "id": "a1c9b848",
   "metadata": {},
   "outputs": [],
   "source": [
    "# plot data points from 'Natural gas' feature for which residuals are higher than zero - points over the HP are white, points below are black \n",
    "train_resid = train_predictions-btrain \n",
    "plt.scatter(Atrain.loc[train_resid >= 0, 'Naturalgas(Kbtu)'], btrain.loc[train_resid >= 0], color='black', alpha=1.0, facecolor='white') \n",
    "plt.scatter(Atrain.loc[train_resid < 0, 'Naturalgas(Kbtu)'], btrain.loc[train_resid < 0], color='black', alpha=1.0)"
   ]
  },
  {
   "cell_type": "code",
   "execution_count": null,
   "id": "8c980b82",
   "metadata": {},
   "outputs": [],
   "source": [
    "# plot data points from 'Natural gas' feature for which residuals are higher than zero - points over the HP are white, points below are black \n",
    "test_resid = btest - OLS_model.predict(Atest) \n",
    "plt.scatter(Atest.loc[resid >= 0, 'Naturalgas(Kbtu)'], btest.loc[resid >= 0], color='black', alpha=1.0, facecolor='white') \n",
    "plt.scatter(Atest.loc[resid < 0, 'Naturalgas(Kbtu)'], btest.loc[resid < 0], color='black', alpha=1.0)"
   ]
  },
  {
   "cell_type": "code",
   "execution_count": null,
   "id": "2035a6b2",
   "metadata": {},
   "outputs": [],
   "source": [
    "resid"
   ]
  },
  {
   "cell_type": "code",
   "execution_count": null,
   "id": "27fa711d",
   "metadata": {},
   "outputs": [],
   "source": [
    "#create residual vs. predictor plot for 'Numberoffloors'\n",
    "fig = plt.figure(figsize=(12,12))\n",
    "fig = sm.graphics.plot_regress_exog(OLS_model, 'Numberoffloors', fig=fig)\n",
    "fig.tight_layout(pad=1.0)"
   ]
  },
  {
   "cell_type": "code",
   "execution_count": null,
   "id": "eb65feb3",
   "metadata": {},
   "outputs": [],
   "source": [
    "#fig = plt.figure(figsize=(12,12))\n",
    "sm.graphics.plot_ccpr_grid(OLS_model)\n",
    "#fig.tight_layout(pad=1.0)"
   ]
  },
  {
   "cell_type": "markdown",
   "id": "b798c3ac",
   "metadata": {},
   "source": [
    "### Multiple Linear Regression of Totalghgemissions (log normal)"
   ]
  },
  {
   "cell_type": "code",
   "execution_count": 46,
   "id": "8fff8b82",
   "metadata": {},
   "outputs": [],
   "source": [
    "del Atrain, btrain, Atest, btest, OLS_model"
   ]
  },
  {
   "cell_type": "code",
   "execution_count": 47,
   "id": "dff54280",
   "metadata": {},
   "outputs": [],
   "source": [
    "# Permute\n",
    "p = np.random.permutation(len(H))\n",
    "A = A.iloc[p, :]\n",
    "b = b.iloc[p]\n",
    "b = np.log(abs(b))\n",
    "# Separate data\n",
    "n = int(len(H)*4/5)\n",
    "btrain = b.iloc[:n]\n",
    "Atrain = A.iloc[:n]\n",
    "btest = b.iloc[n:]\n",
    "Atest = A.iloc[n:]"
   ]
  },
  {
   "cell_type": "code",
   "execution_count": 48,
   "id": "e6b778aa",
   "metadata": {},
   "outputs": [],
   "source": [
    "# import needed packages\n",
    "import statsmodels.api as sm\n",
    "from statsmodels.formula.api import ols\n",
    "## --------------------------------------------- ##"
   ]
  },
  {
   "cell_type": "code",
   "execution_count": 49,
   "id": "a3caa00b",
   "metadata": {},
   "outputs": [
    {
     "name": "stdout",
     "output_type": "stream",
     "text": [
      "                            OLS Regression Results                            \n",
      "==============================================================================\n",
      "Dep. Variable:      Totalghgemissions   R-squared:                       0.184\n",
      "Model:                            OLS   Adj. R-squared:                  0.183\n",
      "Method:                 Least Squares   F-statistic:                     151.3\n",
      "Date:                Sun, 12 Feb 2023   Prob (F-statistic):          8.33e-117\n",
      "Time:                        19:58:09   Log-Likelihood:                -1718.9\n",
      "No. Observations:                2684   AIC:                             3448.\n",
      "Df Residuals:                    2679   BIC:                             3477.\n",
      "Df Model:                           4                                         \n",
      "Covariance Type:            nonrobust                                         \n",
      "=====================================================================================\n",
      "                        coef    std err          t      P>|t|      [0.025      0.975]\n",
      "-------------------------------------------------------------------------------------\n",
      "const                 0.8651      0.016     54.658      0.000       0.834       0.896\n",
      "Naturalgas(Kbtu)      4.1333      0.371     11.151      0.000       3.406       4.860\n",
      "Numberoffloors        2.2190      0.159     13.928      0.000       1.907       2.531\n",
      "Non_residential       0.2836      0.018     15.831      0.000       0.248       0.319\n",
      "Numberofbuildings     1.5289      0.420      3.641      0.000       0.706       2.352\n",
      "==============================================================================\n",
      "Omnibus:                     1234.929   Durbin-Watson:                   1.965\n",
      "Prob(Omnibus):                  0.000   Jarque-Bera (JB):            10620.760\n",
      "Skew:                          -1.978   Prob(JB):                         0.00\n",
      "Kurtosis:                      11.907   Cond. No.                         54.7\n",
      "==============================================================================\n",
      "\n",
      "Notes:\n",
      "[1] Standard Errors assume that the covariance matrix of the errors is correctly specified.\n"
     ]
    }
   ],
   "source": [
    "#fit multiple linear regression model\n",
    "Atrain=sm.add_constant(Atrain)        #to add constant value in the model\n",
    "OLS_model= sm.OLS(btrain, Atrain).fit() \n",
    "#OLS_model = sm.OLS(btrain, Atrain).fit()\n",
    "#view model summary\n",
    "print(OLS_model.summary())\n",
    "## --------------------------------------------- ##"
   ]
  },
  {
   "cell_type": "code",
   "execution_count": 50,
   "id": "2eae149e",
   "metadata": {},
   "outputs": [
    {
     "name": "stdout",
     "output_type": "stream",
     "text": [
      "    MAE 0.343507571887256\n",
      "    RMSE 0.4590901721219546\n",
      "    R2 0.18425551530678774\n"
     ]
    }
   ],
   "source": [
    "from sklearn.metrics import mean_absolute_error, mean_squared_error, r2_score\n",
    "\n",
    "train_predictions = OLS_model.predict(Atrain)\n",
    "print(\"    MAE\", mean_absolute_error(btrain, train_predictions))\n",
    "print(\"    RMSE\", np.sqrt(mean_squared_error(btrain, train_predictions)))\n",
    "print(\"    R2\", r2_score(btrain, train_predictions))\n",
    "## --------------------------------------------- ##"
   ]
  },
  {
   "cell_type": "code",
   "execution_count": 51,
   "id": "db3f7339",
   "metadata": {},
   "outputs": [
    {
     "name": "stdout",
     "output_type": "stream",
     "text": [
      "    MAE 0.37411708791116816\n",
      "    RMSE 0.5298942617610197\n",
      "    R2 0.15883975641035697\n"
     ]
    }
   ],
   "source": [
    "# Evaluation of the models against test data using MAE, RMSE and R2\n",
    "Atest=sm.add_constant(Atest)        #to add constant value in the model\n",
    "test_predictions = OLS_model.predict(Atest)\n",
    "print(\"    MAE\", mean_absolute_error(btest, test_predictions))\n",
    "print(\"    RMSE\", np.sqrt(mean_squared_error(btest, test_predictions)))\n",
    "print(\"    R2\", r2_score(btest, test_predictions))"
   ]
  },
  {
   "cell_type": "code",
   "execution_count": null,
   "id": "f85afd38",
   "metadata": {},
   "outputs": [],
   "source": [
    "# plot data points - points over the HP are white, points below are black \n",
    "resid = btest - OLS_model.predict(Atest) \n",
    "#ax.scatter(X[resid >= 0].TV, X[resid >= 0].Radio, y[resid >= 0], color='black', alpha=1.0, facecolor='white') \n",
    "#ax.scatter(X[resid < 0].TV, X[resid < 0].Radio, y[resid < 0], color='black', alpha=1.0)"
   ]
  },
  {
   "cell_type": "code",
   "execution_count": null,
   "id": "a460ec8d",
   "metadata": {},
   "outputs": [],
   "source": [
    "#\n",
    "OLS_model"
   ]
  },
  {
   "cell_type": "code",
   "execution_count": null,
   "id": "691f0191",
   "metadata": {},
   "outputs": [],
   "source": [
    "residual_values = OLS_model.resid \n",
    "sorted_residual_values = residual_values.sort_index()\n",
    "#create residual vs. predictor plot for 'rebounds'\n",
    "fig = plt.figure(figsize=(8,6))\n",
    "#fig = sm.graphics.plot_regress_exog(OLS_model, Atrain, fig=fig)\n",
    "plt.plot(test_predictions-btest, '.')\n",
    "plt.show()\n",
    "## --------------------------------------------- ##\n",
    "#sorted_residual_values"
   ]
  },
  {
   "cell_type": "code",
   "execution_count": null,
   "id": "084c523d",
   "metadata": {},
   "outputs": [],
   "source": [
    "#create residual vs. predictor plot for 'assists'\n",
    "fig = plt.figure(figsize=(12,8))\n",
    "\n",
    "fig = sm.graphics.plot_regress_exog(OLS_model, 'Non_residential', fig=fig)\n",
    "fig.tight_layout(pad=1.0)"
   ]
  },
  {
   "cell_type": "markdown",
   "id": "d7904be6",
   "metadata": {},
   "source": [
    "# Linear Regression\n",
    "## LR with log-normal on Totalghgemissions, all the features"
   ]
  },
  {
   "cell_type": "markdown",
   "id": "729829e4",
   "metadata": {},
   "source": [
    "Linear regression with manual SVD, all datas"
   ]
  },
  {
   "cell_type": "markdown",
   "id": "ae2934af",
   "metadata": {},
   "source": [
    "### Choice of features"
   ]
  },
  {
   "cell_type": "code",
   "execution_count": null,
   "id": "388b1150",
   "metadata": {},
   "outputs": [],
   "source": [
    "explored_dataset.head()"
   ]
  },
  {
   "cell_type": "code",
   "execution_count": 41,
   "id": "a651ed85",
   "metadata": {},
   "outputs": [],
   "source": [
    "reg_cols = ['Siteenergyuse(Kbtu)', 'Siteenergyusewn(Kbtu)', 'Steamuse(Kbtu)', \n",
    "            'Electricity(Kbtu)', 'Naturalgas(Kbtu)', 'residential', 'Totalghgemissions']"
   ]
  },
  {
   "cell_type": "code",
   "execution_count": 42,
   "id": "d68b5ac8",
   "metadata": {},
   "outputs": [],
   "source": [
    "linear_model_dataset = explored_dataset[reg_cols]"
   ]
  },
  {
   "cell_type": "markdown",
   "id": "d1c2659f",
   "metadata": {},
   "source": [
    "### Data separation"
   ]
  },
  {
   "cell_type": "code",
   "execution_count": null,
   "id": "4b9b5e6d",
   "metadata": {},
   "outputs": [],
   "source": [
    "H = linear_model_dataset[linear_model_dataset['Totalghgemissions']>0]\n",
    "b = H.iloc[:, -1] # Total emissions\n",
    "b = np.log(abs(b))\n",
    "A = H.iloc[:, :-1] #all other variables\n",
    "A = np.pad(A, [(0,0), (0,1)], mode='constant', constant_values =1)\n",
    "# Permute\n",
    "p = np.random.permutation(len(H))\n",
    "A = A[p, :]\n",
    "b = b.iloc[p]\n",
    "# Separate data\n",
    "n = int(len(H)*4/5)\n",
    "btrain = b.iloc[:n]\n",
    "Atrain = A[:n]\n",
    "btest = b.iloc[n:]\n",
    "Atest = A[n:]"
   ]
  },
  {
   "cell_type": "code",
   "execution_count": null,
   "id": "ed10af0d",
   "metadata": {},
   "outputs": [],
   "source": [
    "train_sort_ind = np.argsort(btrain)\n",
    "test_sort_ind = np.argsort(btest)"
   ]
  },
  {
   "cell_type": "markdown",
   "id": "ea719b60",
   "metadata": {},
   "source": [
    "### Data normalization..?"
   ]
  },
  {
   "cell_type": "code",
   "execution_count": null,
   "id": "213623ad",
   "metadata": {},
   "outputs": [],
   "source": [
    "from sklearn import model_selection\n",
    "from sklearn import preprocessing\n",
    "from sklearn.preprocessing import StandardScaler\n",
    "std_scale = preprocessing.StandardScaler().fit(Atrain)\n",
    "A_train_std = std_scale.transform(Atrain)\n",
    "A_test_std = std_scale.transform(Atest)"
   ]
  },
  {
   "cell_type": "code",
   "execution_count": null,
   "id": "76e01571",
   "metadata": {
    "scrolled": true
   },
   "outputs": [],
   "source": [
    "A_train_std.mean(axis=0)"
   ]
  },
  {
   "cell_type": "markdown",
   "id": "de0efe91",
   "metadata": {},
   "source": [
    "### SVD computation"
   ]
  },
  {
   "cell_type": "code",
   "execution_count": null,
   "id": "18716221",
   "metadata": {},
   "outputs": [],
   "source": [
    "[U, S, VT] = np.linalg.svd(Atrain, full_matrices=False)\n",
    "xtilde1 = VT.T @ np.linalg.inv(np.diag(S)) @ U.T @ btrain\n",
    "#xtilde2 = np.linalg.pinv(a) * b"
   ]
  },
  {
   "cell_type": "code",
   "execution_count": null,
   "id": "fb9a605a",
   "metadata": {},
   "outputs": [],
   "source": [
    "print('Eigen values = ', S)"
   ]
  },
  {
   "cell_type": "code",
   "execution_count": null,
   "id": "eeeee9d3",
   "metadata": {},
   "outputs": [],
   "source": [
    "# -----------------------------------------------------\n",
    "# Train\n",
    "fig = plt.figure()\n",
    "ax1 = fig.add_subplot(111)\n",
    "plt.plot(np.arange(1, n+1), btrain.iloc[train_sort_ind], 'x', color ='r', markersize = 10, label ='y_emissions' )\n",
    "plt.plot(np.arange(1, n+1), Atrain[train_sort_ind]@xtilde1, '-', color = 'b', linewidth = 2 , label ='y_head_prediction')\n",
    "plt.xlabel('index')\n",
    "plt.ylabel('b_train')\n",
    "plt.title('l')\n",
    "plt.legend(title = 'train set')\n",
    "plt.show()\n",
    "# -----------------------------------------------------\n",
    "# Test\n",
    "ax2 = fig.add_subplot(122)\n",
    "plt.plot(np.arange(1, len(btest)+1), btest.iloc[test_sort_ind], 'x', color ='r', markersize = 10, label ='Noisy test data' )\n",
    "plt.plot(np.arange(1, len(btest)+1), Atest[test_sort_ind]@xtilde1, '--', color = 'b', linewidth = 2 , label ='Regression line')\n",
    "plt.xlabel('index')\n",
    "plt.ylabel('b_test')\n",
    "plt.title('')\n",
    "plt.legend(title='test set')\n",
    "plt.show()\n",
    "# -----------------------------------------------------"
   ]
  },
  {
   "cell_type": "markdown",
   "id": "9b3037ef",
   "metadata": {},
   "source": [
    "### Error measurements"
   ]
  },
  {
   "cell_type": "code",
   "execution_count": null,
   "id": "71900b5d",
   "metadata": {},
   "outputs": [],
   "source": [
    "MAE_train = sum(abs(btrain.iloc[train_sort_ind]-Atrain[train_sort_ind]@xtilde1)) /  len(btrain)\n",
    "MAE_test = sum(abs(btest.iloc[test_sort_ind]-Atest[test_sort_ind]@xtilde1)) / len(btest)\n",
    "\n",
    "print( 'Mean absolute error on the test set =', MAE_test,\n",
    "      '\\nMean absolute error on the train set =', MAE_train,\n",
    "      '\\nThe absolute error between test and train model is:', abs(MAE_test - MAE_train))"
   ]
  },
  {
   "cell_type": "markdown",
   "id": "9f55937d",
   "metadata": {},
   "source": [
    "We can see that permuting the dataset prior to constructing the model reduces the MAE difference between train and test set"
   ]
  },
  {
   "cell_type": "code",
   "execution_count": null,
   "id": "49c8a555",
   "metadata": {},
   "outputs": [],
   "source": [
    "RMSE_train = np.sqrt(sum(np.power(btrain.iloc[train_sort_ind]-Atrain[train_sort_ind]@xtilde1, 2))/len(btrain))"
   ]
  },
  {
   "cell_type": "code",
   "execution_count": null,
   "id": "ce65452f",
   "metadata": {},
   "outputs": [],
   "source": [
    "RMSLE_train = np.sqrt(sum(np.power((np.log(1+btrain.iloc[train_sort_ind] / 1+Atrain[train_sort_ind]@xtilde1)), 2)/2)/len(btrain))\n",
    "print('Root mean square error =', RMSE_train,\n",
    "     '\\n', 'Root mean square logarithmic error =',RMSLE_train )"
   ]
  },
  {
   "cell_type": "code",
   "execution_count": null,
   "id": "5d68a473",
   "metadata": {},
   "outputs": [],
   "source": [
    "RMSE_test = np.sqrt(sum(np.power(btest.iloc[test_sort_ind]-Atest[test_sort_ind]@xtilde1, 2))/len(btest))\n",
    "RMSE_test"
   ]
  },
  {
   "cell_type": "code",
   "execution_count": null,
   "id": "0fb66dcb",
   "metadata": {},
   "outputs": [],
   "source": [
    "abs(RMSE_test - RMSE_train)"
   ]
  },
  {
   "cell_type": "markdown",
   "id": "fb9a5cd6",
   "metadata": {},
   "source": [
    "On sait que la RMSE penalise les grosses erreurs sur le modele.. outliers problem?"
   ]
  },
  {
   "cell_type": "code",
   "execution_count": null,
   "id": "9b3badb9",
   "metadata": {},
   "outputs": [],
   "source": [
    "y = btrain\n",
    "y_mean = btrain.mean()\n",
    "N_samples = len(btrain)\n",
    "var_mean = sum(np.power(y - y_mean, 2))/N_samples\n",
    "var_line = np.power(RMSE_train,2)\n",
    "R2 = (var_mean - var_line)/var_mean\n",
    "## Dividing all by N: (exactly same computation)\n",
    "var_mean_bis = y.var()\n",
    "\n",
    "R2_bis = (var_mean_bis - var_line) / var_mean_bis\n",
    "print(R2, '\\n', R2_bis)"
   ]
  },
  {
   "cell_type": "code",
   "execution_count": null,
   "id": "49d5776e",
   "metadata": {},
   "outputs": [],
   "source": [
    "plt.plot(np.arange(1, len(btrain)+1), abs(Atrain[train_sort_ind]@xtilde1-btrain.iloc[train_sort_ind]), 'g-',\n",
    "         linewidth =1, label ='train set')\n",
    "#plt.plot(np.arange(1, len(btest)+1), abs(Atest[test_sort_ind]@xtilde1-btest.iloc[test_sort_ind]), 'k--',\n",
    " #        linewidth =1, label = 'test set')\n",
    "plt.legend(title='l1_error')\n",
    "plt.xlabel('row rank')\n",
    "plt.ylabel('Error_l1norm')\n",
    "plt.xticks\n",
    "plt.show()"
   ]
  },
  {
   "cell_type": "code",
   "execution_count": null,
   "id": "3fc8e3f1",
   "metadata": {},
   "outputs": [],
   "source": [
    "trainset_error_df = pd.DataFrame({'l1_error': abs(Atrain[train_sort_ind]@xtilde1-btrain.iloc[train_sort_ind]),\n",
    "                                  'l2_error': np.power(btrain.iloc[train_sort_ind]-Atrain[train_sort_ind]@xtilde1, 2),\n",
    "                                 })\n",
    "#l1_error = abs(Atrain[train_sort_ind]@xtilde1-btrain)\n",
    "\n",
    "\n",
    "# replace column name because it is the error value not the Total emission value"
   ]
  },
  {
   "cell_type": "code",
   "execution_count": null,
   "id": "a374e638",
   "metadata": {},
   "outputs": [],
   "source": [
    "trainset_error_df['l1_error_classes'] = pd.qcut(trainset_error_df['l1_error'], 10)"
   ]
  },
  {
   "cell_type": "code",
   "execution_count": null,
   "id": "f6d575ab",
   "metadata": {},
   "outputs": [],
   "source": [
    "trainset_error_df.groupby('l1_error_classes')['l1_error']"
   ]
  },
  {
   "cell_type": "code",
   "execution_count": null,
   "id": "1e927174",
   "metadata": {},
   "outputs": [],
   "source": [
    "trainset_error_df['l1_error_classes']"
   ]
  },
  {
   "cell_type": "code",
   "execution_count": null,
   "id": "848df4c9",
   "metadata": {},
   "outputs": [],
   "source": [
    "trainset_error_df "
   ]
  },
  {
   "cell_type": "code",
   "execution_count": null,
   "id": "e2337720",
   "metadata": {},
   "outputs": [],
   "source": [
    "classes_emissions_error = l1_error_train.groupby('error_classes')[\"Totalghgemissions\"].median().sort_values().index\n",
    "# Boxplot errors per quantile\n",
    "plt.figure(figsize=(8,8))\n",
    "sns.boxplot(x=\"Totalghgemissions\", \n",
    "            y=\"error_classes\", \n",
    "            showfliers=False,\n",
    "            orient='h', \n",
    "            order=classes_emissions_error, \n",
    "            data=l1_error_train)\n",
    "#plt.savefig('/Users/souha_kassab/OC_project2/static/figs/fig3.png')"
   ]
  },
  {
   "cell_type": "code",
   "execution_count": null,
   "id": "9dda8f38",
   "metadata": {},
   "outputs": [],
   "source": [
    "l1_error_qty = l1_error_train.groupby('error_classes').count()\n",
    "#classes_emissions_error\n",
    "l1_error_qty"
   ]
  },
  {
   "cell_type": "code",
   "execution_count": null,
   "id": "3068763e",
   "metadata": {},
   "outputs": [],
   "source": [
    "l1_error_train['error_classes'] = pd.qcut(l1_error_train['Totalghgemissions'], 10)"
   ]
  },
  {
   "cell_type": "code",
   "execution_count": null,
   "id": "d62424ac",
   "metadata": {},
   "outputs": [],
   "source": [
    "(l1_error_train['Totalghgemissions']).max()"
   ]
  },
  {
   "cell_type": "code",
   "execution_count": null,
   "id": "de70ae67",
   "metadata": {},
   "outputs": [],
   "source": [
    "taille_classe = ((l1_error_train['Totalghgemissions']).max()-(l1_error_train['Totalghgemissions']).min())/10\n",
    "groupes = [] # va recevoir les données agrégées à afficher\n",
    "#for nutriVal in _subdata_nutrigrades_notNaN['nutrition_score_fr_100g'].unique():\n",
    "\n",
    "# on calcule des tranches allant de -15 au nutriscore maximum \n",
    "tranches = np.arange((l1_error_train['Totalghgemissions']).min(), (l1_error_train['Totalghgemissions']).max(),\n",
    "                    1.89)\n",
    "\n",
    "tranches += int(taille_classe/2) # on décale les tranches d'une demi taille de classe\n",
    "indices = np.digitize(l1_error_train['Totalghgemissions'], tranches) # associe chaque solde à son numéro de classe  "
   ]
  },
  {
   "cell_type": "code",
   "execution_count": null,
   "id": "db359af1",
   "metadata": {},
   "outputs": [],
   "source": [
    "l1_error_train.loc[indices==ind, 'Totalghgemissions']"
   ]
  },
  {
   "cell_type": "code",
   "execution_count": null,
   "id": "0e26f6ed",
   "metadata": {},
   "outputs": [],
   "source": [
    "for ind, tr in enumerate(tranches):\n",
    "    print(ind, tr)\n",
    "    qtity = l1_error_train.loc[indices==ind, 'Totalghgemissions']\n",
    "    #qtity = l1_error_train.loc[indices==ind,'Totalghgemissions']\n",
    "    if len(qtity)>0:\n",
    "        g = {\n",
    "            'value': qtity,\n",
    "            'class_center': tr-(taille_classe)/2,\n",
    "            'size': len(qtity),\n",
    "        }\n",
    "        groupes.append(g)"
   ]
  },
  {
   "cell_type": "code",
   "execution_count": null,
   "id": "b454da99",
   "metadata": {},
   "outputs": [],
   "source": [
    "indices[3]"
   ]
  },
  {
   "cell_type": "code",
   "execution_count": null,
   "id": "0104bccc",
   "metadata": {},
   "outputs": [],
   "source": [
    "plt.figure(figsize=(10,7))\n",
    "        \n",
    "# affichage des boxplots\n",
    "plt.boxplot([g[\"value\"] for g in groupes],\n",
    "            positions= [g[\"class_center\"] for g in groupes], # abscisses des boxplots\n",
    "            showfliers= False, # on ne prend pas en compte les outliers\n",
    "            widths= taille_classe*0.7) # largeur graphique des boxplots\n",
    "\n",
    "# affichage des effectifs de chaque classe\n",
    "for g in groupes:\n",
    "    plt.text(g[\"class_center\"],+100,\"(n={})\".format(g[\"size\"]),horizontalalignment='center',verticalalignment='top')     \n",
    "plt.show()"
   ]
  },
  {
   "cell_type": "code",
   "execution_count": null,
   "id": "2918dd0f",
   "metadata": {},
   "outputs": [],
   "source": [
    "del Atrain, btrain, Atest, btest, A, b"
   ]
  },
  {
   "cell_type": "markdown",
   "id": "f56d4f20",
   "metadata": {},
   "source": [
    "## LR with reduced matrix of features"
   ]
  },
  {
   "cell_type": "markdown",
   "id": "10581eb8",
   "metadata": {},
   "source": [
    "### Choice of features \n",
    "Looking for correlated variables"
   ]
  },
  {
   "cell_type": "code",
   "execution_count": null,
   "id": "05fe2c09",
   "metadata": {},
   "outputs": [],
   "source": [
    "#Spot highly correlated features\n",
    "linear_model_dataset.corr()"
   ]
  },
  {
   "cell_type": "markdown",
   "id": "835dc016",
   "metadata": {},
   "source": [
    "From ACP, we see that Siteneryuse, electricty  are higly correlated with F1, Natural Gas alot with F2 and steam energy with F3, whilst correlation table shows a lot of correlation between electricity and total site use on one hand, and normalized site use  of energy with natural gas consumption on the other. steam consumption seems to be the least correlated to the lot but still strongly correlated with a coefficient of around 0.68.\n",
    "Site energy use normalized on 30 year weather conditions average might be more relaible than that of a one year correlation with the different source utilisation"
   ]
  },
  {
   "cell_type": "code",
   "execution_count": null,
   "id": "bf51b566",
   "metadata": {},
   "outputs": [],
   "source": [
    "pairplot_data = linear_model_dataset[linear_model_dataset['Totalghgemissions']<3000]\n",
    "#sns.pairplot(data=pairplot_data, height = 2.5)\n",
    "pairplot_data.hist(figsize=(20,20))\n",
    "plt.show()\n",
    "sns.set_style('ticks')\n",
    "#pd.plotting.scatter_matrix(linear_model_dataset, diagonal='kde')"
   ]
  },
  {
   "cell_type": "markdown",
   "id": "791df9ad",
   "metadata": {},
   "source": [
    "some outliers problem?"
   ]
  },
  {
   "cell_type": "code",
   "execution_count": 58,
   "id": "c5739886",
   "metadata": {},
   "outputs": [],
   "source": [
    "##Choose new data\n",
    "reg_cols = ['Steamuse(Kbtu)', 'Siteenergyusewn(Kbtu)', 'Naturalgas(Kbtu)', 'Totalghgemissions']\n",
    "reduced_linear_model_dataset = explored_dataset[reg_cols]"
   ]
  },
  {
   "cell_type": "markdown",
   "id": "4206c206",
   "metadata": {},
   "source": [
    "### Data separation"
   ]
  },
  {
   "cell_type": "code",
   "execution_count": 59,
   "id": "bdf1979b",
   "metadata": {},
   "outputs": [],
   "source": [
    "del Atrain, btrain, Atest, btest, A, b, xtilde1, H"
   ]
  },
  {
   "cell_type": "code",
   "execution_count": 60,
   "id": "ebea2f96",
   "metadata": {},
   "outputs": [],
   "source": [
    "H = reduced_linear_model_dataset\n",
    "b = H.iloc[:, -1] # Total emissions\n",
    "b = np.log(abs(b))\n",
    "A = H.iloc[:, :-1] #all other variables\n",
    "A = np.pad(A, [(0,0), (0,1)], mode='constant', constant_values =1)\n",
    "# Permute\n",
    "p = np.random.permutation(len(H))\n",
    "A = A[p, :]\n",
    "b = b.iloc[p]\n",
    "# Separate data\n",
    "n = int(len(H)*4/5)\n",
    "btrain = b.iloc[:n]\n",
    "Atrain = A[:n]\n",
    "btest = b.iloc[n:]\n",
    "Atest = A[n:]"
   ]
  },
  {
   "cell_type": "code",
   "execution_count": 61,
   "id": "a57d2e0e",
   "metadata": {},
   "outputs": [],
   "source": [
    "train_sort_ind = np.argsort(btrain)\n",
    "test_sort_ind = np.argsort(btest)"
   ]
  },
  {
   "cell_type": "code",
   "execution_count": null,
   "id": "a47d5615",
   "metadata": {},
   "outputs": [],
   "source": [
    "type(Atrain)"
   ]
  },
  {
   "cell_type": "markdown",
   "id": "97e96813",
   "metadata": {},
   "source": [
    "### SVD computation"
   ]
  },
  {
   "cell_type": "code",
   "execution_count": 62,
   "id": "899d3eee",
   "metadata": {},
   "outputs": [],
   "source": [
    "# -----------------------------------------------------\n",
    "# Train\n",
    "[U, S, VT] = np.linalg.svd(Atrain, full_matrices=False)\n",
    "xtilde1 = VT.T @ np.linalg.inv(np.diag(S)) @ U.T @ btrain\n",
    "#xtilde2 = np.linalg.pinv(a) * b\n",
    "# -----------------------------------------------------"
   ]
  },
  {
   "cell_type": "code",
   "execution_count": 63,
   "id": "5af062f8",
   "metadata": {},
   "outputs": [
    {
     "data": {
      "image/png": "[encoded data removed]",
      "text/plain": [
       "<Figure size 640x480 with 1 Axes>"
      ]
     },
     "metadata": {},
     "output_type": "display_data"
    }
   ],
   "source": [
    "\n",
    "plt.plot(np.arange(1, n+1),btrain.iloc[train_sort_ind], 'x', color ='r')\n",
    "plt.plot(np.arange(1, n+1), Atrain[train_sort_ind]@xtilde1)\n",
    "plt.xlabel('index')\n",
    "plt.ylabel('b_train')\n",
    "\n",
    "#plt.xlim(2000, 2020)\n",
    "plt.show()\n",
    "\n",
    "#np.size(Atrain[train_sort_ind]@xtilde1)"
   ]
  },
  {
   "cell_type": "code",
   "execution_count": 64,
   "id": "60c5d06f",
   "metadata": {},
   "outputs": [
    {
     "data": {
      "image/png": "[encoded data removed]",
      "text/plain": [
       "<Figure size 640x480 with 1 Axes>"
      ]
     },
     "metadata": {},
     "output_type": "display_data"
    }
   ],
   "source": [
    "plt.plot(np.arange(n, n+len(btest)), btest.iloc[test_sort_ind], 'x', color ='r', markersize = 10, label ='Noisy test data' )\n",
    "plt.plot(np.arange(n, n+len(btest)), Atest[test_sort_ind]@xtilde1, '.')\n",
    "plt.xlabel('index')\n",
    "plt.ylabel('b_test')\n",
    "plt.legend()\n",
    "plt.show()"
   ]
  },
  {
   "cell_type": "code",
   "execution_count": null,
   "id": "b41a2b92",
   "metadata": {},
   "outputs": [],
   "source": [
    "ax1 = fig.add_subplot(121)\n",
    "#plt.plot(np.arange(1, n+1), btrain.iloc[train_sort_ind], 'x', color ='r', markersize = 10, label ='Noisy train data' )\n",
    "#plt.plot(np.arange(1, n+1), Atrain[train_sort_ind]@xtilde1, '.', color = 'b', linewidth = 2 , label ='Regression line')\n",
    "#plt.xlabel('index')\n",
    "#plt.ylabel('b_train')\n",
    "#plt.legend()\n",
    "#plt.show()\n",
    "# -----------------------------------------------------\n",
    "# Test\n",
    "#ax1 = fig.add_subplot(122)\n",
    "#plt.plot(np.arange(n, n+len(btest)), btest.iloc[test_sort_ind], 'x', color ='r', markersize = 10, label ='Noisy test data' )\n",
    "#plt.plot(np.arange(n, n+len(btest)), Atest[test_sort_ind]@xtilde1, '.', color = 'b', linewidth = 2 , label ='Regression line')\n",
    "plt.plot(np.arange(n, n+len(btest)), btest.iloc[test_sort_ind], '.', color ='r', markersize = 10, label ='Noisy test data' )\n",
    "plt.plot(np.arange(n, n+len(btest)), Atest[test_sort_ind]@xtilde1, 'x')\n",
    "plt.xlabel('index')\n",
    "plt.ylabel('b_test')\n",
    "plt.legend()\n",
    "#plt.xlim(2700,2750)\n",
    "plt.show()"
   ]
  },
  {
   "cell_type": "raw",
   "id": "7957b85e",
   "metadata": {},
   "source": [
    "# define the model\n",
    "model = LinearRegression()\n",
    "# fit the model\n",
    "model.fit(Atrain, btrain)\n",
    "# get importance\n",
    "importance = model.coef_\n",
    "# summarize feature importance\n",
    "for i,v in enumerate(importance):\n",
    " print('Feature: %0d, Score: %.5f' % (i,v))\n",
    "# plot feature importance\n",
    "pyplot.bar([x for x in range(len(importance))], importance)\n",
    "pyplot.show()"
   ]
  },
  {
   "cell_type": "code",
   "execution_count": null,
   "id": "6f65d9c9",
   "metadata": {},
   "outputs": [],
   "source": [
    "xtilde1"
   ]
  },
  {
   "cell_type": "markdown",
   "id": "1d823dc7",
   "metadata": {},
   "source": [
    "### Error Analysis\n",
    "\n",
    "#### Mean Average Error "
   ]
  },
  {
   "cell_type": "code",
   "execution_count": null,
   "id": "cc2d7ff9",
   "metadata": {},
   "outputs": [],
   "source": [
    "MAE_test = sum(abs(btest.iloc[test_sort_ind]-Atest[test_sort_ind]@xtilde1)) / len(btest)\n",
    "MAE_train = sum(abs(btrain.iloc[train_sort_ind]-Atrain[train_sort_ind]@xtilde1)) /  len(btrain)\n",
    "print( 'Mean absolute error on the test set =', MAE_test,\n",
    "     '\\n', 'Mean absolute error on the train set =', MAE_train)\n",
    "abs(MAE_test - MAE_train)\n",
    "#print('Mean absolute error is :', MAE)\n",
    "# do this for test and for train and compare!"
   ]
  },
  {
   "cell_type": "markdown",
   "id": "d2bf8678",
   "metadata": {},
   "source": [
    "We can see that permuting the dataset prior to constructing the model reduces the MAE difference between train and test set"
   ]
  },
  {
   "cell_type": "markdown",
   "id": "5025cec1",
   "metadata": {},
   "source": [
    "#### Root mean-squared error"
   ]
  },
  {
   "cell_type": "code",
   "execution_count": null,
   "id": "69490e2e",
   "metadata": {},
   "outputs": [],
   "source": [
    "RMSE_train = np.sqrt(sum(np.power(btrain.iloc[train_sort_ind]-Atrain[train_sort_ind]@xtilde1, 2))/len(btrain))\n",
    "RMSE_train"
   ]
  },
  {
   "cell_type": "code",
   "execution_count": null,
   "id": "2dc4eb4d",
   "metadata": {},
   "outputs": [],
   "source": [
    "RMSE_test = np.sqrt(sum(np.power(btest.iloc[test_sort_ind]-Atest[test_sort_ind]@xtilde1, 2))/len(btest))\n",
    "RMSE_test"
   ]
  },
  {
   "cell_type": "code",
   "execution_count": null,
   "id": "b794f791",
   "metadata": {},
   "outputs": [],
   "source": [
    "abs(RMSE_test - RMSE_train)"
   ]
  },
  {
   "cell_type": "markdown",
   "id": "62957aae",
   "metadata": {},
   "source": [
    "#### R2 error"
   ]
  },
  {
   "cell_type": "code",
   "execution_count": null,
   "id": "f68995cb",
   "metadata": {},
   "outputs": [],
   "source": [
    "y = btrain\n",
    "y_mean = btrain.mean()\n",
    "N_samples = len(btrain)\n",
    "var_mean = sum(np.power(y - y_mean, 2))/N_samples\n",
    "var_line = np.power(RMSE_train,2)\n",
    "R2 = (var_mean - var_line)/var_mean\n",
    "## Dividing all by N: (exactly same computation)\n",
    "var_mean_bis = y.var()\n",
    "\n",
    "R2_bis = (var_mean_bis - var_line) / var_mean_bis\n",
    "print(R2, '\\n', R2_bis)"
   ]
  },
  {
   "cell_type": "markdown",
   "id": "18dc417c",
   "metadata": {},
   "source": [
    "### Error distribution"
   ]
  },
  {
   "cell_type": "code",
   "execution_count": null,
   "id": "4cea14e9",
   "metadata": {},
   "outputs": [],
   "source": [
    "y_head = Atrain[train_sort_ind]@xtilde1\n",
    "y = btrain.iloc[train_sort_ind]\n",
    "residual_RMSE = np.power(y_head - y, 2 )\n",
    "plt.scatter(np.arange(1, n+1),np.sqrt(residual_RMSE))\n",
    "plt.xlim(0,200)\n",
    "#plt.plot(np.arange(n, len(btest)+n), np.log(abs(Atest[test_sort_ind]@xtilde1-btest.iloc[test_sort_ind])), 'k--',\n",
    " #        linewidth =1, label = 'test set')\n",
    "plt.legend(title='l1_error')\n",
    "plt.xlabel('row rank')\n",
    "plt.ylabel('Error_l1norm')\n",
    "#plt.xlim([500, 900])\n",
    "plt.show()"
   ]
  },
  {
   "cell_type": "code",
   "execution_count": null,
   "id": "c7074d51",
   "metadata": {},
   "outputs": [],
   "source": [
    "# Checking outliers on error\n",
    "dist_l1_error = df_nutriscore_components.groupby('nutriscore_classes')['additives_n'].median().index\n",
    "\n",
    "plt.figure(figsize=(7,5))\n",
    "sns.boxplot(x=\"additives_n\", \n",
    "            y=\"nutriscore_classes\", \n",
    "            showfliers=False,\n",
    "            orient='h', \n",
    "            order = dist_additv_nutriscore,\n",
    "            data=df_nutriscore_components);"
   ]
  },
  {
   "cell_type": "code",
   "execution_count": null,
   "id": "dd06646a",
   "metadata": {},
   "outputs": [],
   "source": [
    "l1_error_train_df = (np.log(abs(Atrain[train_sort_ind]@xtilde1 - btrain.iloc[train_sort_ind])))\n",
    "#l1_error_train_df.iloc[750:800]\n"
   ]
  },
  {
   "cell_type": "code",
   "execution_count": null,
   "id": "0ad98575",
   "metadata": {},
   "outputs": [],
   "source": [
    "l1_error_train_df[:]"
   ]
  },
  {
   "cell_type": "code",
   "execution_count": null,
   "id": "c46e12ba",
   "metadata": {},
   "outputs": [],
   "source": [
    "# looking for elements located at indecies 750-800\n",
    "#btrain.iloc[750:800] \n",
    "((np.log(abs(Atrain[train_sort_ind]@xtilde1-btrain.iloc[train_sort_ind]))).iloc[750:800])"
   ]
  },
  {
   "cell_type": "code",
   "execution_count": null,
   "id": "97085bbc",
   "metadata": {},
   "outputs": [],
   "source": [
    "plt.plot(np.arange(1, len(btrain)+1), np.log(np.power(btrain-Atrain@xtilde1, 2)/2), 'g-',\n",
    "         linewidth =1, label ='train set')\n",
    "#plt.plot(np.arange(n, len(btest)+n), np.sqrt(np.power(btest.iloc[test_sort_ind]-Atest[test_sort_ind]@xtilde1, 2)), 'k-',\n",
    " #        linewidth =1, label = 'test set')\n",
    "plt.legend(title='l2_error')\n",
    "plt.xlabel('row rank')\n",
    "plt.ylabel('l2_norm')\n",
    "#plt.xlim([500, 900])\n",
    "plt.show()"
   ]
  },
  {
   "cell_type": "code",
   "execution_count": null,
   "id": "36ebddd7",
   "metadata": {},
   "outputs": [],
   "source": [
    "# looking for elements located at indecies 750-800\n",
    "#btrain.iloc[750:800] \n",
    "(np.power(btrain.iloc[train_sort_ind]-Atrain[train_sort_ind]@xtilde1, 2).iloc[0:10])"
   ]
  },
  {
   "cell_type": "code",
   "execution_count": null,
   "id": "536e6338",
   "metadata": {},
   "outputs": [],
   "source": [
    "np.exp(-9)"
   ]
  },
  {
   "cell_type": "code",
   "execution_count": null,
   "id": "9853d4df",
   "metadata": {},
   "outputs": [],
   "source": [
    "np.log(0.5)"
   ]
  },
  {
   "cell_type": "code",
   "execution_count": null,
   "id": "8ba070da",
   "metadata": {},
   "outputs": [],
   "source": [
    "fig = plt.figure(figsize=(12,15))\n",
    "sm.graphics.plot_ccpr_grid(OLS_model)\n",
    "#fig.tight_layout(pad=1.0)"
   ]
  },
  {
   "cell_type": "code",
   "execution_count": null,
   "id": "81b9dac5",
   "metadata": {},
   "outputs": [],
   "source": [
    "import statsmodels.api as sm\n",
    "from statsmodels.formula.api import ols\n",
    "## --------------------------------------------- ##\n",
    "# Define the X (input) and y (target) features\n",
    "X = boston.drop(\"MEDV\", axis=1)\n",
    "y = boston[\"MEDV\"]\n",
    "# Rescale the input features\n",
    "scaler = MinMaxScaler(feature_range=(0,1))\n",
    "X = scaler.fit_transform(X)\n",
    "# Split into train (2/3) and test (1/3) sets\n",
    "test_size = 0.33\n",
    "seed = 7\n",
    "X_train, X_test, y_train, y_test = train_test_split(X, y, test_size=test_size, random_state=seed)\n",
    "# Build some models (regression and k-neighbors) and check them against training data using MAE, RMSE and R2\n",
    "models = [LinearRegression(), KNeighborsRegressor()]\n",
    "for model in models:\n",
    "    model.fit(X_train, y_train)\n",
    "    predictions = model.predict(X_train)\n",
    "    print(type(model).__name__)\n",
    "    print(\"    MAE\", mean_absolute_error(y_train, predictions))\n",
    "    print(\"    RMSE\", sqrt(mean_squared_error(y_train, predictions)))\n",
    "    print(\"    R2\", r2_score(y_train, predictions))\n",
    "    \n",
    "# Evaluation the models against test data using MAE, RMSE and R2\n",
    "for model in models:\n",
    "    predictions = model.predict(X_test)\n",
    "    print(type(model).__name__)\n",
    "    print(\"    MAE\", mean_absolute_error(y_test, predictions))\n",
    "    print(\"    RMSE\", sqrt(mean_squared_error(y_test, predictions)))\n",
    "    print(\"    R2\", r2_score(y_test, predictions))"
   ]
  },
  {
   "cell_type": "code",
   "execution_count": null,
   "id": "e517e794",
   "metadata": {},
   "outputs": [],
   "source": [
    "#Using scikit learn\n",
    "# MAE\n",
    "mean_absolute_error(actuals, predictions)\n",
    "\n",
    "# RMSE\n",
    "sqrt(mean_squared_error(actuals, predictions)\n",
    "\n",
    "# R-Squared\n",
    "r2_score(actuals, predictions)"
   ]
  },
  {
   "cell_type": "markdown",
   "id": "5519262d",
   "metadata": {},
   "source": [
    "## Error estimation "
   ]
  },
  {
   "cell_type": "markdown",
   "id": "312f8c46",
   "metadata": {},
   "source": [
    "### Mean Absolute Error (MAE)\n",
    "The MAE has a big advantage in that the units of the MAE are the same as the units of y, tells us the average error in units of y, the predicted feature. A value of 0 indicates a perfect fit, i.e. all our predictions are spot on. "
   ]
  },
  {
   "cell_type": "code",
   "execution_count": null,
   "id": "6ffb3634",
   "metadata": {},
   "outputs": [],
   "source": [
    "MAE_log_normal = sum(abs(y-^y))/len(samples)\n",
    "Atest@xtilde1-btest\n",
    "# do this for test and for train and compare!"
   ]
  },
  {
   "cell_type": "markdown",
   "id": "6896654d",
   "metadata": {},
   "source": [
    "R squared error"
   ]
  },
  {
   "cell_type": "markdown",
   "id": "1ee8f9f1",
   "metadata": {},
   "source": [
    "### Root mean-square error\n",
    "Its calculation is very similar to MAE, but instead of taking the absolute value to get rid of the sign on the individual errors, we square the error, then we can compute its sum divided by the number of samples and take its square root to get back to the same unit than y"
   ]
  },
  {
   "cell_type": "code",
   "execution_count": null,
   "id": "be2cd7e5",
   "metadata": {},
   "outputs": [],
   "source": [
    "RMSE = np.sqrt(sum(np.power(y-^y, 2))/len(samples))"
   ]
  },
  {
   "cell_type": "markdown",
   "id": "b1f5228a",
   "metadata": {},
   "source": [
    "Compared to MAE, RMSE gives a higher total error and the gap increases as the errors become larger. It penalizes a few large errors more than a lot of small errors. If you want your model to avoid large errors, use RMSE over MAE. You should also be aware that as the sample size increases, the accumulation of slightly higher RMSEs than MAEs means that the gap between these two measures also increases as the sample size increases"
   ]
  },
  {
   "cell_type": "markdown",
   "id": "f4efdd38",
   "metadata": {},
   "source": [
    "### R-squared \n",
    "R2 computes how much better the regression line fits the data than the mean line. An R-squared of 1 indicates a perfect fit. An R-squared of 0 indicates a model no better or worse than the mean. An R-squared of less than 0 indicates a model worse than just predicting the mean."
   ]
  },
  {
   "cell_type": "code",
   "execution_count": null,
   "id": "53bd457d",
   "metadata": {},
   "outputs": [],
   "source": [
    "var_mean = sum(np.power(y - y_mean, 2))\n",
    "var_line = N_samples * RMSE\n",
    "R2 = (var_mean−var_line)/var_mean\n",
    "## Dividing all by N: (exactly same computation)\n",
    "var_mean_bis = variance(y)\n",
    "var_line_bis = RMSE\n",
    "R2_bis = (var_mean_bis - var_line_bis) / var_mean_bis"
   ]
  },
  {
   "cell_type": "markdown",
   "id": "ff51b92b",
   "metadata": {},
   "source": [
    "## Residual plot analysis"
   ]
  },
  {
   "cell_type": "markdown",
   "id": "957e94db",
   "metadata": {},
   "source": [
    "Every regression model inherently has some degree of error since you can never predict something 100% accurately. Hence, a regression model can be explained as:\n",
    "    Response = Deterministic +Stochastic\n",
    "    \n",
    "The deterministic part of the model is what we try to capture using the regression model. Ideally, our linear equation model should accurately capture the predictive information. Essentially, what this means is that if we capture all of the predictive information, all that is left behind (residuals) should be completely random & unpredictable i.e stochastic. Hence, we want our residuals to follow a normal distribution. And that is exactly what we look for in a residual plot."
   ]
  },
  {
   "cell_type": "markdown",
   "id": "b89bc247",
   "metadata": {},
   "source": [
    "###  Characteristics of Good Residual Plots"
   ]
  },
  {
   "cell_type": "markdown",
   "id": "f36f7c87",
   "metadata": {},
   "source": [
    "A few characteristics of a good residual plot are as follows:\n",
    "\n",
    "    - It has a high density of points close to the origin and a low density of points away from the origin\n",
    "    - It is symmetric about the origin\n",
    "Finally, one other reason this is a good residual plot is that, independent of the value of an independent variable (x-axis), the residual errors are approximately distributed in the same manner. In other words, we do NOT see any patterns in the value of the residuals as we move along the x-axis. Hence, this satisfies our earlier assumption that regression model residuals are independent and normally distributed"
   ]
  },
  {
   "cell_type": "markdown",
   "id": "10eebdb2",
   "metadata": {},
   "source": [
    "A residual plot that has high density far away from the origin and low density close to the origin is a bad residual plot. Also, when we project the residuals on the y-axis, we can see the distribution curve is not normal. \n",
    "These plots signify that we have not completely captured the predictive information of the data in our model, which is why it is “seeping” into our residuals. A good model should always only have random error left after using the predictive information\n",
    "____________________________________________________________________________"
   ]
  },
  {
   "cell_type": "markdown",
   "id": "158fe053",
   "metadata": {},
   "source": [
    "### Partial Regression Plots (Duncan)\n",
    "We want to look at the relationship of the dependent variable and independent variables conditional on the other independent variables. We can do this through using partial regression plots, otherwise known as added variable plots. \n",
    "In a partial regression plot, to discern the relationship between the response variable and the k-th variable, we compute the residuals by regressing the response variable versus the independent variables excluding X_k. We can denote this by X~k. We then compute the residuals by X_k regressing on X~k. The partial regression plot is the plot of the former versus the latter residuals. The notable points of this plot are that the fitted line has slope b and intercept zero. The residuals of this plot are the same as those of the least squares fit of the original model with full . You can discern the effects of the individual data values on the estimation of a coefficient easily"
   ]
  },
  {
   "cell_type": "markdown",
   "id": "f6a4853b",
   "metadata": {},
   "source": [
    "### Component-Component plus Residual (CCPR) Plots¶\n",
    "The CCPR plot provides a way to judge the effect of one regressor on the response variable by taking into account the effects of the other independent variables. The partial residuals plot is defined as versus . The component adds versus to show where the fitted line would lie. Care should be taken if is highly correlated with any of the other independent variables. If this is the case, the variance evident in the plot will be an underestimate of the true variance"
   ]
  },
  {
   "cell_type": "code",
   "execution_count": null,
   "id": "d9eced95",
   "metadata": {},
   "outputs": [],
   "source": [
    "\n",
    "#nan_variables = ['LargestPropertyUseType', 'TotalGHGEmissions','GHGEmissionsIntensity'  ]\n",
    "count_qualiVar = first_dataset['propertygfabuilding(s)'].value_counts()\n",
    "ax = sns.barplot(x=count_qualiVar.index, y=count_qualiVar.values)\n",
    "ax.bar_label(ax.containers[0])\n",
    "plt.show()"
   ]
  },
  {
   "cell_type": "code",
   "execution_count": null,
   "id": "0857c4ba",
   "metadata": {
    "scrolled": true
   },
   "outputs": [],
   "source": [
    "imported_data.duplicated().sum()\n",
    "imported_data.nunique()"
   ]
  },
  {
   "cell_type": "code",
   "execution_count": null,
   "id": "5ebce46f",
   "metadata": {},
   "outputs": [],
   "source": [
    "first_dataset.nunique()"
   ]
  }
 ],
 "metadata": {
  "kernelspec": {
   "display_name": "OC_Project2",
   "language": "python",
   "name": "oc_project2"
  },
  "language_info": {
   "codemirror_mode": {
    "name": "ipython",
    "version": 3
   },
   "file_extension": ".py",
   "mimetype": "text/x-python",
   "name": "python",
   "nbconvert_exporter": "python",
   "pygments_lexer": "ipython3",
   "version": "3.10.8"
  },
  "toc": {
   "base_numbering": 1,
   "nav_menu": {},
   "number_sections": true,
   "sideBar": true,
   "skip_h1_title": false,
   "title_cell": "Table of Contents",
   "title_sidebar": "Contents",
   "toc_cell": false,
   "toc_position": {
    "height": "calc(100% - 180px)",
    "left": "10px",
    "top": "150px",
    "width": "263.6px"
   },
   "toc_section_display": true,
   "toc_window_display": true
  }
 },
 "nbformat": 4,
 "nbformat_minor": 5
}
