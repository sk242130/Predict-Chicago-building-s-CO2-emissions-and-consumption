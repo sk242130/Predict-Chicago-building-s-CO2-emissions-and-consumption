{
 "cells": [
  {
   "cell_type": "code",
   "execution_count": null,
   "id": "f68d543e",
   "metadata": {},
   "outputs": [],
   "source": [
    "## 'Manual' Linear regression from a known set of data\n",
    "import matplotlib.pyplot as plt\n",
    "import numpy as np\n",
    "x = 3 #true slope\n",
    "a = np.arange(-2, 2, 0.25)\n",
    "a = a .reshape(-1, 1)\n",
    "b = a*x + np.random.randn(*a.shape)\n",
    "plt.plot(a, x*a, color ='k', linewidth = 1, label ='True line')\n",
    "plt.plot(a, b, 'x', color ='r', markersize = 10, label ='Noisy data' )\n",
    "\n",
    "[U, S, VT] = np.linalg.svd(a, full_matrices=False)\n",
    "xtilde1 = VT.T @ np.linalg.inv(np.diag(S)) @ U.T @ b\n",
    "xtilde2 = np.linalg.pinv(a) * b\n",
    "plt.plot(a, xtilde1 * a, '--', color = 'b', linewidth = 2 , label ='Regression line')\n",
    "plt.xlabel('a')\n",
    "plt.ylabel('b')\n",
    "plt.legend()\n",
    "plt.show()"
   ]
  },
  {
   "cell_type": "markdown",
   "id": "ab23bd67",
   "metadata": {},
   "source": [
    "Steve Brunton - Python #3"
   ]
  },
  {
   "cell_type": "code",
   "execution_count": null,
   "id": "030f3ba3",
   "metadata": {},
   "outputs": [],
   "source": [
    "import matplotlib.pyplot as plt\n",
    "import pandas as pd\n",
    "import seaborn as sns\n",
    "import numpy as np"
   ]
  },
  {
   "cell_type": "code",
   "execution_count": null,
   "id": "8ae90075",
   "metadata": {},
   "outputs": [],
   "source": [
    "# Load DATA\n",
    "import os\n",
    "H = np.loadtxt(os.path.join('..', 'DATA', 'housing.data'))\n",
    "b = H[:, -1] #housing values (or variable to predict)\n",
    "A = H[:, :-1] #all other variables\n",
    "A = np.pad(A, [(0,0), (0,1)], mode='constant', constant_values =1)\n",
    "U, S, Vt = np.linalg.svd(A, full_matrices=False)\n",
    "xtilde = VT.T @ np.linalg.inv(np.diag(S)) @ U.T @ b\n",
    "\n",
    "fir=plt.figure()\n",
    "ax = plt.subplot(121)\n",
    "\n",
    "plt.plot(b, 'x', color ='k', linewidth = 2, label ='Housing values' )\n",
    "\n",
    "plt.plot(A@xtilde1, '--', color = 'b', linewidth = 1.5 , markersize=6,\n",
    "         label ='Regression line')\n",
    "plt.xlabel('')\n",
    "plt.ylabel('b')\n",
    "plt.legend()\n",
    "plt.show()\n",
    "# plot sorted values\n",
    "ax2 = plt.subplot(122)\n",
    "sort_ind = np.argsort(H[:, -1])\n",
    "b = b[sort_ind]\n",
    "plt.plot(b, 'x', color ='k', linewidth = 2, label ='Housing values' )\n",
    "plt.plot(A[sort_ind]@xtilde1, '--', color = 'b', linewidth = 1.5 , markersize=6,\n",
    "         label ='Regression line')"
   ]
  },
  {
   "cell_type": "code",
   "execution_count": null,
   "id": "158f98bc",
   "metadata": {},
   "outputs": [],
   "source": [
    "a = a.reshape(-1, 1)\n",
    "b = a*x + np.random.randn(*a.shape)\n",
    "plt.plot(a, x*a, color ='k', linewidth = 1, label ='True line')\n",
    "plt.plot(a, b, 'x', color ='r', markersize = 10, label ='Noisy data' )\n",
    "\n",
    "[U, S, VT] = np.linalg.svd(a, full_matrices=False)\n",
    "xtilde1 = VT.T @ np.linalg.inv(np.diag(S)) @ U.T @ b\n",
    "xtilde2 = np.linalg.pinv(a) * b\n",
    "plt.plot(a, xtilde1 * a, '--', color = 'b', linewidth = 2 , label ='Regression line')\n",
    "plt.xlabel('a')\n",
    "plt.ylabel('b')\n",
    "plt.legend()\n",
    "plt.show()"
   ]
  },
  {
   "cell_type": "markdown",
   "id": "67c1817a",
   "metadata": {},
   "source": [
    "TP K-nn"
   ]
  },
  {
   "cell_type": "code",
   "execution_count": null,
   "id": "0e22b5fc",
   "metadata": {},
   "outputs": [],
   "source": [
    "from sklearn.datasets import fetch_openml"
   ]
  },
  {
   "cell_type": "markdown",
   "id": "127542d4",
   "metadata": {},
   "source": [
    "----------------------------------------------\n",
    "# TP initiation au Machine Learning"
   ]
  },
  {
   "cell_type": "code",
   "execution_count": 1,
   "id": "6d11de85",
   "metadata": {},
   "outputs": [],
   "source": [
    "import matplotlib.pyplot as plt\n",
    "import pandas as pd\n",
    "import seaborn as sns\n",
    "import numpy as np"
   ]
  },
  {
   "cell_type": "code",
   "execution_count": 2,
   "id": "82169e1f",
   "metadata": {},
   "outputs": [],
   "source": [
    "house_data = pd.read_csv('/Users/souha_kassab/Downloads/OC_training/house_data(1).csv')"
   ]
  },
  {
   "cell_type": "code",
   "execution_count": 4,
   "id": "172c7e5a",
   "metadata": {},
   "outputs": [
    {
     "data": {
      "image/png": "[encoded data removed]",
      "text/plain": [
       "<Figure size 640x480 with 1 Axes>"
      ]
     },
     "metadata": {},
     "output_type": "display_data"
    }
   ],
   "source": [
    "# On affiche le nuage de points dont on dispose\n",
    "plt.plot(house_data['surface'], house_data['price'], 'ro', markersize=4)\n",
    "plt.show()"
   ]
  },
  {
   "cell_type": "code",
   "execution_count": 6,
   "id": "692d84c3",
   "metadata": {},
   "outputs": [],
   "source": [
    "house_data = house_data[house_data['price'] < 10000]"
   ]
  },
  {
   "cell_type": "code",
   "execution_count": 10,
   "id": "4cd47db5",
   "metadata": {},
   "outputs": [
    {
     "name": "stdout",
     "output_type": "stream",
     "text": [
      "<class 'pandas.core.frame.DataFrame'>\n",
      "Int64Index: 818 entries, 0 to 826\n",
      "Data columns (total 3 columns):\n",
      " #   Column          Non-Null Count  Dtype  \n",
      "---  ------          --------------  -----  \n",
      " 0   price           818 non-null    int64  \n",
      " 1   surface         813 non-null    float64\n",
      " 2   arrondissement  813 non-null    float64\n",
      "dtypes: float64(2), int64(1)\n",
      "memory usage: 25.6 KB\n"
     ]
    }
   ],
   "source": [
    "house_data.info()"
   ]
  },
  {
   "cell_type": "code",
   "execution_count": 8,
   "id": "c1dffc49",
   "metadata": {},
   "outputs": [
    {
     "data": {
      "text/html": [
       "<div>\n",
       "<style scoped>\n",
       "    .dataframe tbody tr th:only-of-type {\n",
       "        vertical-align: middle;\n",
       "    }\n",
       "\n",
       "    .dataframe tbody tr th {\n",
       "        vertical-align: top;\n",
       "    }\n",
       "\n",
       "    .dataframe thead th {\n",
       "        text-align: right;\n",
       "    }\n",
       "</style>\n",
       "<table border=\"1\" class=\"dataframe\">\n",
       "  <thead>\n",
       "    <tr style=\"text-align: right;\">\n",
       "      <th></th>\n",
       "      <th>price</th>\n",
       "      <th>surface</th>\n",
       "      <th>arrondissement</th>\n",
       "    </tr>\n",
       "  </thead>\n",
       "  <tbody>\n",
       "    <tr>\n",
       "      <th>0</th>\n",
       "      <td>1820</td>\n",
       "      <td>46.1</td>\n",
       "      <td>1.0</td>\n",
       "    </tr>\n",
       "    <tr>\n",
       "      <th>1</th>\n",
       "      <td>1750</td>\n",
       "      <td>41.0</td>\n",
       "      <td>1.0</td>\n",
       "    </tr>\n",
       "    <tr>\n",
       "      <th>2</th>\n",
       "      <td>1900</td>\n",
       "      <td>55.0</td>\n",
       "      <td>1.0</td>\n",
       "    </tr>\n",
       "    <tr>\n",
       "      <th>3</th>\n",
       "      <td>1950</td>\n",
       "      <td>46.0</td>\n",
       "      <td>1.0</td>\n",
       "    </tr>\n",
       "    <tr>\n",
       "      <th>4</th>\n",
       "      <td>1950</td>\n",
       "      <td>49.0</td>\n",
       "      <td>1.0</td>\n",
       "    </tr>\n",
       "  </tbody>\n",
       "</table>\n",
       "</div>"
      ],
      "text/plain": [
       "   price  surface  arrondissement\n",
       "0   1820     46.1             1.0\n",
       "1   1750     41.0             1.0\n",
       "2   1900     55.0             1.0\n",
       "3   1950     46.0             1.0\n",
       "4   1950     49.0             1.0"
      ]
     },
     "execution_count": 8,
     "metadata": {},
     "output_type": "execute_result"
    }
   ],
   "source": [
    "house_data.head()"
   ]
  },
  {
   "cell_type": "code",
   "execution_count": 87,
   "id": "6a687d30",
   "metadata": {},
   "outputs": [
    {
     "name": "stdout",
     "output_type": "stream",
     "text": [
      "[[255.82253034]\n",
      " [ 28.98730991]]\n"
     ]
    }
   ],
   "source": [
    "# On décompose le dataset et on le transforme en matrices pour pouvoir effectuer notre calcul\n",
    "X = np.matrix([np.ones(H.shape[0]), H['surface'].values]).T #reshape features matrix\n",
    "y = np.matrix(H['price']).T\n",
    "\n",
    "# On effectue le calcul exact du paramètre theta\n",
    "theta = np.linalg.inv(X.T.dot(X)).dot(X.T).dot(y)\n",
    "\n",
    "print(theta)"
   ]
  },
  {
   "cell_type": "code",
   "execution_count": 101,
   "id": "0ccc537c",
   "metadata": {},
   "outputs": [
    {
     "data": {
      "image/png": "[encoded data removed]",
      "text/plain": [
       "<Figure size 640x480 with 1 Axes>"
      ]
     },
     "metadata": {},
     "output_type": "display_data"
    }
   ],
   "source": [
    "plt.xlabel('Surface')\n",
    "plt.ylabel('Loyer')\n",
    "\n",
    "plt.plot(house_data['surface'], house_data['price'], 'ro', markersize=4)\n",
    "\n",
    "# On affiche la droite entre 0 et 250\n",
    "plt.plot([0,250], [theta.item(0),theta.item(0) + 250 * theta.item(1)], linestyle='--', c='#000000')\n",
    "\n",
    "plt.show()"
   ]
  },
  {
   "cell_type": "markdown",
   "id": "641f5b30",
   "metadata": {},
   "source": [
    "# Alternative computation of SVD using test and train set and permutation\n"
   ]
  },
  {
   "cell_type": "code",
   "execution_count": 91,
   "id": "0fd2892f",
   "metadata": {},
   "outputs": [
    {
     "data": {
      "image/png": "[encoded data removed]",
      "text/plain": [
       "<Figure size 640x480 with 1 Axes>"
      ]
     },
     "metadata": {},
     "output_type": "display_data"
    }
   ],
   "source": [
    "H = house_data[house_data['price']<10000].dropna()\n",
    "b = H.iloc[:, 0].T #housing values (or variable to predict)\n",
    "A = H['surface']\n",
    "\n",
    "plt.plot(A, b, 'ro', markersize=4)\n",
    "plt.show()\n",
    "# ################################################\n",
    "#A = my_data.iloc[:, 1] #all other variables\n",
    "#A = np.pad(A, [(0,0), (0,1)], mode='constant', constant_values =1)\n",
    "# ######################### ########################"
   ]
  },
  {
   "cell_type": "code",
   "execution_count": 93,
   "id": "5ac13ca3",
   "metadata": {},
   "outputs": [
    {
     "data": {
      "text/plain": [
       "(2, 1)"
      ]
     },
     "execution_count": 93,
     "metadata": {},
     "output_type": "execute_result"
    }
   ],
   "source": [
    "# Permute\n",
    "p = np.random.permutation(len(H))\n",
    "A = A.iloc[p]\n",
    "b = b.iloc[p]\n",
    "\n",
    "# Separate data\n",
    "n = int(len(H)*4/5)\n",
    "btrain = np.matrix(b.iloc[:n]).T\n",
    "Atrain = np.matrix(A.iloc[:n]).T #transfroming series into array of numeric values only\n",
    "# if A is an array of many features, padding needs np.pad\n",
    "#A = np.pad(A, [(0,0), (0,1)], mode='constant', constant_values =1)\n",
    "Atrain = np.matrix([np.ones(Atrain.shape[0]), A.iloc[:n].values]).T\n",
    "# -----------------------------------------------------\n",
    "# Train\n",
    "## Compute SVD\n",
    "[U, S, VT] = np.linalg.svd(Atrain, full_matrices=False)\n",
    "## Find x_tilde\n",
    "xtilde = VT.T @ np.linalg.inv(np.diag(S)) @ U.T @ btrain\n",
    "xtilde.shape"
   ]
  },
  {
   "cell_type": "code",
   "execution_count": 125,
   "id": "4f03d95d",
   "metadata": {},
   "outputs": [],
   "source": [
    "# -----------------------------------------------------\n",
    "# Test\n",
    "Atest = np.matrix([np.ones(Atest.shape[0]), A.iloc[n:].values]).T\n",
    "btest = np.matrix(b.iloc[n:]).T"
   ]
  },
  {
   "cell_type": "code",
   "execution_count": 126,
   "id": "1797f28b",
   "metadata": {},
   "outputs": [
    {
     "data": {
      "text/plain": [
       "(163, 2)"
      ]
     },
     "execution_count": 126,
     "metadata": {},
     "output_type": "execute_result"
    }
   ],
   "source": [
    "#(xtilde@Atrain.T)\n",
    "#xtilde.shape\n",
    "#Atrain.shape\n",
    "Atest.shape\n",
    "#A.iloc[n:]"
   ]
  },
  {
   "cell_type": "code",
   "execution_count": 134,
   "id": "fbba70d7",
   "metadata": {},
   "outputs": [
    {
     "data": {
      "image/png": "[encoded data removed]",
      "text/plain": [
       "<Figure size 640x480 with 1 Axes>"
      ]
     },
     "metadata": {},
     "output_type": "display_data"
    }
   ],
   "source": [
    "# -----------------------------------------------------\n",
    "# Plot\n",
    "plt.figure()\n",
    "plt.plot(H['surface'], H['price'], 'ro', markersize=3, label='All data')\n",
    "plt.plot(A.iloc[:n], (Atrain@xtilde), 'k--', label = 'Regression')\n",
    "plt.legend()\n",
    "plt.show()"
   ]
  },
  {
   "cell_type": "code",
   "execution_count": 133,
   "id": "80d32d2e",
   "metadata": {},
   "outputs": [
    {
     "data": {
      "image/png": "[encoded data removed]",
      "text/plain": [
       "<Figure size 640x480 with 1 Axes>"
      ]
     },
     "metadata": {},
     "output_type": "display_data"
    }
   ],
   "source": [
    "# -----------------------------------------------------\n",
    "#ax2 = fig.add_subplot(122)\n",
    "plt.plot(A.iloc[n:], btest, 'x', color ='r', markersize = 10, label ='Noisy test data' )\n",
    "plt.plot(A.iloc[n:], Atest@xtilde, '--', color = 'b', linewidth = 2 , label ='Regression line')\n",
    "plt.xlabel('index')\n",
    "plt.ylabel('b_test')\n",
    "plt.legend()\n",
    "plt.show()"
   ]
  },
  {
   "cell_type": "code",
   "execution_count": null,
   "id": "14cd751f",
   "metadata": {},
   "outputs": [],
   "source": [
    "## PLot\n",
    "plt.plot(A.iloc[:n], (A_train_std@xtilde), 'k--', label = 'Regression')\n"
   ]
  },
  {
   "cell_type": "code",
   "execution_count": 137,
   "id": "d907ec85",
   "metadata": {},
   "outputs": [],
   "source": [
    "from sklearn import model_selection\n",
    "from sklearn import preprocessing\n",
    "from sklearn.preprocessing import StandardScaler\n",
    "std_scale = preprocessing.StandardScaler().fit(np.asarray(Atrain))\n",
    "A_train_std = std_scale.transform(np.asarray(Atrain))\n",
    "#b_train_std = std_scale.transform(np.asarray(btrain))"
   ]
  },
  {
   "cell_type": "code",
   "execution_count": 138,
   "id": "97b0b4e2",
   "metadata": {},
   "outputs": [
    {
     "ename": "LinAlgError",
     "evalue": "Singular matrix",
     "output_type": "error",
     "traceback": [
      "\u001b[0;31m---------------------------------------------------------------------------\u001b[0m",
      "\u001b[0;31mLinAlgError\u001b[0m                               Traceback (most recent call last)",
      "Cell \u001b[0;32mIn[138], line 4\u001b[0m\n\u001b[1;32m      1\u001b[0m \u001b[38;5;66;03m# -----------------------------------------------------\u001b[39;00m\n\u001b[1;32m      2\u001b[0m \u001b[38;5;66;03m# Train\u001b[39;00m\n\u001b[1;32m      3\u001b[0m [U, S, VT] \u001b[38;5;241m=\u001b[39m np\u001b[38;5;241m.\u001b[39mlinalg\u001b[38;5;241m.\u001b[39msvd(A_train_std, full_matrices\u001b[38;5;241m=\u001b[39m\u001b[38;5;28;01mFalse\u001b[39;00m)\n\u001b[0;32m----> 4\u001b[0m xtilde \u001b[38;5;241m=\u001b[39m VT\u001b[38;5;241m.\u001b[39mT \u001b[38;5;241m@\u001b[39m \u001b[43mnp\u001b[49m\u001b[38;5;241;43m.\u001b[39;49m\u001b[43mlinalg\u001b[49m\u001b[38;5;241;43m.\u001b[39;49m\u001b[43minv\u001b[49m\u001b[43m(\u001b[49m\u001b[43mnp\u001b[49m\u001b[38;5;241;43m.\u001b[39;49m\u001b[43mdiag\u001b[49m\u001b[43m(\u001b[49m\u001b[43mS\u001b[49m\u001b[43m)\u001b[49m\u001b[43m)\u001b[49m \u001b[38;5;241m@\u001b[39m U\u001b[38;5;241m.\u001b[39mT \u001b[38;5;241m@\u001b[39m btrain\u001b[38;5;241m.\u001b[39mT\n\u001b[1;32m      5\u001b[0m xtilde\n\u001b[1;32m      6\u001b[0m \u001b[38;5;66;03m# -----------------------------------------------------\u001b[39;00m\n",
      "File \u001b[0;32m<__array_function__ internals>:180\u001b[0m, in \u001b[0;36minv\u001b[0;34m(*args, **kwargs)\u001b[0m\n",
      "File \u001b[0;32m~/opt/miniconda3/envs/OC_Project2/lib/python3.10/site-packages/numpy/linalg/linalg.py:552\u001b[0m, in \u001b[0;36minv\u001b[0;34m(a)\u001b[0m\n\u001b[1;32m    550\u001b[0m signature \u001b[38;5;241m=\u001b[39m \u001b[38;5;124m'\u001b[39m\u001b[38;5;124mD->D\u001b[39m\u001b[38;5;124m'\u001b[39m \u001b[38;5;28;01mif\u001b[39;00m isComplexType(t) \u001b[38;5;28;01melse\u001b[39;00m \u001b[38;5;124m'\u001b[39m\u001b[38;5;124md->d\u001b[39m\u001b[38;5;124m'\u001b[39m\n\u001b[1;32m    551\u001b[0m extobj \u001b[38;5;241m=\u001b[39m get_linalg_error_extobj(_raise_linalgerror_singular)\n\u001b[0;32m--> 552\u001b[0m ainv \u001b[38;5;241m=\u001b[39m \u001b[43m_umath_linalg\u001b[49m\u001b[38;5;241;43m.\u001b[39;49m\u001b[43minv\u001b[49m\u001b[43m(\u001b[49m\u001b[43ma\u001b[49m\u001b[43m,\u001b[49m\u001b[43m \u001b[49m\u001b[43msignature\u001b[49m\u001b[38;5;241;43m=\u001b[39;49m\u001b[43msignature\u001b[49m\u001b[43m,\u001b[49m\u001b[43m \u001b[49m\u001b[43mextobj\u001b[49m\u001b[38;5;241;43m=\u001b[39;49m\u001b[43mextobj\u001b[49m\u001b[43m)\u001b[49m\n\u001b[1;32m    553\u001b[0m \u001b[38;5;28;01mreturn\u001b[39;00m wrap(ainv\u001b[38;5;241m.\u001b[39mastype(result_t, copy\u001b[38;5;241m=\u001b[39m\u001b[38;5;28;01mFalse\u001b[39;00m))\n",
      "File \u001b[0;32m~/opt/miniconda3/envs/OC_Project2/lib/python3.10/site-packages/numpy/linalg/linalg.py:89\u001b[0m, in \u001b[0;36m_raise_linalgerror_singular\u001b[0;34m(err, flag)\u001b[0m\n\u001b[1;32m     88\u001b[0m \u001b[38;5;28;01mdef\u001b[39;00m \u001b[38;5;21m_raise_linalgerror_singular\u001b[39m(err, flag):\n\u001b[0;32m---> 89\u001b[0m     \u001b[38;5;28;01mraise\u001b[39;00m LinAlgError(\u001b[38;5;124m\"\u001b[39m\u001b[38;5;124mSingular matrix\u001b[39m\u001b[38;5;124m\"\u001b[39m)\n",
      "\u001b[0;31mLinAlgError\u001b[0m: Singular matrix"
     ]
    }
   ],
   "source": [
    "# -----------------------------------------------------\n",
    "# Train\n",
    "[U, S, VT] = np.linalg.svd(A_train_std, full_matrices=False)\n",
    "xtilde = VT.T @ np.linalg.inv(np.diag(S)) @ U.T @ btrain.T\n",
    "xtilde\n",
    "# -----------------------------------------------------"
   ]
  },
  {
   "cell_type": "markdown",
   "id": "1581f5e4",
   "metadata": {},
   "source": [
    "# Example: Residual Plot for Simple Linear Regression "
   ]
  },
  {
   "cell_type": "code",
   "execution_count": null,
   "id": "27971c94",
   "metadata": {},
   "outputs": [],
   "source": [
    "import numpy as np\n",
    "import pandas as pd\n",
    "#create dataset\n",
    "df = pd.DataFrame({'rating': [90, 85, 82, 88, 94, 90, 76, 75, 87, 86],\n",
    "                   'points': [25, 20, 14, 16, 27, 20, 12, 15, 14, 19],\n",
    "                   'assists': [5, 7, 7, 8, 5, 7, 6, 9, 9, 5],\n",
    "                   'rebounds': [11, 8, 10, 6, 6, 9, 6, 10, 10, 7]})\n",
    "\n",
    "#view dataset\n",
    "df"
   ]
  },
  {
   "cell_type": "code",
   "execution_count": null,
   "id": "637e88d5",
   "metadata": {},
   "outputs": [],
   "source": [
    "import matplotlib.pyplot as plt\n",
    "import statsmodels.api as sm\n",
    "from statsmodels.formula.api import ols"
   ]
  },
  {
   "cell_type": "code",
   "execution_count": null,
   "id": "73318f59",
   "metadata": {},
   "outputs": [],
   "source": [
    "#fit simple linear regression model\n",
    "model = ols('rating ~ points', data=df).fit()\n",
    "#view model summary\n",
    "print(model.summary())"
   ]
  },
  {
   "cell_type": "code",
   "execution_count": null,
   "id": "83746890",
   "metadata": {},
   "outputs": [],
   "source": [
    "##We can create a residual vs. fitted plot by using the plot_regress_exog() \n",
    "#function from the statsmodels library:\n",
    "#define figure size\n",
    "fig = plt.figure(figsize=(12,8))\n",
    "#produce regression plots\n",
    "fig = sm.graphics.plot_regress_exog(model, 'points', fig=fig)"
   ]
  },
  {
   "cell_type": "markdown",
   "id": "a1d4fb51",
   "metadata": {},
   "source": [
    "# Residual Plots for Multiple Linear Regression"
   ]
  },
  {
   "cell_type": "code",
   "execution_count": null,
   "id": "d363e509",
   "metadata": {},
   "outputs": [],
   "source": [
    "#fit multiple linear regression model\n",
    "model = ols('rating ~ assists + rebounds', data=df).fit()\n",
    "\n",
    "#view model summary\n",
    "print(model.summary())"
   ]
  },
  {
   "cell_type": "code",
   "execution_count": null,
   "id": "06adab83",
   "metadata": {},
   "outputs": [],
   "source": [
    "#create residual vs. predictor plot for 'assists'\n",
    "fig = plt.figure(figsize=(12,8))\n",
    "fig = sm.graphics.plot_regress_exog(model, 'assists', fig=fig)"
   ]
  },
  {
   "cell_type": "code",
   "execution_count": null,
   "id": "59c865d5",
   "metadata": {},
   "outputs": [],
   "source": [
    "#create residual vs. predictor plot for 'rebounds'\n",
    "fig = plt.figure(figsize=(12,8))\n",
    "fig = sm.graphics.plot_regress_exog(model, 'rebounds', fig=fig)"
   ]
  },
  {
   "cell_type": "code",
   "execution_count": null,
   "id": "eb88de39",
   "metadata": {},
   "outputs": [],
   "source": [
    "X = df[['assists', 'rebounds']]\n",
    "Y = df['assists']\n",
    "# Autre methode\n",
    "X=sm.add_constant(X)        #to add constant value in the model\n",
    "model= sm.OLS(Y,X).fit()         #fitting the model\n",
    "predictions= model.summary()      #summary of the model\n",
    "predictions"
   ]
  },
  {
   "cell_type": "code",
   "execution_count": null,
   "id": "6415ef45",
   "metadata": {},
   "outputs": [],
   "source": [
    "OLS_model = sm.OLS(y,x).fit()  # training the model\n",
    "predicted_values = OLS_model.predict()  # predicted values\n",
    "residual_values = OLS_model.resid # residual error"
   ]
  },
  {
   "cell_type": "code",
   "execution_count": null,
   "id": "c5debe40",
   "metadata": {},
   "outputs": [],
   "source": [
    "# importing modules and packages\n",
    "import pandas as pd\n",
    "import numpy as np\n",
    "import matplotlib.pyplot as plt\n",
    "import seaborn as sns\n",
    "from sklearn.model_selection import train_test_split\n",
    "from sklearn.linear_model import LinearRegression\n",
    "from sklearn.metrics import mean_squared_error, mean_absolute_error\n",
    "from sklearn import preprocessing\n",
    "\n",
    "# importing data\n",
    "df = pd.read_csv('Real estate.csv')\n",
    "df.drop('No', inplace=True, axis=1)\n",
    "\n",
    "print(df.head())\n",
    "\n",
    "print(df.columns)\n",
    "\n",
    "# plotting a scatterplot\n",
    "sns.scatterplot(x='X4 number of convenience stores',\n",
    "\t\t\t\ty='Y house price of unit area', data=df)\n",
    "\n",
    "# creating feature variables\n",
    "X = df.drop('Y house price of unit area', axis=1)\n",
    "y = df['Y house price of unit area']\n",
    "\n",
    "print(X)\n",
    "print(y)\n",
    "\n",
    "# creating train and test sets\n",
    "X_train, X_test, y_train, y_test = train_test_split(\n",
    "\tX, y, test_size=0.3, random_state=101)\n",
    "\n",
    "# creating a regression model\n",
    "model = LinearRegression()\n",
    "\n",
    "# fitting the model\n",
    "model.fit(X_train, y_train)\n",
    "\n",
    "# making predictions\n",
    "predictions = model.predict(X_test)\n",
    "\n",
    "# model evaluation\n",
    "print('mean_squared_error : ', mean_squared_error(y_test, predictions))\n",
    "print('mean_absolute_error : ', mean_absolute_error(y_test, predictions))\n"
   ]
  },
  {
   "cell_type": "markdown",
   "id": "c3566505",
   "metadata": {},
   "source": [
    "07-02-2023"
   ]
  },
  {
   "cell_type": "markdown",
   "id": "36b4122f",
   "metadata": {},
   "source": [
    "# Train a supervised ML model\n",
    "## Apply feature engineering to the Titanic dataset"
   ]
  },
  {
   "cell_type": "code",
   "execution_count": null,
   "id": "a3bf1f41",
   "metadata": {},
   "outputs": [],
   "source": [
    "import pandas as pd\n",
    "\n",
    "df = pd.read_csv(\"https://raw.githubusercontent.com/OpenClassrooms-Student-Center/Supervised-Learning/master/titanic.csv\")\n",
    "\n",
    "df.head()"
   ]
  },
  {
   "cell_type": "markdown",
   "id": "cd93607b",
   "metadata": {},
   "source": [
    "#Use the  isnull()  function to find the columns containing nulls. \n",
    "#Which feature contains the most nulls?"
   ]
  },
  {
   "cell_type": "code",
   "execution_count": null,
   "id": "fab3ea27",
   "metadata": {},
   "outputs": [],
   "source": [
    "df.isnull().sum()"
   ]
  },
  {
   "cell_type": "markdown",
   "id": "df2a42b6",
   "metadata": {},
   "source": [
    "##quest2\n",
    "The Pclass feature is the ticket class. Use the  unique() and  value_counts()  functions to understand the feature. What would be a good strategy for processing it?"
   ]
  },
  {
   "cell_type": "code",
   "execution_count": null,
   "id": "e92d3985",
   "metadata": {},
   "outputs": [],
   "source": [
    "\n",
    "df.Pclass.nunique()"
   ]
  },
  {
   "cell_type": "code",
   "execution_count": null,
   "id": "6a5df8d6",
   "metadata": {},
   "outputs": [],
   "source": [
    "ij=0\n",
    "for tclass in df.Pclass.unique():\n",
    "    subset = df.loc[df['Pclass']==tclass]\n",
    "    print(tclass, len(subset))\n",
    "    #amount = df[df['Pclass']==tclass]"
   ]
  },
  {
   "cell_type": "markdown",
   "id": "40e84122",
   "metadata": {},
   "source": [
    "##quest3\n",
    "Use binning to split the Fare feature into four equal bands based on the quartile boundaries. Call the bands Q1, Q2, Q3, and Q4. Use the  describe()  function to determine the quartile boundaries, then use cut() to create the bins.  Finally, group on the new binned category, and find the range of values in each band."
   ]
  },
  {
   "cell_type": "code",
   "execution_count": null,
   "id": "d3157672",
   "metadata": {},
   "outputs": [],
   "source": [
    "#df_copy = pd.get_dummies(df.Pclass, np.int64)\n",
    "df.Fare.quantile([0.25, 0.5, 0.75, 1])"
   ]
  },
  {
   "cell_type": "code",
   "execution_count": null,
   "id": "b0f38e76",
   "metadata": {},
   "outputs": [],
   "source": [
    "# quest3\n",
    "binned = pd.cut(df.Fare, bins = df.Fare.quantile([0, 0.25, 0.5, 0.75, 1]).values, \n",
    "                                                     labels = [\"Q1\",\"Q2\",\"Q3\", \"Q4\"])\n",
    "\n",
    "# Add the binned values as a new categorical feature\n"
   ]
  },
  {
   "cell_type": "code",
   "execution_count": null,
   "id": "a1904c47",
   "metadata": {},
   "outputs": [],
   "source": [
    "df.Fare.quantile([0, 0.25, 0.5, 0.75]).values"
   ]
  },
  {
   "cell_type": "code",
   "execution_count": null,
   "id": "948775e8",
   "metadata": {},
   "outputs": [],
   "source": [
    "df[\"fare_range\"] = binned"
   ]
  },
  {
   "cell_type": "code",
   "execution_count": null,
   "id": "122f8ee4",
   "metadata": {},
   "outputs": [],
   "source": [
    "for fr in df.fare_range.unique():\n",
    "    subset = df.loc[df['fare_range']==fr]\n",
    "    print('min value of ', fr ,'is', subset.Fare.min(), '\\n'\n",
    "         'max value of ', fr, 'is', subset.Fare.max())"
   ]
  },
  {
   "cell_type": "code",
   "execution_count": null,
   "id": "eca52003",
   "metadata": {},
   "outputs": [],
   "source": [
    "#quest4: Examine the Age column.\n",
    "df.Age.info()"
   ]
  },
  {
   "cell_type": "code",
   "execution_count": null,
   "id": "37f72410",
   "metadata": {},
   "outputs": [],
   "source": [
    "df.loc[df.Age.isnull()]"
   ]
  },
  {
   "cell_type": "code",
   "execution_count": null,
   "id": "278f92cf",
   "metadata": {},
   "outputs": [],
   "source": [
    "df.Cabin.unique()"
   ]
  },
  {
   "cell_type": "code",
   "execution_count": null,
   "id": "89cf74d8",
   "metadata": {},
   "outputs": [],
   "source": [
    "#quest5\n",
    "df[['Deck', 'Deck_level']] = df.Cabin.str.extract('([a-zA-Z]+)(\\d+\\.?\\d+)', expand=True)\n",
    "#result.columns = ['Text', 'Number']\n",
    "#result.set_index('Text')\n",
    "df.head()"
   ]
  },
  {
   "cell_type": "code",
   "execution_count": null,
   "id": "03da70b6",
   "metadata": {},
   "outputs": [],
   "source": [
    "df[\"Deck\"]  = df[\"Cabin\"].str[0]"
   ]
  },
  {
   "cell_type": "code",
   "execution_count": null,
   "id": "f716512a",
   "metadata": {},
   "outputs": [],
   "source": [
    "df.Deck.unique()"
   ]
  },
  {
   "cell_type": "code",
   "execution_count": null,
   "id": "32a32784",
   "metadata": {},
   "outputs": [],
   "source": [
    "for deckpass in df.Deck.unique():\n",
    "    subset = df[df['Deck']==deckpass]\n",
    "    print (deckpass, len(subset))"
   ]
  },
  {
   "cell_type": "code",
   "execution_count": null,
   "id": "a42880d9",
   "metadata": {},
   "outputs": [],
   "source": [
    "df[df.Deck.isna()]"
   ]
  },
  {
   "cell_type": "code",
   "execution_count": null,
   "id": "080b8706",
   "metadata": {},
   "outputs": [],
   "source": [
    "df.dropna().groupby(['Deck', 'Pclass']).sum(numeric_only=True)"
   ]
  },
  {
   "cell_type": "code",
   "execution_count": null,
   "id": "d98fc95a",
   "metadata": {},
   "outputs": [],
   "source": [
    "df.Deck.fillna(value = 'unknown', inplace=True)"
   ]
  },
  {
   "cell_type": "code",
   "execution_count": null,
   "id": "a52d43b6",
   "metadata": {},
   "outputs": [],
   "source": [
    "len(df[df.Deck=='unknown'])"
   ]
  },
  {
   "cell_type": "code",
   "execution_count": null,
   "id": "1e60f314",
   "metadata": {},
   "outputs": [],
   "source": [
    "df.Deck.value_counts()"
   ]
  },
  {
   "cell_type": "code",
   "execution_count": null,
   "id": "6301dfc2",
   "metadata": {},
   "outputs": [],
   "source": [
    "df.groupby(\"Deck\")[\"Survived\"].mean()"
   ]
  },
  {
   "cell_type": "code",
   "execution_count": null,
   "id": "638cb20d",
   "metadata": {},
   "outputs": [],
   "source": []
  }
 ],
 "metadata": {
  "kernelspec": {
   "display_name": "OC_Project2",
   "language": "python",
   "name": "oc_project2"
  },
  "language_info": {
   "codemirror_mode": {
    "name": "ipython",
    "version": 3
   },
   "file_extension": ".py",
   "mimetype": "text/x-python",
   "name": "python",
   "nbconvert_exporter": "python",
   "pygments_lexer": "ipython3",
   "version": "3.10.8"
  },
  "toc": {
   "base_numbering": 1,
   "nav_menu": {},
   "number_sections": true,
   "sideBar": true,
   "skip_h1_title": false,
   "title_cell": "Table of Contents",
   "title_sidebar": "Contents",
   "toc_cell": false,
   "toc_position": {
    "height": "calc(100% - 180px)",
    "left": "10px",
    "top": "150px",
    "width": "165px"
   },
   "toc_section_display": true,
   "toc_window_display": true
  }
 },
 "nbformat": 4,
 "nbformat_minor": 5
}
