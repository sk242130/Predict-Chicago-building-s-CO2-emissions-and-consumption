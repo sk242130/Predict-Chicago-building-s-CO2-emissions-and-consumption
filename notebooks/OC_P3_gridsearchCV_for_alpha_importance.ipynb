{
 "cells": [
  {
   "cell_type": "code",
   "execution_count": null,
   "id": "f65198af",
   "metadata": {},
   "outputs": [],
   "source": [
    "# Create 5 folds\n",
    "seed = 13\n",
    "kfold = KFold(n_splits=5, shuffle=True, random_state=seed)\n",
    "\n",
    "# Create model\n",
    "model_rcv = RidgeCV(cv=kfold)\n",
    "\n",
    "#Fit model\n",
    "model_rcv.fit(X_train, y_train)\n",
    "predictions = model_rcv.predict(X_train)\n",
    "print(\"Train:\", r2_score(y_train, predictions))\n",
    "\n",
    "# Evaluate\n",
    "predictions = model_rcv.predict(X_test)\n",
    "print(\"Test:\", r2_score(y_test, predictions))\n",
    "\n",
    "print(\"Alpha:\", model_rcv.alpha_)"
   ]
  },
  {
   "cell_type": "code",
   "execution_count": 1,
   "id": "29657ea4",
   "metadata": {},
   "outputs": [],
   "source": [
    "import numpy as np\n",
    "from sklearn.metrics import mean_squared_error\n"
   ]
  },
  {
   "cell_type": "code",
   "execution_count": null,
   "id": "c94daf8b",
   "metadata": {},
   "outputs": [],
   "source": [
    "from sklearn.datasets import make_friedman1\n",
    "from sklearn.ensemble import GradientBoostingRegressor\n",
    "est = GradientBoostingRegressor(\n",
    "n_estimators=100, learning_rate=0.1, max_depth=1, random_state=0,\n",
    "    loss='squared_error' ).fit(X_train, y_train)\n",
    "mean_squared_error(y_test, est.predict(X_test))"
   ]
  }
 ],
 "metadata": {
  "kernelspec": {
   "display_name": "OC_Project2",
   "language": "python",
   "name": "oc_project2"
  },
  "language_info": {
   "codemirror_mode": {
    "name": "ipython",
    "version": 3
   },
   "file_extension": ".py",
   "mimetype": "text/x-python",
   "name": "python",
   "nbconvert_exporter": "python",
   "pygments_lexer": "ipython3",
   "version": "3.10.8"
  },
  "toc": {
   "base_numbering": 1,
   "nav_menu": {},
   "number_sections": true,
   "sideBar": true,
   "skip_h1_title": false,
   "title_cell": "Table of Contents",
   "title_sidebar": "Contents",
   "toc_cell": false,
   "toc_position": {},
   "toc_section_display": true,
   "toc_window_display": false
  }
 },
 "nbformat": 4,
 "nbformat_minor": 5
}
