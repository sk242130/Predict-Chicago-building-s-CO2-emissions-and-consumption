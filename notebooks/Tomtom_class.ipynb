{
 "cells": [
  {
   "cell_type": "code",
   "execution_count": 1,
   "metadata": {},
   "outputs": [],
   "source": [
    "import pandas as pd\n",
    "import seaborn as sns\n",
    "from IPython.display import clear_output"
   ]
  },
  {
   "cell_type": "code",
   "execution_count": 2,
   "metadata": {},
   "outputs": [],
   "source": [
    "# Function for replacing space with '_' in columns of a df\n",
    "def replace_space(dataset):\n",
    "    df = dataset.select_dtypes(include=['object'])\n",
    "    df = df.stack().str.replace(' ', '_').unstack()\n",
    "    # modif du 8/2/2023\n",
    "    for col in df.columns:\n",
    "        dataset[col] = df[col]\n",
    "    return dataset\n",
    "\n",
    "class Process:\n",
    "    def __init__(self, path):\n",
    "        self.path = path\n",
    "        self.imported_data = pd.read_csv(path, low_memory=False)\n",
    "        print(\"CSV imported\")\n",
    "        self._compute_nan_P()\n",
    "        self._columns_title_format()\n",
    "        self.processed_data = self.imported_data.copy()\n",
    "    def _columns_title_format(self):\n",
    "        data_columns = list(self.imported_data.columns)\n",
    "        data_columns = [col.title() for col in data_columns]\n",
    "        self.imported_data.columns = data_columns\n",
    "        print(\"Formatted columns title\")\n",
    "        return self.imported_data\n",
    "    def _compute_nan_P(self):\n",
    "        data_isna_P = (self.imported_data.isna().sum()) * 100/len(self.imported_data)\n",
    "        cols = [x for x in range (self.imported_data.shape[1])]\n",
    "        count =0\n",
    "        print(\"Printing removed columns...\")\n",
    "        for ii in data_isna_P.index:\n",
    "            count +=1\n",
    "            if (data_isna_P[ii] > 55):\n",
    "                cols.remove(count-1)\n",
    "                print (\"\\t\", ii)\n",
    "            else:\n",
    "                continue\n",
    "        self.imported_data = self.imported_data.iloc[:, cols]\n",
    "    \n",
    "    def droping_nan_variable(self, variable_col):\n",
    "        # variable_Col is to be given between quotations\n",
    "        cond2_droping_nan_Variable = self.processed_data[variable_col].notna()\n",
    "        df_new_data = self.processed_data[cond2_droping_nan_Variable]\n",
    "        return df_new_data\n",
    "    \n",
    "class MyPlots:\n",
    "    def __init__(self, df):\n",
    "        self.df = df\n",
    "        self.ax = None\n",
    "    def my_barplot(self, feature):\n",
    "        ## barplot of a Property main use type after discarding residential buildings (multifamily)\n",
    "        count_qualiVar = self.df[feature].value_counts()\n",
    "        ax = sns.barplot(y=count_qualiVar.index, x=count_qualiVar.values)\n",
    "        ax.bar_label(ax.containers[0])\n",
    "        self.ax = ax\n",
    "        plt.show()\n",
    " \n"
   ]
  },
  {
   "cell_type": "code",
   "execution_count": null,
   "metadata": {},
   "outputs": [],
   "source": []
  },
  {
   "cell_type": "code",
   "execution_count": 3,
   "metadata": {},
   "outputs": [],
   "source": [
    "datas = pd.read_csv('/Users/souha_kassab/OC_project3/static/csv/2016_Building_Energy_Benchmarking.csv', \n",
    "                            index_col=[0])"
   ]
  },
  {
   "cell_type": "code",
   "execution_count": 4,
   "metadata": {},
   "outputs": [
    {
     "name": "stdout",
     "output_type": "stream",
     "text": [
      "CSV imported\n",
      "Printing removed columns...\n",
      "Formatted columns title\n"
     ]
    }
   ],
   "source": [
    "path = \"/Users/souha_kassab/OC_project3/static/csv/first_clean_dataset_3_3.csv\"\n",
    "process = Process(path)"
   ]
  },
  {
   "cell_type": "code",
   "execution_count": 5,
   "metadata": {},
   "outputs": [],
   "source": [
    "process.processed_data = replace_space(process.imported_data)\n",
    "process.processed_data = process.droping_nan_variable('Siteenergyuse(Kbtu)')\n"
   ]
  },
  {
   "cell_type": "code",
   "execution_count": null,
   "metadata": {},
   "outputs": [],
   "source": [
    "import matplotlib.pyplot as plt\n",
    "my_plot = MyPlots(datas)\n",
    "my_plot.my_barplot(feature='Primarypropertytype')"
   ]
  },
  {
   "cell_type": "code",
   "execution_count": null,
   "metadata": {
    "scrolled": true
   },
   "outputs": [],
   "source": [
    "my_plot.show()"
   ]
  },
  {
   "cell_type": "code",
   "execution_count": null,
   "metadata": {},
   "outputs": [],
   "source": [
    "my_plot = MyPlots(datas)\n",
    "my_plot.my_scatterplot(datas, ['Non_residential'], ['Totalghgemissions'], ['Neighborhood'])"
   ]
  },
  {
   "cell_type": "markdown",
   "metadata": {},
   "source": [
    "# Steps for building and evaluating a regression model\n",
    "## Import necessary packages \n",
    "## Import data\n",
    "## Understand the data\n",
    "### Histograms to understand each individual feature\n",
    "### Pairplots to understand features inter-dependence\n",
    "## Prepare data\n",
    "### Select features and split into predicators (input) and target (output)\n",
    "### Scale features\n",
    "## Build Models \n",
    "### Split into testing and training set\n",
    "### Fit model\n",
    "### Check model\n",
    "metrics for model comparison or error distribution for model evaluation\n",
    "## Iterate\n",
    "### interpret linear regression by visualizing coefs and intercept\n",
    "### go back to cleaning if must"
   ]
  },
  {
   "cell_type": "code",
   "execution_count": 6,
   "metadata": {},
   "outputs": [],
   "source": [
    "## PCA class\n"
   ]
  },
  {
   "cell_type": "code",
   "execution_count": null,
   "metadata": {},
   "outputs": [],
   "source": []
  }
 ],
 "metadata": {
  "kernelspec": {
   "display_name": "Python 3 (ipykernel)",
   "language": "python",
   "name": "python3"
  },
  "language_info": {
   "codemirror_mode": {
    "name": "ipython",
    "version": 3
   },
   "file_extension": ".py",
   "mimetype": "text/x-python",
   "name": "python",
   "nbconvert_exporter": "python",
   "pygments_lexer": "ipython3",
   "version": "3.9.12"
  },
  "toc": {
   "base_numbering": 1,
   "nav_menu": {},
   "number_sections": true,
   "sideBar": true,
   "skip_h1_title": false,
   "title_cell": "Table of Contents",
   "title_sidebar": "Contents",
   "toc_cell": false,
   "toc_position": {},
   "toc_section_display": true,
   "toc_window_display": false
  }
 },
 "nbformat": 4,
 "nbformat_minor": 2
}
