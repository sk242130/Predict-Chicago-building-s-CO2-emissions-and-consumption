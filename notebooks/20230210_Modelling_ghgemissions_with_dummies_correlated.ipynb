{
 "cells": [
  {
   "cell_type": "markdown",
   "id": "afb20eb3",
   "metadata": {},
   "source": [
    "# Starters\n",
    "## Import Packages"
   ]
  },
  {
   "cell_type": "code",
   "execution_count": 1,
   "id": "7ac7add7",
   "metadata": {},
   "outputs": [],
   "source": [
    "from urllib import request\n",
    "import pandas as pd\n",
    "import matplotlib.pyplot as plt\n",
    "import seaborn as sns\n",
    "sns.set()\n",
    "import numpy as np"
   ]
  },
  {
   "cell_type": "code",
   "execution_count": 2,
   "id": "371e33d8",
   "metadata": {},
   "outputs": [],
   "source": [
    "sns.set_style('darkgrid')"
   ]
  },
  {
   "cell_type": "markdown",
   "id": "6f1e1230",
   "metadata": {},
   "source": [
    "## Helpers functions"
   ]
  },
  {
   "cell_type": "code",
   "execution_count": 3,
   "id": "a80e37ce",
   "metadata": {},
   "outputs": [],
   "source": [
    "# Function to quickly describe data\n",
    "def data_desc(my_imported_data):\n",
    "    print(my_imported_data.dropna(how = 'all').shape) #pour voir si certaines lignes comportent des valeurs NaN partout (Non)\n",
    "    print(my_imported_data.shape)\n",
    "    return(my_imported_data.dtypes)\n",
    "\n",
    "# Function to return in a dictionary ratio of nan values per variable sorted in descending order\n",
    "def display_nan_Values(my_imported_data):\n",
    "    nan_dict = {my_imported_data.columns[var]: my_imported_data.iloc[:,var].isna().mean()\n",
    "                     for var in range(my_imported_data.shape[1])}\n",
    "    sorted_dict_by_nanvalues = sorted(nan_dict.items(), key=lambda x:x[1], reverse=True)\n",
    "    sorted_dict = dict(sorted_dict_by_nanvalues)\n",
    "    return sorted_dict\n",
    "\n",
    "# Function for replacing UPPERCASE with lowercase in variables names using title()\n",
    "def columns_title_format(my_imported_data): \n",
    "    data_columns = list(my_imported_data.columns)\n",
    "    data_columns = [col.title() for col in data_columns]\n",
    "    print(data_columns)\n",
    "    my_imported_data.columns = data_columns\n",
    "    my_imported_data.head()\n",
    "    return my_imported_data\n",
    "\n",
    "# Function To project a variable onto a dataframe\n",
    "def present_variable_in_tab(my_dataset, variable_col, variable_new_name):\n",
    "    effectifs = my_dataset[variable_col].value_counts()\n",
    "    modalites = effectifs.index # l'index des effectifs contient les modalités\n",
    "\n",
    "    tab = pd.DataFrame(modalites, columns = [variable_new_name]) # création du tableau à partir des modalités\n",
    "    tab[\"n\"] = effectifs.values\n",
    "    tab[\"f\"] = tab[\"n\"] / len(my_dataset) # len(data) renvoie la taille de l'échantillon\n",
    "    tab = tab.sort_values(by=[variable_new_name]) #n would be of use if many values had a on the first column of nutrigrade\n",
    "    #tab.index = [1, 2, 3 ,4 ,5]\n",
    "    return(tab)\n"
   ]
  },
  {
   "cell_type": "code",
   "execution_count": 4,
   "id": "c7ba1034",
   "metadata": {},
   "outputs": [],
   "source": [
    "# Function to estimate percentage of null values for each variable in the dataset\n",
    "def compute_nan_P(dataset):\n",
    "    data_isna_P = (dataset.isna().sum()) * 100/len(dataset)\n",
    "    cols = [x for x in range (dataset.shape[1])]\n",
    "    count =0\n",
    "    for ii in data_isna_P.index:\n",
    "        count +=1\n",
    "        if (data_isna_P[ii] > 55):\n",
    "            #countna = +1\n",
    "            cols.remove(count-1)\n",
    "            print (ii)\n",
    "        else:\n",
    "            continue\n",
    "    return (data_isna_P, cols)"
   ]
  },
  {
   "cell_type": "code",
   "execution_count": 5,
   "id": "d4d94af6",
   "metadata": {},
   "outputs": [],
   "source": [
    "# Function to compute linear regression\n",
    "def iterate_regression(X, y):\n",
    "    Lr = LinearRegression()\n",
    "\n",
    "    # step1(): train_test_split\n",
    "    x_train, x_test, y_train, y_test = train_test_split(X, y, train_size=0.8)        \n",
    "    plt.scatter(x_train, y_train, label = 'Training data', color = 'red', alpha=.7)\n",
    "    plt.scatter (x_test, y_test, label ='Testing data', color ='g', alpha=.7)\n",
    "    plt.legend()\n",
    "    plt.title('Test Train Split')\n",
    "    plt.show()\n",
    "    # step2(): fit\n",
    "    Lr.fit(x_train.values.reshape(-1, 1), y_train.values)\n",
    "    # step3(): predict\n",
    "    prediction = Lr.predict(x_test.values.reshape(-1, 1))\n",
    "    plt.plot(x_test, prediction, label ='Linear Regression', color ='b')\n",
    "    plt.scatter(x_test, y_test, label ='Test data', color ='g', alpha=.7)\n",
    "    plt.legend()\n",
    "    plt.show()\n",
    "    # step 4: Compute score \n",
    "    FirstReg_score = Lr.score(x_test.values.reshape(-1, 1), y_test.values)\n",
    "    Lr.get_params(deep=True)"
   ]
  },
  {
   "cell_type": "code",
   "execution_count": 6,
   "id": "e7c67578",
   "metadata": {},
   "outputs": [],
   "source": [
    "def correlation_graph(pca, \n",
    "                      x_y, \n",
    "                      features) : \n",
    "    \"\"\"Affiche le graphe des correlations\n",
    "\n",
    "    Positional arguments : \n",
    "    -----------------------------------\n",
    "    pca : sklearn.decomposition.PCA : notre objet PCA qui a été fit\n",
    "    x_y : list ou tuple : le couple x,y des plans à afficher, exemple [0,1] pour F1, F2\n",
    "    features : list ou tuple : la liste des features (ie des dimensions) à représenter\n",
    "    \"\"\"\n",
    "\n",
    "    # Extrait x et y \n",
    "    x,y=x_y\n",
    "\n",
    "    # Taille de l'image (en inches)\n",
    "    fig, ax = plt.subplots(figsize=(10, 9))\n",
    "\n",
    "    # Pour chaque composante : \n",
    "    for i in range(0, pca.components_.shape[1]):\n",
    "\n",
    "        # Les flèches\n",
    "        ax.arrow(0,0, \n",
    "                pca.components_[x, i],  \n",
    "                pca.components_[y, i],  \n",
    "                head_width=0.07,\n",
    "                head_length=0.07, \n",
    "                width=0.02, )\n",
    "\n",
    "        # Les labels\n",
    "        plt.text(pca.components_[x, i] + 0.05,\n",
    "                pca.components_[y, i] + 0.05,\n",
    "                features[i])\n",
    "        \n",
    "    # Affichage des lignes horizontales et verticales\n",
    "    plt.plot([-1, 1], [0, 0], color='grey', ls='--')\n",
    "    plt.plot([0, 0], [-1, 1], color='grey', ls='--')\n",
    "\n",
    "    # Nom des axes, avec le pourcentage d'inertie expliqué\n",
    "    plt.xlabel('F{} ({}%)'.format(x+1, round(100*pca.explained_variance_ratio_[x],1)))\n",
    "    plt.ylabel('F{} ({}%)'.format(y+1, round(100*pca.explained_variance_ratio_[y],1)))\n",
    "\n",
    "    # Le cercle \n",
    "    an = np.linspace(0, 2 * np.pi, 100)\n",
    "    plt.plot(np.cos(an), np.sin(an))  # Add a unit circle for scale\n",
    "\n",
    "    # Axes et display\n",
    "    plt.axis('equal')\n",
    "    plt.show(block=False)\n"
   ]
  },
  {
   "cell_type": "code",
   "execution_count": 7,
   "id": "400454af",
   "metadata": {},
   "outputs": [],
   "source": [
    "# Function to display fcatorial planes\n",
    "def display_factorial_planes(   X_projected, \n",
    "                                x_y, \n",
    "                                pca=None, \n",
    "                                labels = None,\n",
    "                                clusters=None, \n",
    "                                alpha=1,\n",
    "                                figsize=[10,8], \n",
    "                                marker=\".\" ):\n",
    "    \"\"\"\n",
    "    Affiche la projection des individus\n",
    "\n",
    "    Positional arguments : \n",
    "    -------------------------------------\n",
    "    X_projected : np.array, pd.DataFrame, list of list : la matrice des points projetés\n",
    "    x_y : list ou tuple : le couple x,y des plans à afficher, exemple [0,1] pour F1, F2\n",
    "\n",
    "    Optional arguments : \n",
    "    -------------------------------------\n",
    "    pca : sklearn.decomposition.PCA : un objet PCA qui a été fit, cela nous permettra d'afficher la variance de chaque composante, default = None\n",
    "    labels : list ou tuple : les labels des individus à projeter, default = None\n",
    "    clusters : list ou tuple : la liste des clusters auquel appartient chaque individu, default = None\n",
    "    alpha : float in [0,1] : paramètre de transparence, 0=100% transparent, 1=0% transparent, default = 1\n",
    "    figsize : list ou tuple : couple width, height qui définit la taille de la figure en inches, default = [10,8] \n",
    "    marker : str : le type de marker utilisé pour représenter les individus, points croix etc etc, default = \".\"\n",
    "    \"\"\"\n",
    "\n",
    "    # Transforme X_projected en np.array\n",
    "    X_ = np.array(X_projected)\n",
    "\n",
    "    # On définit la forme de la figure si elle n'a pas été donnée\n",
    "    if not figsize: \n",
    "        figsize = (7,6)\n",
    "\n",
    "    # On gère les labels\n",
    "    if  labels is None : \n",
    "        labels = []\n",
    "    try : \n",
    "        len(labels)\n",
    "    except Exception as e : \n",
    "        raise e\n",
    "\n",
    "    # On vérifie la variable axis \n",
    "    if not len(x_y) ==2 : \n",
    "        raise AttributeError(\"2 axes sont demandées\")   \n",
    "    if max(x_y )>= X_.shape[1] : \n",
    "        raise AttributeError(\"la variable axis n'est pas bonne\")   \n",
    "\n",
    "    # on définit x et y \n",
    "    x, y = x_y\n",
    "\n",
    "    # Initialisation de la figure       \n",
    "    fig, ax = plt.subplots(1, 1, figsize=figsize)\n",
    "\n",
    "    # On vérifie s'il y a des clusters ou non\n",
    "    c = None if clusters is None else clusters\n",
    " \n",
    "    sns.scatterplot(data=None, x=X_[:, x], y=X_[:, y], hue=c)\n",
    "\n",
    "    # Si la variable pca a été fournie, on peut calculer le % de variance de chaque axe \n",
    "    if pca : \n",
    "        v1 = str(round(100*pca.explained_variance_ratio_[x]))  + \" %\"\n",
    "        v2 = str(round(100*pca.explained_variance_ratio_[y]))  + \" %\"\n",
    "    else : \n",
    "        v1=v2= ''\n",
    "\n",
    "    # Nom des axes, avec le pourcentage d'inertie expliqué\n",
    "    ax.set_xlabel(f'F{x+1} {v1}')\n",
    "    ax.set_ylabel(f'F{y+1} {v2}')\n",
    "\n",
    "    # Valeur x max et y max\n",
    "    x_max = np.abs(X_[:, x]).max() *1.1\n",
    "    y_max = np.abs(X_[:, y]).max() *1.1\n",
    "\n",
    "    # On borne x et y \n",
    "    ax.set_xlim(left=-x_max, right=x_max)\n",
    "    ax.set_ylim(bottom= -y_max, top=y_max)\n",
    "\n",
    "    # Affichage des lignes horizontales et verticales\n",
    "    plt.plot([-x_max, x_max], [0, 0], color='grey', alpha=0.8)\n",
    "    plt.plot([0,0], [-y_max, y_max], color='grey', alpha=0.8)\n",
    "\n",
    "    # Affichage des labels des points\n",
    "    if len(labels) : \n",
    "        # j'ai copié collé la fonction sans la lire\n",
    "        for i,(_x,_y) in enumerate(X_[:,[x,y]]):\n",
    "            plt.text(_x, _y+0.05, labels[i], fontsize='14', ha='center',va='center') \n",
    "\n",
    "    # Titre et display\n",
    "    plt.title(f\"Projection des individus (sur F{x+1} et F{y+1})\")\n",
    "    plt.show()"
   ]
  },
  {
   "cell_type": "markdown",
   "id": "62bb7b26",
   "metadata": {},
   "source": [
    "# Exploratory Analysis"
   ]
  },
  {
   "cell_type": "markdown",
   "id": "1ac576cb",
   "metadata": {},
   "source": [
    "## Import Data"
   ]
  },
  {
   "cell_type": "raw",
   "id": "6672cb25",
   "metadata": {},
   "source": [
    "explored_dataset.to_csv('/Users/souha_kassab/OC_project3/static/csv/explored_dataset_mu;tifmaily_31123.csv')"
   ]
  },
  {
   "cell_type": "code",
   "execution_count": 8,
   "id": "feefdb02",
   "metadata": {},
   "outputs": [],
   "source": [
    "explored_dataset = pd.read_csv('/Users/souha_kassab/OC_project3/static/csv/explored_dataset_20230211.csv', \n",
    "                               index_col=[0])"
   ]
  },
  {
   "cell_type": "code",
   "execution_count": 9,
   "id": "a8a5077a",
   "metadata": {
    "scrolled": true
   },
   "outputs": [
    {
     "data": {
      "text/html": [
       "<div>\n",
       "<style scoped>\n",
       "    .dataframe tbody tr th:only-of-type {\n",
       "        vertical-align: middle;\n",
       "    }\n",
       "\n",
       "    .dataframe tbody tr th {\n",
       "        vertical-align: top;\n",
       "    }\n",
       "\n",
       "    .dataframe thead th {\n",
       "        text-align: right;\n",
       "    }\n",
       "</style>\n",
       "<table border=\"1\" class=\"dataframe\">\n",
       "  <thead>\n",
       "    <tr style=\"text-align: right;\">\n",
       "      <th></th>\n",
       "      <th>Buildingtype</th>\n",
       "      <th>Primarypropertytype</th>\n",
       "      <th>Propertyname</th>\n",
       "      <th>Address</th>\n",
       "      <th>Zipcode</th>\n",
       "      <th>Councildistrictcode</th>\n",
       "      <th>Neighborhood</th>\n",
       "      <th>Latitude</th>\n",
       "      <th>Longitude</th>\n",
       "      <th>Yearbuilt</th>\n",
       "      <th>...</th>\n",
       "      <th>Siteenergyuse(Kbtu)</th>\n",
       "      <th>Steamuse(Kbtu)</th>\n",
       "      <th>Electricity(Kbtu)</th>\n",
       "      <th>Naturalgas(Kbtu)</th>\n",
       "      <th>Non_residential</th>\n",
       "      <th>False</th>\n",
       "      <th>compliant</th>\n",
       "      <th>error_-_correct_default_data</th>\n",
       "      <th>missing_data</th>\n",
       "      <th>Totalghgemissions</th>\n",
       "    </tr>\n",
       "  </thead>\n",
       "  <tbody>\n",
       "    <tr>\n",
       "      <th>0</th>\n",
       "      <td>nonresidential</td>\n",
       "      <td>hotel</td>\n",
       "      <td>mayflower_park_hotel</td>\n",
       "      <td>405_olive_way</td>\n",
       "      <td>98101.0</td>\n",
       "      <td>7</td>\n",
       "      <td>downtown</td>\n",
       "      <td>47.61220</td>\n",
       "      <td>-122.33799</td>\n",
       "      <td>1927</td>\n",
       "      <td>...</td>\n",
       "      <td>7226362.5</td>\n",
       "      <td>2003882.00</td>\n",
       "      <td>3946027.0</td>\n",
       "      <td>1276453.0</td>\n",
       "      <td>1</td>\n",
       "      <td>1</td>\n",
       "      <td>1</td>\n",
       "      <td>0</td>\n",
       "      <td>0</td>\n",
       "      <td>249.98</td>\n",
       "    </tr>\n",
       "    <tr>\n",
       "      <th>1</th>\n",
       "      <td>nonresidential</td>\n",
       "      <td>hotel</td>\n",
       "      <td>paramount_hotel</td>\n",
       "      <td>724_pine_street</td>\n",
       "      <td>98101.0</td>\n",
       "      <td>7</td>\n",
       "      <td>downtown</td>\n",
       "      <td>47.61317</td>\n",
       "      <td>-122.33393</td>\n",
       "      <td>1996</td>\n",
       "      <td>...</td>\n",
       "      <td>8387933.0</td>\n",
       "      <td>0.00</td>\n",
       "      <td>3242851.0</td>\n",
       "      <td>5145082.0</td>\n",
       "      <td>1</td>\n",
       "      <td>1</td>\n",
       "      <td>1</td>\n",
       "      <td>0</td>\n",
       "      <td>0</td>\n",
       "      <td>295.86</td>\n",
       "    </tr>\n",
       "    <tr>\n",
       "      <th>2</th>\n",
       "      <td>nonresidential</td>\n",
       "      <td>hotel</td>\n",
       "      <td>5673-the_westin_seattle</td>\n",
       "      <td>1900_5th_avenue</td>\n",
       "      <td>98101.0</td>\n",
       "      <td>7</td>\n",
       "      <td>downtown</td>\n",
       "      <td>47.61393</td>\n",
       "      <td>-122.33810</td>\n",
       "      <td>1969</td>\n",
       "      <td>...</td>\n",
       "      <td>72587024.0</td>\n",
       "      <td>21566554.00</td>\n",
       "      <td>49526664.0</td>\n",
       "      <td>1493800.0</td>\n",
       "      <td>1</td>\n",
       "      <td>1</td>\n",
       "      <td>1</td>\n",
       "      <td>0</td>\n",
       "      <td>0</td>\n",
       "      <td>2089.28</td>\n",
       "    </tr>\n",
       "    <tr>\n",
       "      <th>3</th>\n",
       "      <td>nonresidential</td>\n",
       "      <td>hotel</td>\n",
       "      <td>hotel_max</td>\n",
       "      <td>620_stewart_st</td>\n",
       "      <td>98101.0</td>\n",
       "      <td>7</td>\n",
       "      <td>downtown</td>\n",
       "      <td>47.61412</td>\n",
       "      <td>-122.33664</td>\n",
       "      <td>1926</td>\n",
       "      <td>...</td>\n",
       "      <td>6794584.0</td>\n",
       "      <td>2214446.25</td>\n",
       "      <td>2768924.0</td>\n",
       "      <td>1811213.0</td>\n",
       "      <td>1</td>\n",
       "      <td>1</td>\n",
       "      <td>1</td>\n",
       "      <td>0</td>\n",
       "      <td>0</td>\n",
       "      <td>286.43</td>\n",
       "    </tr>\n",
       "    <tr>\n",
       "      <th>4</th>\n",
       "      <td>nonresidential</td>\n",
       "      <td>hotel</td>\n",
       "      <td>warwick_seattle_hotel_(id8)</td>\n",
       "      <td>401_lenora_st</td>\n",
       "      <td>98121.0</td>\n",
       "      <td>7</td>\n",
       "      <td>downtown</td>\n",
       "      <td>47.61375</td>\n",
       "      <td>-122.34047</td>\n",
       "      <td>1980</td>\n",
       "      <td>...</td>\n",
       "      <td>14172606.0</td>\n",
       "      <td>0.00</td>\n",
       "      <td>5368607.0</td>\n",
       "      <td>8803998.0</td>\n",
       "      <td>1</td>\n",
       "      <td>1</td>\n",
       "      <td>1</td>\n",
       "      <td>0</td>\n",
       "      <td>0</td>\n",
       "      <td>505.01</td>\n",
       "    </tr>\n",
       "  </tbody>\n",
       "</table>\n",
       "<p>5 rows × 32 columns</p>\n",
       "</div>"
      ],
      "text/plain": [
       "     Buildingtype Primarypropertytype                 Propertyname  \\\n",
       "0  nonresidential               hotel         mayflower_park_hotel   \n",
       "1  nonresidential               hotel              paramount_hotel   \n",
       "2  nonresidential               hotel      5673-the_westin_seattle   \n",
       "3  nonresidential               hotel                    hotel_max   \n",
       "4  nonresidential               hotel  warwick_seattle_hotel_(id8)   \n",
       "\n",
       "           Address  Zipcode  Councildistrictcode Neighborhood  Latitude  \\\n",
       "0    405_olive_way  98101.0                    7     downtown  47.61220   \n",
       "1  724_pine_street  98101.0                    7     downtown  47.61317   \n",
       "2  1900_5th_avenue  98101.0                    7     downtown  47.61393   \n",
       "3   620_stewart_st  98101.0                    7     downtown  47.61412   \n",
       "4    401_lenora_st  98121.0                    7     downtown  47.61375   \n",
       "\n",
       "   Longitude  Yearbuilt  ...  Siteenergyuse(Kbtu)  Steamuse(Kbtu)  \\\n",
       "0 -122.33799       1927  ...            7226362.5      2003882.00   \n",
       "1 -122.33393       1996  ...            8387933.0            0.00   \n",
       "2 -122.33810       1969  ...           72587024.0     21566554.00   \n",
       "3 -122.33664       1926  ...            6794584.0      2214446.25   \n",
       "4 -122.34047       1980  ...           14172606.0            0.00   \n",
       "\n",
       "   Electricity(Kbtu)  Naturalgas(Kbtu) Non_residential False  compliant  \\\n",
       "0          3946027.0         1276453.0               1     1          1   \n",
       "1          3242851.0         5145082.0               1     1          1   \n",
       "2         49526664.0         1493800.0               1     1          1   \n",
       "3          2768924.0         1811213.0               1     1          1   \n",
       "4          5368607.0         8803998.0               1     1          1   \n",
       "\n",
       "  error_-_correct_default_data  missing_data  Totalghgemissions  \n",
       "0                            0             0             249.98  \n",
       "1                            0             0             295.86  \n",
       "2                            0             0            2089.28  \n",
       "3                            0             0             286.43  \n",
       "4                            0             0             505.01  \n",
       "\n",
       "[5 rows x 32 columns]"
      ]
     },
     "execution_count": 9,
     "metadata": {},
     "output_type": "execute_result"
    }
   ],
   "source": [
    "explored_dataset.head()"
   ]
  },
  {
   "cell_type": "code",
   "execution_count": 10,
   "id": "92a82477",
   "metadata": {},
   "outputs": [
    {
     "data": {
      "text/plain": [
       "(3347, 32)"
      ]
     },
     "execution_count": 10,
     "metadata": {},
     "output_type": "execute_result"
    }
   ],
   "source": [
    "explored_dataset.shape"
   ]
  },
  {
   "cell_type": "code",
   "execution_count": 11,
   "id": "965fae1a",
   "metadata": {},
   "outputs": [
    {
     "data": {
      "text/plain": [
       "Buildingtype                         0\n",
       "Primarypropertytype                  0\n",
       "Propertyname                         0\n",
       "Address                              0\n",
       "Zipcode                             16\n",
       "Councildistrictcode                  0\n",
       "Neighborhood                         0\n",
       "Latitude                             0\n",
       "Longitude                            0\n",
       "Yearbuilt                            0\n",
       "Numberofbuildings                    0\n",
       "Numberoffloors                       0\n",
       "Propertygfatotal                     0\n",
       "Propertygfaparking                   0\n",
       "Listofallpropertyusetypes            0\n",
       "Largestpropertyusetype               0\n",
       "Largestpropertyusetypegfa            0\n",
       "Secondlargestpropertyusetype         0\n",
       "Secondlargestpropertyusetypegfa      0\n",
       "Energystarscore                    824\n",
       "Siteeui(Kbtu/Sf)                     0\n",
       "Siteeuiwn(Kbtu/Sf)                   0\n",
       "Siteenergyuse(Kbtu)                  0\n",
       "Steamuse(Kbtu)                       0\n",
       "Electricity(Kbtu)                    0\n",
       "Naturalgas(Kbtu)                     0\n",
       "Non_residential                      0\n",
       "False                                0\n",
       "compliant                            0\n",
       "error_-_correct_default_data         0\n",
       "missing_data                         0\n",
       "Totalghgemissions                    0\n",
       "dtype: int64"
      ]
     },
     "execution_count": 11,
     "metadata": {},
     "output_type": "execute_result"
    }
   ],
   "source": [
    "explored_dataset.isna().sum()"
   ]
  },
  {
   "cell_type": "markdown",
   "id": "4aa77b6a",
   "metadata": {},
   "source": [
    "# PCA"
   ]
  },
  {
   "cell_type": "code",
   "execution_count": 12,
   "id": "5817bc86",
   "metadata": {},
   "outputs": [],
   "source": [
    "from sklearn.decomposition import PCA\n",
    "from sklearn.preprocessing import StandardScaler"
   ]
  },
  {
   "cell_type": "markdown",
   "id": "9fd71375",
   "metadata": {},
   "source": [
    "## Data split"
   ]
  },
  {
   "cell_type": "code",
   "execution_count": 13,
   "id": "ac711930",
   "metadata": {},
   "outputs": [
    {
     "data": {
      "text/plain": [
       "array([[ 9.81010000e+04,  7.00000000e+00,  4.76122000e+01,\n",
       "        -1.22337990e+02,  1.92700000e+03,  1.00000000e+00,\n",
       "         1.20000000e+01,  8.84340000e+04,  0.00000000e+00,\n",
       "         8.84340000e+04,  0.00000000e+00,  6.00000000e+01,\n",
       "         8.16999969e+01,  8.43000031e+01,  7.22636250e+06,\n",
       "         2.00388200e+06,  3.94602700e+06,  1.27645300e+06,\n",
       "         1.00000000e+00,  1.00000000e+00,  1.00000000e+00,\n",
       "         0.00000000e+00,  0.00000000e+00],\n",
       "       [ 9.81010000e+04,  7.00000000e+00,  4.76131700e+01,\n",
       "        -1.22333930e+02,  1.99600000e+03,  1.00000000e+00,\n",
       "         1.10000000e+01,  1.03566000e+05,  1.50640000e+04,\n",
       "         8.38800000e+04,  1.50640000e+04,  6.10000000e+01,\n",
       "         9.48000031e+01,  9.79000015e+01,  8.38793300e+06,\n",
       "         0.00000000e+00,  3.24285100e+06,  5.14508200e+06,\n",
       "         1.00000000e+00,  1.00000000e+00,  1.00000000e+00,\n",
       "         0.00000000e+00,  0.00000000e+00],\n",
       "       [ 9.81010000e+04,  7.00000000e+00,  4.76139300e+01,\n",
       "        -1.22338100e+02,  1.96900000e+03,  1.00000000e+00,\n",
       "         4.10000000e+01,  9.56110000e+05,  1.96718000e+05,\n",
       "         7.56493000e+05,  0.00000000e+00,  4.30000000e+01,\n",
       "         9.60000000e+01,  9.76999969e+01,  7.25870240e+07,\n",
       "         2.15665540e+07,  4.95266640e+07,  1.49380000e+06,\n",
       "         1.00000000e+00,  1.00000000e+00,  1.00000000e+00,\n",
       "         0.00000000e+00,  0.00000000e+00],\n",
       "       [ 9.81010000e+04,  7.00000000e+00,  4.76141200e+01,\n",
       "        -1.22336640e+02,  1.92600000e+03,  1.00000000e+00,\n",
       "         1.00000000e+01,  6.13200000e+04,  0.00000000e+00,\n",
       "         6.13200000e+04,  0.00000000e+00,  5.60000000e+01,\n",
       "         1.10800003e+02,  1.13300003e+02,  6.79458400e+06,\n",
       "         2.21444625e+06,  2.76892400e+06,  1.81121300e+06,\n",
       "         1.00000000e+00,  1.00000000e+00,  1.00000000e+00,\n",
       "         0.00000000e+00,  0.00000000e+00],\n",
       "       [ 9.81210000e+04,  7.00000000e+00,  4.76137500e+01,\n",
       "        -1.22340470e+02,  1.98000000e+03,  1.00000000e+00,\n",
       "         1.80000000e+01,  1.75580000e+05,  6.20000000e+04,\n",
       "         1.23445000e+05,  6.80090000e+04,  7.50000000e+01,\n",
       "         1.14800003e+02,  1.18699997e+02,  1.41726060e+07,\n",
       "         0.00000000e+00,  5.36860700e+06,  8.80399800e+06,\n",
       "         1.00000000e+00,  1.00000000e+00,  1.00000000e+00,\n",
       "         0.00000000e+00,  0.00000000e+00]])"
      ]
     },
     "execution_count": 13,
     "metadata": {},
     "output_type": "execute_result"
    }
   ],
   "source": [
    "## Data split\n",
    "XX = explored_dataset.select_dtypes(include=['float64','int64']).dropna()\n",
    "X = XX.iloc[:, :-1].values\n",
    "#first_7dataset.iloc[:, -3]\n",
    "X[:5]"
   ]
  },
  {
   "cell_type": "code",
   "execution_count": 14,
   "id": "2e44d090",
   "metadata": {},
   "outputs": [
    {
     "data": {
      "text/plain": [
       "(2520, 23)"
      ]
     },
     "execution_count": 14,
     "metadata": {},
     "output_type": "execute_result"
    }
   ],
   "source": [
    "X.shape"
   ]
  },
  {
   "cell_type": "code",
   "execution_count": 16,
   "id": "7788eec4",
   "metadata": {},
   "outputs": [
    {
     "data": {
      "text/plain": [
       "Index(['Zipcode', 'Councildistrictcode', 'Latitude', 'Longitude', 'Yearbuilt',\n",
       "       'Numberofbuildings', 'Numberoffloors', 'Propertygfatotal',\n",
       "       'Propertygfaparking', 'Largestpropertyusetypegfa',\n",
       "       'Secondlargestpropertyusetypegfa', 'Energystarscore',\n",
       "       'Siteeui(Kbtu/Sf)', 'Siteeuiwn(Kbtu/Sf)', 'Siteenergyuse(Kbtu)',\n",
       "       'Steamuse(Kbtu)', 'Electricity(Kbtu)', 'Naturalgas(Kbtu)',\n",
       "       'Non_residential', 'False', 'compliant', 'error_-_correct_default_data',\n",
       "       'missing_data'],\n",
       "      dtype='object')"
      ]
     },
     "execution_count": 16,
     "metadata": {},
     "output_type": "execute_result"
    }
   ],
   "source": [
    "#columns in features variable\n",
    "features = XX.columns[:-1]\n",
    "#features = cols[:]\n",
    "features"
   ]
  },
  {
   "cell_type": "markdown",
   "id": "39e4f3d5",
   "metadata": {},
   "source": [
    "## Scaling"
   ]
  },
  {
   "cell_type": "code",
   "execution_count": 17,
   "id": "1d6ee91b",
   "metadata": {},
   "outputs": [],
   "source": [
    "# Instantiate scaler\n",
    "scaler = StandardScaler()"
   ]
  },
  {
   "cell_type": "code",
   "execution_count": 18,
   "id": "5cf5080d",
   "metadata": {},
   "outputs": [
    {
     "data": {
      "text/html": [
       "<div>\n",
       "<style scoped>\n",
       "    .dataframe tbody tr th:only-of-type {\n",
       "        vertical-align: middle;\n",
       "    }\n",
       "\n",
       "    .dataframe tbody tr th {\n",
       "        vertical-align: top;\n",
       "    }\n",
       "\n",
       "    .dataframe thead th {\n",
       "        text-align: right;\n",
       "    }\n",
       "</style>\n",
       "<table border=\"1\" class=\"dataframe\">\n",
       "  <thead>\n",
       "    <tr style=\"text-align: right;\">\n",
       "      <th></th>\n",
       "      <th>0</th>\n",
       "      <th>1</th>\n",
       "      <th>2</th>\n",
       "      <th>3</th>\n",
       "      <th>4</th>\n",
       "      <th>5</th>\n",
       "      <th>6</th>\n",
       "      <th>7</th>\n",
       "      <th>8</th>\n",
       "      <th>9</th>\n",
       "      <th>...</th>\n",
       "      <th>13</th>\n",
       "      <th>14</th>\n",
       "      <th>15</th>\n",
       "      <th>16</th>\n",
       "      <th>17</th>\n",
       "      <th>18</th>\n",
       "      <th>19</th>\n",
       "      <th>20</th>\n",
       "      <th>21</th>\n",
       "      <th>22</th>\n",
       "    </tr>\n",
       "  </thead>\n",
       "  <tbody>\n",
       "    <tr>\n",
       "      <th>mean</th>\n",
       "      <td>0.0</td>\n",
       "      <td>-0.0</td>\n",
       "      <td>0.0</td>\n",
       "      <td>-0.0</td>\n",
       "      <td>0.0</td>\n",
       "      <td>-0.0</td>\n",
       "      <td>0.0</td>\n",
       "      <td>-0.0</td>\n",
       "      <td>0.0</td>\n",
       "      <td>0.0</td>\n",
       "      <td>...</td>\n",
       "      <td>0.0</td>\n",
       "      <td>0.0</td>\n",
       "      <td>0.0</td>\n",
       "      <td>0.0</td>\n",
       "      <td>0.0</td>\n",
       "      <td>0.0</td>\n",
       "      <td>-0.0</td>\n",
       "      <td>0.0</td>\n",
       "      <td>-0.0</td>\n",
       "      <td>0.0</td>\n",
       "    </tr>\n",
       "    <tr>\n",
       "      <th>std</th>\n",
       "      <td>1.0</td>\n",
       "      <td>1.0</td>\n",
       "      <td>1.0</td>\n",
       "      <td>1.0</td>\n",
       "      <td>1.0</td>\n",
       "      <td>1.0</td>\n",
       "      <td>1.0</td>\n",
       "      <td>1.0</td>\n",
       "      <td>1.0</td>\n",
       "      <td>1.0</td>\n",
       "      <td>...</td>\n",
       "      <td>1.0</td>\n",
       "      <td>1.0</td>\n",
       "      <td>1.0</td>\n",
       "      <td>1.0</td>\n",
       "      <td>1.0</td>\n",
       "      <td>1.0</td>\n",
       "      <td>1.0</td>\n",
       "      <td>1.0</td>\n",
       "      <td>1.0</td>\n",
       "      <td>0.0</td>\n",
       "    </tr>\n",
       "  </tbody>\n",
       "</table>\n",
       "<p>2 rows × 23 columns</p>\n",
       "</div>"
      ],
      "text/plain": [
       "       0    1    2    3    4    5    6    7    8    9   ...   13   14   15  \\\n",
       "mean  0.0 -0.0  0.0 -0.0  0.0 -0.0  0.0 -0.0  0.0  0.0  ...  0.0  0.0  0.0   \n",
       "std   1.0  1.0  1.0  1.0  1.0  1.0  1.0  1.0  1.0  1.0  ...  1.0  1.0  1.0   \n",
       "\n",
       "       16   17   18   19   20   21   22  \n",
       "mean  0.0  0.0  0.0 -0.0  0.0 -0.0  0.0  \n",
       "std   1.0  1.0  1.0  1.0  1.0  1.0  0.0  \n",
       "\n",
       "[2 rows x 23 columns]"
      ]
     },
     "execution_count": 18,
     "metadata": {},
     "output_type": "execute_result"
    }
   ],
   "source": [
    "X_scaled = scaler.fit_transform(X)\n",
    "idx = [\"mean\", \"std\"]\n",
    "#reduction et centrage\n",
    "pd.DataFrame(X_scaled).describe().round(2).loc[idx, :]"
   ]
  },
  {
   "cell_type": "code",
   "execution_count": 19,
   "id": "97c2b1e8",
   "metadata": {},
   "outputs": [
    {
     "data": {
      "text/plain": [
       "(array([], dtype=int64), array([], dtype=int64))"
      ]
     },
     "execution_count": 19,
     "metadata": {},
     "output_type": "execute_result"
    }
   ],
   "source": [
    "np.where(np.isnan(X_scaled))"
   ]
  },
  {
   "cell_type": "markdown",
   "id": "7ce28627",
   "metadata": {},
   "source": [
    "## ACP instanciation"
   ]
  },
  {
   "cell_type": "code",
   "execution_count": 20,
   "id": "23c03a22",
   "metadata": {},
   "outputs": [],
   "source": [
    "#99% of variance\n",
    "from sklearn.decomposition import PCA\n",
    "pca = PCA(n_components = 0.95)\n",
    "pca.fit(X_scaled)\n",
    "reduced = pca.transform(X_scaled)"
   ]
  },
  {
   "cell_type": "markdown",
   "id": "8cf85e09",
   "metadata": {},
   "source": [
    "## Variance"
   ]
  },
  {
   "cell_type": "code",
   "execution_count": 21,
   "id": "586bf785",
   "metadata": {},
   "outputs": [
    {
     "name": "stdout",
     "output_type": "stream",
     "text": [
      "[24.62 13.52 11.21  7.03  6.74  5.23  4.84  4.55  4.12  3.59  3.46  3.08\n",
      "  2.25  1.62]\n",
      "[25. 38. 49. 56. 63. 68. 73. 78. 82. 85. 89. 92. 94. 96.]\n"
     ]
    },
    {
     "data": {
      "text/plain": [
       "[1, 2, 3, 4, 5, 6, 7, 8, 9, 10, 11, 12, 13, 14]"
      ]
     },
     "execution_count": 21,
     "metadata": {},
     "output_type": "execute_result"
    }
   ],
   "source": [
    "pca.explained_variance_ratio_\n",
    "scree = (pca.explained_variance_ratio_*100).round(2)\n",
    "print(scree)\n",
    "scree_cum = scree.cumsum().round()\n",
    "print(scree_cum)\n",
    "\n",
    "x_list = range(1, len(scree)+1)\n",
    "list(x_list)"
   ]
  },
  {
   "cell_type": "code",
   "execution_count": 22,
   "id": "cc55e79e",
   "metadata": {},
   "outputs": [
    {
     "data": {
      "image/png": "[encoded data removed]",
      "text/plain": [
       "<Figure size 640x480 with 1 Axes>"
      ]
     },
     "metadata": {},
     "output_type": "display_data"
    }
   ],
   "source": [
    "##plot\n",
    "plt.bar(x_list, scree)\n",
    "plt.plot(x_list, scree_cum,c=\"red\",marker='o')\n",
    "plt.xlabel(\"rang de l'axe d'inertie\")\n",
    "plt.ylabel(\"pourcentage d'inertie\")\n",
    "plt.title(\"Eboulis des valeurs propres\")\n",
    "plt.show(block=False)"
   ]
  },
  {
   "cell_type": "markdown",
   "id": "b35e2fd3",
   "metadata": {},
   "source": [
    "## Components"
   ]
  },
  {
   "cell_type": "code",
   "execution_count": 23,
   "id": "23d94f16",
   "metadata": {
    "scrolled": false
   },
   "outputs": [],
   "source": [
    "pcs = pca.components_\n",
    "#pcs"
   ]
  },
  {
   "cell_type": "code",
   "execution_count": 24,
   "id": "f7424de5",
   "metadata": {},
   "outputs": [
    {
     "data": {
      "text/html": [
       "<div>\n",
       "<style scoped>\n",
       "    .dataframe tbody tr th:only-of-type {\n",
       "        vertical-align: middle;\n",
       "    }\n",
       "\n",
       "    .dataframe tbody tr th {\n",
       "        vertical-align: top;\n",
       "    }\n",
       "\n",
       "    .dataframe thead th {\n",
       "        text-align: right;\n",
       "    }\n",
       "</style>\n",
       "<table border=\"1\" class=\"dataframe\">\n",
       "  <thead>\n",
       "    <tr style=\"text-align: right;\">\n",
       "      <th></th>\n",
       "      <th>Zipcode</th>\n",
       "      <th>Councildistrictcode</th>\n",
       "      <th>Latitude</th>\n",
       "      <th>Longitude</th>\n",
       "      <th>Yearbuilt</th>\n",
       "      <th>Numberofbuildings</th>\n",
       "      <th>Numberoffloors</th>\n",
       "      <th>Propertygfatotal</th>\n",
       "      <th>Propertygfaparking</th>\n",
       "      <th>Largestpropertyusetypegfa</th>\n",
       "      <th>...</th>\n",
       "      <th>Siteeuiwn(Kbtu/Sf)</th>\n",
       "      <th>Siteenergyuse(Kbtu)</th>\n",
       "      <th>Steamuse(Kbtu)</th>\n",
       "      <th>Electricity(Kbtu)</th>\n",
       "      <th>Naturalgas(Kbtu)</th>\n",
       "      <th>Non_residential</th>\n",
       "      <th>False</th>\n",
       "      <th>compliant</th>\n",
       "      <th>error_-_correct_default_data</th>\n",
       "      <th>missing_data</th>\n",
       "    </tr>\n",
       "  </thead>\n",
       "  <tbody>\n",
       "    <tr>\n",
       "      <th>F1</th>\n",
       "      <td>-0.04</td>\n",
       "      <td>0.08</td>\n",
       "      <td>-0.02</td>\n",
       "      <td>0.01</td>\n",
       "      <td>0.07</td>\n",
       "      <td>0.10</td>\n",
       "      <td>0.26</td>\n",
       "      <td>0.37</td>\n",
       "      <td>0.25</td>\n",
       "      <td>0.38</td>\n",
       "      <td>...</td>\n",
       "      <td>0.17</td>\n",
       "      <td>0.37</td>\n",
       "      <td>0.19</td>\n",
       "      <td>0.38</td>\n",
       "      <td>0.20</td>\n",
       "      <td>0.10</td>\n",
       "      <td>0.05</td>\n",
       "      <td>0.05</td>\n",
       "      <td>-0.05</td>\n",
       "      <td>-0.0</td>\n",
       "    </tr>\n",
       "    <tr>\n",
       "      <th>F2</th>\n",
       "      <td>-0.00</td>\n",
       "      <td>-0.12</td>\n",
       "      <td>-0.10</td>\n",
       "      <td>0.09</td>\n",
       "      <td>-0.01</td>\n",
       "      <td>0.01</td>\n",
       "      <td>-0.04</td>\n",
       "      <td>0.04</td>\n",
       "      <td>-0.00</td>\n",
       "      <td>0.05</td>\n",
       "      <td>...</td>\n",
       "      <td>-0.02</td>\n",
       "      <td>0.05</td>\n",
       "      <td>0.04</td>\n",
       "      <td>0.04</td>\n",
       "      <td>0.04</td>\n",
       "      <td>0.15</td>\n",
       "      <td>-0.56</td>\n",
       "      <td>-0.54</td>\n",
       "      <td>0.56</td>\n",
       "      <td>-0.0</td>\n",
       "    </tr>\n",
       "    <tr>\n",
       "      <th>F3</th>\n",
       "      <td>0.01</td>\n",
       "      <td>-0.13</td>\n",
       "      <td>-0.08</td>\n",
       "      <td>0.08</td>\n",
       "      <td>-0.17</td>\n",
       "      <td>0.05</td>\n",
       "      <td>-0.25</td>\n",
       "      <td>-0.23</td>\n",
       "      <td>-0.21</td>\n",
       "      <td>-0.19</td>\n",
       "      <td>...</td>\n",
       "      <td>0.50</td>\n",
       "      <td>0.15</td>\n",
       "      <td>0.05</td>\n",
       "      <td>0.10</td>\n",
       "      <td>0.17</td>\n",
       "      <td>0.20</td>\n",
       "      <td>0.02</td>\n",
       "      <td>0.01</td>\n",
       "      <td>-0.02</td>\n",
       "      <td>0.0</td>\n",
       "    </tr>\n",
       "    <tr>\n",
       "      <th>F4</th>\n",
       "      <td>-0.11</td>\n",
       "      <td>-0.61</td>\n",
       "      <td>-0.52</td>\n",
       "      <td>0.29</td>\n",
       "      <td>-0.12</td>\n",
       "      <td>0.13</td>\n",
       "      <td>-0.09</td>\n",
       "      <td>0.02</td>\n",
       "      <td>-0.10</td>\n",
       "      <td>0.06</td>\n",
       "      <td>...</td>\n",
       "      <td>-0.24</td>\n",
       "      <td>0.10</td>\n",
       "      <td>0.19</td>\n",
       "      <td>0.03</td>\n",
       "      <td>0.10</td>\n",
       "      <td>0.01</td>\n",
       "      <td>0.11</td>\n",
       "      <td>0.11</td>\n",
       "      <td>-0.11</td>\n",
       "      <td>-0.0</td>\n",
       "    </tr>\n",
       "    <tr>\n",
       "      <th>F5</th>\n",
       "      <td>0.19</td>\n",
       "      <td>0.11</td>\n",
       "      <td>0.33</td>\n",
       "      <td>-0.09</td>\n",
       "      <td>0.07</td>\n",
       "      <td>0.46</td>\n",
       "      <td>-0.22</td>\n",
       "      <td>-0.12</td>\n",
       "      <td>-0.36</td>\n",
       "      <td>-0.02</td>\n",
       "      <td>...</td>\n",
       "      <td>-0.15</td>\n",
       "      <td>0.26</td>\n",
       "      <td>0.36</td>\n",
       "      <td>0.11</td>\n",
       "      <td>0.24</td>\n",
       "      <td>-0.31</td>\n",
       "      <td>-0.02</td>\n",
       "      <td>-0.02</td>\n",
       "      <td>0.02</td>\n",
       "      <td>0.0</td>\n",
       "    </tr>\n",
       "    <tr>\n",
       "      <th>F6</th>\n",
       "      <td>0.63</td>\n",
       "      <td>-0.24</td>\n",
       "      <td>-0.26</td>\n",
       "      <td>-0.40</td>\n",
       "      <td>0.48</td>\n",
       "      <td>-0.12</td>\n",
       "      <td>-0.05</td>\n",
       "      <td>0.00</td>\n",
       "      <td>0.03</td>\n",
       "      <td>-0.01</td>\n",
       "      <td>...</td>\n",
       "      <td>0.02</td>\n",
       "      <td>0.03</td>\n",
       "      <td>-0.16</td>\n",
       "      <td>0.02</td>\n",
       "      <td>0.13</td>\n",
       "      <td>-0.07</td>\n",
       "      <td>-0.00</td>\n",
       "      <td>-0.00</td>\n",
       "      <td>0.00</td>\n",
       "      <td>0.0</td>\n",
       "    </tr>\n",
       "    <tr>\n",
       "      <th>F7</th>\n",
       "      <td>-0.22</td>\n",
       "      <td>-0.17</td>\n",
       "      <td>0.24</td>\n",
       "      <td>0.53</td>\n",
       "      <td>0.50</td>\n",
       "      <td>-0.01</td>\n",
       "      <td>0.04</td>\n",
       "      <td>-0.02</td>\n",
       "      <td>0.04</td>\n",
       "      <td>-0.05</td>\n",
       "      <td>...</td>\n",
       "      <td>0.07</td>\n",
       "      <td>0.00</td>\n",
       "      <td>-0.32</td>\n",
       "      <td>-0.04</td>\n",
       "      <td>0.25</td>\n",
       "      <td>-0.38</td>\n",
       "      <td>-0.03</td>\n",
       "      <td>-0.01</td>\n",
       "      <td>0.03</td>\n",
       "      <td>0.0</td>\n",
       "    </tr>\n",
       "    <tr>\n",
       "      <th>F8</th>\n",
       "      <td>-0.06</td>\n",
       "      <td>0.12</td>\n",
       "      <td>-0.03</td>\n",
       "      <td>-0.12</td>\n",
       "      <td>-0.32</td>\n",
       "      <td>-0.33</td>\n",
       "      <td>-0.05</td>\n",
       "      <td>-0.07</td>\n",
       "      <td>-0.10</td>\n",
       "      <td>-0.06</td>\n",
       "      <td>...</td>\n",
       "      <td>-0.12</td>\n",
       "      <td>0.20</td>\n",
       "      <td>-0.42</td>\n",
       "      <td>0.03</td>\n",
       "      <td>0.66</td>\n",
       "      <td>0.05</td>\n",
       "      <td>0.02</td>\n",
       "      <td>0.02</td>\n",
       "      <td>-0.02</td>\n",
       "      <td>-0.0</td>\n",
       "    </tr>\n",
       "    <tr>\n",
       "      <th>F9</th>\n",
       "      <td>0.47</td>\n",
       "      <td>-0.06</td>\n",
       "      <td>0.28</td>\n",
       "      <td>0.46</td>\n",
       "      <td>-0.01</td>\n",
       "      <td>0.08</td>\n",
       "      <td>-0.24</td>\n",
       "      <td>0.04</td>\n",
       "      <td>0.15</td>\n",
       "      <td>0.01</td>\n",
       "      <td>...</td>\n",
       "      <td>0.00</td>\n",
       "      <td>-0.04</td>\n",
       "      <td>-0.10</td>\n",
       "      <td>-0.01</td>\n",
       "      <td>-0.02</td>\n",
       "      <td>0.48</td>\n",
       "      <td>0.07</td>\n",
       "      <td>0.08</td>\n",
       "      <td>-0.07</td>\n",
       "      <td>0.0</td>\n",
       "    </tr>\n",
       "    <tr>\n",
       "      <th>F10</th>\n",
       "      <td>-0.42</td>\n",
       "      <td>-0.07</td>\n",
       "      <td>-0.14</td>\n",
       "      <td>-0.34</td>\n",
       "      <td>0.28</td>\n",
       "      <td>0.45</td>\n",
       "      <td>-0.23</td>\n",
       "      <td>-0.05</td>\n",
       "      <td>0.16</td>\n",
       "      <td>-0.11</td>\n",
       "      <td>...</td>\n",
       "      <td>0.12</td>\n",
       "      <td>-0.07</td>\n",
       "      <td>-0.19</td>\n",
       "      <td>-0.06</td>\n",
       "      <td>0.04</td>\n",
       "      <td>0.18</td>\n",
       "      <td>0.03</td>\n",
       "      <td>0.01</td>\n",
       "      <td>-0.03</td>\n",
       "      <td>0.0</td>\n",
       "    </tr>\n",
       "    <tr>\n",
       "      <th>F11</th>\n",
       "      <td>0.11</td>\n",
       "      <td>0.09</td>\n",
       "      <td>0.01</td>\n",
       "      <td>-0.01</td>\n",
       "      <td>-0.21</td>\n",
       "      <td>0.58</td>\n",
       "      <td>0.07</td>\n",
       "      <td>0.07</td>\n",
       "      <td>0.19</td>\n",
       "      <td>0.04</td>\n",
       "      <td>...</td>\n",
       "      <td>-0.15</td>\n",
       "      <td>-0.11</td>\n",
       "      <td>-0.32</td>\n",
       "      <td>-0.17</td>\n",
       "      <td>0.17</td>\n",
       "      <td>0.15</td>\n",
       "      <td>-0.02</td>\n",
       "      <td>-0.02</td>\n",
       "      <td>0.02</td>\n",
       "      <td>0.0</td>\n",
       "    </tr>\n",
       "    <tr>\n",
       "      <th>F12</th>\n",
       "      <td>0.28</td>\n",
       "      <td>-0.08</td>\n",
       "      <td>-0.17</td>\n",
       "      <td>0.08</td>\n",
       "      <td>-0.37</td>\n",
       "      <td>0.27</td>\n",
       "      <td>0.33</td>\n",
       "      <td>0.03</td>\n",
       "      <td>0.01</td>\n",
       "      <td>0.00</td>\n",
       "      <td>...</td>\n",
       "      <td>0.23</td>\n",
       "      <td>-0.07</td>\n",
       "      <td>-0.26</td>\n",
       "      <td>0.06</td>\n",
       "      <td>-0.10</td>\n",
       "      <td>-0.48</td>\n",
       "      <td>-0.01</td>\n",
       "      <td>-0.04</td>\n",
       "      <td>0.01</td>\n",
       "      <td>0.0</td>\n",
       "    </tr>\n",
       "    <tr>\n",
       "      <th>F13</th>\n",
       "      <td>-0.01</td>\n",
       "      <td>0.21</td>\n",
       "      <td>-0.18</td>\n",
       "      <td>0.11</td>\n",
       "      <td>0.28</td>\n",
       "      <td>0.12</td>\n",
       "      <td>0.47</td>\n",
       "      <td>0.02</td>\n",
       "      <td>-0.62</td>\n",
       "      <td>0.10</td>\n",
       "      <td>...</td>\n",
       "      <td>-0.02</td>\n",
       "      <td>-0.02</td>\n",
       "      <td>-0.14</td>\n",
       "      <td>0.01</td>\n",
       "      <td>0.01</td>\n",
       "      <td>0.36</td>\n",
       "      <td>0.02</td>\n",
       "      <td>0.03</td>\n",
       "      <td>-0.02</td>\n",
       "      <td>-0.0</td>\n",
       "    </tr>\n",
       "    <tr>\n",
       "      <th>F14</th>\n",
       "      <td>-0.10</td>\n",
       "      <td>-0.62</td>\n",
       "      <td>0.55</td>\n",
       "      <td>-0.31</td>\n",
       "      <td>-0.13</td>\n",
       "      <td>-0.03</td>\n",
       "      <td>0.17</td>\n",
       "      <td>0.13</td>\n",
       "      <td>-0.14</td>\n",
       "      <td>0.19</td>\n",
       "      <td>...</td>\n",
       "      <td>-0.00</td>\n",
       "      <td>-0.00</td>\n",
       "      <td>-0.15</td>\n",
       "      <td>0.09</td>\n",
       "      <td>-0.05</td>\n",
       "      <td>0.12</td>\n",
       "      <td>0.01</td>\n",
       "      <td>-0.01</td>\n",
       "      <td>-0.01</td>\n",
       "      <td>0.0</td>\n",
       "    </tr>\n",
       "  </tbody>\n",
       "</table>\n",
       "<p>14 rows × 23 columns</p>\n",
       "</div>"
      ],
      "text/plain": [
       "     Zipcode  Councildistrictcode  Latitude  Longitude  Yearbuilt  \\\n",
       "F1     -0.04                 0.08     -0.02       0.01       0.07   \n",
       "F2     -0.00                -0.12     -0.10       0.09      -0.01   \n",
       "F3      0.01                -0.13     -0.08       0.08      -0.17   \n",
       "F4     -0.11                -0.61     -0.52       0.29      -0.12   \n",
       "F5      0.19                 0.11      0.33      -0.09       0.07   \n",
       "F6      0.63                -0.24     -0.26      -0.40       0.48   \n",
       "F7     -0.22                -0.17      0.24       0.53       0.50   \n",
       "F8     -0.06                 0.12     -0.03      -0.12      -0.32   \n",
       "F9      0.47                -0.06      0.28       0.46      -0.01   \n",
       "F10    -0.42                -0.07     -0.14      -0.34       0.28   \n",
       "F11     0.11                 0.09      0.01      -0.01      -0.21   \n",
       "F12     0.28                -0.08     -0.17       0.08      -0.37   \n",
       "F13    -0.01                 0.21     -0.18       0.11       0.28   \n",
       "F14    -0.10                -0.62      0.55      -0.31      -0.13   \n",
       "\n",
       "     Numberofbuildings  Numberoffloors  Propertygfatotal  Propertygfaparking  \\\n",
       "F1                0.10            0.26              0.37                0.25   \n",
       "F2                0.01           -0.04              0.04               -0.00   \n",
       "F3                0.05           -0.25             -0.23               -0.21   \n",
       "F4                0.13           -0.09              0.02               -0.10   \n",
       "F5                0.46           -0.22             -0.12               -0.36   \n",
       "F6               -0.12           -0.05              0.00                0.03   \n",
       "F7               -0.01            0.04             -0.02                0.04   \n",
       "F8               -0.33           -0.05             -0.07               -0.10   \n",
       "F9                0.08           -0.24              0.04                0.15   \n",
       "F10               0.45           -0.23             -0.05                0.16   \n",
       "F11               0.58            0.07              0.07                0.19   \n",
       "F12               0.27            0.33              0.03                0.01   \n",
       "F13               0.12            0.47              0.02               -0.62   \n",
       "F14              -0.03            0.17              0.13               -0.14   \n",
       "\n",
       "     Largestpropertyusetypegfa  ...  Siteeuiwn(Kbtu/Sf)  Siteenergyuse(Kbtu)  \\\n",
       "F1                        0.38  ...                0.17                 0.37   \n",
       "F2                        0.05  ...               -0.02                 0.05   \n",
       "F3                       -0.19  ...                0.50                 0.15   \n",
       "F4                        0.06  ...               -0.24                 0.10   \n",
       "F5                       -0.02  ...               -0.15                 0.26   \n",
       "F6                       -0.01  ...                0.02                 0.03   \n",
       "F7                       -0.05  ...                0.07                 0.00   \n",
       "F8                       -0.06  ...               -0.12                 0.20   \n",
       "F9                        0.01  ...                0.00                -0.04   \n",
       "F10                      -0.11  ...                0.12                -0.07   \n",
       "F11                       0.04  ...               -0.15                -0.11   \n",
       "F12                       0.00  ...                0.23                -0.07   \n",
       "F13                       0.10  ...               -0.02                -0.02   \n",
       "F14                       0.19  ...               -0.00                -0.00   \n",
       "\n",
       "     Steamuse(Kbtu)  Electricity(Kbtu)  Naturalgas(Kbtu)  Non_residential  \\\n",
       "F1             0.19               0.38              0.20             0.10   \n",
       "F2             0.04               0.04              0.04             0.15   \n",
       "F3             0.05               0.10              0.17             0.20   \n",
       "F4             0.19               0.03              0.10             0.01   \n",
       "F5             0.36               0.11              0.24            -0.31   \n",
       "F6            -0.16               0.02              0.13            -0.07   \n",
       "F7            -0.32              -0.04              0.25            -0.38   \n",
       "F8            -0.42               0.03              0.66             0.05   \n",
       "F9            -0.10              -0.01             -0.02             0.48   \n",
       "F10           -0.19              -0.06              0.04             0.18   \n",
       "F11           -0.32              -0.17              0.17             0.15   \n",
       "F12           -0.26               0.06             -0.10            -0.48   \n",
       "F13           -0.14               0.01              0.01             0.36   \n",
       "F14           -0.15               0.09             -0.05             0.12   \n",
       "\n",
       "     False  compliant  error_-_correct_default_data  missing_data  \n",
       "F1    0.05       0.05                         -0.05          -0.0  \n",
       "F2   -0.56      -0.54                          0.56          -0.0  \n",
       "F3    0.02       0.01                         -0.02           0.0  \n",
       "F4    0.11       0.11                         -0.11          -0.0  \n",
       "F5   -0.02      -0.02                          0.02           0.0  \n",
       "F6   -0.00      -0.00                          0.00           0.0  \n",
       "F7   -0.03      -0.01                          0.03           0.0  \n",
       "F8    0.02       0.02                         -0.02          -0.0  \n",
       "F9    0.07       0.08                         -0.07           0.0  \n",
       "F10   0.03       0.01                         -0.03           0.0  \n",
       "F11  -0.02      -0.02                          0.02           0.0  \n",
       "F12  -0.01      -0.04                          0.01           0.0  \n",
       "F13   0.02       0.03                         -0.02          -0.0  \n",
       "F14   0.01      -0.01                         -0.01           0.0  \n",
       "\n",
       "[14 rows x 23 columns]"
      ]
     },
     "execution_count": 24,
     "metadata": {},
     "output_type": "execute_result"
    }
   ],
   "source": [
    "##Pandas version\n",
    "pcs = pd.DataFrame(pcs)\n",
    "pcs\n",
    "##Features labels on cols\n",
    "pcs.columns = features\n",
    "pcs.index = [f\"F{i}\" for i in x_list]\n",
    "pcs.round(2)"
   ]
  },
  {
   "cell_type": "markdown",
   "id": "39828311",
   "metadata": {},
   "source": []
  },
  {
   "cell_type": "markdown",
   "id": "0b5198ad",
   "metadata": {},
   "source": [
    "## Correlation graph"
   ]
  },
  {
   "cell_type": "code",
   "execution_count": null,
   "id": "5f35edb6",
   "metadata": {},
   "outputs": [],
   "source": [
    "##Define graph axis\n",
    "x_y = (0,1)\n",
    "correlation_graph(pca, x_y, features)"
   ]
  },
  {
   "cell_type": "code",
   "execution_count": null,
   "id": "d06dee4c",
   "metadata": {},
   "outputs": [],
   "source": [
    "##Exploring F2 and F3\n",
    "correlation_graph(pca, (1,2), features)"
   ]
  },
  {
   "cell_type": "code",
   "execution_count": null,
   "id": "f39085b0",
   "metadata": {},
   "outputs": [],
   "source": [
    "##Exploring F2 and F3\n",
    "correlation_graph(pca, (2,3), features)"
   ]
  },
  {
   "cell_type": "markdown",
   "id": "4c6713c8",
   "metadata": {},
   "source": [
    "Consommation et emission strongly correlated entre elles\n",
    "Elec et gaz liquide anti-correlated\n",
    "Vapeur (energies fossiles et emisison aussi)"
   ]
  },
  {
   "cell_type": "markdown",
   "id": "36efd660",
   "metadata": {},
   "source": [
    "### Highly Correlated Features"
   ]
  },
  {
   "cell_type": "code",
   "execution_count": null,
   "id": "16a99377",
   "metadata": {},
   "outputs": [],
   "source": [
    "def correlationMatrix(df):\n",
    "    '''Show a correlation matrix for all features.'''\n",
    "    columns = df.select_dtypes(include=['float64','int64']).columns\n",
    "    fig = plt.figure(figsize=(10,10))\n",
    "    ax = fig.add_subplot(111)\n",
    "    cax = ax.matshow(df.corr(), vmin=-1, vmax=1, interpolation='none',cmap='RdYlBu')\n",
    "    fig.colorbar(cax)\n",
    "    ax.set_xticks(np.arange(len(columns)))\n",
    "    ax.set_yticks(np.arange(len(columns)))\n",
    "    ax.set_xticklabels(columns, rotation = 90)\n",
    "    ax.set_yticklabels(columns)\n",
    "    plt.show() \n",
    "    \n",
    "correlationMatrix(XX.iloc[:, :-2])"
   ]
  },
  {
   "cell_type": "markdown",
   "id": "b59de6e9",
   "metadata": {},
   "source": [
    "Notre prédiction se basera sur les données structurelles des bâtiments (taille et usage des bâtiments, date de construction, situation géographique, ...)\n",
    "Variables concernees: 'OSEBuildingID', 'Address',  'Neighborhood',  'BuildingType', 'YearBuilt', 'LargestPropertyUseType' ; \n",
    "NaturalGas(kBtu): 'SteamUse(kBtu)', 'Electricity(kBtu)', 'NaturalGas(kBtu)', 'TotalGHGEmissions', 'GHGEmissionsIntensity'\n",
    "Miscellaneous: 'ComplianceStatus', 'DataYear': Whether a property has met energy benchmarking requirements for the current reporting year."
   ]
  },
  {
   "cell_type": "markdown",
   "id": "677cc2f5",
   "metadata": {},
   "source": [
    "# Regression example using sklearn & statsmodels"
   ]
  },
  {
   "cell_type": "raw",
   "id": "ce98a574",
   "metadata": {},
   "source": [
    "# Import needed packages\n",
    "import scipy.stats as st\n",
    "from sklearn import datasets, linear_model\n",
    "from sklearn.linear_model import LinearRegression\n",
    "from sklearn.metrics import mean_absolute_error, mean_squared_error, r2_score\n",
    "from sklearn import model_selection\n",
    "from sklearn import preprocessing\n",
    "from sklearn.preprocessing import StandardScaler\n",
    "#----------------------------------------------------#\n",
    "##from sklearn.model_selection import train_test_split\n",
    "# Delete former computed variables\n",
    "del Atrain, btrain, Atest, btest, A, b\n",
    "# define predicators (features) and target\n",
    "reg_cols = ['Steamuse(Kbtu)', 'Siteenergyuse(Kbtu)', 'Naturalgas(Kbtu)', 'Totalghgemissions']\n",
    "reg_cols = ['Siteenergyuse(Kbtu)', 'Siteenergyusewn(Kbtu)', 'Steamuse(Kbtu)', \n",
    "            'Electricity(Kbtu)', 'Naturalgas(Kbtu)', 'Totalghgemissions']\n",
    "# Define dataset based on choice of features \n",
    "##reduced_linear_model_dataset = explored_dataset[reg_cols]\n",
    "H = explored_dataset[reg_cols]\n",
    "# Split into train and test\n",
    "b = H.iloc[:, -1] # Total emissions\n",
    "#b = np.log(abs(b))\n",
    "A = H.iloc[:, :-1] #all other variables\n",
    "#A = np.pad(A, [(0,0), (0,1)], mode='constant', constant_values =1), A is padded later using OLS\n",
    "# Permute\n",
    "p = np.random.permutation(len(H))\n",
    "A = A.iloc[p, :]\n",
    "b = b.iloc[p]\n",
    "# Separate data\n",
    "n = int(len(H)*4/5)\n",
    "btrain = b.iloc[:n]\n",
    "Atrain = A.iloc[:n]\n",
    "btest = b.iloc[n:]\n",
    "Atest = A.iloc[n:]\n",
    "# Data normalization\n",
    "std_scale = preprocessing.StandardScaler().fit(Atrain)\n",
    "A_train_std = std_scale.transform(Atrain)\n",
    "A_test_std = std_scale.transform(Atest)\n",
    "A_train_std.mean(axis=0)\n",
    "# Multiple Linear Regression using statsmodels\n",
    "import statsmodels.api as sm\n",
    "from statsmodels.formula.api import ols\n",
    "## -------------------------------------------------------  ##\n",
    "# Fit multiple linear regression model\n",
    "Atrain=sm.add_constant(Atrain)        #Atrain padding to add constant value in the model\n",
    "OLS_model= sm.OLS(btrain,Atrain).fit() \n",
    "#OLS_model = sm.OLS(btrain, Atrain_std).fit()\n",
    "# View model summary\n",
    "print(OLS_model.summary())\n",
    "## -------------------------------------------------------  ##\n",
    "# Predict\n",
    "train_predictions = OLS_model.predict(Atrain)\n",
    "print(\"    MAE\", mean_absolute_error(btrain,train_predictions))\n",
    "print(\"    RMSE\", np.sqrt(mean_squared_error(btrain, train_predictions)))\n",
    "print(\"    R2\", r2_score(btrain, train_predictions))\n",
    "## -------------------------------------------------------  ##\n",
    "# Test: Evaluate the models against test data using MAE, RMSE and R2\n",
    "Atest=sm.add_constant(Atest)        #to add constant value in the model\n",
    "test_predictions = OLS_model.predict(Atest)\n",
    "print(\"    MAE\", mean_absolute_error(btest,test_predictions))\n",
    "print(\"    RMSE\", np.sqrt(mean_squared_error(btest, test_predictions)))\n",
    "print(\"    R2\", r2_score(btest, test_predictions))\n",
    "## -------------------------------------------------------  ##\n",
    "#create residual vs. predictor plot for 'assists'\n",
    "fig = plt.figure(figsize=(12,8))\n",
    "fig = sm.graphics.plot_regress_exog(OLS_model, 'Electricity(Kbtu)', fig=fig) \n",
    "# Residual error\n",
    "residual_values = OLS_model.resid \n",
    "sorted_residual_values = residual_values.sort_index()\n",
    "#create residual vs. predictor plot for 'rebounds'\n",
    "fig = plt.figure(figsize=(12,8))\n",
    "#fig = sm.graphics.plot_regress_exog(OLS_model, Atrain, fig=fig)\n",
    "plt.plot(test_predictions-btest, '.')\n",
    "plt.show()\n",
    "## ---------"
   ]
  },
  {
   "cell_type": "code",
   "execution_count": 25,
   "id": "35213b77",
   "metadata": {},
   "outputs": [],
   "source": [
    "import scipy.stats as st\n",
    "from sklearn import datasets, linear_model\n",
    "from sklearn.linear_model import LinearRegression\n",
    "from sklearn.metrics import mean_absolute_error, mean_squared_error, r2_score\n",
    "from sklearn.model_selection import train_test_split"
   ]
  },
  {
   "cell_type": "code",
   "execution_count": null,
   "id": "bf1118c8",
   "metadata": {},
   "outputs": [],
   "source": [
    "#reg_cols = ['Siteenergyuse(Kbtu)', 'Siteenergyusewn(Kbtu)', 'Steamuse(Kbtu)', \n",
    " #           'Electricity(Kbtu)', 'Naturalgas(Kbtu)', 'Totalghgemissions']\n",
    "#reg_cols = ['Electricity(Kbtu)','Naturalgas(Kbtu)', 'Non_residential', 'Steamuse(Kbtu)','Totalghgemissions']\n",
    "#reg_cols = ['Naturalgas(Kbtu)','Numberoffloors', 'Non_residential', \n",
    " #           'Numberofbuildings', 'Totalghgemissions']\n",
    "reg_cols = ['Propertygfatotal', 'Numberoffloors', 'Numberofbuildings', 'Steamuse(Kbtu)', 'Totalghgemissions']"
   ]
  },
  {
   "cell_type": "code",
   "execution_count": 47,
   "id": "6c85820b",
   "metadata": {},
   "outputs": [
    {
     "data": {
      "text/html": [
       "<div>\n",
       "<style scoped>\n",
       "    .dataframe tbody tr th:only-of-type {\n",
       "        vertical-align: middle;\n",
       "    }\n",
       "\n",
       "    .dataframe tbody tr th {\n",
       "        vertical-align: top;\n",
       "    }\n",
       "\n",
       "    .dataframe thead th {\n",
       "        text-align: right;\n",
       "    }\n",
       "</style>\n",
       "<table border=\"1\" class=\"dataframe\">\n",
       "  <thead>\n",
       "    <tr style=\"text-align: right;\">\n",
       "      <th></th>\n",
       "      <th>Zipcode</th>\n",
       "      <th>Councildistrictcode</th>\n",
       "      <th>Latitude</th>\n",
       "      <th>Longitude</th>\n",
       "      <th>Yearbuilt</th>\n",
       "      <th>Numberofbuildings</th>\n",
       "      <th>Numberoffloors</th>\n",
       "      <th>Propertygfatotal</th>\n",
       "      <th>Propertygfaparking</th>\n",
       "      <th>Largestpropertyusetypegfa</th>\n",
       "      <th>...</th>\n",
       "      <th>Siteenergyuse(Kbtu)</th>\n",
       "      <th>Steamuse(Kbtu)</th>\n",
       "      <th>Electricity(Kbtu)</th>\n",
       "      <th>Naturalgas(Kbtu)</th>\n",
       "      <th>Non_residential</th>\n",
       "      <th>False</th>\n",
       "      <th>compliant</th>\n",
       "      <th>error_-_correct_default_data</th>\n",
       "      <th>missing_data</th>\n",
       "      <th>Totalghgemissions</th>\n",
       "    </tr>\n",
       "  </thead>\n",
       "  <tbody>\n",
       "    <tr>\n",
       "      <th>0</th>\n",
       "      <td>98101.0</td>\n",
       "      <td>7</td>\n",
       "      <td>47.61220</td>\n",
       "      <td>-122.33799</td>\n",
       "      <td>1927</td>\n",
       "      <td>1.0</td>\n",
       "      <td>12</td>\n",
       "      <td>88434</td>\n",
       "      <td>0</td>\n",
       "      <td>88434.0</td>\n",
       "      <td>...</td>\n",
       "      <td>7226362.5</td>\n",
       "      <td>2003882.00</td>\n",
       "      <td>3946027.0</td>\n",
       "      <td>1276453.0</td>\n",
       "      <td>1</td>\n",
       "      <td>1</td>\n",
       "      <td>1</td>\n",
       "      <td>0</td>\n",
       "      <td>0</td>\n",
       "      <td>249.98</td>\n",
       "    </tr>\n",
       "    <tr>\n",
       "      <th>1</th>\n",
       "      <td>98101.0</td>\n",
       "      <td>7</td>\n",
       "      <td>47.61317</td>\n",
       "      <td>-122.33393</td>\n",
       "      <td>1996</td>\n",
       "      <td>1.0</td>\n",
       "      <td>11</td>\n",
       "      <td>103566</td>\n",
       "      <td>15064</td>\n",
       "      <td>83880.0</td>\n",
       "      <td>...</td>\n",
       "      <td>8387933.0</td>\n",
       "      <td>0.00</td>\n",
       "      <td>3242851.0</td>\n",
       "      <td>5145082.0</td>\n",
       "      <td>1</td>\n",
       "      <td>1</td>\n",
       "      <td>1</td>\n",
       "      <td>0</td>\n",
       "      <td>0</td>\n",
       "      <td>295.86</td>\n",
       "    </tr>\n",
       "    <tr>\n",
       "      <th>2</th>\n",
       "      <td>98101.0</td>\n",
       "      <td>7</td>\n",
       "      <td>47.61393</td>\n",
       "      <td>-122.33810</td>\n",
       "      <td>1969</td>\n",
       "      <td>1.0</td>\n",
       "      <td>41</td>\n",
       "      <td>956110</td>\n",
       "      <td>196718</td>\n",
       "      <td>756493.0</td>\n",
       "      <td>...</td>\n",
       "      <td>72587024.0</td>\n",
       "      <td>21566554.00</td>\n",
       "      <td>49526664.0</td>\n",
       "      <td>1493800.0</td>\n",
       "      <td>1</td>\n",
       "      <td>1</td>\n",
       "      <td>1</td>\n",
       "      <td>0</td>\n",
       "      <td>0</td>\n",
       "      <td>2089.28</td>\n",
       "    </tr>\n",
       "    <tr>\n",
       "      <th>3</th>\n",
       "      <td>98101.0</td>\n",
       "      <td>7</td>\n",
       "      <td>47.61412</td>\n",
       "      <td>-122.33664</td>\n",
       "      <td>1926</td>\n",
       "      <td>1.0</td>\n",
       "      <td>10</td>\n",
       "      <td>61320</td>\n",
       "      <td>0</td>\n",
       "      <td>61320.0</td>\n",
       "      <td>...</td>\n",
       "      <td>6794584.0</td>\n",
       "      <td>2214446.25</td>\n",
       "      <td>2768924.0</td>\n",
       "      <td>1811213.0</td>\n",
       "      <td>1</td>\n",
       "      <td>1</td>\n",
       "      <td>1</td>\n",
       "      <td>0</td>\n",
       "      <td>0</td>\n",
       "      <td>286.43</td>\n",
       "    </tr>\n",
       "    <tr>\n",
       "      <th>4</th>\n",
       "      <td>98121.0</td>\n",
       "      <td>7</td>\n",
       "      <td>47.61375</td>\n",
       "      <td>-122.34047</td>\n",
       "      <td>1980</td>\n",
       "      <td>1.0</td>\n",
       "      <td>18</td>\n",
       "      <td>175580</td>\n",
       "      <td>62000</td>\n",
       "      <td>123445.0</td>\n",
       "      <td>...</td>\n",
       "      <td>14172606.0</td>\n",
       "      <td>0.00</td>\n",
       "      <td>5368607.0</td>\n",
       "      <td>8803998.0</td>\n",
       "      <td>1</td>\n",
       "      <td>1</td>\n",
       "      <td>1</td>\n",
       "      <td>0</td>\n",
       "      <td>0</td>\n",
       "      <td>505.01</td>\n",
       "    </tr>\n",
       "  </tbody>\n",
       "</table>\n",
       "<p>5 rows × 24 columns</p>\n",
       "</div>"
      ],
      "text/plain": [
       "   Zipcode  Councildistrictcode  Latitude  Longitude  Yearbuilt  \\\n",
       "0  98101.0                    7  47.61220 -122.33799       1927   \n",
       "1  98101.0                    7  47.61317 -122.33393       1996   \n",
       "2  98101.0                    7  47.61393 -122.33810       1969   \n",
       "3  98101.0                    7  47.61412 -122.33664       1926   \n",
       "4  98121.0                    7  47.61375 -122.34047       1980   \n",
       "\n",
       "   Numberofbuildings  Numberoffloors  Propertygfatotal  Propertygfaparking  \\\n",
       "0                1.0              12             88434                   0   \n",
       "1                1.0              11            103566               15064   \n",
       "2                1.0              41            956110              196718   \n",
       "3                1.0              10             61320                   0   \n",
       "4                1.0              18            175580               62000   \n",
       "\n",
       "   Largestpropertyusetypegfa  ...  Siteenergyuse(Kbtu)  Steamuse(Kbtu)  \\\n",
       "0                    88434.0  ...            7226362.5      2003882.00   \n",
       "1                    83880.0  ...            8387933.0            0.00   \n",
       "2                   756493.0  ...           72587024.0     21566554.00   \n",
       "3                    61320.0  ...            6794584.0      2214446.25   \n",
       "4                   123445.0  ...           14172606.0            0.00   \n",
       "\n",
       "   Electricity(Kbtu)  Naturalgas(Kbtu)  Non_residential  False  compliant  \\\n",
       "0          3946027.0         1276453.0                1      1          1   \n",
       "1          3242851.0         5145082.0                1      1          1   \n",
       "2         49526664.0         1493800.0                1      1          1   \n",
       "3          2768924.0         1811213.0                1      1          1   \n",
       "4          5368607.0         8803998.0                1      1          1   \n",
       "\n",
       "   error_-_correct_default_data  missing_data  Totalghgemissions  \n",
       "0                             0             0             249.98  \n",
       "1                             0             0             295.86  \n",
       "2                             0             0            2089.28  \n",
       "3                             0             0             286.43  \n",
       "4                             0             0             505.01  \n",
       "\n",
       "[5 rows x 24 columns]"
      ]
     },
     "execution_count": 47,
     "metadata": {},
     "output_type": "execute_result"
    }
   ],
   "source": [
    "H = XX[XX['Totalghgemissions']>0]\n",
    "H.head()"
   ]
  },
  {
   "cell_type": "code",
   "execution_count": 29,
   "id": "18692744",
   "metadata": {},
   "outputs": [
    {
     "data": {
      "text/html": [
       "<div>\n",
       "<style scoped>\n",
       "    .dataframe tbody tr th:only-of-type {\n",
       "        vertical-align: middle;\n",
       "    }\n",
       "\n",
       "    .dataframe tbody tr th {\n",
       "        vertical-align: top;\n",
       "    }\n",
       "\n",
       "    .dataframe thead th {\n",
       "        text-align: right;\n",
       "    }\n",
       "</style>\n",
       "<table border=\"1\" class=\"dataframe\">\n",
       "  <thead>\n",
       "    <tr style=\"text-align: right;\">\n",
       "      <th></th>\n",
       "      <th>Zipcode</th>\n",
       "      <th>Councildistrictcode</th>\n",
       "      <th>Latitude</th>\n",
       "      <th>Longitude</th>\n",
       "      <th>Yearbuilt</th>\n",
       "      <th>Numberofbuildings</th>\n",
       "      <th>Numberoffloors</th>\n",
       "      <th>Propertygfatotal</th>\n",
       "      <th>Propertygfaparking</th>\n",
       "      <th>Largestpropertyusetypegfa</th>\n",
       "      <th>...</th>\n",
       "      <th>Siteenergyuse(Kbtu)</th>\n",
       "      <th>Steamuse(Kbtu)</th>\n",
       "      <th>Electricity(Kbtu)</th>\n",
       "      <th>Naturalgas(Kbtu)</th>\n",
       "      <th>Non_residential</th>\n",
       "      <th>False</th>\n",
       "      <th>compliant</th>\n",
       "      <th>error_-_correct_default_data</th>\n",
       "      <th>missing_data</th>\n",
       "      <th>Totalghgemissions</th>\n",
       "    </tr>\n",
       "  </thead>\n",
       "  <tbody>\n",
       "  </tbody>\n",
       "</table>\n",
       "<p>0 rows × 24 columns</p>\n",
       "</div>"
      ],
      "text/plain": [
       "Empty DataFrame\n",
       "Columns: [Zipcode, Councildistrictcode, Latitude, Longitude, Yearbuilt, Numberofbuildings, Numberoffloors, Propertygfatotal, Propertygfaparking, Largestpropertyusetypegfa, Secondlargestpropertyusetypegfa, Energystarscore, Siteeui(Kbtu/Sf), Siteeuiwn(Kbtu/Sf), Siteenergyuse(Kbtu), Steamuse(Kbtu), Electricity(Kbtu), Naturalgas(Kbtu), Non_residential, False, compliant, error_-_correct_default_data, missing_data, Totalghgemissions]\n",
       "Index: []\n",
       "\n",
       "[0 rows x 24 columns]"
      ]
     },
     "execution_count": 29,
     "metadata": {},
     "output_type": "execute_result"
    }
   ],
   "source": [
    "H[H['Totalghgemissions']<=0]"
   ]
  },
  {
   "cell_type": "markdown",
   "id": "73f10c0c",
   "metadata": {},
   "source": [
    "## Separate input features and target feature"
   ]
  },
  {
   "cell_type": "code",
   "execution_count": 30,
   "id": "f6984ff8",
   "metadata": {},
   "outputs": [],
   "source": [
    "#H = linear_model_dataset\n",
    "b = H.iloc[:, -1] # Total emissions\n",
    "b = np.log(abs(b))\n",
    "A = H.iloc[:, :-1] #all other variables"
   ]
  },
  {
   "cell_type": "markdown",
   "id": "f71f29b7",
   "metadata": {},
   "source": [
    "## Rescale the data"
   ]
  },
  {
   "cell_type": "code",
   "execution_count": 31,
   "id": "e1b32f29",
   "metadata": {},
   "outputs": [],
   "source": [
    "from sklearn import model_selection\n",
    "from sklearn import preprocessing\n",
    "from sklearn.preprocessing import StandardScaler\n",
    "from sklearn.preprocessing import MinMaxScaler"
   ]
  },
  {
   "cell_type": "code",
   "execution_count": 32,
   "id": "eeee2ef9",
   "metadata": {},
   "outputs": [],
   "source": [
    "scaler = MinMaxScaler(feature_range=(0,1))\n",
    "rescaledX = scaler.fit_transform(A)\n",
    "\n",
    "# Convert X back to a Pandas DataFrame, for convenience\n",
    "A = pd.DataFrame(rescaledX, index=A.index, columns=A.columns)"
   ]
  },
  {
   "cell_type": "raw",
   "id": "70eb311d",
   "metadata": {},
   "source": [
    "## Data normalization\n",
    "std_scale = preprocessing.StandardScaler().fit()\n",
    "A = std_scale.transform(A)\n",
    "A_train_std.mean(axis=0)"
   ]
  },
  {
   "cell_type": "raw",
   "id": "172f886f",
   "metadata": {},
   "source": [
    "#H = linear_model_dataset\n",
    "b = H.iloc[:, -1] # Total emissions\n",
    "b = np.log(abs(b))\n",
    "A = H.iloc[:, :-1] #all other variables\n",
    "#A = np.pad(A, [(0,0), (0,1)], mode='constant', constant_values =1)\n",
    "# Permute\n",
    "p = np.random.permutation(len(H))\n",
    "A = A.iloc[p, :]\n",
    "b = b.iloc[p]\n",
    "# Separate data\n",
    "n = int(len(H)*4/5)\n",
    "btrain = b.iloc[:n]\n",
    "Atrain = A.iloc[:n]\n",
    "btest = b.iloc[n:]\n",
    "Atest = A.iloc[n:]"
   ]
  },
  {
   "cell_type": "markdown",
   "id": "feff5de8",
   "metadata": {},
   "source": [
    "## Model Fit"
   ]
  },
  {
   "cell_type": "markdown",
   "id": "2c724942",
   "metadata": {},
   "source": [
    "### Multiple Linear Regression of Totalghgemissions (raw value)"
   ]
  },
  {
   "cell_type": "code",
   "execution_count": 33,
   "id": "6a6181f2",
   "metadata": {},
   "outputs": [],
   "source": [
    "# Permute\n",
    "p = np.random.permutation(len(H))\n",
    "A = A.iloc[p, :]\n",
    "b = b.iloc[p]\n",
    "# Separate data\n",
    "n = int(len(H)*4/5)\n",
    "btrain = b.iloc[:n]\n",
    "Atrain = A.iloc[:n]\n",
    "btest = b.iloc[n:]\n",
    "Atest = A.iloc[n:]"
   ]
  },
  {
   "cell_type": "code",
   "execution_count": 34,
   "id": "18efc4b9",
   "metadata": {},
   "outputs": [],
   "source": [
    "# import needed packages\n",
    "import statsmodels.api as sm\n",
    "from statsmodels.formula.api import ols\n",
    "## --------------------------------------------- ##"
   ]
  },
  {
   "cell_type": "code",
   "execution_count": 35,
   "id": "47373ede",
   "metadata": {},
   "outputs": [
    {
     "name": "stdout",
     "output_type": "stream",
     "text": [
      "                            OLS Regression Results                            \n",
      "==============================================================================\n",
      "Dep. Variable:      Totalghgemissions   R-squared:                       0.592\n",
      "Model:                            OLS   Adj. R-squared:                  0.588\n",
      "Method:                 Least Squares   F-statistic:                     137.7\n",
      "Date:                Sat, 11 Feb 2023   Prob (F-statistic):               0.00\n",
      "Time:                        12:38:15   Log-Likelihood:                -2735.2\n",
      "No. Observations:                2014   AIC:                             5514.\n",
      "Df Residuals:                    1992   BIC:                             5638.\n",
      "Df Model:                          21                                         \n",
      "Covariance Type:            nonrobust                                         \n",
      "===================================================================================================\n",
      "                                      coef    std err          t      P>|t|      [0.025      0.975]\n",
      "---------------------------------------------------------------------------------------------------\n",
      "const                               1.4668      0.146     10.051      0.000       1.181       1.753\n",
      "Zipcode                            -1.2545      0.300     -4.175      0.000      -1.844      -0.665\n",
      "Councildistrictcode                 0.4862      0.078      6.200      0.000       0.332       0.640\n",
      "Latitude                           -0.7107      0.127     -5.583      0.000      -0.960      -0.461\n",
      "Longitude                           0.3949      0.162      2.434      0.015       0.077       0.713\n",
      "Yearbuilt                          -0.0739      0.081     -0.910      0.363      -0.233       0.085\n",
      "Numberofbuildings                   0.1698      0.614      0.277      0.782      -1.035       1.374\n",
      "Numberoffloors                      0.7819      0.505      1.548      0.122      -0.209       1.772\n",
      "Propertygfatotal                    8.3310      1.204      6.922      0.000       5.971      10.691\n",
      "Propertygfaparking                 -2.2820      0.467     -4.892      0.000      -3.197      -1.367\n",
      "Largestpropertyusetypegfa           5.2643      1.143      4.606      0.000       3.023       7.506\n",
      "Secondlargestpropertyusetypegfa    -0.9668      0.591     -1.635      0.102      -2.126       0.193\n",
      "Energystarscore                    -0.0877      0.085     -1.037      0.300      -0.254       0.078\n",
      "Siteeui(Kbtu/Sf)                  -21.7673      4.426     -4.919      0.000     -30.446     -13.088\n",
      "Siteeuiwn(Kbtu/Sf)                 33.7414      4.326      7.799      0.000      25.257      42.226\n",
      "Siteenergyuse(Kbtu)               -71.9525     20.491     -3.511      0.000    -112.139     -31.766\n",
      "Steamuse(Kbtu)                     24.0474      6.197      3.881      0.000      11.894      36.200\n",
      "Electricity(Kbtu)                  30.6739     12.516      2.451      0.014       6.128      55.219\n",
      "Naturalgas(Kbtu)                   57.4107     13.621      4.215      0.000      30.697      84.124\n",
      "Non_residential                     0.2453      0.048      5.078      0.000       0.151       0.340\n",
      "False                              -0.0037      0.160     -0.023      0.982      -0.318       0.310\n",
      "compliant                           1.1864      0.220      5.390      0.000       0.755       1.618\n",
      "error_-_correct_default_data        1.4704      0.121     12.149      0.000       1.233       1.708\n",
      "missing_data                             0          0        nan        nan           0           0\n",
      "==============================================================================\n",
      "Omnibus:                      246.384   Durbin-Watson:                   1.994\n",
      "Prob(Omnibus):                  0.000   Jarque-Bera (JB):             1497.225\n",
      "Skew:                          -0.398   Prob(JB):                         0.00\n",
      "Kurtosis:                       7.148   Cond. No.                          inf\n",
      "==============================================================================\n",
      "\n",
      "Notes:\n",
      "[1] Standard Errors assume that the covariance matrix of the errors is correctly specified.\n",
      "[2] The smallest eigenvalue is      0. This might indicate that there are\n",
      "strong multicollinearity problems or that the design matrix is singular.\n"
     ]
    },
    {
     "name": "stderr",
     "output_type": "stream",
     "text": [
      "/Users/souha_kassab/opt/miniconda3/envs/OC_Project2/lib/python3.10/site-packages/statsmodels/regression/linear_model.py:1934: RuntimeWarning: divide by zero encountered in double_scalars\n",
      "  return np.sqrt(eigvals[0]/eigvals[-1])\n"
     ]
    }
   ],
   "source": [
    "#fit multiple linear regression model\n",
    "Atrain=sm.add_constant(Atrain)        #to add constant value in the model\n",
    "OLS_model= sm.OLS(btrain, Atrain).fit() \n",
    "#OLS_model = sm.OLS(btrain, Atrain).fit()\n",
    "#view model summary\n",
    "print(OLS_model.summary())\n",
    "## --------------------------------------------- ##"
   ]
  },
  {
   "cell_type": "code",
   "execution_count": null,
   "id": "ddd25b06",
   "metadata": {},
   "outputs": [],
   "source": [
    "correlatedFeatures(explored_dataset, 0.85)\n",
    "explored_dataset.drop(columns=['Electricity(Kbtu)','Ghgemissionsintensity',\n",
    "                               'Largestpropertyusetypegfa','Naturalgas(Kbtu)',\n",
    "                               'Propertygfabuilding(S)','Siteenergyuse(Kbtu)',\n",
    "                               'Siteenergyusewn(Kbtu)', 'Siteeuiwn(Kbtu/Sf)',\n",
    "                                'Sourceeui(Kbtu/Sf)', 'Sourceeuiwn(Kbtu/Sf)',\n",
    "                               'Totalghgemissions'], inplace=True)"
   ]
  },
  {
   "cell_type": "code",
   "execution_count": null,
   "id": "df9b820e",
   "metadata": {},
   "outputs": [],
   "source": []
  },
  {
   "cell_type": "code",
   "execution_count": 56,
   "id": "d09535ee",
   "metadata": {},
   "outputs": [
    {
     "data": {
      "text/plain": [
       "0.9999999999121904"
      ]
     },
     "execution_count": 56,
     "metadata": {},
     "output_type": "execute_result"
    }
   ],
   "source": [
    "# Define the X (input) and y (target) features\n",
    "X = H.iloc[:, :-1]\n",
    "y = H.iloc[:,-1]\n",
    "\n",
    "# Rescale the input features\n",
    "scaler = MinMaxScaler(feature_range=(0,1))\n",
    "X = scaler.fit_transform(X)\n",
    "\n",
    "#splitting your dataset into training and test sets, based on random sampling and returns \n",
    "# an evaluation of the model based on R-squared score\n",
    "# Train test split\n",
    "test_size = 0.33\n",
    "seed = 7\n",
    "X_train, X_test, y_train, y_test = train_test_split(X, y, test_size=test_size, random_state=seed)\n",
    "\n",
    "# Create model\n",
    "model = LinearRegression()\n",
    "\n",
    "# Fit model\n",
    "model.fit(X_train, y_train)\n",
    "\n",
    "# Evaluate model\n",
    "predictions = model.predict(X_test)\n",
    "r2_score(y_test, predictions)"
   ]
  },
  {
   "cell_type": "code",
   "execution_count": 48,
   "id": "c10c0877",
   "metadata": {},
   "outputs": [
    {
     "name": "stdout",
     "output_type": "stream",
     "text": [
      "Feature selection [False  True  True  True  True False False False False False False  True\n",
      " False False False False False False  True  True  True  True False]\n",
      "Selected features: ['Councildistrictcode', 'Latitude', 'Longitude', 'Yearbuilt', 'Energystarscore', 'Non_residential', 'False', 'compliant', 'error_-_correct_default_data']\n",
      "Removed features: ['Zipcode', 'Numberofbuildings', 'Numberoffloors', 'Propertygfatotal', 'Propertygfaparking', 'Largestpropertyusetypegfa', 'Secondlargestpropertyusetypegfa', 'Siteeui(Kbtu/Sf)', 'Siteeuiwn(Kbtu/Sf)', 'Siteenergyuse(Kbtu)', 'Steamuse(Kbtu)', 'Electricity(Kbtu)', 'Naturalgas(Kbtu)', 'missing_data']\n"
     ]
    }
   ],
   "source": [
    "# Perform feature selection using a variance threshold of 0.01 (look for features explaining very little of the total variance)\n",
    "from sklearn.feature_selection import VarianceThreshold\n",
    "\n",
    "sel = VarianceThreshold(threshold=(0.01))\n",
    "sel.fit(X_train)\n",
    "\n",
    "print(\"Feature selection\", sel.get_support())\n",
    "print(\"Selected features:\", list((H.drop(columns=['Totalghgemissions'], axis=1)).columns[sel.get_support()]))\n",
    "print(\"Removed features:\", list((H.drop(columns=['Totalghgemissions'], axis=1)).columns[~sel.get_support()]))"
   ]
  },
  {
   "cell_type": "code",
   "execution_count": 45,
   "id": "b6b36d55",
   "metadata": {},
   "outputs": [
    {
     "data": {
      "text/html": [
       "<div>\n",
       "<style scoped>\n",
       "    .dataframe tbody tr th:only-of-type {\n",
       "        vertical-align: middle;\n",
       "    }\n",
       "\n",
       "    .dataframe tbody tr th {\n",
       "        vertical-align: top;\n",
       "    }\n",
       "\n",
       "    .dataframe thead th {\n",
       "        text-align: right;\n",
       "    }\n",
       "</style>\n",
       "<table border=\"1\" class=\"dataframe\">\n",
       "  <thead>\n",
       "    <tr style=\"text-align: right;\">\n",
       "      <th></th>\n",
       "      <th>Zipcode</th>\n",
       "      <th>Numberofbuildings</th>\n",
       "      <th>Numberoffloors</th>\n",
       "      <th>Propertygfatotal</th>\n",
       "      <th>Propertygfaparking</th>\n",
       "      <th>Largestpropertyusetypegfa</th>\n",
       "      <th>Secondlargestpropertyusetypegfa</th>\n",
       "      <th>Siteeui(Kbtu/Sf)</th>\n",
       "      <th>Siteeuiwn(Kbtu/Sf)</th>\n",
       "      <th>Siteenergyuse(Kbtu)</th>\n",
       "      <th>Steamuse(Kbtu)</th>\n",
       "      <th>Electricity(Kbtu)</th>\n",
       "      <th>Naturalgas(Kbtu)</th>\n",
       "      <th>missing_data</th>\n",
       "      <th>Totalghgemissions</th>\n",
       "    </tr>\n",
       "  </thead>\n",
       "  <tbody>\n",
       "    <tr>\n",
       "      <th>0</th>\n",
       "      <td>98101.0</td>\n",
       "      <td>1.0</td>\n",
       "      <td>12</td>\n",
       "      <td>88434</td>\n",
       "      <td>0</td>\n",
       "      <td>88434.0</td>\n",
       "      <td>0.0</td>\n",
       "      <td>81.699997</td>\n",
       "      <td>84.300003</td>\n",
       "      <td>7226362.5</td>\n",
       "      <td>2003882.00</td>\n",
       "      <td>3946027.0</td>\n",
       "      <td>1276453.0</td>\n",
       "      <td>0</td>\n",
       "      <td>249.98</td>\n",
       "    </tr>\n",
       "    <tr>\n",
       "      <th>1</th>\n",
       "      <td>98101.0</td>\n",
       "      <td>1.0</td>\n",
       "      <td>11</td>\n",
       "      <td>103566</td>\n",
       "      <td>15064</td>\n",
       "      <td>83880.0</td>\n",
       "      <td>15064.0</td>\n",
       "      <td>94.800003</td>\n",
       "      <td>97.900002</td>\n",
       "      <td>8387933.0</td>\n",
       "      <td>0.00</td>\n",
       "      <td>3242851.0</td>\n",
       "      <td>5145082.0</td>\n",
       "      <td>0</td>\n",
       "      <td>295.86</td>\n",
       "    </tr>\n",
       "    <tr>\n",
       "      <th>2</th>\n",
       "      <td>98101.0</td>\n",
       "      <td>1.0</td>\n",
       "      <td>41</td>\n",
       "      <td>956110</td>\n",
       "      <td>196718</td>\n",
       "      <td>756493.0</td>\n",
       "      <td>0.0</td>\n",
       "      <td>96.000000</td>\n",
       "      <td>97.699997</td>\n",
       "      <td>72587024.0</td>\n",
       "      <td>21566554.00</td>\n",
       "      <td>49526664.0</td>\n",
       "      <td>1493800.0</td>\n",
       "      <td>0</td>\n",
       "      <td>2089.28</td>\n",
       "    </tr>\n",
       "    <tr>\n",
       "      <th>3</th>\n",
       "      <td>98101.0</td>\n",
       "      <td>1.0</td>\n",
       "      <td>10</td>\n",
       "      <td>61320</td>\n",
       "      <td>0</td>\n",
       "      <td>61320.0</td>\n",
       "      <td>0.0</td>\n",
       "      <td>110.800003</td>\n",
       "      <td>113.300003</td>\n",
       "      <td>6794584.0</td>\n",
       "      <td>2214446.25</td>\n",
       "      <td>2768924.0</td>\n",
       "      <td>1811213.0</td>\n",
       "      <td>0</td>\n",
       "      <td>286.43</td>\n",
       "    </tr>\n",
       "    <tr>\n",
       "      <th>4</th>\n",
       "      <td>98121.0</td>\n",
       "      <td>1.0</td>\n",
       "      <td>18</td>\n",
       "      <td>175580</td>\n",
       "      <td>62000</td>\n",
       "      <td>123445.0</td>\n",
       "      <td>68009.0</td>\n",
       "      <td>114.800003</td>\n",
       "      <td>118.699997</td>\n",
       "      <td>14172606.0</td>\n",
       "      <td>0.00</td>\n",
       "      <td>5368607.0</td>\n",
       "      <td>8803998.0</td>\n",
       "      <td>0</td>\n",
       "      <td>505.01</td>\n",
       "    </tr>\n",
       "  </tbody>\n",
       "</table>\n",
       "</div>"
      ],
      "text/plain": [
       "   Zipcode  Numberofbuildings  Numberoffloors  Propertygfatotal  \\\n",
       "0  98101.0                1.0              12             88434   \n",
       "1  98101.0                1.0              11            103566   \n",
       "2  98101.0                1.0              41            956110   \n",
       "3  98101.0                1.0              10             61320   \n",
       "4  98121.0                1.0              18            175580   \n",
       "\n",
       "   Propertygfaparking  Largestpropertyusetypegfa  \\\n",
       "0                   0                    88434.0   \n",
       "1               15064                    83880.0   \n",
       "2              196718                   756493.0   \n",
       "3                   0                    61320.0   \n",
       "4               62000                   123445.0   \n",
       "\n",
       "   Secondlargestpropertyusetypegfa  Siteeui(Kbtu/Sf)  Siteeuiwn(Kbtu/Sf)  \\\n",
       "0                              0.0         81.699997           84.300003   \n",
       "1                          15064.0         94.800003           97.900002   \n",
       "2                              0.0         96.000000           97.699997   \n",
       "3                              0.0        110.800003          113.300003   \n",
       "4                          68009.0        114.800003          118.699997   \n",
       "\n",
       "   Siteenergyuse(Kbtu)  Steamuse(Kbtu)  Electricity(Kbtu)  Naturalgas(Kbtu)  \\\n",
       "0            7226362.5      2003882.00          3946027.0         1276453.0   \n",
       "1            8387933.0            0.00          3242851.0         5145082.0   \n",
       "2           72587024.0     21566554.00         49526664.0         1493800.0   \n",
       "3            6794584.0      2214446.25          2768924.0         1811213.0   \n",
       "4           14172606.0            0.00          5368607.0         8803998.0   \n",
       "\n",
       "   missing_data  Totalghgemissions  \n",
       "0             0             249.98  \n",
       "1             0             295.86  \n",
       "2             0            2089.28  \n",
       "3             0             286.43  \n",
       "4             0             505.01  "
      ]
     },
     "execution_count": 45,
     "metadata": {},
     "output_type": "execute_result"
    }
   ],
   "source": [
    "H = H.drop(columns=['Zipcode', 'Numberofbuildings', 'Numberoffloors', \n",
    "                    'Propertygfatotal', 'Propertygfaparking', \n",
    "                    'Largestpropertyusetypegfa', \n",
    "                    'Secondlargestpropertyusetypegfa', 'Siteeui(Kbtu/Sf)', \n",
    "                    'Siteeuiwn(Kbtu/Sf)', 'Siteenergyuse(Kbtu)', 'Steamuse(Kbtu)',\n",
    "                    'Electricity(Kbtu)', 'Naturalgas(Kbtu)', 'missing_data'])\n",
    "H.head()"
   ]
  },
  {
   "cell_type": "code",
   "execution_count": 54,
   "id": "9232ceac",
   "metadata": {},
   "outputs": [],
   "source": [
    "X = H.iloc[:, :-1]\n",
    "y = H.iloc[:,-1]"
   ]
  },
  {
   "cell_type": "code",
   "execution_count": 55,
   "id": "b127b975",
   "metadata": {},
   "outputs": [
    {
     "name": "stdout",
     "output_type": "stream",
     "text": [
      "[1. 1. 1. 1. 1. 1. 1. 1. 1. 1.]\n",
      "Mean: 0.9999999998346067\n",
      "Std: 2.153816773857683e-10\n"
     ]
    }
   ],
   "source": [
    "# Sklearn processing\n",
    "from sklearn.preprocessing import MinMaxScaler\n",
    "from sklearn.model_selection import KFold\n",
    "from sklearn.model_selection import GridSearchCV\n",
    "from sklearn.model_selection import train_test_split\n",
    "from sklearn.linear_model import LinearRegression\n",
    "\n",
    "# Sklearn regression model evaluation functions\n",
    "from sklearn.metrics import r2_score\n",
    "#from sklearn.metrics import c\n",
    "from sklearn.model_selection import cross_val_score\n",
    "# Create 5 folds\n",
    "seed = 7\n",
    "kfold = KFold(n_splits=10, shuffle=True, random_state=seed)\n",
    "\n",
    "# Create a model \n",
    "model = LinearRegression()\n",
    "\n",
    "# Train and evaluate multiple models using kfolds\n",
    "results = cross_val_score(model, X, y, cv=kfold, scoring='r2')\n",
    "print(results)\n",
    "print(\"Mean:\", results.mean())\n",
    "print(\"Std:\", results.std())"
   ]
  },
  {
   "cell_type": "code",
   "execution_count": null,
   "id": "f423fd9b",
   "metadata": {},
   "outputs": [],
   "source": []
  },
  {
   "cell_type": "code",
   "execution_count": 36,
   "id": "91983dd9",
   "metadata": {},
   "outputs": [
    {
     "name": "stdout",
     "output_type": "stream",
     "text": [
      "    MAE 0.7565397493272149\n",
      "    RMSE 0.9409871177866663\n",
      "    R2 0.5921607876536887\n"
     ]
    }
   ],
   "source": [
    "from sklearn.metrics import mean_absolute_error, mean_squared_error, r2_score\n",
    "\n",
    "train_predictions = OLS_model.predict(Atrain)\n",
    "print(\"    MAE\", mean_absolute_error(btrain, train_predictions))\n",
    "print(\"    RMSE\", np.sqrt(mean_squared_error(btrain, train_predictions)))\n",
    "print(\"    R2\", r2_score(btrain, train_predictions))\n",
    "## --------------------------------------------- ##"
   ]
  },
  {
   "cell_type": "code",
   "execution_count": 37,
   "id": "b0d24784",
   "metadata": {},
   "outputs": [
    {
     "data": {
      "image/png": "[encoded data removed]",
      "text/plain": [
       "<Figure size 800x600 with 1 Axes>"
      ]
     },
     "metadata": {},
     "output_type": "display_data"
    }
   ],
   "source": [
    "residual_values = OLS_model.resid \n",
    "sorted_residual_values = residual_values.sort_index()\n",
    "#create residual vs. predictor plot for 'rebounds'\n",
    "fig = plt.figure(figsize=(8,6))\n",
    "#fig = sm.graphics.plot_regress_exog(OLS_model, Atrain, fig=fig)\n",
    "plt.plot(sorted_residual_values, 'b.', label = 'OLS_model.resid')\n",
    "#plt.plot(train_predictions-btrain, 'r.', label = 'manual_computational')\n",
    "\n",
    "plt.legend(title ='Residual error computation')\n",
    "plt.title('Train set error')\n",
    "#plt.xlim(2000, 3500)\n",
    "plt.show()\n",
    "## --------------------------------------------- ##\n",
    "#sorted_residual_values"
   ]
  },
  {
   "cell_type": "code",
   "execution_count": 38,
   "id": "e5602d78",
   "metadata": {},
   "outputs": [
    {
     "data": {
      "text/plain": [
       "<AxesSubplot: >"
      ]
     },
     "execution_count": 38,
     "metadata": {},
     "output_type": "execute_result"
    },
    {
     "data": {
      "image/png": "[encoded data removed]",
      "text/plain": [
       "<Figure size 640x480 with 1 Axes>"
      ]
     },
     "metadata": {},
     "output_type": "display_data"
    }
   ],
   "source": [
    "sorted_residual_values.hist(bins = 30)"
   ]
  },
  {
   "cell_type": "code",
   "execution_count": null,
   "id": "68c3f5a4",
   "metadata": {},
   "outputs": [],
   "source": [
    "Atrain.loc[sorted_residual_values<-2.5]"
   ]
  },
  {
   "cell_type": "code",
   "execution_count": null,
   "id": "5e27c013",
   "metadata": {},
   "outputs": [],
   "source": [
    "resid_index = H.iloc[Atrain.loc[sorted_residual_values<-2.5].index]\n",
    "resid_index.index"
   ]
  },
  {
   "cell_type": "code",
   "execution_count": null,
   "id": "a1c9b848",
   "metadata": {},
   "outputs": [],
   "source": [
    "# plot data points from 'Natural gas' feature for which residuals are higher than zero - points over the HP are white, points below are black \n",
    "train_resid = train_predictions-btrain \n",
    "plt.scatter(Atrain.loc[train_resid >= 0, 'Naturalgas(Kbtu)'], btrain.loc[train_resid >= 0], color='black', alpha=1.0, facecolor='white') \n",
    "plt.scatter(Atrain.loc[train_resid < 0, 'Naturalgas(Kbtu)'], btrain.loc[train_resid < 0], color='black', alpha=1.0)"
   ]
  },
  {
   "cell_type": "code",
   "execution_count": null,
   "id": "8c980b82",
   "metadata": {},
   "outputs": [],
   "source": [
    "# plot data points from 'Natural gas' feature for which residuals are higher than zero - points over the HP are white, points below are black \n",
    "test_resid = btest - OLS_model.predict(Atest) \n",
    "plt.scatter(Atest.loc[resid >= 0, 'Naturalgas(Kbtu)'], btest.loc[resid >= 0], color='black', alpha=1.0, facecolor='white') \n",
    "plt.scatter(Atest.loc[resid < 0, 'Naturalgas(Kbtu)'], btest.loc[resid < 0], color='black', alpha=1.0)"
   ]
  },
  {
   "cell_type": "code",
   "execution_count": null,
   "id": "77a71c01",
   "metadata": {},
   "outputs": [],
   "source": [
    "# Evaluation of the models against test data using MAE, RMSE and R2\n",
    "Atest=sm.add_constant(Atest)        #to add constant value in the model\n",
    "test_predictions = OLS_model.predict(Atest)\n",
    "print(\"    MAE\", mean_absolute_error(btest, test_predictions))\n",
    "print(\"    RMSE\", np.sqrt(mean_squared_error(btest, test_predictions)))\n",
    "print(\"    R2\", r2_score(btest, test_predictions))"
   ]
  },
  {
   "cell_type": "code",
   "execution_count": null,
   "id": "2035a6b2",
   "metadata": {},
   "outputs": [],
   "source": [
    "resid"
   ]
  },
  {
   "cell_type": "code",
   "execution_count": null,
   "id": "27fa711d",
   "metadata": {},
   "outputs": [],
   "source": [
    "#create residual vs. predictor plot for 'Numberoffloors'\n",
    "fig = plt.figure(figsize=(12,12))\n",
    "fig = sm.graphics.plot_regress_exog(OLS_model, 'Numberoffloors', fig=fig)\n",
    "fig.tight_layout(pad=1.0)"
   ]
  },
  {
   "cell_type": "code",
   "execution_count": null,
   "id": "eb65feb3",
   "metadata": {},
   "outputs": [],
   "source": [
    "#fig = plt.figure(figsize=(12,12))\n",
    "sm.graphics.plot_ccpr_grid(OLS_model)\n",
    "#fig.tight_layout(pad=1.0)"
   ]
  },
  {
   "cell_type": "markdown",
   "id": "b798c3ac",
   "metadata": {},
   "source": [
    "### Multiple Linear Regression of Totalghgemissions (log normal)"
   ]
  },
  {
   "cell_type": "code",
   "execution_count": null,
   "id": "8fff8b82",
   "metadata": {},
   "outputs": [],
   "source": [
    "del Atrain, btrain, Atest, btest, OLS_model"
   ]
  },
  {
   "cell_type": "code",
   "execution_count": null,
   "id": "dff54280",
   "metadata": {},
   "outputs": [],
   "source": [
    "# Permute\n",
    "p = np.random.permutation(len(H))\n",
    "A = A.iloc[p, :]\n",
    "b = b.iloc[p]\n",
    "b = np.log(abs(b))\n",
    "# Separate data\n",
    "n = int(len(H)*4/5)\n",
    "btrain = b.iloc[:n]\n",
    "Atrain = A.iloc[:n]\n",
    "btest = b.iloc[n:]\n",
    "Atest = A.iloc[n:]"
   ]
  },
  {
   "cell_type": "code",
   "execution_count": null,
   "id": "e6b778aa",
   "metadata": {},
   "outputs": [],
   "source": [
    "# import needed packages\n",
    "import statsmodels.api as sm\n",
    "from statsmodels.formula.api import ols\n",
    "## --------------------------------------------- ##"
   ]
  },
  {
   "cell_type": "code",
   "execution_count": null,
   "id": "a3caa00b",
   "metadata": {},
   "outputs": [],
   "source": [
    "#fit multiple linear regression model\n",
    "Atrain=sm.add_constant(Atrain)        #to add constant value in the model\n",
    "OLS_model= sm.OLS(btrain, Atrain).fit() \n",
    "#OLS_model = sm.OLS(btrain, Atrain).fit()\n",
    "#view model summary\n",
    "print(OLS_model.summary())\n",
    "## --------------------------------------------- ##"
   ]
  },
  {
   "cell_type": "code",
   "execution_count": null,
   "id": "2eae149e",
   "metadata": {},
   "outputs": [],
   "source": [
    "from sklearn.metrics import mean_absolute_error, mean_squared_error, r2_score\n",
    "\n",
    "train_predictions = OLS_model.predict(Atrain)\n",
    "print(\"    MAE\", mean_absolute_error(btrain, train_predictions))\n",
    "print(\"    RMSE\", np.sqrt(mean_squared_error(btrain, train_predictions)))\n",
    "print(\"    R2\", r2_score(btrain, train_predictions))\n",
    "## --------------------------------------------- ##"
   ]
  },
  {
   "cell_type": "code",
   "execution_count": null,
   "id": "db3f7339",
   "metadata": {},
   "outputs": [],
   "source": [
    "# Evaluation of the models against test data using MAE, RMSE and R2\n",
    "Atest=sm.add_constant(Atest)        #to add constant value in the model\n",
    "test_predictions = OLS_model.predict(Atest)\n",
    "print(\"    MAE\", mean_absolute_error(btest, test_predictions))\n",
    "print(\"    RMSE\", np.sqrt(mean_squared_error(btest, test_predictions)))\n",
    "print(\"    R2\", r2_score(btest, test_predictions))"
   ]
  },
  {
   "cell_type": "code",
   "execution_count": null,
   "id": "f85afd38",
   "metadata": {},
   "outputs": [],
   "source": [
    "# plot data points - points over the HP are white, points below are black \n",
    "resid = btest - OLS_model.predict(Atest) \n",
    "#ax.scatter(X[resid >= 0].TV, X[resid >= 0].Radio, y[resid >= 0], color='black', alpha=1.0, facecolor='white') \n",
    "#ax.scatter(X[resid < 0].TV, X[resid < 0].Radio, y[resid < 0], color='black', alpha=1.0)"
   ]
  },
  {
   "cell_type": "code",
   "execution_count": null,
   "id": "a460ec8d",
   "metadata": {},
   "outputs": [],
   "source": [
    "#\n",
    "OLS_model"
   ]
  },
  {
   "cell_type": "code",
   "execution_count": null,
   "id": "691f0191",
   "metadata": {},
   "outputs": [],
   "source": [
    "residual_values = OLS_model.resid \n",
    "sorted_residual_values = residual_values.sort_index()\n",
    "#create residual vs. predictor plot for 'rebounds'\n",
    "fig = plt.figure(figsize=(8,6))\n",
    "#fig = sm.graphics.plot_regress_exog(OLS_model, Atrain, fig=fig)\n",
    "plt.plot(test_predictions-btest, '.')\n",
    "plt.show()\n",
    "## --------------------------------------------- ##\n",
    "#sorted_residual_values"
   ]
  },
  {
   "cell_type": "code",
   "execution_count": null,
   "id": "084c523d",
   "metadata": {
    "scrolled": true
   },
   "outputs": [],
   "source": [
    "#create residual vs. predictor plot for 'assists'\n",
    "fig = plt.figure(figsize=(12,8))\n",
    "\n",
    "fig = sm.graphics.plot_regress_exog(OLS_model, 'Non_residential', fig=fig)\n",
    "fig.tight_layout(pad=1.0)"
   ]
  },
  {
   "cell_type": "markdown",
   "id": "8d4a6e6a",
   "metadata": {},
   "source": [
    "# Understand the errors\n",
    "\n",
    "1. Compare train and test error metrics. Does my model suffer from overfitting?\n",
    "2. Evaluate a linear regression model using k-fold cross-validation. Check if your model shows consistency across the folds. Does my model perform well?\n",
    "3. Look for low variance features, using a threshold of 0.01.  Remove any you find.\n",
    "4. Look for highly correlated features.  Remove any you find.\n",
    "5. Apply recursive feature elimination, setting the n_features_to_select parameter to one.  Then repeat with n_features_to_select = 2.  Continue repeating until you have n_features_to_select selecting all but one feature. Use the results to determine the optimal number of features to retain, based on RFE.\n",
    "6. (Eventually replaced by XGboost) Apply Lasso regularization on the dataset containing all your original features.  Use cross-validation to find the optimal alpha.  Examine the results and make a note of your observations.\n"
   ]
  },
  {
   "cell_type": "markdown",
   "id": "fb1bdf03",
   "metadata": {},
   "source": [
    "### Related Features"
   ]
  },
  {
   "cell_type": "code",
   "execution_count": null,
   "id": "4468ddf6",
   "metadata": {},
   "outputs": [],
   "source": [
    "explored_dataset.drop(columns=['Electricity(Kwh)', 'Naturalgas(Therms)', 'residential'], inplace=True)"
   ]
  },
  {
   "cell_type": "code",
   "execution_count": null,
   "id": "88e1a5da",
   "metadata": {},
   "outputs": [],
   "source": [
    "explored_dataset.isna().sum()"
   ]
  },
  {
   "cell_type": "code",
   "execution_count": null,
   "id": "6bbb3239",
   "metadata": {},
   "outputs": [],
   "source": [
    "#explored_dataset[explored_dataset['Largestpropertyusetypegfa'].isna()]\n",
    "##for now\n",
    "explored_dataset = explored_dataset.dropna()\n",
    "explored_dataset.describe()"
   ]
  },
  {
   "cell_type": "code",
   "execution_count": null,
   "id": "24e55c10",
   "metadata": {},
   "outputs": [],
   "source": [
    "explored_dataset.loc[:, :'Naturalgas(Kbtu)'].corr()"
   ]
  },
  {
   "cell_type": "code",
   "execution_count": null,
   "id": "13852821",
   "metadata": {},
   "outputs": [],
   "source": [
    "# Function to list features that are correlated\n",
    "# Adds the first of the correlated pair only (not both)\n",
    "# TO BE APPLIED ON THE SET OF FEATURES ONLY!!!\n",
    "def correlatedFeatures(dataset, threshold):\n",
    "    correlated_columns = set()\n",
    "    correlations = dataset.corr()\n",
    "    for i in range(len(correlations)):\n",
    "        for j in range(i):\n",
    "            if abs(correlations.iloc[i,j]) > threshold:\n",
    "                correlated_columns.add(correlations.columns[i])\n",
    "    return correlated_columns\n"
   ]
  },
  {
   "cell_type": "code",
   "execution_count": null,
   "id": "0d4a8640",
   "metadata": {},
   "outputs": [],
   "source": [
    "highly_corr_cols = correlatedFeatures(explored_dataset.loc[:,:'Totalghgemissions'], 0.85)"
   ]
  },
  {
   "cell_type": "markdown",
   "id": "d7904be6",
   "metadata": {},
   "source": [
    "# Linear Regression\n",
    "## LR with log-normal on Totalghgemissions, all the features"
   ]
  },
  {
   "cell_type": "markdown",
   "id": "729829e4",
   "metadata": {},
   "source": [
    "Linear regression with manual SVD, all datas"
   ]
  },
  {
   "cell_type": "markdown",
   "id": "ae2934af",
   "metadata": {},
   "source": [
    "### Choice of features"
   ]
  },
  {
   "cell_type": "code",
   "execution_count": null,
   "id": "388b1150",
   "metadata": {},
   "outputs": [],
   "source": [
    "explored_dataset.head()"
   ]
  },
  {
   "cell_type": "code",
   "execution_count": null,
   "id": "a651ed85",
   "metadata": {},
   "outputs": [],
   "source": [
    "reg_cols = ['Siteenergyuse(Kbtu)', 'Siteenergyusewn(Kbtu)', 'Steamuse(Kbtu)', \n",
    "            'Electricity(Kbtu)', 'Naturalgas(Kbtu)', 'residential', 'Totalghgemissions']"
   ]
  },
  {
   "cell_type": "code",
   "execution_count": null,
   "id": "d68b5ac8",
   "metadata": {},
   "outputs": [],
   "source": [
    "linear_model_dataset = explored_dataset[reg_cols]"
   ]
  },
  {
   "cell_type": "markdown",
   "id": "d1c2659f",
   "metadata": {},
   "source": [
    "### Data separation"
   ]
  },
  {
   "cell_type": "code",
   "execution_count": null,
   "id": "4b9b5e6d",
   "metadata": {},
   "outputs": [],
   "source": [
    "H = linear_model_dataset[linear_model_dataset['Totalghgemissions']>0]\n",
    "b = H.iloc[:, -1] # Total emissions\n",
    "b = np.log(abs(b))\n",
    "A = H.iloc[:, :-1] #all other variables\n",
    "A = np.pad(A, [(0,0), (0,1)], mode='constant', constant_values =1)\n",
    "# Permute\n",
    "p = np.random.permutation(len(H))\n",
    "A = A[p, :]\n",
    "b = b.iloc[p]\n",
    "# Separate data\n",
    "n = int(len(H)*4/5)\n",
    "btrain = b.iloc[:n]\n",
    "Atrain = A[:n]\n",
    "btest = b.iloc[n:]\n",
    "Atest = A[n:]"
   ]
  },
  {
   "cell_type": "code",
   "execution_count": null,
   "id": "ed10af0d",
   "metadata": {},
   "outputs": [],
   "source": [
    "train_sort_ind = np.argsort(btrain)\n",
    "test_sort_ind = np.argsort(btest)"
   ]
  },
  {
   "cell_type": "markdown",
   "id": "ea719b60",
   "metadata": {},
   "source": [
    "### Data normalization..?"
   ]
  },
  {
   "cell_type": "code",
   "execution_count": null,
   "id": "213623ad",
   "metadata": {},
   "outputs": [],
   "source": [
    "from sklearn import model_selection\n",
    "from sklearn import preprocessing\n",
    "from sklearn.preprocessing import StandardScaler\n",
    "std_scale = preprocessing.StandardScaler().fit(Atrain)\n",
    "A_train_std = std_scale.transform(Atrain)\n",
    "A_test_std = std_scale.transform(Atest)"
   ]
  },
  {
   "cell_type": "code",
   "execution_count": null,
   "id": "76e01571",
   "metadata": {
    "scrolled": true
   },
   "outputs": [],
   "source": [
    "A_train_std.mean(axis=0)"
   ]
  },
  {
   "cell_type": "markdown",
   "id": "de0efe91",
   "metadata": {},
   "source": [
    "### SVD computation"
   ]
  },
  {
   "cell_type": "code",
   "execution_count": null,
   "id": "18716221",
   "metadata": {},
   "outputs": [],
   "source": [
    "[U, S, VT] = np.linalg.svd(Atrain, full_matrices=False)\n",
    "xtilde1 = VT.T @ np.linalg.inv(np.diag(S)) @ U.T @ btrain\n",
    "#xtilde2 = np.linalg.pinv(a) * b"
   ]
  },
  {
   "cell_type": "code",
   "execution_count": null,
   "id": "fb9a605a",
   "metadata": {},
   "outputs": [],
   "source": [
    "print('Eigen values = ', S)"
   ]
  },
  {
   "cell_type": "code",
   "execution_count": null,
   "id": "eeeee9d3",
   "metadata": {},
   "outputs": [],
   "source": [
    "# -----------------------------------------------------\n",
    "# Train\n",
    "fig = plt.figure()\n",
    "ax1 = fig.add_subplot(111)\n",
    "plt.plot(np.arange(1, n+1), btrain.iloc[train_sort_ind], 'x', color ='r', markersize = 10, label ='y_emissions' )\n",
    "plt.plot(np.arange(1, n+1), Atrain[train_sort_ind]@xtilde1, '-', color = 'b', linewidth = 2 , label ='y_head_prediction')\n",
    "plt.xlabel('index')\n",
    "plt.ylabel('b_train')\n",
    "plt.title('l')\n",
    "plt.legend(title = 'train set')\n",
    "plt.show()\n",
    "# -----------------------------------------------------\n",
    "# Test\n",
    "ax2 = fig.add_subplot(122)\n",
    "plt.plot(np.arange(1, len(btest)+1), btest.iloc[test_sort_ind], 'x', color ='r', markersize = 10, label ='Noisy test data' )\n",
    "plt.plot(np.arange(1, len(btest)+1), Atest[test_sort_ind]@xtilde1, '--', color = 'b', linewidth = 2 , label ='Regression line')\n",
    "plt.xlabel('index')\n",
    "plt.ylabel('b_test')\n",
    "plt.title('')\n",
    "plt.legend(title='test set')\n",
    "plt.show()\n",
    "# -----------------------------------------------------"
   ]
  },
  {
   "cell_type": "markdown",
   "id": "9b3037ef",
   "metadata": {},
   "source": [
    "### Error measurements"
   ]
  },
  {
   "cell_type": "code",
   "execution_count": null,
   "id": "71900b5d",
   "metadata": {},
   "outputs": [],
   "source": [
    "MAE_train = sum(abs(btrain.iloc[train_sort_ind]-Atrain[train_sort_ind]@xtilde1)) /  len(btrain)\n",
    "MAE_test = sum(abs(btest.iloc[test_sort_ind]-Atest[test_sort_ind]@xtilde1)) / len(btest)\n",
    "\n",
    "print( 'Mean absolute error on the test set =', MAE_test,\n",
    "      '\\nMean absolute error on the train set =', MAE_train,\n",
    "      '\\nThe absolute error between test and train model is:', abs(MAE_test - MAE_train))"
   ]
  },
  {
   "cell_type": "markdown",
   "id": "9f55937d",
   "metadata": {},
   "source": [
    "We can see that permuting the dataset prior to constructing the model reduces the MAE difference between train and test set"
   ]
  },
  {
   "cell_type": "code",
   "execution_count": null,
   "id": "49c8a555",
   "metadata": {},
   "outputs": [],
   "source": [
    "RMSE_train = np.sqrt(sum(np.power(btrain.iloc[train_sort_ind]-Atrain[train_sort_ind]@xtilde1, 2))/len(btrain))"
   ]
  },
  {
   "cell_type": "code",
   "execution_count": null,
   "id": "ce65452f",
   "metadata": {},
   "outputs": [],
   "source": [
    "RMSLE_train = np.sqrt(sum(np.power((np.log(1+btrain.iloc[train_sort_ind] / 1+Atrain[train_sort_ind]@xtilde1)), 2)/2)/len(btrain))\n",
    "print('Root mean square error =', RMSE_train,\n",
    "     '\\n', 'Root mean square logarithmic error =',RMSLE_train )"
   ]
  },
  {
   "cell_type": "code",
   "execution_count": null,
   "id": "5d68a473",
   "metadata": {},
   "outputs": [],
   "source": [
    "RMSE_test = np.sqrt(sum(np.power(btest.iloc[test_sort_ind]-Atest[test_sort_ind]@xtilde1, 2))/len(btest))\n",
    "RMSE_test"
   ]
  },
  {
   "cell_type": "code",
   "execution_count": null,
   "id": "0fb66dcb",
   "metadata": {},
   "outputs": [],
   "source": [
    "abs(RMSE_test - RMSE_train)"
   ]
  },
  {
   "cell_type": "markdown",
   "id": "fb9a5cd6",
   "metadata": {},
   "source": [
    "On sait que la RMSE penalise les grosses erreurs sur le modele.. outliers problem?"
   ]
  },
  {
   "cell_type": "code",
   "execution_count": null,
   "id": "9b3badb9",
   "metadata": {},
   "outputs": [],
   "source": [
    "y = btrain\n",
    "y_mean = btrain.mean()\n",
    "N_samples = len(btrain)\n",
    "var_mean = sum(np.power(y - y_mean, 2))/N_samples\n",
    "var_line = np.power(RMSE_train,2)\n",
    "R2 = (var_mean - var_line)/var_mean\n",
    "## Dividing all by N: (exactly same computation)\n",
    "var_mean_bis = y.var()\n",
    "\n",
    "R2_bis = (var_mean_bis - var_line) / var_mean_bis\n",
    "print(R2, '\\n', R2_bis)"
   ]
  },
  {
   "cell_type": "code",
   "execution_count": null,
   "id": "49d5776e",
   "metadata": {},
   "outputs": [],
   "source": [
    "plt.plot(np.arange(1, len(btrain)+1), abs(Atrain[train_sort_ind]@xtilde1-btrain.iloc[train_sort_ind]), 'g-',\n",
    "         linewidth =1, label ='train set')\n",
    "#plt.plot(np.arange(1, len(btest)+1), abs(Atest[test_sort_ind]@xtilde1-btest.iloc[test_sort_ind]), 'k--',\n",
    " #        linewidth =1, label = 'test set')\n",
    "plt.legend(title='l1_error')\n",
    "plt.xlabel('row rank')\n",
    "plt.ylabel('Error_l1norm')\n",
    "plt.xticks\n",
    "plt.show()"
   ]
  },
  {
   "cell_type": "code",
   "execution_count": null,
   "id": "3fc8e3f1",
   "metadata": {},
   "outputs": [],
   "source": [
    "trainset_error_df = pd.DataFrame({'l1_error': abs(Atrain[train_sort_ind]@xtilde1-btrain.iloc[train_sort_ind]),\n",
    "                                  'l2_error': np.power(btrain.iloc[train_sort_ind]-Atrain[train_sort_ind]@xtilde1, 2),\n",
    "                                 })\n",
    "#l1_error = abs(Atrain[train_sort_ind]@xtilde1-btrain)\n",
    "\n",
    "\n",
    "# replace column name because it is the error value not the Total emission value"
   ]
  },
  {
   "cell_type": "code",
   "execution_count": null,
   "id": "a374e638",
   "metadata": {},
   "outputs": [],
   "source": [
    "trainset_error_df['l1_error_classes'] = pd.qcut(trainset_error_df['l1_error'], 10)"
   ]
  },
  {
   "cell_type": "code",
   "execution_count": null,
   "id": "f6d575ab",
   "metadata": {},
   "outputs": [],
   "source": [
    "trainset_error_df.groupby('l1_error_classes')['l1_error']"
   ]
  },
  {
   "cell_type": "code",
   "execution_count": null,
   "id": "1e927174",
   "metadata": {},
   "outputs": [],
   "source": [
    "trainset_error_df['l1_error_classes']"
   ]
  },
  {
   "cell_type": "code",
   "execution_count": null,
   "id": "848df4c9",
   "metadata": {},
   "outputs": [],
   "source": [
    "trainset_error_df "
   ]
  },
  {
   "cell_type": "code",
   "execution_count": null,
   "id": "e2337720",
   "metadata": {},
   "outputs": [],
   "source": [
    "classes_emissions_error = l1_error_train.groupby('error_classes')[\"Totalghgemissions\"].median().sort_values().index\n",
    "# Boxplot errors per quantile\n",
    "plt.figure(figsize=(8,8))\n",
    "sns.boxplot(x=\"Totalghgemissions\", \n",
    "            y=\"error_classes\", \n",
    "            showfliers=False,\n",
    "            orient='h', \n",
    "            order=classes_emissions_error, \n",
    "            data=l1_error_train)\n",
    "#plt.savefig('/Users/souha_kassab/OC_project2/static/figs/fig3.png')"
   ]
  },
  {
   "cell_type": "code",
   "execution_count": null,
   "id": "9dda8f38",
   "metadata": {},
   "outputs": [],
   "source": [
    "l1_error_qty = l1_error_train.groupby('error_classes').count()\n",
    "#classes_emissions_error\n",
    "l1_error_qty"
   ]
  },
  {
   "cell_type": "code",
   "execution_count": null,
   "id": "3068763e",
   "metadata": {},
   "outputs": [],
   "source": [
    "l1_error_train['error_classes'] = pd.qcut(l1_error_train['Totalghgemissions'], 10)"
   ]
  },
  {
   "cell_type": "code",
   "execution_count": null,
   "id": "d62424ac",
   "metadata": {},
   "outputs": [],
   "source": [
    "(l1_error_train['Totalghgemissions']).max()"
   ]
  },
  {
   "cell_type": "code",
   "execution_count": null,
   "id": "de70ae67",
   "metadata": {},
   "outputs": [],
   "source": [
    "taille_classe = ((l1_error_train['Totalghgemissions']).max()-(l1_error_train['Totalghgemissions']).min())/10\n",
    "groupes = [] # va recevoir les données agrégées à afficher\n",
    "#for nutriVal in _subdata_nutrigrades_notNaN['nutrition_score_fr_100g'].unique():\n",
    "\n",
    "# on calcule des tranches allant de -15 au nutriscore maximum \n",
    "tranches = np.arange((l1_error_train['Totalghgemissions']).min(), (l1_error_train['Totalghgemissions']).max(),\n",
    "                    1.89)\n",
    "\n",
    "tranches += int(taille_classe/2) # on décale les tranches d'une demi taille de classe\n",
    "indices = np.digitize(l1_error_train['Totalghgemissions'], tranches) # associe chaque solde à son numéro de classe  "
   ]
  },
  {
   "cell_type": "code",
   "execution_count": null,
   "id": "db359af1",
   "metadata": {},
   "outputs": [],
   "source": [
    "l1_error_train.loc[indices==ind, 'Totalghgemissions']"
   ]
  },
  {
   "cell_type": "code",
   "execution_count": null,
   "id": "0e26f6ed",
   "metadata": {},
   "outputs": [],
   "source": [
    "for ind, tr in enumerate(tranches):\n",
    "    print(ind, tr)\n",
    "    qtity = l1_error_train.loc[indices==ind, 'Totalghgemissions']\n",
    "    #qtity = l1_error_train.loc[indices==ind,'Totalghgemissions']\n",
    "    if len(qtity)>0:\n",
    "        g = {\n",
    "            'value': qtity,\n",
    "            'class_center': tr-(taille_classe)/2,\n",
    "            'size': len(qtity),\n",
    "        }\n",
    "        groupes.append(g)"
   ]
  },
  {
   "cell_type": "code",
   "execution_count": null,
   "id": "b454da99",
   "metadata": {},
   "outputs": [],
   "source": [
    "indices[3]"
   ]
  },
  {
   "cell_type": "code",
   "execution_count": null,
   "id": "0104bccc",
   "metadata": {},
   "outputs": [],
   "source": [
    "plt.figure(figsize=(10,7))\n",
    "        \n",
    "# affichage des boxplots\n",
    "plt.boxplot([g[\"value\"] for g in groupes],\n",
    "            positions= [g[\"class_center\"] for g in groupes], # abscisses des boxplots\n",
    "            showfliers= False, # on ne prend pas en compte les outliers\n",
    "            widths= taille_classe*0.7) # largeur graphique des boxplots\n",
    "\n",
    "# affichage des effectifs de chaque classe\n",
    "for g in groupes:\n",
    "    plt.text(g[\"class_center\"],+100,\"(n={})\".format(g[\"size\"]),horizontalalignment='center',verticalalignment='top')     \n",
    "plt.show()"
   ]
  },
  {
   "cell_type": "code",
   "execution_count": null,
   "id": "2918dd0f",
   "metadata": {},
   "outputs": [],
   "source": [
    "del Atrain, btrain, Atest, btest, A, b"
   ]
  },
  {
   "cell_type": "markdown",
   "id": "f56d4f20",
   "metadata": {},
   "source": [
    "## LR with reduced matrix of features"
   ]
  },
  {
   "cell_type": "markdown",
   "id": "10581eb8",
   "metadata": {},
   "source": [
    "### Choice of features \n",
    "Looking for correlated variables"
   ]
  },
  {
   "cell_type": "code",
   "execution_count": null,
   "id": "05fe2c09",
   "metadata": {},
   "outputs": [],
   "source": [
    "#Spot highly correlated features\n",
    "linear_model_dataset.corr()"
   ]
  },
  {
   "cell_type": "markdown",
   "id": "835dc016",
   "metadata": {},
   "source": [
    "From ACP, we see that Siteneryuse, electricty  are higly correlated with F1, Natural Gas alot with F2 and steam energy with F3, whilst correlation table shows a lot of correlation between electricity and total site use on one hand, and normalized site use  of energy with natural gas consumption on the other. steam consumption seems to be the least correlated to the lot but still strongly correlated with a coefficient of around 0.68.\n",
    "Site energy use normalized on 30 year weather conditions average might be more relaible than that of a one year correlation with the different source utilisation"
   ]
  },
  {
   "cell_type": "code",
   "execution_count": null,
   "id": "bf51b566",
   "metadata": {},
   "outputs": [],
   "source": [
    "pairplot_data = linear_model_dataset[linear_model_dataset['Totalghgemissions']<3000]\n",
    "#sns.pairplot(data=pairplot_data, height = 2.5)\n",
    "pairplot_data.hist(figsize=(20,20))\n",
    "plt.show()\n",
    "sns.set_style('ticks')\n",
    "#pd.plotting.scatter_matrix(linear_model_dataset, diagonal='kde')"
   ]
  },
  {
   "cell_type": "markdown",
   "id": "791df9ad",
   "metadata": {},
   "source": [
    "some outliers problem?"
   ]
  },
  {
   "cell_type": "code",
   "execution_count": null,
   "id": "c5739886",
   "metadata": {},
   "outputs": [],
   "source": [
    "##Choose new data\n",
    "reg_cols = ['Steamuse(Kbtu)', 'Siteenergyusewn(Kbtu)', 'Naturalgas(Kbtu)', 'Totalghgemissions']\n",
    "reduced_linear_model_dataset = explored_dataset[reg_cols]"
   ]
  },
  {
   "cell_type": "markdown",
   "id": "4206c206",
   "metadata": {},
   "source": [
    "### Data separation"
   ]
  },
  {
   "cell_type": "code",
   "execution_count": null,
   "id": "bdf1979b",
   "metadata": {},
   "outputs": [],
   "source": [
    "del Atrain, btrain, Atest, btest, A, b, xtilde1, H"
   ]
  },
  {
   "cell_type": "code",
   "execution_count": null,
   "id": "ebea2f96",
   "metadata": {},
   "outputs": [],
   "source": [
    "H = reduced_linear_model_dataset\n",
    "b = H.iloc[:, -1] # Total emissions\n",
    "b = np.log(abs(b))\n",
    "A = H.iloc[:, :-1] #all other variables\n",
    "A = np.pad(A, [(0,0), (0,1)], mode='constant', constant_values =1)\n",
    "# Permute\n",
    "p = np.random.permutation(len(H))\n",
    "A = A[p, :]\n",
    "b = b.iloc[p]\n",
    "# Separate data\n",
    "n = int(len(H)*4/5)\n",
    "btrain = b.iloc[:n]\n",
    "Atrain = A[:n]\n",
    "btest = b.iloc[n:]\n",
    "Atest = A[n:]"
   ]
  },
  {
   "cell_type": "code",
   "execution_count": null,
   "id": "a57d2e0e",
   "metadata": {},
   "outputs": [],
   "source": [
    "train_sort_ind = np.argsort(btrain)\n",
    "test_sort_ind = np.argsort(btest)"
   ]
  },
  {
   "cell_type": "code",
   "execution_count": null,
   "id": "a47d5615",
   "metadata": {},
   "outputs": [],
   "source": [
    "type(Atrain)"
   ]
  },
  {
   "cell_type": "markdown",
   "id": "97e96813",
   "metadata": {},
   "source": [
    "### SVD computation"
   ]
  },
  {
   "cell_type": "code",
   "execution_count": null,
   "id": "899d3eee",
   "metadata": {},
   "outputs": [],
   "source": [
    "# -----------------------------------------------------\n",
    "# Train\n",
    "[U, S, VT] = np.linalg.svd(Atrain, full_matrices=False)\n",
    "xtilde1 = VT.T @ np.linalg.inv(np.diag(S)) @ U.T @ btrain\n",
    "#xtilde2 = np.linalg.pinv(a) * b\n",
    "# -----------------------------------------------------"
   ]
  },
  {
   "cell_type": "code",
   "execution_count": null,
   "id": "5af062f8",
   "metadata": {},
   "outputs": [],
   "source": [
    "\n",
    "plt.plot(np.arange(1, n+1),btrain.iloc[train_sort_ind], 'x', color ='r')\n",
    "plt.plot(np.arange(1, n+1), Atrain[train_sort_ind]@xtilde1)\n",
    "plt.xlabel('index')\n",
    "plt.ylabel('b_train')\n",
    "\n",
    "#plt.xlim(2000, 2020)\n",
    "plt.show()\n",
    "\n",
    "#np.size(Atrain[train_sort_ind]@xtilde1)"
   ]
  },
  {
   "cell_type": "code",
   "execution_count": null,
   "id": "60c5d06f",
   "metadata": {},
   "outputs": [],
   "source": [
    "plt.plot(np.arange(n, n+len(btest)), btest.iloc[test_sort_ind], 'x', color ='r', markersize = 10, label ='Noisy test data' )\n",
    "plt.plot(np.arange(n, n+len(btest)), Atest[test_sort_ind]@xtilde1, '.')\n",
    "plt.xlabel('index')\n",
    "plt.ylabel('b_test')\n",
    "plt.legend()\n",
    "plt.show()"
   ]
  },
  {
   "cell_type": "code",
   "execution_count": null,
   "id": "b41a2b92",
   "metadata": {},
   "outputs": [],
   "source": [
    "ax1 = fig.add_subplot(121)\n",
    "#plt.plot(np.arange(1, n+1), btrain.iloc[train_sort_ind], 'x', color ='r', markersize = 10, label ='Noisy train data' )\n",
    "#plt.plot(np.arange(1, n+1), Atrain[train_sort_ind]@xtilde1, '.', color = 'b', linewidth = 2 , label ='Regression line')\n",
    "#plt.xlabel('index')\n",
    "#plt.ylabel('b_train')\n",
    "#plt.legend()\n",
    "#plt.show()\n",
    "# -----------------------------------------------------\n",
    "# Test\n",
    "#ax1 = fig.add_subplot(122)\n",
    "#plt.plot(np.arange(n, n+len(btest)), btest.iloc[test_sort_ind], 'x', color ='r', markersize = 10, label ='Noisy test data' )\n",
    "#plt.plot(np.arange(n, n+len(btest)), Atest[test_sort_ind]@xtilde1, '.', color = 'b', linewidth = 2 , label ='Regression line')\n",
    "plt.plot(np.arange(n, n+len(btest)), btest.iloc[test_sort_ind], '.', color ='r', markersize = 10, label ='Noisy test data' )\n",
    "plt.plot(np.arange(n, n+len(btest)), Atest[test_sort_ind]@xtilde1, 'x')\n",
    "plt.xlabel('index')\n",
    "plt.ylabel('b_test')\n",
    "plt.legend()\n",
    "#plt.xlim(2700,2750)\n",
    "plt.show()"
   ]
  },
  {
   "cell_type": "raw",
   "id": "7957b85e",
   "metadata": {},
   "source": [
    "# define the model\n",
    "model = LinearRegression()\n",
    "# fit the model\n",
    "model.fit(Atrain, btrain)\n",
    "# get importance\n",
    "importance = model.coef_\n",
    "# summarize feature importance\n",
    "for i,v in enumerate(importance):\n",
    " print('Feature: %0d, Score: %.5f' % (i,v))\n",
    "# plot feature importance\n",
    "pyplot.bar([x for x in range(len(importance))], importance)\n",
    "pyplot.show()"
   ]
  },
  {
   "cell_type": "code",
   "execution_count": null,
   "id": "6f65d9c9",
   "metadata": {},
   "outputs": [],
   "source": [
    "xtilde1"
   ]
  },
  {
   "cell_type": "markdown",
   "id": "1d823dc7",
   "metadata": {},
   "source": [
    "### Error Analysis\n",
    "\n",
    "#### Mean Average Error "
   ]
  },
  {
   "cell_type": "code",
   "execution_count": null,
   "id": "cc2d7ff9",
   "metadata": {},
   "outputs": [],
   "source": [
    "MAE_test = sum(abs(btest.iloc[test_sort_ind]-Atest[test_sort_ind]@xtilde1)) / len(btest)\n",
    "MAE_train = sum(abs(btrain.iloc[train_sort_ind]-Atrain[train_sort_ind]@xtilde1)) /  len(btrain)\n",
    "print( 'Mean absolute error on the test set =', MAE_test,\n",
    "     '\\n', 'Mean absolute error on the train set =', MAE_train)\n",
    "abs(MAE_test - MAE_train)\n",
    "#print('Mean absolute error is :', MAE)\n",
    "# do this for test and for train and compare!"
   ]
  },
  {
   "cell_type": "markdown",
   "id": "d2bf8678",
   "metadata": {},
   "source": [
    "We can see that permuting the dataset prior to constructing the model reduces the MAE difference between train and test set"
   ]
  },
  {
   "cell_type": "markdown",
   "id": "5025cec1",
   "metadata": {},
   "source": [
    "#### Root mean-squared error"
   ]
  },
  {
   "cell_type": "code",
   "execution_count": null,
   "id": "69490e2e",
   "metadata": {},
   "outputs": [],
   "source": [
    "RMSE_train = np.sqrt(sum(np.power(btrain.iloc[train_sort_ind]-Atrain[train_sort_ind]@xtilde1, 2))/len(btrain))\n",
    "RMSE_train"
   ]
  },
  {
   "cell_type": "code",
   "execution_count": null,
   "id": "2dc4eb4d",
   "metadata": {},
   "outputs": [],
   "source": [
    "RMSE_test = np.sqrt(sum(np.power(btest.iloc[test_sort_ind]-Atest[test_sort_ind]@xtilde1, 2))/len(btest))\n",
    "RMSE_test"
   ]
  },
  {
   "cell_type": "code",
   "execution_count": null,
   "id": "b794f791",
   "metadata": {},
   "outputs": [],
   "source": [
    "abs(RMSE_test - RMSE_train)"
   ]
  },
  {
   "cell_type": "markdown",
   "id": "62957aae",
   "metadata": {},
   "source": [
    "#### R2 error"
   ]
  },
  {
   "cell_type": "code",
   "execution_count": null,
   "id": "f68995cb",
   "metadata": {},
   "outputs": [],
   "source": [
    "y = btrain\n",
    "y_mean = btrain.mean()\n",
    "N_samples = len(btrain)\n",
    "var_mean = sum(np.power(y - y_mean, 2))/N_samples\n",
    "var_line = np.power(RMSE_train,2)\n",
    "R2 = (var_mean - var_line)/var_mean\n",
    "## Dividing all by N: (exactly same computation)\n",
    "var_mean_bis = y.var()\n",
    "\n",
    "R2_bis = (var_mean_bis - var_line) / var_mean_bis\n",
    "print(R2, '\\n', R2_bis)"
   ]
  },
  {
   "cell_type": "markdown",
   "id": "18dc417c",
   "metadata": {},
   "source": [
    "### Error distribution"
   ]
  },
  {
   "cell_type": "code",
   "execution_count": null,
   "id": "4cea14e9",
   "metadata": {},
   "outputs": [],
   "source": [
    "y_head = Atrain[train_sort_ind]@xtilde1\n",
    "y = btrain.iloc[train_sort_ind]\n",
    "residual_RMSE = np.power(y_head - y, 2 )\n",
    "plt.scatter(np.arange(1, n+1),np.sqrt(residual_RMSE))\n",
    "plt.xlim(0,200)\n",
    "#plt.plot(np.arange(n, len(btest)+n), np.log(abs(Atest[test_sort_ind]@xtilde1-btest.iloc[test_sort_ind])), 'k--',\n",
    " #        linewidth =1, label = 'test set')\n",
    "plt.legend(title='l1_error')\n",
    "plt.xlabel('row rank')\n",
    "plt.ylabel('Error_l1norm')\n",
    "#plt.xlim([500, 900])\n",
    "plt.show()"
   ]
  },
  {
   "cell_type": "code",
   "execution_count": null,
   "id": "c7074d51",
   "metadata": {},
   "outputs": [],
   "source": [
    "# Checking outliers on error\n",
    "dist_l1_error = df_nutriscore_components.groupby('nutriscore_classes')['additives_n'].median().index\n",
    "\n",
    "plt.figure(figsize=(7,5))\n",
    "sns.boxplot(x=\"additives_n\", \n",
    "            y=\"nutriscore_classes\", \n",
    "            showfliers=False,\n",
    "            orient='h', \n",
    "            order = dist_additv_nutriscore,\n",
    "            data=df_nutriscore_components);"
   ]
  },
  {
   "cell_type": "code",
   "execution_count": null,
   "id": "dd06646a",
   "metadata": {},
   "outputs": [],
   "source": [
    "l1_error_train_df = (np.log(abs(Atrain[train_sort_ind]@xtilde1 - btrain.iloc[train_sort_ind])))\n",
    "#l1_error_train_df.iloc[750:800]\n"
   ]
  },
  {
   "cell_type": "code",
   "execution_count": null,
   "id": "0ad98575",
   "metadata": {},
   "outputs": [],
   "source": [
    "l1_error_train_df[:]"
   ]
  },
  {
   "cell_type": "code",
   "execution_count": null,
   "id": "c46e12ba",
   "metadata": {},
   "outputs": [],
   "source": [
    "# looking for elements located at indecies 750-800\n",
    "#btrain.iloc[750:800] \n",
    "((np.log(abs(Atrain[train_sort_ind]@xtilde1-btrain.iloc[train_sort_ind]))).iloc[750:800])"
   ]
  },
  {
   "cell_type": "code",
   "execution_count": null,
   "id": "97085bbc",
   "metadata": {},
   "outputs": [],
   "source": [
    "plt.plot(np.arange(1, len(btrain)+1), np.log(np.power(btrain-Atrain@xtilde1, 2)/2), 'g-',\n",
    "         linewidth =1, label ='train set')\n",
    "#plt.plot(np.arange(n, len(btest)+n), np.sqrt(np.power(btest.iloc[test_sort_ind]-Atest[test_sort_ind]@xtilde1, 2)), 'k-',\n",
    " #        linewidth =1, label = 'test set')\n",
    "plt.legend(title='l2_error')\n",
    "plt.xlabel('row rank')\n",
    "plt.ylabel('l2_norm')\n",
    "#plt.xlim([500, 900])\n",
    "plt.show()"
   ]
  },
  {
   "cell_type": "code",
   "execution_count": null,
   "id": "36ebddd7",
   "metadata": {},
   "outputs": [],
   "source": [
    "# looking for elements located at indecies 750-800\n",
    "#btrain.iloc[750:800] \n",
    "(np.power(btrain.iloc[train_sort_ind]-Atrain[train_sort_ind]@xtilde1, 2).iloc[0:10])"
   ]
  },
  {
   "cell_type": "code",
   "execution_count": null,
   "id": "536e6338",
   "metadata": {},
   "outputs": [],
   "source": [
    "np.exp(-9)"
   ]
  },
  {
   "cell_type": "code",
   "execution_count": null,
   "id": "9853d4df",
   "metadata": {},
   "outputs": [],
   "source": [
    "np.log(0.5)"
   ]
  },
  {
   "cell_type": "code",
   "execution_count": null,
   "id": "8ba070da",
   "metadata": {},
   "outputs": [],
   "source": [
    "fig = plt.figure(figsize=(12,15))\n",
    "sm.graphics.plot_ccpr_grid(OLS_model)\n",
    "#fig.tight_layout(pad=1.0)"
   ]
  },
  {
   "cell_type": "code",
   "execution_count": null,
   "id": "81b9dac5",
   "metadata": {},
   "outputs": [],
   "source": [
    "import statsmodels.api as sm\n",
    "from statsmodels.formula.api import ols\n",
    "## --------------------------------------------- ##\n",
    "# Define the X (input) and y (target) features\n",
    "X = boston.drop(\"MEDV\", axis=1)\n",
    "y = boston[\"MEDV\"]\n",
    "# Rescale the input features\n",
    "scaler = MinMaxScaler(feature_range=(0,1))\n",
    "X = scaler.fit_transform(X)\n",
    "# Split into train (2/3) and test (1/3) sets\n",
    "test_size = 0.33\n",
    "seed = 7\n",
    "X_train, X_test, y_train, y_test = train_test_split(X, y, test_size=test_size, random_state=seed)\n",
    "# Build some models (regression and k-neighbors) and check them against training data using MAE, RMSE and R2\n",
    "models = [LinearRegression(), KNeighborsRegressor()]\n",
    "for model in models:\n",
    "    model.fit(X_train, y_train)\n",
    "    predictions = model.predict(X_train)\n",
    "    print(type(model).__name__)\n",
    "    print(\"    MAE\", mean_absolute_error(y_train, predictions))\n",
    "    print(\"    RMSE\", sqrt(mean_squared_error(y_train, predictions)))\n",
    "    print(\"    R2\", r2_score(y_train, predictions))\n",
    "    \n",
    "# Evaluation the models against test data using MAE, RMSE and R2\n",
    "for model in models:\n",
    "    predictions = model.predict(X_test)\n",
    "    print(type(model).__name__)\n",
    "    print(\"    MAE\", mean_absolute_error(y_test, predictions))\n",
    "    print(\"    RMSE\", sqrt(mean_squared_error(y_test, predictions)))\n",
    "    print(\"    R2\", r2_score(y_test, predictions))"
   ]
  },
  {
   "cell_type": "code",
   "execution_count": null,
   "id": "e517e794",
   "metadata": {},
   "outputs": [],
   "source": [
    "#Using scikit learn\n",
    "# MAE\n",
    "mean_absolute_error(actuals, predictions)\n",
    "\n",
    "# RMSE\n",
    "sqrt(mean_squared_error(actuals, predictions)\n",
    "\n",
    "# R-Squared\n",
    "r2_score(actuals, predictions)"
   ]
  },
  {
   "cell_type": "markdown",
   "id": "5519262d",
   "metadata": {},
   "source": [
    "## Error estimation "
   ]
  },
  {
   "cell_type": "markdown",
   "id": "312f8c46",
   "metadata": {},
   "source": [
    "### Mean Absolute Error (MAE)\n",
    "The MAE has a big advantage in that the units of the MAE are the same as the units of y, tells us the average error in units of y, the predicted feature. A value of 0 indicates a perfect fit, i.e. all our predictions are spot on. "
   ]
  },
  {
   "cell_type": "code",
   "execution_count": null,
   "id": "6ffb3634",
   "metadata": {},
   "outputs": [],
   "source": [
    "MAE_log_normal = sum(abs(y-^y))/len(samples)\n",
    "Atest@xtilde1-btest\n",
    "# do this for test and for train and compare!"
   ]
  },
  {
   "cell_type": "markdown",
   "id": "6896654d",
   "metadata": {},
   "source": [
    "R squared error"
   ]
  },
  {
   "cell_type": "markdown",
   "id": "1ee8f9f1",
   "metadata": {},
   "source": [
    "### Root mean-square error\n",
    "Its calculation is very similar to MAE, but instead of taking the absolute value to get rid of the sign on the individual errors, we square the error, then we can compute its sum divided by the number of samples and take its square root to get back to the same unit than y"
   ]
  },
  {
   "cell_type": "code",
   "execution_count": null,
   "id": "be2cd7e5",
   "metadata": {},
   "outputs": [],
   "source": [
    "RMSE = np.sqrt(sum(np.power(y-^y, 2))/len(samples))"
   ]
  },
  {
   "cell_type": "markdown",
   "id": "b1f5228a",
   "metadata": {},
   "source": [
    "Compared to MAE, RMSE gives a higher total error and the gap increases as the errors become larger. It penalizes a few large errors more than a lot of small errors. If you want your model to avoid large errors, use RMSE over MAE. You should also be aware that as the sample size increases, the accumulation of slightly higher RMSEs than MAEs means that the gap between these two measures also increases as the sample size increases"
   ]
  },
  {
   "cell_type": "markdown",
   "id": "f4efdd38",
   "metadata": {},
   "source": [
    "### R-squared \n",
    "R2 computes how much better the regression line fits the data than the mean line. An R-squared of 1 indicates a perfect fit. An R-squared of 0 indicates a model no better or worse than the mean. An R-squared of less than 0 indicates a model worse than just predicting the mean."
   ]
  },
  {
   "cell_type": "code",
   "execution_count": null,
   "id": "53bd457d",
   "metadata": {},
   "outputs": [],
   "source": [
    "var_mean = sum(np.power(y - y_mean, 2))\n",
    "var_line = N_samples * RMSE\n",
    "R2 = (var_mean−var_line)/var_mean\n",
    "## Dividing all by N: (exactly same computation)\n",
    "var_mean_bis = variance(y)\n",
    "var_line_bis = RMSE\n",
    "R2_bis = (var_mean_bis - var_line_bis) / var_mean_bis"
   ]
  },
  {
   "cell_type": "markdown",
   "id": "ff51b92b",
   "metadata": {},
   "source": [
    "## Residual plot analysis"
   ]
  },
  {
   "cell_type": "markdown",
   "id": "957e94db",
   "metadata": {},
   "source": [
    "Every regression model inherently has some degree of error since you can never predict something 100% accurately. Hence, a regression model can be explained as:\n",
    "    Response = Deterministic +Stochastic\n",
    "    \n",
    "The deterministic part of the model is what we try to capture using the regression model. Ideally, our linear equation model should accurately capture the predictive information. Essentially, what this means is that if we capture all of the predictive information, all that is left behind (residuals) should be completely random & unpredictable i.e stochastic. Hence, we want our residuals to follow a normal distribution. And that is exactly what we look for in a residual plot."
   ]
  },
  {
   "cell_type": "markdown",
   "id": "b89bc247",
   "metadata": {},
   "source": [
    "###  Characteristics of Good Residual Plots"
   ]
  },
  {
   "cell_type": "markdown",
   "id": "f36f7c87",
   "metadata": {},
   "source": [
    "A few characteristics of a good residual plot are as follows:\n",
    "\n",
    "    - It has a high density of points close to the origin and a low density of points away from the origin\n",
    "    - It is symmetric about the origin\n",
    "Finally, one other reason this is a good residual plot is that, independent of the value of an independent variable (x-axis), the residual errors are approximately distributed in the same manner. In other words, we do NOT see any patterns in the value of the residuals as we move along the x-axis. Hence, this satisfies our earlier assumption that regression model residuals are independent and normally distributed"
   ]
  },
  {
   "cell_type": "markdown",
   "id": "10eebdb2",
   "metadata": {},
   "source": [
    "A residual plot that has high density far away from the origin and low density close to the origin is a bad residual plot. Also, when we project the residuals on the y-axis, we can see the distribution curve is not normal. \n",
    "These plots signify that we have not completely captured the predictive information of the data in our model, which is why it is “seeping” into our residuals. A good model should always only have random error left after using the predictive information\n",
    "____________________________________________________________________________"
   ]
  },
  {
   "cell_type": "markdown",
   "id": "158fe053",
   "metadata": {},
   "source": [
    "### Partial Regression Plots (Duncan)\n",
    "We want to look at the relationship of the dependent variable and independent variables conditional on the other independent variables. We can do this through using partial regression plots, otherwise known as added variable plots. \n",
    "In a partial regression plot, to discern the relationship between the response variable and the k-th variable, we compute the residuals by regressing the response variable versus the independent variables excluding X_k. We can denote this by X~k. We then compute the residuals by X_k regressing on X~k. The partial regression plot is the plot of the former versus the latter residuals. The notable points of this plot are that the fitted line has slope b and intercept zero. The residuals of this plot are the same as those of the least squares fit of the original model with full . You can discern the effects of the individual data values on the estimation of a coefficient easily"
   ]
  },
  {
   "cell_type": "markdown",
   "id": "f6a4853b",
   "metadata": {},
   "source": [
    "### Component-Component plus Residual (CCPR) Plots¶\n",
    "The CCPR plot provides a way to judge the effect of one regressor on the response variable by taking into account the effects of the other independent variables. The partial residuals plot is defined as versus . The component adds versus to show where the fitted line would lie. Care should be taken if is highly correlated with any of the other independent variables. If this is the case, the variance evident in the plot will be an underestimate of the true variance"
   ]
  },
  {
   "cell_type": "code",
   "execution_count": null,
   "id": "d9eced95",
   "metadata": {},
   "outputs": [],
   "source": [
    "\n",
    "#nan_variables = ['LargestPropertyUseType', 'TotalGHGEmissions','GHGEmissionsIntensity'  ]\n",
    "count_qualiVar = first_dataset['propertygfabuilding(s)'].value_counts()\n",
    "ax = sns.barplot(x=count_qualiVar.index, y=count_qualiVar.values)\n",
    "ax.bar_label(ax.containers[0])\n",
    "plt.show()"
   ]
  },
  {
   "cell_type": "code",
   "execution_count": null,
   "id": "0857c4ba",
   "metadata": {
    "scrolled": true
   },
   "outputs": [],
   "source": [
    "imported_data.duplicated().sum()\n",
    "imported_data.nunique()"
   ]
  },
  {
   "cell_type": "code",
   "execution_count": null,
   "id": "5ebce46f",
   "metadata": {},
   "outputs": [],
   "source": [
    "first_dataset.nunique()"
   ]
  }
 ],
 "metadata": {
  "kernelspec": {
   "display_name": "OC_Project2",
   "language": "python",
   "name": "oc_project2"
  },
  "language_info": {
   "codemirror_mode": {
    "name": "ipython",
    "version": 3
   },
   "file_extension": ".py",
   "mimetype": "text/x-python",
   "name": "python",
   "nbconvert_exporter": "python",
   "pygments_lexer": "ipython3",
   "version": "3.10.8"
  },
  "toc": {
   "base_numbering": 1,
   "nav_menu": {},
   "number_sections": true,
   "sideBar": true,
   "skip_h1_title": false,
   "title_cell": "Table of Contents",
   "title_sidebar": "Contents",
   "toc_cell": false,
   "toc_position": {
    "height": "calc(100% - 180px)",
    "left": "10px",
    "top": "150px",
    "width": "263.6px"
   },
   "toc_section_display": true,
   "toc_window_display": true
  }
 },
 "nbformat": 4,
 "nbformat_minor": 5
}
